{
 "cells": [
  {
   "cell_type": "code",
   "execution_count": 1,
   "id": "union-grain",
   "metadata": {},
   "outputs": [],
   "source": [
    "import pandas as pd\n",
    "# allow multiple outputs per cell\n",
    "from IPython.core.interactiveshell import InteractiveShell\n",
    "InteractiveShell.ast_node_interactivity = \"all\""
   ]
  },
  {
   "cell_type": "code",
   "execution_count": 2,
   "id": "prostate-aviation",
   "metadata": {},
   "outputs": [],
   "source": [
    "df = pd.read_csv(\"ad_clicks_100k_Treated.csv\")"
   ]
  },
  {
   "cell_type": "code",
   "execution_count": 3,
   "id": "adverse-perception",
   "metadata": {},
   "outputs": [],
   "source": [
    "df.drop(columns=\"Unnamed: 0\", inplace=True)"
   ]
  },
  {
   "cell_type": "code",
   "execution_count": 4,
   "id": "possible-insertion",
   "metadata": {},
   "outputs": [
    {
     "name": "stdout",
     "output_type": "stream",
     "text": [
      "<class 'pandas.core.frame.DataFrame'>\n",
      "RangeIndex: 100000 entries, 0 to 99999\n",
      "Data columns (total 27 columns):\n",
      " #   Column            Non-Null Count   Dtype  \n",
      "---  ------            --------------   -----  \n",
      " 0   id                100000 non-null  float64\n",
      " 1   click             100000 non-null  int64  \n",
      " 2   hour              100000 non-null  object \n",
      " 3   C1                100000 non-null  int64  \n",
      " 4   banner_pos        100000 non-null  int64  \n",
      " 5   site_id           100000 non-null  object \n",
      " 6   site_domain       100000 non-null  object \n",
      " 7   site_category     100000 non-null  object \n",
      " 8   app_id            100000 non-null  object \n",
      " 9   app_domain        100000 non-null  object \n",
      " 10  app_category      100000 non-null  object \n",
      " 11  device_id         100000 non-null  object \n",
      " 12  device_ip         100000 non-null  object \n",
      " 13  device_model      100000 non-null  object \n",
      " 14  device_type       100000 non-null  int64  \n",
      " 15  device_conn_type  100000 non-null  int64  \n",
      " 16  C14               100000 non-null  int64  \n",
      " 17  C15               100000 non-null  int64  \n",
      " 18  C16               100000 non-null  int64  \n",
      " 19  C17               100000 non-null  int64  \n",
      " 20  C18               100000 non-null  int64  \n",
      " 21  C19               100000 non-null  int64  \n",
      " 22  C20               100000 non-null  int64  \n",
      " 23  C21               100000 non-null  int64  \n",
      " 24  hour_of_day       100000 non-null  int64  \n",
      " 25  day               100000 non-null  int64  \n",
      " 26  weekday           100000 non-null  object \n",
      "dtypes: float64(1), int64(15), object(11)\n",
      "memory usage: 20.6+ MB\n"
     ]
    }
   ],
   "source": [
    "df.info()"
   ]
  },
  {
   "cell_type": "markdown",
   "id": "spiritual-withdrawal",
   "metadata": {},
   "source": [
    "## Feature Encoding\n",
    "- Anonymous categorical features do not need treatment\n",
    "- WeekDay should be converted to sinozoidal funtion as wekk as hour of day\n",
    "- For Features with many categories we can do either: mean encoding or normal label encoding"
   ]
  },
  {
   "cell_type": "code",
   "execution_count": 5,
   "id": "timely-mouth",
   "metadata": {},
   "outputs": [],
   "source": [
    "# Get categorical/Object type columns\n",
    "categorical_cols = [i for i in df.columns.to_list() if df[i].dtype in ['O'] and i not in ['hour', 'weekday']]"
   ]
  },
  {
   "cell_type": "markdown",
   "id": "athletic-pepper",
   "metadata": {},
   "source": [
    "### Label Encoding"
   ]
  },
  {
   "cell_type": "code",
   "execution_count": 6,
   "id": "measured-lending",
   "metadata": {},
   "outputs": [
    {
     "data": {
      "text/plain": [
       "LabelEncoder()"
      ]
     },
     "execution_count": 6,
     "metadata": {},
     "output_type": "execute_result"
    },
    {
     "data": {
      "text/plain": [
       "LabelEncoder()"
      ]
     },
     "execution_count": 6,
     "metadata": {},
     "output_type": "execute_result"
    },
    {
     "data": {
      "text/plain": [
       "LabelEncoder()"
      ]
     },
     "execution_count": 6,
     "metadata": {},
     "output_type": "execute_result"
    },
    {
     "data": {
      "text/plain": [
       "LabelEncoder()"
      ]
     },
     "execution_count": 6,
     "metadata": {},
     "output_type": "execute_result"
    },
    {
     "data": {
      "text/plain": [
       "LabelEncoder()"
      ]
     },
     "execution_count": 6,
     "metadata": {},
     "output_type": "execute_result"
    },
    {
     "data": {
      "text/plain": [
       "LabelEncoder()"
      ]
     },
     "execution_count": 6,
     "metadata": {},
     "output_type": "execute_result"
    },
    {
     "data": {
      "text/plain": [
       "LabelEncoder()"
      ]
     },
     "execution_count": 6,
     "metadata": {},
     "output_type": "execute_result"
    },
    {
     "data": {
      "text/plain": [
       "LabelEncoder()"
      ]
     },
     "execution_count": 6,
     "metadata": {},
     "output_type": "execute_result"
    },
    {
     "data": {
      "text/plain": [
       "LabelEncoder()"
      ]
     },
     "execution_count": 6,
     "metadata": {},
     "output_type": "execute_result"
    }
   ],
   "source": [
    "# label encoding\n",
    "from sklearn import preprocessing\n",
    "label_encoding = categorical_cols\n",
    "encoder = []\n",
    "for i in label_encoding:\n",
    "    le = preprocessing.LabelEncoder()\n",
    "    le.fit(df[i])    \n",
    "    encoder.append(le)\n",
    "    df[i] = le.transform(df[i])"
   ]
  },
  {
   "cell_type": "markdown",
   "id": "static-electron",
   "metadata": {},
   "source": [
    "### Hierarquical Encoding\n",
    " - This is not entirely appropriate"
   ]
  },
  {
   "cell_type": "code",
   "execution_count": 7,
   "id": "economic-virgin",
   "metadata": {},
   "outputs": [
    {
     "data": {
      "text/plain": [
       "OrdinalEncoder(categories=[['Monday', 'Tuesday', 'Wednesday', 'Thursday',\n",
       "                            'Friday', 'Saturday', 'Sunday']])"
      ]
     },
     "execution_count": 7,
     "metadata": {},
     "output_type": "execute_result"
    }
   ],
   "source": [
    "from sklearn.preprocessing import OrdinalEncoder\n",
    "categories = [['Monday','Tuesday','Wednesday','Thursday','Friday','Saturday','Sunday']]\n",
    "#Instantiate ordinal encoder\n",
    "ordinal_encoder = OrdinalEncoder(categories=categories)\n",
    "\n",
    "#Fit ordinal encoder\n",
    "ordinal_encoder.fit(df[['weekday']])\n",
    "\n",
    "# transform the data\n",
    "df['weekday'] = ordinal_encoder.transform(df[['weekday']])"
   ]
  },
  {
   "cell_type": "code",
   "execution_count": 8,
   "id": "streaming-failing",
   "metadata": {},
   "outputs": [
    {
     "name": "stdout",
     "output_type": "stream",
     "text": [
      "<class 'pandas.core.frame.DataFrame'>\n",
      "RangeIndex: 100000 entries, 0 to 99999\n",
      "Data columns (total 27 columns):\n",
      " #   Column            Non-Null Count   Dtype  \n",
      "---  ------            --------------   -----  \n",
      " 0   id                100000 non-null  float64\n",
      " 1   click             100000 non-null  int64  \n",
      " 2   hour              100000 non-null  object \n",
      " 3   C1                100000 non-null  int64  \n",
      " 4   banner_pos        100000 non-null  int64  \n",
      " 5   site_id           100000 non-null  int32  \n",
      " 6   site_domain       100000 non-null  int32  \n",
      " 7   site_category     100000 non-null  int32  \n",
      " 8   app_id            100000 non-null  int32  \n",
      " 9   app_domain        100000 non-null  int32  \n",
      " 10  app_category      100000 non-null  int32  \n",
      " 11  device_id         100000 non-null  int32  \n",
      " 12  device_ip         100000 non-null  int32  \n",
      " 13  device_model      100000 non-null  int32  \n",
      " 14  device_type       100000 non-null  int64  \n",
      " 15  device_conn_type  100000 non-null  int64  \n",
      " 16  C14               100000 non-null  int64  \n",
      " 17  C15               100000 non-null  int64  \n",
      " 18  C16               100000 non-null  int64  \n",
      " 19  C17               100000 non-null  int64  \n",
      " 20  C18               100000 non-null  int64  \n",
      " 21  C19               100000 non-null  int64  \n",
      " 22  C20               100000 non-null  int64  \n",
      " 23  C21               100000 non-null  int64  \n",
      " 24  hour_of_day       100000 non-null  int64  \n",
      " 25  day               100000 non-null  int64  \n",
      " 26  weekday           100000 non-null  float64\n",
      "dtypes: float64(2), int32(9), int64(15), object(1)\n",
      "memory usage: 17.2+ MB\n"
     ]
    }
   ],
   "source": [
    "df.info()"
   ]
  },
  {
   "cell_type": "code",
   "execution_count": 13,
   "id": "plastic-clearance",
   "metadata": {},
   "outputs": [],
   "source": [
    "# Imports\n",
    "from imblearn.pipeline import Pipeline\n",
    "from sklearn.model_selection import GridSearchCV\n",
    "from sklearn.tree import DecisionTreeClassifier\n",
    "from imblearn.over_sampling import SMOTE\n",
    "from imblearn.over_sampling import RandomOverSampler\n",
    "from sklearn.linear_model import LogisticRegression\n",
    "from imblearn.under_sampling import RandomUnderSampler\n",
    "import numpy as np\n",
    "\n",
    "from sklearn.model_selection import train_test_split\n",
    "from imblearn.pipeline import make_pipeline \n",
    "from sklearn.preprocessing import StandardScaler\n",
    "from sklearn.neighbors import KNeighborsClassifier\n",
    "from sklearn.metrics import classification_report\n",
    "from sklearn.model_selection import cross_validate\n",
    "from sklearn.metrics import plot_confusion_matrix\n",
    "import matplotlib.pyplot as plt\n",
    "\n",
    "# Ensemble methods\n",
    "from sklearn.tree import DecisionTreeClassifier \n",
    "from sklearn.linear_model import LogisticRegression\n",
    "from sklearn.ensemble import VotingClassifier\n",
    "from sklearn.neighbors import KNeighborsClassifier\n",
    "\n",
    "from sklearn.linear_model import LogisticRegression\n",
    "from sklearn.ensemble import StackingClassifier\n",
    "from sklearn.ensemble import RandomForestClassifier\n",
    "from sklearn.ensemble import AdaBoostClassifier"
   ]
  },
  {
   "cell_type": "markdown",
   "id": "undefined-journalism",
   "metadata": {},
   "source": [
    "## Balance the Dataset"
   ]
  },
  {
   "cell_type": "markdown",
   "id": "answering-coordinate",
   "metadata": {},
   "source": [
    "Columns to drop:\n",
    " - `id` Its just a user/interaction idetifier column<br>\n",
    " - `hour` We do not need/want this feature as it is already broken down into days, hour_of_day and weekdays<br>\n",
    " - `click` Its the target variable<br>\n",
    " - `day` It makes no sense to include a variable that depends so greatly on when the data was collected, in this case in October and we have no reason to assume it is a generalizable feature for the remaining days of the year. On the other hand we can reasonable assume that the hour of the day, and the day of the week may have some power over the click rate. <br>"
   ]
  },
  {
   "cell_type": "code",
   "execution_count": 9,
   "id": "fifth-recall",
   "metadata": {},
   "outputs": [],
   "source": [
    "from sklearn.model_selection import train_test_split\n",
    "X_train, X_test, y_train, y_test = train_test_split(df.drop(columns=['id','hour','click', 'day']), \n",
    "                                                    df['click'], random_state=0, test_size=0.2)"
   ]
  },
  {
   "cell_type": "code",
   "execution_count": 16,
   "id": "freelance-multiple",
   "metadata": {},
   "outputs": [],
   "source": [
    "from imblearn.pipeline import make_pipeline \n",
    "from sklearn.preprocessing import StandardScaler\n",
    "from sklearn.neighbors import KNeighborsClassifier\n",
    "\n",
    "pipe_1 = make_pipeline(StandardScaler(), KNeighborsClassifier(n_neighbors=10))\n",
    "pipe_2 = make_pipeline(StandardScaler(), RandomUnderSampler(replacement=False), KNeighborsClassifier(n_neighbors=10))"
   ]
  },
  {
   "cell_type": "code",
   "execution_count": 17,
   "id": "injured-packing",
   "metadata": {},
   "outputs": [
    {
     "data": {
      "text/plain": [
       "Pipeline(steps=[('standardscaler', StandardScaler()),\n",
       "                ('kneighborsclassifier', KNeighborsClassifier(n_neighbors=10))])"
      ]
     },
     "execution_count": 17,
     "metadata": {},
     "output_type": "execute_result"
    },
    {
     "data": {
      "text/plain": [
       "Pipeline(steps=[('standardscaler', StandardScaler()),\n",
       "                ('randomundersampler', RandomUnderSampler()),\n",
       "                ('kneighborsclassifier', KNeighborsClassifier(n_neighbors=10))])"
      ]
     },
     "execution_count": 17,
     "metadata": {},
     "output_type": "execute_result"
    }
   ],
   "source": [
    "from sklearn.metrics import classification_report\n",
    "pipe_1.fit(X_train, y_train)\n",
    "pipe_2.fit(X_train, y_train)"
   ]
  },
  {
   "cell_type": "code",
   "execution_count": 21,
   "id": "aging-yemen",
   "metadata": {},
   "outputs": [
    {
     "name": "stdout",
     "output_type": "stream",
     "text": [
      "ROC AUC is 0.6476550369425997\n",
      "Recall is  0.06097373061030222\n",
      "Precision is 0.42033550112142526\n"
     ]
    }
   ],
   "source": [
    "from sklearn.model_selection import cross_validate\n",
    "scores = cross_validate(pipe_1,\n",
    "                        X_train, y_train, cv=5,\n",
    "                        scoring=('roc_auc', 'recall','precision'))\n",
    "print('ROC AUC is', scores['test_roc_auc'].mean())\n",
    "print('Recall is ', scores['test_recall'].mean())\n",
    "print('Precision is', scores['test_precision'].mean())"
   ]
  },
  {
   "cell_type": "code",
   "execution_count": 20,
   "id": "preceding-single",
   "metadata": {},
   "outputs": [
    {
     "name": "stdout",
     "output_type": "stream",
     "text": [
      "ROC AUC is 0.6604815262294638\n",
      "Recall is  0.5586931830474006\n",
      "Precision is 0.2533848526448056\n"
     ]
    }
   ],
   "source": [
    "from sklearn.model_selection import cross_validate\n",
    "scores = cross_validate(pipe_2,\n",
    "                        X_train, y_train, cv=5,\n",
    "                        scoring=('roc_auc', 'recall','precision'))\n",
    "print('ROC AUC is', scores['test_roc_auc'].mean())\n",
    "print('Recall is ', scores['test_recall'].mean())\n",
    "print('Precision is', scores['test_precision'].mean())"
   ]
  },
  {
   "cell_type": "code",
   "execution_count": 18,
   "id": "supreme-comment",
   "metadata": {},
   "outputs": [
    {
     "name": "stdout",
     "output_type": "stream",
     "text": [
      "KNeighborsClassifier Full Sample\n",
      "               precision    recall  f1-score   support\n",
      "\n",
      "           0       0.83      0.98      0.90     16565\n",
      "           1       0.38      0.05      0.09      3435\n",
      "\n",
      "    accuracy                           0.82     20000\n",
      "   macro avg       0.61      0.52      0.50     20000\n",
      "weighted avg       0.76      0.82      0.76     20000\n",
      "\n",
      "\n",
      "KNeighborsClassifier Undersampling Majority Class\n",
      "               precision    recall  f1-score   support\n",
      "\n",
      "           0       0.88      0.66      0.76     16565\n",
      "           1       0.26      0.57      0.36      3435\n",
      "\n",
      "    accuracy                           0.65     20000\n",
      "   macro avg       0.57      0.62      0.56     20000\n",
      "weighted avg       0.77      0.65      0.69     20000\n",
      "\n"
     ]
    }
   ],
   "source": [
    "print('KNeighborsClassifier Full Sample\\n', classification_report(y_test, pipe_1.predict(X_test)))\n",
    "print('\\nKNeighborsClassifier Undersampling Majority Class\\n',classification_report(y_test, pipe_2.predict(X_test)))"
   ]
  },
  {
   "cell_type": "code",
   "execution_count": 22,
   "id": "official-tower",
   "metadata": {},
   "outputs": [
    {
     "data": {
      "text/plain": [
       "<sklearn.metrics._plot.confusion_matrix.ConfusionMatrixDisplay at 0x14bb9eb2130>"
      ]
     },
     "execution_count": 22,
     "metadata": {},
     "output_type": "execute_result"
    },
    {
     "data": {
      "text/plain": [
       "Text(0.5, 1.0, 'KNeighborsClassifier Full Sample')"
      ]
     },
     "execution_count": 22,
     "metadata": {},
     "output_type": "execute_result"
    },
    {
     "data": {
      "text/plain": [
       "<sklearn.metrics._plot.confusion_matrix.ConfusionMatrixDisplay at 0x14bba82edc0>"
      ]
     },
     "execution_count": 22,
     "metadata": {},
     "output_type": "execute_result"
    },
    {
     "data": {
      "text/plain": [
       "Text(0.5, 1.0, 'KNeighborsClassifier Undersampling Majority Class')"
      ]
     },
     "execution_count": 22,
     "metadata": {},
     "output_type": "execute_result"
    },
    {
     "data": {
      "image/png": "[encoded data removed]",
      "text/plain": [
       "<Figure size 432x288 with 2 Axes>"
      ]
     },
     "metadata": {
      "needs_background": "light"
     },
     "output_type": "display_data"
    },
    {
     "data": {
      "image/png": "[encoded data removed]",
      "text/plain": [
       "<Figure size 432x288 with 2 Axes>"
      ]
     },
     "metadata": {
      "needs_background": "light"
     },
     "output_type": "display_data"
    }
   ],
   "source": [
    "from sklearn.metrics import plot_confusion_matrix\n",
    "import matplotlib.pyplot as plt\n",
    "plot_confusion_matrix(pipe_1, X_test, y_test, display_labels=['Not Click (0)','Click (1)'])\n",
    "plt.title('KNeighborsClassifier Full Sample')\n",
    "\n",
    "plot_confusion_matrix(pipe_2, X_test, y_test, display_labels=['Not Click (0)','Click (1)'])\n",
    "plt.title('KNeighborsClassifier Undersampling Majority Class')\n",
    "\n",
    "plt.show()"
   ]
  },
  {
   "cell_type": "code",
   "execution_count": null,
   "id": "horizontal-transformation",
   "metadata": {},
   "outputs": [],
   "source": []
  },
  {
   "cell_type": "code",
   "execution_count": 23,
   "id": "conceptual-forwarding",
   "metadata": {},
   "outputs": [
    {
     "data": {
      "text/plain": [
       "GridSearchCV(cv=10,\n",
       "             estimator=Pipeline(steps=[('sampling', RandomOverSampler()),\n",
       "                                       ('scaler', StandardScaler()),\n",
       "                                       ('classifier', KNeighborsClassifier())]),\n",
       "             param_grid=[{'classifier': [KNeighborsClassifier()],\n",
       "                          'sampling': [None, RandomUnderSampler(),\n",
       "                                       RandomOverSampler(), SMOTE()],\n",
       "                          'scaler': [StandardScaler()]},\n",
       "                         {'classifier': [DecisionTreeClassifier(max_depth=5)],\n",
       "                          'classifier__max_depth': [5, 20, 30, 50],\n",
       "                          'sampling': [None, RandomUnderSampler(),\n",
       "                                       RandomOverSampler(), SMOTE()],\n",
       "                          'scaler': [None]}],\n",
       "             scoring='f1')"
      ]
     },
     "execution_count": 23,
     "metadata": {},
     "output_type": "execute_result"
    },
    {
     "name": "stdout",
     "output_type": "stream",
     "text": [
      "Best cross-validation score: 0.36\n",
      "Best params:\n",
      "{'classifier': DecisionTreeClassifier(max_depth=5), 'classifier__max_depth': 5, 'sampling': RandomOverSampler(), 'scaler': None}\n",
      "\n"
     ]
    }
   ],
   "source": [
    "pipe = Pipeline([('sampling', RandomOverSampler()), \n",
    "                 ('scaler', StandardScaler()), \n",
    "                 ('classifier', KNeighborsClassifier())])\n",
    "param_grid = [\n",
    "    {'classifier': [KNeighborsClassifier()], \n",
    "     'scaler': [StandardScaler()],\n",
    "     'sampling': [None, RandomUnderSampler(), RandomOverSampler(), SMOTE()]}, \n",
    "    {'classifier': [DecisionTreeClassifier()],\n",
    "     'scaler': [None],\n",
    "     'sampling': [None, RandomUnderSampler(), RandomOverSampler(), SMOTE()],\n",
    "     'classifier__max_depth': [5, 20, 30, 50]}]\n",
    "\n",
    "grid = GridSearchCV(pipe, param_grid, cv=10, scoring = 'f1')\n",
    "grid.fit(X_train, y_train)\n",
    "\n",
    "print(\"Best cross-validation score: {:.2f}\".format(grid.best_score_))\n",
    "print(\"Best params:\\n{}\\n\".format(grid.best_params_))"
   ]
  },
  {
   "cell_type": "code",
   "execution_count": 24,
   "id": "personal-source",
   "metadata": {},
   "outputs": [
    {
     "name": "stdout",
     "output_type": "stream",
     "text": [
      "KNeighborsClassifier Full Sample\n",
      "               precision    recall  f1-score   support\n",
      "\n",
      "           0       0.90      0.55      0.69     16565\n",
      "           1       0.25      0.71      0.37      3435\n",
      "\n",
      "    accuracy                           0.58     20000\n",
      "   macro avg       0.58      0.63      0.53     20000\n",
      "weighted avg       0.79      0.58      0.63     20000\n",
      "\n"
     ]
    }
   ],
   "source": [
    "print('KNeighborsClassifier Full Sample\\n', classification_report(y_test, grid.predict(X_test)))"
   ]
  },
  {
   "cell_type": "code",
   "execution_count": 25,
   "id": "connected-tiger",
   "metadata": {},
   "outputs": [
    {
     "data": {
      "text/plain": [
       "<sklearn.metrics._plot.confusion_matrix.ConfusionMatrixDisplay at 0x14bba9697c0>"
      ]
     },
     "execution_count": 25,
     "metadata": {},
     "output_type": "execute_result"
    },
    {
     "data": {
      "text/plain": [
       "Text(0.5, 1.0, 'KNeighborsClassifier Undersampling Majority Class')"
      ]
     },
     "execution_count": 25,
     "metadata": {},
     "output_type": "execute_result"
    },
    {
     "data": {
      "image/png": "[encoded data removed]",
      "text/plain": [
       "<Figure size 432x288 with 2 Axes>"
      ]
     },
     "metadata": {
      "needs_background": "light"
     },
     "output_type": "display_data"
    }
   ],
   "source": [
    "plot_confusion_matrix(grid, X_test, y_test, display_labels=['Not Click (0)','Click (1)'])\n",
    "plt.title('KNeighborsClassifier Undersampling Majority Class')\n",
    "\n",
    "plt.show()"
   ]
  },
  {
   "cell_type": "markdown",
   "id": "owned-hudson",
   "metadata": {},
   "source": [
    "## Ensemble Methods"
   ]
  },
  {
   "cell_type": "code",
   "execution_count": 27,
   "id": "otherwise-affair",
   "metadata": {},
   "outputs": [],
   "source": [
    "from sklearn.tree import DecisionTreeClassifier \n",
    "from sklearn.linear_model import LogisticRegression\n",
    "from sklearn.ensemble import VotingClassifier\n",
    "from sklearn.neighbors import KNeighborsClassifier"
   ]
  },
  {
   "cell_type": "code",
   "execution_count": 45,
   "id": "ongoing-europe",
   "metadata": {},
   "outputs": [
    {
     "data": {
      "text/plain": [
       "VotingClassifier(estimators=[('logreg',\n",
       "                              LogisticRegression(C=0.001,\n",
       "                                                 class_weight='balanced',\n",
       "                                                 solver='liblinear')),\n",
       "                             ('tree',\n",
       "                              DecisionTreeClassifier(class_weight={0: 0.5,\n",
       "                                                                   1: 1},\n",
       "                                                     max_depth=10,\n",
       "                                                     random_state=0)),\n",
       "                             ('knn', KNeighborsClassifier())],\n",
       "                 voting='soft')"
      ]
     },
     "execution_count": 45,
     "metadata": {},
     "output_type": "execute_result"
    },
    {
     "data": {
      "text/plain": [
       "(0.80075, 0.58415, 0.8039, 0.8147)"
      ]
     },
     "execution_count": 45,
     "metadata": {},
     "output_type": "execute_result"
    }
   ],
   "source": [
    "voting = VotingClassifier(\n",
    "    [('logreg', LogisticRegression(C=0.001,solver='liblinear', class_weight='balanced')),\n",
    "     ('tree', DecisionTreeClassifier(max_depth=10, class_weight={0:0.5, 1:1}, random_state=0)),\n",
    "    ('knn', KNeighborsClassifier(n_neighbors = 5))],\n",
    "    voting='soft')\n",
    "voting.fit(X_train, y_train)\n",
    "lr, tree, knn = voting.estimators_\n",
    "tree.score(X_test, y_test), lr.score(X_test, y_test), knn.score(X_test, y_test), voting.score(X_test, y_test)"
   ]
  },
  {
   "cell_type": "code",
   "execution_count": 46,
   "id": "norman-pakistan",
   "metadata": {},
   "outputs": [
    {
     "data": {
      "text/plain": [
       "<sklearn.metrics._plot.confusion_matrix.ConfusionMatrixDisplay at 0x14bb86914f0>"
      ]
     },
     "execution_count": 46,
     "metadata": {},
     "output_type": "execute_result"
    },
    {
     "data": {
      "image/png": "[encoded data removed]",
      "text/plain": [
       "<Figure size 432x288 with 2 Axes>"
      ]
     },
     "metadata": {
      "needs_background": "light"
     },
     "output_type": "display_data"
    }
   ],
   "source": [
    "plot_confusion_matrix(lr, X_test, y_test, display_labels=['Not Click (0)','Click (1)'])\n",
    "# plt.title('KNeighborsClassifier Undersampling Majority Class')\n",
    "\n",
    "plt.show()"
   ]
  },
  {
   "cell_type": "markdown",
   "id": "plain-campbell",
   "metadata": {},
   "source": [
    "## Random Forest"
   ]
  },
  {
   "cell_type": "code",
   "execution_count": 61,
   "id": "above-jerusalem",
   "metadata": {},
   "outputs": [
    {
     "data": {
      "text/plain": [
       "RandomForestClassifier(class_weight='balanced', oob_score=True, random_state=0)"
      ]
     },
     "execution_count": 61,
     "metadata": {},
     "output_type": "execute_result"
    }
   ],
   "source": [
    "from sklearn.ensemble import RandomForestClassifier\n",
    "\n",
    "model = RandomForestClassifier(bootstrap=True, n_estimators=100, random_state=0, oob_score=True, class_weight='balanced')\n",
    "model.fit(X_train, y_train)\n",
    "y_pred = model.predict(X_test)"
   ]
  },
  {
   "cell_type": "code",
   "execution_count": 62,
   "id": "tight-brown",
   "metadata": {},
   "outputs": [
    {
     "name": "stdout",
     "output_type": "stream",
     "text": [
      "              precision    recall  f1-score   support\n",
      "\n",
      "           0       0.97      0.84      0.90     19255\n",
      "           1       0.09      0.40      0.14       745\n",
      "\n",
      "    accuracy                           0.82     20000\n",
      "   macro avg       0.53      0.62      0.52     20000\n",
      "weighted avg       0.94      0.82      0.87     20000\n",
      "\n"
     ]
    }
   ],
   "source": [
    "print(classification_report(y_pred, y_test))"
   ]
  },
  {
   "cell_type": "code",
   "execution_count": 63,
   "id": "russian-express",
   "metadata": {},
   "outputs": [
    {
     "data": {
      "text/plain": [
       "<sklearn.metrics._plot.confusion_matrix.ConfusionMatrixDisplay at 0x14bba9ef190>"
      ]
     },
     "execution_count": 63,
     "metadata": {},
     "output_type": "execute_result"
    },
    {
     "data": {
      "image/png": "[encoded data removed]",
      "text/plain": [
       "<Figure size 432x288 with 2 Axes>"
      ]
     },
     "metadata": {
      "needs_background": "light"
     },
     "output_type": "display_data"
    }
   ],
   "source": [
    "plot_confusion_matrix(model, X_test, y_test, display_labels=['Not Click (0)','Click (1)'])\n",
    "plt.show()"
   ]
  },
  {
   "cell_type": "code",
   "execution_count": 64,
   "id": "derived-compression",
   "metadata": {},
   "outputs": [
    {
     "data": {
      "text/plain": [
       "0.821375"
      ]
     },
     "execution_count": 64,
     "metadata": {},
     "output_type": "execute_result"
    }
   ],
   "source": [
    "model.oob_score_"
   ]
  },
  {
   "cell_type": "code",
   "execution_count": 85,
   "id": "extraordinary-knitting",
   "metadata": {},
   "outputs": [],
   "source": [
    "feature_importances = {}\n",
    "for name, score in zip(X_train.columns.to_list(), model.feature_importances_):\n",
    "    feature_importances[name] = score\n",
    "feature_importances = pd.DataFrame(feature_importances.values(), index=feature_importances.keys(), columns=['Feature Importances'])"
   ]
  },
  {
   "cell_type": "code",
   "execution_count": 109,
   "id": "complicated-concept",
   "metadata": {},
   "outputs": [],
   "source": [
    "feature_importances.sort_values(by='Feature Importances',ascending=True, inplace=True)"
   ]
  },
  {
   "cell_type": "code",
   "execution_count": 112,
   "id": "narrative-acrylic",
   "metadata": {},
   "outputs": [
    {
     "data": {
      "text/plain": [
       "<Figure size 576x432 with 0 Axes>"
      ]
     },
     "execution_count": 112,
     "metadata": {},
     "output_type": "execute_result"
    },
    {
     "data": {
      "text/plain": [
       "<BarContainer object of 23 artists>"
      ]
     },
     "execution_count": 112,
     "metadata": {},
     "output_type": "execute_result"
    },
    {
     "data": {
      "text/plain": [
       "Text(0.5, 1.0, 'Feature Importances (%)')"
      ]
     },
     "execution_count": 112,
     "metadata": {},
     "output_type": "execute_result"
    },
    {
     "data": {
      "image/png": "[encoded data removed]",
      "text/plain": [
       "<Figure size 576x432 with 1 Axes>"
      ]
     },
     "metadata": {
      "needs_background": "light"
     },
     "output_type": "display_data"
    }
   ],
   "source": [
    "plt.figure(figsize=(8,6))\n",
    "plt.barh(feature_importances.index, feature_importances['Feature Importances']*100)\n",
    "plt.title('Feature Importances (%)')\n",
    "plt.tight_layout()\n",
    "plt.show()"
   ]
  },
  {
   "cell_type": "markdown",
   "id": "tough-beads",
   "metadata": {},
   "source": [
    "## Stacking"
   ]
  },
  {
   "cell_type": "code",
   "execution_count": 116,
   "id": "rapid-flexibility",
   "metadata": {},
   "outputs": [
    {
     "data": {
      "text/plain": [
       "StackingClassifier(estimators=[('lr',\n",
       "                                LogisticRegression(C=0.001,\n",
       "                                                   class_weight='balanced',\n",
       "                                                   solver='liblinear')),\n",
       "                               ('forest',\n",
       "                                RandomForestClassifier(class_weight='balanced',\n",
       "                                                       oob_score=True,\n",
       "                                                       random_state=0))],\n",
       "                   final_estimator=LogisticRegression(solver='liblinear'))"
      ]
     },
     "execution_count": 116,
     "metadata": {},
     "output_type": "execute_result"
    },
    {
     "data": {
      "text/plain": [
       "(0.58415, 0.821, 0.8288)"
      ]
     },
     "execution_count": 116,
     "metadata": {},
     "output_type": "execute_result"
    }
   ],
   "source": [
    "from sklearn.linear_model import LogisticRegression\n",
    "from sklearn.ensemble import StackingClassifier\n",
    "\n",
    "estimators = [\n",
    "('lr', LogisticRegression(C=0.001,solver='liblinear', class_weight='balanced')),\n",
    "('forest', RandomForestClassifier(bootstrap=True, n_estimators=100, random_state=0, oob_score=True, class_weight='balanced'))]\n",
    "    \n",
    "stacking = StackingClassifier(estimators=estimators, \n",
    "                          final_estimator=LogisticRegression(solver='liblinear'))\n",
    "stacking.fit(X_train, y_train)\n",
    "lrg, forest = stacking.estimators_\n",
    "lrg.score(X_test, y_test), forest.score(X_test, y_test),  stacking.score(X_test, y_test)"
   ]
  },
  {
   "cell_type": "code",
   "execution_count": 117,
   "id": "graduate-consolidation",
   "metadata": {},
   "outputs": [
    {
     "name": "stdout",
     "output_type": "stream",
     "text": [
      "              precision    recall  f1-score   support\n",
      "\n",
      "           0       0.99      0.83      0.91     19649\n",
      "           1       0.05      0.52      0.10       351\n",
      "\n",
      "    accuracy                           0.83     20000\n",
      "   macro avg       0.52      0.68      0.50     20000\n",
      "weighted avg       0.97      0.83      0.89     20000\n",
      "\n"
     ]
    }
   ],
   "source": [
    "print(classification_report(stacking.predict(X_test), y_test))"
   ]
  },
  {
   "cell_type": "code",
   "execution_count": 118,
   "id": "hindu-attribute",
   "metadata": {},
   "outputs": [
    {
     "data": {
      "text/plain": [
       "<sklearn.metrics._plot.confusion_matrix.ConfusionMatrixDisplay at 0x14bd278a0a0>"
      ]
     },
     "execution_count": 118,
     "metadata": {},
     "output_type": "execute_result"
    },
    {
     "data": {
      "image/png": "[encoded data removed]",
      "text/plain": [
       "<Figure size 432x288 with 2 Axes>"
      ]
     },
     "metadata": {
      "needs_background": "light"
     },
     "output_type": "display_data"
    }
   ],
   "source": [
    "plot_confusion_matrix(stacking, X_test, y_test, display_labels=['Not Click (0)','Click (1)'])\n",
    "plt.show()"
   ]
  },
  {
   "cell_type": "markdown",
   "id": "present-norwegian",
   "metadata": {},
   "source": [
    "## Experiment with PCA"
   ]
  },
  {
   "cell_type": "code",
   "execution_count": null,
   "id": "1496bbd4",
   "metadata": {},
   "outputs": [],
   "source": []
  },
  {
   "cell_type": "markdown",
   "id": "8050c999",
   "metadata": {},
   "source": [
    "## Boosting Models"
   ]
  },
  {
   "cell_type": "code",
   "execution_count": null,
   "id": "4d8fd290",
   "metadata": {},
   "outputs": [],
   "source": [
    "# Imports\n",
    "## Adaboost\n",
    "from sklearn.ensemble import AdaBoostClassifier\n",
    "## Gradient Boosting\n",
    "from sklearn.ensemble import GradientBoostingClassifier\n",
    "from sklearn.metrics import roc_auc_score\n",
    "## HistGradientBoostingClassifier\n",
    "from sklearn.experimental import enable_hist_gradient_boosting\n",
    "from sklearn.ensemble import HistGradientBoostingClassifier\n",
    "## XGboost\n",
    "from xgboost import XGBClassifier\n",
    "from scipy.stats import uniform as sp_uniform\n",
    "from sklearn.model_selection import RandomizedSearchCV"
   ]
  },
  {
   "cell_type": "code",
   "execution_count": null,
   "id": "3af98b48",
   "metadata": {},
   "outputs": [],
   "source": []
  },
  {
   "cell_type": "markdown",
   "id": "d340b62b",
   "metadata": {},
   "source": [
    "### Adaboost"
   ]
  },
  {
   "cell_type": "code",
   "execution_count": 15,
   "id": "fd056f14",
   "metadata": {},
   "outputs": [
    {
     "data": {
      "text/plain": [
       "AdaBoostClassifier(base_estimator=DecisionTreeClassifier(max_depth=1),\n",
       "                   learning_rate=0.5, n_estimators=200, random_state=42)"
      ]
     },
     "execution_count": 15,
     "metadata": {},
     "output_type": "execute_result"
    }
   ],
   "source": [
    "from sklearn.ensemble import AdaBoostClassifier\n",
    "\n",
    "ada = AdaBoostClassifier( DecisionTreeClassifier(max_depth=1), n_estimators=200,\n",
    "    algorithm=\"SAMME.R\", learning_rate=0.5, random_state=42)\n",
    "ada.fit(X_train, y_train)\n",
    "ada_y_pred = ada.predict(X_test)"
   ]
  },
  {
   "cell_type": "markdown",
   "id": "5b892a07",
   "metadata": {},
   "source": [
    "#### Adaboost with RandomUnderSampler"
   ]
  },
  {
   "cell_type": "code",
   "execution_count": 36,
   "id": "be9213fb",
   "metadata": {},
   "outputs": [
    {
     "data": {
      "text/plain": [
       "Pipeline(steps=[('randomundersampler', RandomUnderSampler()),\n",
       "                ('adaboostclassifier',\n",
       "                 AdaBoostClassifier(base_estimator=DecisionTreeClassifier(max_depth=1),\n",
       "                                    learning_rate=0.5, n_estimators=200,\n",
       "                                    random_state=42))])"
      ]
     },
     "execution_count": 36,
     "metadata": {},
     "output_type": "execute_result"
    }
   ],
   "source": [
    "ada_ensemble = make_pipeline(RandomUnderSampler(replacement=False), AdaBoostClassifier( DecisionTreeClassifier(max_depth=1), n_estimators=200,\n",
    "    algorithm=\"SAMME.R\", learning_rate=0.5, random_state=42))\n",
    "ada_ensemble.fit(X_train, y_train)\n",
    "ada_ensemble_y_pred = ada_ensemble.predict(X_test)"
   ]
  },
  {
   "cell_type": "code",
   "execution_count": 37,
   "id": "db8778e1",
   "metadata": {},
   "outputs": [
    {
     "name": "stdout",
     "output_type": "stream",
     "text": [
      "ROC AUC is 0.6904976144161363\n",
      "Recall is  0.6993960528308418\n",
      "Precision is 0.2522490460916393\n"
     ]
    }
   ],
   "source": [
    "scores = cross_validate(ada_ensemble,\n",
    "                        X_train, y_train, cv=5,\n",
    "                        scoring=('roc_auc', 'recall','precision','f1'))\n",
    "print('ROC AUC is', scores['test_roc_auc'].mean())\n",
    "print('Recall is ', scores['test_recall'].mean())\n",
    "print('Precision is', scores['test_precision'].mean())"
   ]
  },
  {
   "cell_type": "code",
   "execution_count": 38,
   "id": "eb11ab28",
   "metadata": {},
   "outputs": [
    {
     "name": "stdout",
     "output_type": "stream",
     "text": [
      "              precision    recall  f1-score   support\n",
      "\n",
      "           0       1.00      0.83      0.91     19935\n",
      "           1       0.01      0.52      0.02        65\n",
      "\n",
      "    accuracy                           0.83     20000\n",
      "   macro avg       0.50      0.68      0.46     20000\n",
      "weighted avg       0.99      0.83      0.90     20000\n",
      "\n",
      "\n",
      "Ensemble Adaboost\n",
      "               precision    recall  f1-score   support\n",
      "\n",
      "           0       0.57      0.90      0.70     10381\n",
      "           1       0.71      0.25      0.37      9619\n",
      "\n",
      "    accuracy                           0.59     20000\n",
      "   macro avg       0.64      0.58      0.53     20000\n",
      "weighted avg       0.63      0.59      0.54     20000\n",
      "\n"
     ]
    }
   ],
   "source": [
    "print(classification_report(ada_y_pred, y_test))\n",
    "print('\\nEnsemble Adaboost\\n', classification_report(ada_ensemble_y_pred, y_test))"
   ]
  },
  {
   "cell_type": "code",
   "execution_count": 39,
   "id": "6a82e18b",
   "metadata": {},
   "outputs": [
    {
     "data": {
      "text/plain": [
       "<sklearn.metrics._plot.confusion_matrix.ConfusionMatrixDisplay at 0x25867ea49d0>"
      ]
     },
     "execution_count": 39,
     "metadata": {},
     "output_type": "execute_result"
    },
    {
     "data": {
      "text/plain": [
       "<sklearn.metrics._plot.confusion_matrix.ConfusionMatrixDisplay at 0x25866890fd0>"
      ]
     },
     "execution_count": 39,
     "metadata": {},
     "output_type": "execute_result"
    },
    {
     "data": {
      "image/png": "[encoded data removed]",
      "text/plain": [
       "<Figure size 432x288 with 2 Axes>"
      ]
     },
     "metadata": {
      "needs_background": "light"
     },
     "output_type": "display_data"
    },
    {
     "data": {
      "image/png": "[encoded data removed]",
      "text/plain": [
       "<Figure size 432x288 with 2 Axes>"
      ]
     },
     "metadata": {
      "needs_background": "light"
     },
     "output_type": "display_data"
    }
   ],
   "source": [
    "plot_confusion_matrix(ada, X_test, y_test, display_labels=['Not Click (0)','Click (1)'])\n",
    "plot_confusion_matrix(ada_ensemble, X_test, y_test, display_labels=['Not Click (0)','Click (1)'])\n",
    "\n",
    "plt.show()"
   ]
  },
  {
   "cell_type": "markdown",
   "id": "ac66e69a",
   "metadata": {},
   "source": [
    "## Gradient Boosting"
   ]
  },
  {
   "cell_type": "code",
   "execution_count": 22,
   "id": "cb73901a",
   "metadata": {},
   "outputs": [
    {
     "data": {
      "text/plain": [
       "GradientBoostingClassifier(random_state=42)"
      ]
     },
     "execution_count": 22,
     "metadata": {},
     "output_type": "execute_result"
    }
   ],
   "source": [
    "from sklearn.ensemble import GradientBoostingClassifier\n",
    "from sklearn.metrics import roc_auc_score\n",
    "\n",
    "gbrt = GradientBoostingClassifier(random_state=42)\n",
    "gbrt.fit(X_train, y_train)\n",
    "gb_y_pred_prob= gbrt.predict_proba(X_test)\n",
    "gb_y_pred= gbrt.predict(X_test)"
   ]
  },
  {
   "cell_type": "code",
   "execution_count": 23,
   "id": "b5d1e18b",
   "metadata": {},
   "outputs": [
    {
     "data": {
      "text/plain": [
       "0.7121003887908381"
      ]
     },
     "execution_count": 23,
     "metadata": {},
     "output_type": "execute_result"
    }
   ],
   "source": [
    "roc_auc_score(y_test, gb_y_pred_prob[:,1]) "
   ]
  },
  {
   "cell_type": "code",
   "execution_count": 25,
   "id": "f0826e87",
   "metadata": {},
   "outputs": [
    {
     "name": "stdout",
     "output_type": "stream",
     "text": [
      "              precision    recall  f1-score   support\n",
      "\n",
      "           0       1.00      0.83      0.91     19822\n",
      "           1       0.03      0.60      0.06       178\n",
      "\n",
      "    accuracy                           0.83     20000\n",
      "   macro avg       0.51      0.71      0.48     20000\n",
      "weighted avg       0.99      0.83      0.90     20000\n",
      "\n"
     ]
    }
   ],
   "source": [
    "print(classification_report(gb_y_pred, y_test))"
   ]
  },
  {
   "cell_type": "code",
   "execution_count": 26,
   "id": "7096f2b1",
   "metadata": {},
   "outputs": [
    {
     "data": {
      "text/plain": [
       "<sklearn.metrics._plot.confusion_matrix.ConfusionMatrixDisplay at 0x25868263e20>"
      ]
     },
     "execution_count": 26,
     "metadata": {},
     "output_type": "execute_result"
    },
    {
     "data": {
      "image/png": "[encoded data removed]",
      "text/plain": [
       "<Figure size 432x288 with 2 Axes>"
      ]
     },
     "metadata": {
      "needs_background": "light"
     },
     "output_type": "display_data"
    }
   ],
   "source": [
    "plot_confusion_matrix(gbrt, X_test, y_test, display_labels=['Not Click (0)','Click (1)'])\n",
    "plt.show()"
   ]
  },
  {
   "cell_type": "markdown",
   "id": "bb890cd6",
   "metadata": {},
   "source": [
    "## HistGradientBoostingClassifier"
   ]
  },
  {
   "cell_type": "code",
   "execution_count": 41,
   "id": "1c70f027",
   "metadata": {},
   "outputs": [
    {
     "data": {
      "text/plain": [
       "HistGradientBoostingClassifier()"
      ]
     },
     "execution_count": 41,
     "metadata": {},
     "output_type": "execute_result"
    }
   ],
   "source": [
    "from sklearn.experimental import enable_hist_gradient_boosting\n",
    "from sklearn.ensemble import HistGradientBoostingClassifier\n",
    "\n",
    "hgbr = HistGradientBoostingClassifier()\n",
    "hgbr.fit(X_train, y_train)\n",
    "hgbr_y_pred_prob= hgbr.predict_proba(X_test)\n",
    "hgbr_y_pred = hgbr.predict(X_test)"
   ]
  },
  {
   "cell_type": "code",
   "execution_count": 43,
   "id": "31f401b5",
   "metadata": {},
   "outputs": [
    {
     "data": {
      "text/plain": [
       "0.7226199115917138"
      ]
     },
     "execution_count": 43,
     "metadata": {},
     "output_type": "execute_result"
    }
   ],
   "source": [
    "roc_auc_score(y_test, hgbr_y_pred_prob[:,1]) "
   ]
  },
  {
   "cell_type": "code",
   "execution_count": 44,
   "id": "e9633491",
   "metadata": {},
   "outputs": [
    {
     "name": "stdout",
     "output_type": "stream",
     "text": [
      "              precision    recall  f1-score   support\n",
      "\n",
      "           0       1.00      0.83      0.91     19795\n",
      "           1       0.04      0.61      0.07       205\n",
      "\n",
      "    accuracy                           0.83     20000\n",
      "   macro avg       0.52      0.72      0.49     20000\n",
      "weighted avg       0.99      0.83      0.90     20000\n",
      "\n"
     ]
    }
   ],
   "source": [
    "print(classification_report(hgbr_y_pred, y_test))"
   ]
  },
  {
   "cell_type": "code",
   "execution_count": 45,
   "id": "d0ed871c",
   "metadata": {},
   "outputs": [
    {
     "data": {
      "text/plain": [
       "<sklearn.metrics._plot.confusion_matrix.ConfusionMatrixDisplay at 0x25868458430>"
      ]
     },
     "execution_count": 45,
     "metadata": {},
     "output_type": "execute_result"
    },
    {
     "data": {
      "image/png": "[encoded data removed]",
      "text/plain": [
       "<Figure size 432x288 with 2 Axes>"
      ]
     },
     "metadata": {
      "needs_background": "light"
     },
     "output_type": "display_data"
    }
   ],
   "source": [
    "plot_confusion_matrix(hgbr, X_test, y_test, display_labels=['Not Click (0)','Click (1)'])\n",
    "plt.show()"
   ]
  },
  {
   "cell_type": "markdown",
   "id": "bd49b623",
   "metadata": {},
   "source": [
    "## XGboost\n",
    " - Model Tunning Article: \n",
    "https://www.analyticsvidhya.com/blog/2016/03/complete-guide-parameter-tuning-xgboost-with-codes-python/"
   ]
  },
  {
   "cell_type": "code",
   "execution_count": 47,
   "id": "8e914f0f",
   "metadata": {},
   "outputs": [
    {
     "data": {
      "text/plain": [
       "XGBClassifier(base_score=0.5, booster='gbtree', colsample_bylevel=1,\n",
       "              colsample_bynode=1, colsample_bytree=1, eval_metric='auc',\n",
       "              gamma=0, gpu_id=-1, importance_type='gain',\n",
       "              interaction_constraints='', learning_rate=0.300000012,\n",
       "              max_delta_step=0, max_depth=6, min_child_weight=1, missing=nan,\n",
       "              monotone_constraints='()', n_estimators=100, n_jobs=8,\n",
       "              num_parallel_tree=1, random_state=0, reg_alpha=0, reg_lambda=1,\n",
       "              scale_pos_weight=1, subsample=1, tree_method='exact',\n",
       "              use_label_encoder=False, validate_parameters=1, verbosity=None)"
      ]
     },
     "execution_count": 47,
     "metadata": {},
     "output_type": "execute_result"
    }
   ],
   "source": [
    "from xgboost import XGBClassifier\n",
    "\n",
    "xgb = XGBClassifier(use_label_encoder=False, eval_metric=\"auc\")\n",
    "xgb.fit(X_train, y_train)\n",
    "xgb_y_pred_prob = xgb.predict_proba(X_test)\n",
    "xgb_y_pred = xgb.predict(X_test)"
   ]
  },
  {
   "cell_type": "code",
   "execution_count": 48,
   "id": "c0ac6901",
   "metadata": {},
   "outputs": [
    {
     "data": {
      "text/plain": [
       "0.7193300442744409"
      ]
     },
     "execution_count": 48,
     "metadata": {},
     "output_type": "execute_result"
    }
   ],
   "source": [
    "roc_auc_score(y_test, y_pred_prob[:,1]) "
   ]
  },
  {
   "cell_type": "code",
   "execution_count": 49,
   "id": "b8973e32",
   "metadata": {},
   "outputs": [
    {
     "name": "stdout",
     "output_type": "stream",
     "text": [
      "              precision    recall  f1-score   support\n",
      "\n",
      "           0       0.99      0.83      0.91     19622\n",
      "           1       0.06      0.51      0.10       378\n",
      "\n",
      "    accuracy                           0.83     20000\n",
      "   macro avg       0.52      0.67      0.50     20000\n",
      "weighted avg       0.97      0.83      0.89     20000\n",
      "\n"
     ]
    }
   ],
   "source": [
    "print(classification_report(xgb_y_pred, y_test))"
   ]
  },
  {
   "cell_type": "code",
   "execution_count": 50,
   "id": "18a6c0cf",
   "metadata": {},
   "outputs": [
    {
     "data": {
      "text/plain": [
       "<sklearn.metrics._plot.confusion_matrix.ConfusionMatrixDisplay at 0x25866aa3bb0>"
      ]
     },
     "execution_count": 50,
     "metadata": {},
     "output_type": "execute_result"
    },
    {
     "data": {
      "image/png": "[encoded data removed]",
      "text/plain": [
       "<Figure size 432x288 with 2 Axes>"
      ]
     },
     "metadata": {
      "needs_background": "light"
     },
     "output_type": "display_data"
    }
   ],
   "source": [
    "plot_confusion_matrix(hgbr, X_test, y_test, display_labels=['Not Click (0)','Click (1)'])\n",
    "plt.show()"
   ]
  },
  {
   "cell_type": "code",
   "execution_count": 53,
   "id": "88171f39",
   "metadata": {},
   "outputs": [
    {
     "data": {
      "text/plain": [
       "RandomizedSearchCV(cv=5,\n",
       "                   estimator=XGBClassifier(base_score=None, booster=None,\n",
       "                                           colsample_bylevel=None,\n",
       "                                           colsample_bynode=None,\n",
       "                                           colsample_bytree=None,\n",
       "                                           eval_metric='auc', gamma=None,\n",
       "                                           gpu_id=None, importance_type='gain',\n",
       "                                           interaction_constraints=None,\n",
       "                                           learning_rate=None,\n",
       "                                           max_delta_step=None, max_depth=None,\n",
       "                                           min_child_weight=None, missing=nan,\n",
       "                                           monotone_constraints=None...\n",
       "                                        'colsample_bytree': <scipy.stats._distn_infrastructure.rv_frozen object at 0x0000025866BC3EB0>,\n",
       "                                        'gamma': [0, 0.1, 0.25, 0.5, 1.0],\n",
       "                                        'learning_rate': [0.001, 0.01, 0.1, 0.2,\n",
       "                                                          0, 3],\n",
       "                                        'max_depth': [6, 10, 15, 20],\n",
       "                                        'min_child_weight': [0.5, 1.0, 3.0,\n",
       "                                                             5.0],\n",
       "                                        'n_estimators': [100, 150, 200, 300,\n",
       "                                                         400],\n",
       "                                        'reg_lambda': [0, 0.1, 1, 2, 5, 7, 10],\n",
       "                                        'subsample': <scipy.stats._distn_infrastructure.rv_frozen object at 0x0000025866BC3C70>},\n",
       "                   random_state=42, scoring='roc_auc')"
      ]
     },
     "execution_count": 53,
     "metadata": {},
     "output_type": "execute_result"
    }
   ],
   "source": [
    "from scipy.stats import uniform as sp_uniform\n",
    "from sklearn.model_selection import RandomizedSearchCV\n",
    "\n",
    "param_grid= {\n",
    "        'max_depth': [6, 10, 15, 20],\n",
    "        'learning_rate': [0.001, 0.01, 0.1, 0.2, 0,3],\n",
    "        'subsample': sp_uniform(loc=0.2, scale=0.8),\n",
    "        'colsample_bytree': sp_uniform(loc=0.4, scale=0.6),\n",
    "        'colsample_bylevel': sp_uniform(loc=0.4, scale=0.6),\n",
    "        'min_child_weight': [0.5, 1.0, 3.0, 5.0],\n",
    "        'gamma': [0, 0.1, 0.25, 0.5, 1.0],\n",
    "        'reg_lambda': [0, 1e-1, 1, 2, 5, 7, 10],\n",
    "        'n_estimators': [100,150, 200,300, 400]\n",
    "        }\n",
    "xgb = XGBClassifier(use_label_encoder=False, eval_metric=\"auc\")\n",
    "random_search = RandomizedSearchCV(xgb, param_distributions = param_grid,cv=5,n_iter=20, random_state=42, scoring='roc_auc') \n",
    "random_search.fit(X_train, y_train)\n",
    "xgb_best = random_search.best_estimator_\n",
    "xgb_best_y_pred = xgb_best.predict(X_test)\n",
    "xgb_best_y_pred_proba = xgb_best.predict_proba(X_test)"
   ]
  },
  {
   "cell_type": "code",
   "execution_count": 54,
   "id": "3f0a50b4",
   "metadata": {},
   "outputs": [
    {
     "data": {
      "text/plain": [
       "0.727097987681187"
      ]
     },
     "execution_count": 54,
     "metadata": {},
     "output_type": "execute_result"
    }
   ],
   "source": [
    "roc_auc_score(y_test, xgb_best_y_pred_proba[:,1]) "
   ]
  },
  {
   "cell_type": "code",
   "execution_count": 55,
   "id": "07be9810",
   "metadata": {},
   "outputs": [
    {
     "name": "stdout",
     "output_type": "stream",
     "text": [
      "              precision    recall  f1-score   support\n",
      "\n",
      "           0       0.99      0.83      0.91     19725\n",
      "           1       0.04      0.56      0.08       275\n",
      "\n",
      "    accuracy                           0.83     20000\n",
      "   macro avg       0.52      0.70      0.49     20000\n",
      "weighted avg       0.98      0.83      0.89     20000\n",
      "\n"
     ]
    }
   ],
   "source": [
    "print(classification_report(xgb_best_y_pred, y_test))"
   ]
  },
  {
   "cell_type": "code",
   "execution_count": 56,
   "id": "4d22f955",
   "metadata": {},
   "outputs": [
    {
     "data": {
      "text/plain": [
       "<sklearn.metrics._plot.confusion_matrix.ConfusionMatrixDisplay at 0x25866bc3cd0>"
      ]
     },
     "execution_count": 56,
     "metadata": {},
     "output_type": "execute_result"
    },
    {
     "data": {
      "image/png": "[encoded data removed]",
      "text/plain": [
       "<Figure size 432x288 with 2 Axes>"
      ]
     },
     "metadata": {
      "needs_background": "light"
     },
     "output_type": "display_data"
    }
   ],
   "source": [
    "plot_confusion_matrix(xgb_best, X_test, y_test, display_labels=['Not Click (0)','Click (1)'])\n",
    "plt.show()"
   ]
  },
  {
   "cell_type": "markdown",
   "id": "986b9dda",
   "metadata": {},
   "source": [
    "## LightGBM \n",
    "https://lightgbm.readthedocs.io/en/latest/Parameters-Tuning.html"
   ]
  },
  {
   "cell_type": "code",
   "execution_count": 57,
   "id": "16f69472",
   "metadata": {},
   "outputs": [
    {
     "data": {
      "text/plain": [
       "LGBMClassifier()"
      ]
     },
     "execution_count": 57,
     "metadata": {},
     "output_type": "execute_result"
    },
    {
     "data": {
      "text/plain": [
       "0.7193300442744409"
      ]
     },
     "execution_count": 57,
     "metadata": {},
     "output_type": "execute_result"
    }
   ],
   "source": [
    "from lightgbm.sklearn import LGBMClassifier\n",
    "lgbm = LGBMClassifier()\n",
    "lgbm.fit(X_train, y_train)\n",
    "lgbm_y_pred_prob= lgbm.predict_proba(X_test)\n",
    "lgbm_y_pred = lgbm.predict(X_test)\n",
    "roc_auc_score(y_test, y_pred_prob[:,1]) "
   ]
  },
  {
   "cell_type": "code",
   "execution_count": 58,
   "id": "718daa2a",
   "metadata": {},
   "outputs": [
    {
     "name": "stdout",
     "output_type": "stream",
     "text": [
      "              precision    recall  f1-score   support\n",
      "\n",
      "           0       1.00      0.83      0.91     19798\n",
      "           1       0.04      0.61      0.07       202\n",
      "\n",
      "    accuracy                           0.83     20000\n",
      "   macro avg       0.52      0.72      0.49     20000\n",
      "weighted avg       0.99      0.83      0.90     20000\n",
      "\n"
     ]
    }
   ],
   "source": [
    "print(classification_report(lgbm_y_pred, y_test))"
   ]
  },
  {
   "cell_type": "code",
   "execution_count": 59,
   "id": "01e3da96",
   "metadata": {},
   "outputs": [
    {
     "data": {
      "text/plain": [
       "<sklearn.metrics._plot.confusion_matrix.ConfusionMatrixDisplay at 0x2586844ebe0>"
      ]
     },
     "execution_count": 59,
     "metadata": {},
     "output_type": "execute_result"
    },
    {
     "data": {
      "image/png": "[encoded data removed]",
      "text/plain": [
       "<Figure size 432x288 with 2 Axes>"
      ]
     },
     "metadata": {
      "needs_background": "light"
     },
     "output_type": "display_data"
    }
   ],
   "source": [
    "plot_confusion_matrix(lgbm, X_test, y_test, display_labels=['Not Click (0)','Click (1)'])\n",
    "plt.show()"
   ]
  },
  {
   "cell_type": "markdown",
   "id": "49d2a9fe",
   "metadata": {},
   "source": [
    "## Catboost\n",
    "https://catboost.ai/docs/concepts/about.html"
   ]
  },
  {
   "cell_type": "code",
   "execution_count": 60,
   "id": "d820afa6",
   "metadata": {},
   "outputs": [
    {
     "data": {
      "text/plain": [
       "<catboost.core.CatBoostClassifier at 0x25866bd9970>"
      ]
     },
     "execution_count": 60,
     "metadata": {},
     "output_type": "execute_result"
    },
    {
     "data": {
      "text/plain": [
       "0.713797773404668"
      ]
     },
     "execution_count": 60,
     "metadata": {},
     "output_type": "execute_result"
    }
   ],
   "source": [
    "from catboost import CatBoostClassifier\n",
    "catb = CatBoostClassifier(verbose=False, iterations=100)\n",
    "catb.fit(X_train, y_train)\n",
    "catb_y_pred_prob = catb.predict_proba(X_test)\n",
    "catb_y_pred = catb.predict(X_test)\n",
    "roc_auc_score(y_test, catb_y_pred_prob[:,1]) "
   ]
  },
  {
   "cell_type": "code",
   "execution_count": 61,
   "id": "976f623e",
   "metadata": {},
   "outputs": [
    {
     "name": "stdout",
     "output_type": "stream",
     "text": [
      "              precision    recall  f1-score   support\n",
      "\n",
      "           0       0.99      0.83      0.91     19632\n",
      "           1       0.06      0.52      0.10       368\n",
      "\n",
      "    accuracy                           0.83     20000\n",
      "   macro avg       0.52      0.68      0.50     20000\n",
      "weighted avg       0.97      0.83      0.89     20000\n",
      "\n"
     ]
    }
   ],
   "source": [
    "print(classification_report(catb_y_pred, y_test))"
   ]
  },
  {
   "cell_type": "code",
   "execution_count": 62,
   "id": "4d16ad1c",
   "metadata": {},
   "outputs": [
    {
     "data": {
      "text/plain": [
       "<sklearn.metrics._plot.confusion_matrix.ConfusionMatrixDisplay at 0x25866935a60>"
      ]
     },
     "execution_count": 62,
     "metadata": {},
     "output_type": "execute_result"
    },
    {
     "data": {
      "image/png": "[encoded data removed]",
      "text/plain": [
       "<Figure size 432x288 with 2 Axes>"
      ]
     },
     "metadata": {
      "needs_background": "light"
     },
     "output_type": "display_data"
    }
   ],
   "source": [
    "plot_confusion_matrix(catb, X_test, y_test, display_labels=['Not Click (0)','Click (1)'])\n",
    "plt.show()"
   ]
  },
  {
   "cell_type": "code",
   "execution_count": 63,
   "id": "a5506450",
   "metadata": {},
   "outputs": [
    {
     "data": {
      "text/plain": [
       "RandomizedSearchCV(cv=5,\n",
       "                   estimator=<catboost.core.CatBoostClassifier object at 0x00000258004E0BE0>,\n",
       "                   param_distributions={'depth': [3, 5, 7],\n",
       "                                        'l2_leaf_reg': [1, 3, 5, 7, 9],\n",
       "                                        'learning_rate': [0.1, 0.05, 0.03,\n",
       "                                                          0.01]},\n",
       "                   random_state=42, scoring='roc_auc')"
      ]
     },
     "execution_count": 63,
     "metadata": {},
     "output_type": "execute_result"
    }
   ],
   "source": [
    "param_grid= {'learning_rate': [0.1,0.05,0.03,0.01],\n",
    "        'depth': [3, 5,7],\n",
    "        'l2_leaf_reg': [1, 3, 5, 7, 9] }\n",
    "random_search = RandomizedSearchCV(CatBoostClassifier(verbose=False,iterations=100), param_distributions = param_grid,cv=5,n_iter=10, random_state=42, scoring='roc_auc') \n",
    "random_search.fit(X_train, y_train)\n",
    "cat_best = random_search.best_estimator_\n",
    "cat_best_y_pred = cat_best.predict(X_test)\n",
    "cat_best_y_pred_proba = cat_best.predict_proba(X_test)"
   ]
  },
  {
   "cell_type": "code",
   "execution_count": 64,
   "id": "6ca356ec",
   "metadata": {},
   "outputs": [
    {
     "name": "stdout",
     "output_type": "stream",
     "text": [
      "              precision    recall  f1-score   support\n",
      "\n",
      "           0       0.99      0.83      0.91     19798\n",
      "           1       0.03      0.59      0.07       202\n",
      "\n",
      "    accuracy                           0.83     20000\n",
      "   macro avg       0.51      0.71      0.49     20000\n",
      "weighted avg       0.99      0.83      0.90     20000\n",
      "\n"
     ]
    }
   ],
   "source": [
    "print(classification_report(cat_best_y_pred, y_test))"
   ]
  },
  {
   "cell_type": "code",
   "execution_count": 65,
   "id": "e7ea52e3",
   "metadata": {},
   "outputs": [
    {
     "data": {
      "text/plain": [
       "<sklearn.metrics._plot.confusion_matrix.ConfusionMatrixDisplay at 0x2580036aeb0>"
      ]
     },
     "execution_count": 65,
     "metadata": {},
     "output_type": "execute_result"
    },
    {
     "data": {
      "image/png": "[encoded data removed]",
      "text/plain": [
       "<Figure size 432x288 with 2 Axes>"
      ]
     },
     "metadata": {
      "needs_background": "light"
     },
     "output_type": "display_data"
    }
   ],
   "source": [
    "plot_confusion_matrix(cat_best, X_test, y_test, display_labels=['Not Click (0)','Click (1)'])\n",
    "plt.show()"
   ]
  },
  {
   "cell_type": "markdown",
   "id": "c478b654",
   "metadata": {},
   "source": [
    "# Preprocessing with Pipeline"
   ]
  },
  {
   "cell_type": "markdown",
   "id": "f3007c40",
   "metadata": {},
   "source": [
    "https://scikit-learn.org/stable/auto_examples/inspection/plot_permutation_importance.html#sphx-glr-auto-examples-inspection-plot-permutation-importance-py"
   ]
  },
  {
   "cell_type": "code",
   "execution_count": 10,
   "id": "dc468dee",
   "metadata": {},
   "outputs": [],
   "source": [
    "import pandas as pd\n",
    "import matplotlib.pyplot as plt\n",
    "import numpy as np\n",
    "\n",
    "from sklearn.datasets import fetch_openml\n",
    "from sklearn.ensemble import RandomForestClassifier\n",
    "from sklearn.impute import SimpleImputer\n",
    "from sklearn.inspection import permutation_importance\n",
    "from sklearn.compose import ColumnTransformer\n",
    "from sklearn.model_selection import train_test_split\n",
    "from sklearn.pipeline import Pipeline\n",
    "from sklearn.preprocessing import OneHotEncoder\n",
    "\n",
    "# allow multiple outputs per cell\n",
    "from IPython.core.interactiveshell import InteractiveShell\n",
    "InteractiveShell.ast_node_interactivity = \"all\""
   ]
  },
  {
   "cell_type": "code",
   "execution_count": 11,
   "id": "2a83dca1",
   "metadata": {},
   "outputs": [],
   "source": [
    "# Load the Treated Dataset\n",
    "df = pd.read_csv(\"ad_clicks_100k_Treated.csv\")\n",
    "df.drop(columns=\"Unnamed: 0\", inplace=True)"
   ]
  },
  {
   "cell_type": "markdown",
   "id": "ee98c987",
   "metadata": {},
   "source": [
    "### Drop features that will not go into the model\n",
    "- `id`, `hour` (because hour was broken down into (day, weekday, hour_of_day)), `day` (because we find that it will add no significant predictive value that makes sense in any future application, i.e. the dataset covers 10 days of the year and we have no way to know if any of those days is representative of the year, or if there was something exceptional happening. By using `hour_of_day` and `weekday` we average these values and thus make this possible effect less significant)   "
   ]
  },
  {
   "cell_type": "code",
   "execution_count": 13,
   "id": "81dad5b9",
   "metadata": {},
   "outputs": [],
   "source": [
    "categorical_columns = [i for i in list(df.columns) if df[i].dtypes in [\"O\"] and i not in ['id','hour','day']]\n",
    "numerical_columns = [i for i in list(df.columns) if df[i].dtypes not in [\"O\"] and i not in ['id','hour','day']]\n",
    "\n",
    "X = df[categorical_columns + numerical_columns]\n",
    "y = df['click']\n",
    "\n",
    "X_train, X_test, y_train, y_test = train_test_split(X, y, stratify=y, random_state=42)"
   ]
  },
  {
   "cell_type": "code",
   "execution_count": null,
   "id": "f6600204",
   "metadata": {},
   "outputs": [],
   "source": [
    "# Mean Encoding for high cardinality categorical features\n",
    "# One hot encoding for low cardinality categorical features\n",
    "# PCA to reduce dimensionality?\n",
    "# Balance Dataset\n"
   ]
  },
  {
   "cell_type": "code",
   "execution_count": null,
   "id": "dc458115",
   "metadata": {},
   "outputs": [],
   "source": [
    "categorical_encoder = OneHotEncoder(handle_unknown='ignore')\n",
    "numerical_pipe = Pipeline([\n",
    "    ('imputer', SimpleImputer(strategy='mean'))\n",
    "])\n",
    "\n",
    "preprocessing = ColumnTransformer(\n",
    "    [('cat', categorical_encoder, categorical_columns),\n",
    "     ('num', numerical_pipe, numerical_columns)])\n",
    "\n",
    "rf = Pipeline([\n",
    "    ('preprocess', preprocessing),\n",
    "    ('classifier', RandomForestClassifier(random_state=42))\n",
    "])\n",
    "rf.fit(X_train, y_train)"
   ]
  }
 ],
 "metadata": {
  "kernelspec": {
   "display_name": "mlcourse",
   "language": "python",
   "name": "mlcourse"
  },
  "language_info": {
   "codemirror_mode": {
    "name": "ipython",
    "version": 3
   },
   "file_extension": ".py",
   "mimetype": "text/x-python",
   "name": "python",
   "nbconvert_exporter": "python",
   "pygments_lexer": "ipython3",
   "version": "3.8.8"
  }
 },
 "nbformat": 4,
 "nbformat_minor": 5
}
