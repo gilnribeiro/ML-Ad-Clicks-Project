{
 "cells": [
  {
   "cell_type": "code",
   "execution_count": 20,
   "metadata": {},
   "outputs": [],
   "source": [
    "import pandas as pd\r\n",
    "import numpy as np\r\n",
    "# allow multiple outputs per cell\r\n",
    "from IPython.core.interactiveshell import InteractiveShell\r\n",
    "InteractiveShell.ast_node_interactivity = \"all\""
   ]
  },
  {
   "cell_type": "code",
   "execution_count": 21,
   "metadata": {},
   "outputs": [],
   "source": [
    "df = pd.read_csv(\"ad_clicks_100k_Treated.csv\")\r\n",
    "df.drop(columns=\"Unnamed: 0\", inplace=True)"
   ]
  },
  {
   "cell_type": "markdown",
   "metadata": {},
   "source": [
    "### Drop features that will not go into the model\r\n",
    "- `id` (We do not need the variable ID as predictor, it does not make sense to use)\r\n",
    "- `hour` (because hour was broken down into (day, weekday, hour_of_day)) \r\n",
    "- `day` (because we find that it will add no significant predictive value that makes sense in any future application, i.e. the dataset covers 10 days of the year and we have no way to know if any of those days is representative of the year, or if there was something exceptional happening. By using `hour_of_day` and `weekday` we average these values and thus make this possible effect less significant)   "
   ]
  },
  {
   "cell_type": "markdown",
   "metadata": {},
   "source": [
    "## Pre-processing:\r\n",
    "- One Hot encoding for low cardinality features \r\n",
    "- Label encoding for medium cardinality features\r\n",
    "- Mean encoding for high cardinality features"
   ]
  },
  {
   "cell_type": "code",
   "execution_count": 22,
   "metadata": {},
   "outputs": [],
   "source": [
    "from sklearn.preprocessing import OneHotEncoder\r\n",
    "from sklearn.preprocessing import LabelEncoder\r\n",
    "from sklearn.compose import make_column_transformer"
   ]
  },
  {
   "cell_type": "code",
   "execution_count": 23,
   "metadata": {},
   "outputs": [],
   "source": [
    "# Split into categorical type \"O\" and already encoded features\r\n",
    "categorical_columns = [i for i in list(df.columns) if df[i].dtypes in [\"O\"] and i not in ['id','hour','day']]\r\n",
    "encoded_categorical_columns = [i for i in list(df.columns) if df[i].dtypes not in [\"O\"] and i not in ['id','hour','day']]"
   ]
  },
  {
   "cell_type": "code",
   "execution_count": 24,
   "metadata": {},
   "outputs": [
    {
     "name": "stdout",
     "output_type": "stream",
     "text": [
      "<class 'pandas.core.frame.DataFrame'>\n",
      "RangeIndex: 100000 entries, 0 to 99999\n",
      "Data columns (total 27 columns):\n",
      " #   Column            Non-Null Count   Dtype  \n",
      "---  ------            --------------   -----  \n",
      " 0   id                100000 non-null  float64\n",
      " 1   click             100000 non-null  int64  \n",
      " 2   hour              100000 non-null  object \n",
      " 3   C1                100000 non-null  int64  \n",
      " 4   banner_pos        100000 non-null  int64  \n",
      " 5   site_id           100000 non-null  object \n",
      " 6   site_domain       100000 non-null  object \n",
      " 7   site_category     100000 non-null  object \n",
      " 8   app_id            100000 non-null  object \n",
      " 9   app_domain        100000 non-null  object \n",
      " 10  app_category      100000 non-null  object \n",
      " 11  device_id         100000 non-null  object \n",
      " 12  device_ip         100000 non-null  object \n",
      " 13  device_model      100000 non-null  object \n",
      " 14  device_type       100000 non-null  int64  \n",
      " 15  device_conn_type  100000 non-null  int64  \n",
      " 16  C14               100000 non-null  int64  \n",
      " 17  C15               100000 non-null  int64  \n",
      " 18  C16               100000 non-null  int64  \n",
      " 19  C17               100000 non-null  int64  \n",
      " 20  C18               100000 non-null  int64  \n",
      " 21  C19               100000 non-null  int64  \n",
      " 22  C20               100000 non-null  int64  \n",
      " 23  C21               100000 non-null  int64  \n",
      " 24  hour_of_day       100000 non-null  int64  \n",
      " 25  day               100000 non-null  int64  \n",
      " 26  weekday           100000 non-null  object \n",
      "dtypes: float64(1), int64(15), object(11)\n",
      "memory usage: 20.6+ MB\n"
     ]
    }
   ],
   "source": [
    "df.info()"
   ]
  },
  {
   "cell_type": "code",
   "execution_count": 25,
   "metadata": {},
   "outputs": [
    {
     "data": {
      "text/plain": "LabelEncoder()"
     },
     "execution_count": 25,
     "metadata": {},
     "output_type": "execute_result"
    },
    {
     "data": {
      "text/plain": "LabelEncoder()"
     },
     "execution_count": 25,
     "metadata": {},
     "output_type": "execute_result"
    },
    {
     "data": {
      "text/plain": "LabelEncoder()"
     },
     "execution_count": 25,
     "metadata": {},
     "output_type": "execute_result"
    },
    {
     "data": {
      "text/plain": "LabelEncoder()"
     },
     "execution_count": 25,
     "metadata": {},
     "output_type": "execute_result"
    },
    {
     "data": {
      "text/plain": "LabelEncoder()"
     },
     "execution_count": 25,
     "metadata": {},
     "output_type": "execute_result"
    },
    {
     "data": {
      "text/plain": "LabelEncoder()"
     },
     "execution_count": 25,
     "metadata": {},
     "output_type": "execute_result"
    },
    {
     "data": {
      "text/plain": "LabelEncoder()"
     },
     "execution_count": 25,
     "metadata": {},
     "output_type": "execute_result"
    },
    {
     "data": {
      "text/plain": "LabelEncoder()"
     },
     "execution_count": 25,
     "metadata": {},
     "output_type": "execute_result"
    },
    {
     "data": {
      "text/plain": "LabelEncoder()"
     },
     "execution_count": 25,
     "metadata": {},
     "output_type": "execute_result"
    },
    {
     "name": "stdout",
     "output_type": "stream",
     "text": [
      "Previus Dataset Shape ->>  (100000, 27)\n",
      "Shape After Encoding  ->>  (100000, 34) \n",
      "\n",
      "------- Mean Encoding changes -------\n",
      "site_id now has 1461 categories vs 1461 before\n",
      "site_domain now has 1333 categories vs 1333 before\n",
      "app_id now has 1296 categories vs 1296 before\n",
      "device_id now has 16837 categories vs 16837 before\n",
      "device_ip now has 77833 categories vs 77833 before\n",
      "device_model now has 3167 categories vs 3167 before\n"
     ]
    }
   ],
   "source": [
    "data = df.copy()\r\n",
    "one_hot = []\r\n",
    "label_enc = []\r\n",
    "mean_enc = []\r\n",
    "for i in categorical_columns:\r\n",
    "    if len(df[i].unique()) <= 15:\r\n",
    "        # One hot encoding\r\n",
    "        one_hot.append(i)\r\n",
    "        data = pd.concat([data, pd.get_dummies(df[i], prefix='oneHot')],axis=1)\r\n",
    "    elif 100 >= len(df[i].unique()) > 15:\r\n",
    "        # Label encoding\r\n",
    "        label_enc.append(i)\r\n",
    "        label_encoder = []\r\n",
    "        le = LabelEncoder()\r\n",
    "        le.fit(data[i])    \r\n",
    "        label_encoder.append(le)\r\n",
    "        data[i] = le.transform(data[i])\r\n",
    "    elif len(df[i].unique()) > 100:\r\n",
    "        # Mean encoding\r\n",
    "        mean_enc.append(i)\r\n",
    "        mean_encoder = []\r\n",
    "        le = LabelEncoder()\r\n",
    "        le.fit(data[i])    \r\n",
    "        mean_encoder.append(le)\r\n",
    "        data[i] = le.transform(data[i])\r\n",
    "        # mean_encoder_i = data.groupby([i])[\"click\"].mean().to_dict()\r\n",
    "        # data[i] = data[i].map(mean_encoder_i)\r\n",
    "\r\n",
    "print('Previus Dataset Shape ->> ', df.shape)\r\n",
    "print('Shape After Encoding  ->> ', data.shape, '\\n')\r\n",
    "print('------- Mean Encoding changes -------')\r\n",
    "for i,v in enumerate(mean_enc):\r\n",
    "    print(f'{v} now has {[len(data[i].unique()) for i in mean_enc][i]} categories vs {len(df[v].unique())} before')"
   ]
  },
  {
   "cell_type": "markdown",
   "metadata": {},
   "source": [
    "## Split the Dataset"
   ]
  },
  {
   "cell_type": "code",
   "execution_count": 26,
   "metadata": {},
   "outputs": [],
   "source": [
    "X = data.drop(columns=['click','id','hour','weekday'])\r\n",
    "y = data['click']\r\n",
    "\r\n",
    "# X_train, X_test, y_train, y_test = train_test_split(X, y, random_state=42, test_size=0.2)\r\n",
    "# X_train.shape\r\n",
    "# y_train.shape\r\n",
    "# X_test.shape\r\n",
    "# y_test.shape"
   ]
  },
  {
   "cell_type": "code",
   "execution_count": 27,
   "metadata": {},
   "outputs": [
    {
     "data": {
      "text/plain": "DecisionTreeClassifier(class_weight='balanced')"
     },
     "execution_count": 27,
     "metadata": {},
     "output_type": "execute_result"
    },
    {
     "data": {
      "text/plain": "DecisionTreeClassifier(class_weight='balanced')"
     },
     "execution_count": 27,
     "metadata": {},
     "output_type": "execute_result"
    },
    {
     "data": {
      "text/plain": "DecisionTreeClassifier(class_weight='balanced')"
     },
     "execution_count": 27,
     "metadata": {},
     "output_type": "execute_result"
    },
    {
     "data": {
      "text/plain": "DecisionTreeClassifier(class_weight='balanced')"
     },
     "execution_count": 27,
     "metadata": {},
     "output_type": "execute_result"
    },
    {
     "data": {
      "text/plain": "DecisionTreeClassifier(class_weight='balanced')"
     },
     "execution_count": 27,
     "metadata": {},
     "output_type": "execute_result"
    },
    {
     "name": "stdout",
     "output_type": "stream",
     "text": [
      "accuracy of each fold - [0.73615, 0.7195, 0.74895, 0.73905, 0.75205]\n",
      "Avg accuracy : 0.73914\n",
      "Avg f1 : 0.21185780440718824\n",
      "Avg roc auc : 0.5288823825880545\n",
      "Avg precision : 0.20650320869910974\n"
     ]
    }
   ],
   "source": [
    "#Importing required libraries\r\n",
    "# from sklearn.datasets import load_breast_cancer\r\n",
    "# import pandas as pd\r\n",
    "from sklearn.model_selection import KFold \r\n",
    "from sklearn.linear_model import LogisticRegression\r\n",
    "from sklearn.metrics import accuracy_score, f1_score, roc_auc_score, precision_score\r\n",
    "from sklearn.tree import DecisionTreeClassifier\r\n",
    "import pandas as pd\r\n",
    "pd.options.mode.chained_assignment = None  # default='warn\r\n",
    "\r\n",
    "k = 5\r\n",
    "kf = KFold(n_splits=k, random_state=42, shuffle=True)\r\n",
    "model = DecisionTreeClassifier(class_weight='balanced')\r\n",
    " \r\n",
    "acc_acc_score = []\r\n",
    "acc_f1_score = []\r\n",
    "acc_roc_auc_score = []\r\n",
    "acc_precision_score = []\r\n",
    " \r\n",
    "for train_index , test_index in kf.split(X):\r\n",
    "    X_train , X_test = X.iloc[train_index,:], X.iloc[test_index,:]\r\n",
    "    y_train , y_test = y[train_index], y[test_index]\r\n",
    "    \r\n",
    "    # Mean Encoding within CV to avoid data leakage\r\n",
    "    for i in mean_enc:\r\n",
    "        data_train = pd.concat([X_train, y_train], axis=1)\r\n",
    "        mean_encoder = data_train.groupby([i])[\"click\"].mean()\r\n",
    "        X_train[i] = X_train[i].map(mean_encoder)\r\n",
    "        # Transform the test set based on the train\r\n",
    "        X_test[i] = X_test[i].map(mean_encoder)\r\n",
    "        # Fill nan values that may arise due to mapping with the global average\r\n",
    "        X_test[i].fillna(mean_encoder.mean(), inplace = True)\r\n",
    "    \r\n",
    "    model.fit(X_train,y_train)\r\n",
    "    pred_values = model.predict(X_test)\r\n",
    "    \r\n",
    "    # Compute Scores\r\n",
    "    acc = accuracy_score(pred_values , y_test)\r\n",
    "    f1 = f1_score(pred_values, y_test)\r\n",
    "    roc = roc_auc_score(pred_values, y_test)\r\n",
    "    precision = precision_score(pred_values, y_test)\r\n",
    "\r\n",
    "    acc_acc_score.append(acc)\r\n",
    "    acc_f1_score.append(f1)\r\n",
    "    acc_roc_auc_score.append(roc)\r\n",
    "    acc_precision_score.append(precision)\r\n",
    "\r\n",
    "avg_acc_score = sum(acc_acc_score)/k\r\n",
    "avg_f1_score = sum(acc_f1_score)/k\r\n",
    "avg_roc_score = sum(acc_roc_auc_score)/k\r\n",
    "avg_precision_score = sum(acc_precision_score)/k\r\n",
    "\r\n",
    "print('accuracy of each fold - {}'.format(acc_acc_score))\r\n",
    "print('Avg accuracy : {}'.format(avg_acc_score))\r\n",
    "print('Avg f1 : {}'.format(avg_f1_score))\r\n",
    "print('Avg roc auc : {}'.format(avg_roc_score))\r\n",
    "print('Avg precision : {}'.format(avg_precision_score))\r\n",
    "\r\n",
    "pd.options.mode.chained_assignment = 'warn'  # default='warn"
   ]
  },
  {
   "cell_type": "markdown",
   "metadata": {},
   "source": [
    "## Do more variable encoding for the remaining categories"
   ]
  },
  {
   "cell_type": "code",
   "execution_count": 28,
   "metadata": {},
   "outputs": [
    {
     "name": "stdout",
     "output_type": "stream",
     "text": [
      "click has 2 unique categories\n",
      "C1 has 7 unique categories\n",
      "banner_pos has 7 unique categories\n",
      "device_type has 4 unique categories\n",
      "device_conn_type has 4 unique categories\n",
      "C14 has 1713 unique categories\n",
      "C15 has 8 unique categories\n",
      "C16 has 9 unique categories\n",
      "C17 has 399 unique categories\n",
      "C18 has 4 unique categories\n",
      "C19 has 65 unique categories\n",
      "C20 has 157 unique categories\n",
      "C21 has 59 unique categories\n",
      "hour_of_day has 24 unique categories\n"
     ]
    }
   ],
   "source": [
    "for i,v in enumerate(encoded_categorical_columns):\r\n",
    "    print(f'{v} has {[len(data[i].unique()) for i in encoded_categorical_columns][i]} unique categories')\r\n",
    "    "
   ]
  },
  {
   "cell_type": "markdown",
   "metadata": {},
   "source": [
    "## Cost Sensitive Learning vs Random Under Sampling"
   ]
  },
  {
   "cell_type": "code",
   "execution_count": 38,
   "metadata": {},
   "outputs": [],
   "source": [
    "from imblearn.pipeline import make_pipeline \r\n",
    "from sklearn.preprocessing import StandardScaler\r\n",
    "from sklearn.neighbors import KNeighborsClassifier\r\n",
    "from sklearn.tree import DecisionTreeClassifier\r\n",
    "from imblearn.under_sampling import RandomUnderSampler\r\n",
    "from sklearn.metrics import make_scorer\r\n",
    "from sklearn.metrics import classification_report\r\n",
    "\r\n",
    "pipe_1 = make_pipeline(StandardScaler(), DecisionTreeClassifier(class_weight='balanced'))\r\n",
    "pipe_2 = make_pipeline(StandardScaler(), RandomUnderSampler(replacement=False), DecisionTreeClassifier())\r\n",
    "\r\n",
    "from sklearn.model_selection import train_test_split\r\n",
    "X_train, X_test, y_train, y_test = train_test_split(X, y, random_state=42, test_size=0.2)"
   ]
  },
  {
   "cell_type": "code",
   "execution_count": null,
   "metadata": {},
   "outputs": [],
   "source": []
  },
  {
   "cell_type": "code",
   "execution_count": 39,
   "metadata": {},
   "outputs": [
    {
     "name": "stdout",
     "output_type": "stream",
     "text": [
      "PIPE 1\n",
      "              precision    recall  f1-score   support\n",
      "\n",
      "           0       0.85      0.85      0.85     66402\n",
      "           1       0.26      0.26      0.26     13598\n",
      "\n",
      "    accuracy                           0.75     80000\n",
      "   macro avg       0.55      0.55      0.55     80000\n",
      "weighted avg       0.75      0.75      0.75     80000\n",
      "\n",
      "PIPE 2\n",
      "              precision    recall  f1-score   support\n",
      "\n",
      "           0       0.86      0.71      0.78    132804\n",
      "           1       0.23      0.42      0.30     27196\n",
      "\n",
      "    accuracy                           0.66    160000\n",
      "   macro avg       0.54      0.56      0.54    160000\n",
      "weighted avg       0.75      0.66      0.70    160000\n",
      "\n"
     ]
    }
   ],
   "source": [
    "# Variables for average classification report\r\n",
    "originalclass = []\r\n",
    "predictedclass = []\r\n",
    "\r\n",
    "#Make our customer score\r\n",
    "def classification_report_with_accuracy_score(y_true, y_pred):\r\n",
    "    originalclass.extend(y_true)\r\n",
    "    predictedclass.extend(y_pred)\r\n",
    "    return accuracy_score(y_true, y_pred) # return accuracy score\r\n",
    "\r\n",
    "from sklearn.model_selection import cross_validate\r\n",
    "scores1 = cross_validate(pipe_1,\r\n",
    "                        X_train, y_train, cv=10, return_estimator=True,\r\n",
    "                        scoring=make_scorer(classification_report_with_accuracy_score))\r\n",
    "                        # scoring=('roc_auc', 'recall','precision'))\r\n",
    "print('PIPE 1')\r\n",
    "# print(scores)\r\n",
    "print(classification_report(originalclass, predictedclass)) \r\n",
    "# print('ROC AUC is', scores['test_roc_auc'].mean())\r\n",
    "# print('Recall is ', scores['test_recall'].mean())\r\n",
    "# print('Precision is', scores['test_precision'].mean())\r\n",
    "\r\n",
    "scores2 = cross_validate(pipe_2,\r\n",
    "                        X_train, y_train, cv=10, return_estimator=True,\r\n",
    "                        scoring=make_scorer(classification_report_with_accuracy_score))\r\n",
    "print('PIPE 2')\r\n",
    "# print(scores)\r\n",
    "# Average values in classification report for all folds in a K-fold Cross-validation  \r\n",
    "print(classification_report(originalclass, predictedclass)) "
   ]
  },
  {
   "cell_type": "code",
   "execution_count": 40,
   "metadata": {},
   "outputs": [
    {
     "data": {
      "text/plain": "Pipeline(steps=[('standardscaler', StandardScaler()),\n                ('decisiontreeclassifier',\n                 DecisionTreeClassifier(class_weight='balanced'))])"
     },
     "execution_count": 40,
     "metadata": {},
     "output_type": "execute_result"
    },
    {
     "data": {
      "text/plain": "Pipeline(steps=[('standardscaler', StandardScaler()),\n                ('randomundersampler', RandomUnderSampler()),\n                ('decisiontreeclassifier', DecisionTreeClassifier())])"
     },
     "execution_count": 40,
     "metadata": {},
     "output_type": "execute_result"
    }
   ],
   "source": [
    "pipe_1.fit(X_train, y_train)\r\n",
    "pipe_2.fit(X_train, y_train)"
   ]
  },
  {
   "cell_type": "code",
   "execution_count": 41,
   "metadata": {},
   "outputs": [
    {
     "data": {
      "text/plain": "<sklearn.metrics._plot.confusion_matrix.ConfusionMatrixDisplay at 0x2735dc2ba30>"
     },
     "execution_count": 41,
     "metadata": {},
     "output_type": "execute_result"
    },
    {
     "data": {
      "text/plain": "Text(0.5, 1.0, 'Decision Tree Balanced Weights Dataset')"
     },
     "execution_count": 41,
     "metadata": {},
     "output_type": "execute_result"
    },
    {
     "data": {
      "text/plain": "<sklearn.metrics._plot.confusion_matrix.ConfusionMatrixDisplay at 0x27346a4ea90>"
     },
     "execution_count": 41,
     "metadata": {},
     "output_type": "execute_result"
    },
    {
     "data": {
      "text/plain": "Text(0.5, 1.0, 'Decision Tree Undersampling Majority Class')"
     },
     "execution_count": 41,
     "metadata": {},
     "output_type": "execute_result"
    },
    {
     "data": {
      "image/png": "[encoded data removed]",
      "text/plain": "<Figure size 432x288 with 2 Axes>"
     },
     "metadata": {
      "needs_background": "light"
     },
     "output_type": "display_data"
    },
    {
     "data": {
      "image/png": "[encoded data removed]",
      "text/plain": "<Figure size 432x288 with 2 Axes>"
     },
     "metadata": {
      "needs_background": "light"
     },
     "output_type": "display_data"
    }
   ],
   "source": [
    "from sklearn.metrics import plot_confusion_matrix\r\n",
    "import matplotlib.pyplot as plt\r\n",
    "plot_confusion_matrix(pipe_1, X_test, y_test, display_labels=['Not Click (0)','Click (1)'])\r\n",
    "plt.title('Decision Tree Balanced Weights Dataset')\r\n",
    "\r\n",
    "plot_confusion_matrix(pipe_2, X_test, y_test, display_labels=['Not Click (0)','Click (1)'])\r\n",
    "plt.title('Decision Tree Undersampling Majority Class')\r\n",
    "\r\n",
    "plt.show()"
   ]
  },
  {
   "cell_type": "code",
   "execution_count": null,
   "metadata": {},
   "outputs": [],
   "source": [
    "#"
   ]
  },
  {
   "cell_type": "markdown",
   "metadata": {},
   "source": [
    "asdpiosdovnfa"
   ]
  }
 ],
 "metadata": {
  "kernelspec": {
   "display_name": "Python 3.8.8 64-bit ('mlcourse': conda)",
   "name": "mlcourse"
  },
  "language_info": {
   "codemirror_mode": {
    "name": "ipython",
    "version": 3
   },
   "file_extension": ".py",
   "mimetype": "text/x-python",
   "name": "python",
   "nbconvert_exporter": "python",
   "pygments_lexer": "ipython3",
   "version": "3.8.8"
  },
  "orig_nbformat": 3
 },
 "nbformat": 4,
 "nbformat_minor": 2
}