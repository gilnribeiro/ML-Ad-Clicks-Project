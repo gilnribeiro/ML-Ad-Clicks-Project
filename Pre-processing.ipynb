{
 "cells": [
  {
   "cell_type": "code",
   "execution_count": 165,
   "metadata": {},
   "outputs": [],
   "source": [
    "import pandas as pd\r\n",
    "import numpy as np\r\n",
    "# allow multiple outputs per cell\r\n",
    "from IPython.core.interactiveshell import InteractiveShell\r\n",
    "InteractiveShell.ast_node_interactivity = \"all\""
   ]
  },
  {
   "cell_type": "code",
   "execution_count": 166,
   "metadata": {},
   "outputs": [],
   "source": [
    "df = pd.read_csv(\"ad_clicks_100k_Treated.csv\")\r\n",
    "df.drop(columns=\"Unnamed: 0\", inplace=True)"
   ]
  },
  {
   "cell_type": "markdown",
   "metadata": {},
   "source": [
    "### Drop features that will not go into the model\r\n",
    "- `id` (We do not need the variable ID as predictor, it does not make sense to use)\r\n",
    "- `hour` (because hour was broken down into (day, weekday, hour_of_day)) \r\n",
    "- `day` (because we find that it will add no significant predictive value that makes sense in any future application, i.e. the dataset covers 10 days of the year and we have no way to know if any of those days is representative of the year, or if there was something exceptional happening. By using `hour_of_day` and `weekday` we average these values and thus make this possible effect less significant)   "
   ]
  },
  {
   "cell_type": "markdown",
   "metadata": {},
   "source": [
    "## Pre-processing:\r\n",
    "- One Hot encoding for low cardinality features \r\n",
    "- Label encoding for medium cardinality features\r\n",
    "- Mean encoding for high cardinality features"
   ]
  },
  {
   "cell_type": "code",
   "execution_count": 167,
   "metadata": {},
   "outputs": [],
   "source": [
    "from sklearn.preprocessing import OneHotEncoder\r\n",
    "from sklearn.preprocessing import LabelEncoder\r\n",
    "from sklearn.compose import make_column_transformer"
   ]
  },
  {
   "cell_type": "code",
   "execution_count": 168,
   "metadata": {},
   "outputs": [],
   "source": [
    "# Split into categorical type \"O\" and already encoded features\r\n",
    "categorical_columns = [i for i in list(df.columns) if df[i].dtypes in [\"O\"] and i not in ['id','hour','day']]\r\n",
    "encoded_categorical_columns = [i for i in list(df.columns) if df[i].dtypes not in [\"O\"] and i not in ['id','hour','day']]"
   ]
  },
  {
   "cell_type": "code",
   "execution_count": 170,
   "metadata": {},
   "outputs": [
    {
     "data": {
      "text/plain": "LabelEncoder()"
     },
     "execution_count": 170,
     "metadata": {},
     "output_type": "execute_result"
    },
    {
     "data": {
      "text/plain": "LabelEncoder()"
     },
     "execution_count": 170,
     "metadata": {},
     "output_type": "execute_result"
    },
    {
     "data": {
      "text/plain": "LabelEncoder()"
     },
     "execution_count": 170,
     "metadata": {},
     "output_type": "execute_result"
    },
    {
     "data": {
      "text/plain": "LabelEncoder()"
     },
     "execution_count": 170,
     "metadata": {},
     "output_type": "execute_result"
    },
    {
     "data": {
      "text/plain": "LabelEncoder()"
     },
     "execution_count": 170,
     "metadata": {},
     "output_type": "execute_result"
    },
    {
     "data": {
      "text/plain": "LabelEncoder()"
     },
     "execution_count": 170,
     "metadata": {},
     "output_type": "execute_result"
    },
    {
     "data": {
      "text/plain": "LabelEncoder()"
     },
     "execution_count": 170,
     "metadata": {},
     "output_type": "execute_result"
    },
    {
     "data": {
      "text/plain": "LabelEncoder()"
     },
     "execution_count": 170,
     "metadata": {},
     "output_type": "execute_result"
    },
    {
     "data": {
      "text/plain": "LabelEncoder()"
     },
     "execution_count": 170,
     "metadata": {},
     "output_type": "execute_result"
    },
    {
     "name": "stdout",
     "output_type": "stream",
     "text": [
      "Previus Dataset Shape ->>  (100000, 27)\n",
      "Shape After Encoding  ->>  (100000, 34) \n",
      "\n"
     ]
    }
   ],
   "source": [
    "data = df.copy()\r\n",
    "one_hot = []\r\n",
    "label_enc = []\r\n",
    "mean_enc = []\r\n",
    "for i in categorical_columns:\r\n",
    "    if len(df[i].unique()) <= 15:\r\n",
    "        # One hot encoding\r\n",
    "        one_hot.append(i)\r\n",
    "        data = pd.concat([data, pd.get_dummies(df[i], prefix='oneHot')],axis=1)\r\n",
    "    elif 100 >= len(df[i].unique()) > 15:\r\n",
    "        # Label encoding\r\n",
    "        label_enc.append(i)\r\n",
    "        label_encoder = []\r\n",
    "        le = LabelEncoder()\r\n",
    "        le.fit(data[i])    \r\n",
    "        label_encoder.append(le)\r\n",
    "        data[i] = le.transform(data[i])\r\n",
    "    elif len(df[i].unique()) > 100:\r\n",
    "        # Mean encoding\r\n",
    "        mean_enc.append(i)\r\n",
    "        mean_encoder = []\r\n",
    "        le = LabelEncoder()\r\n",
    "        le.fit(data[i])    \r\n",
    "        mean_encoder.append(le)\r\n",
    "        data[i] = le.transform(data[i])\r\n",
    "        # mean_encoder_i = data.groupby([i])[\"click\"].mean().to_dict()\r\n",
    "        # data[i] = data[i].map(mean_encoder_i)\r\n",
    "\r\n",
    "print('Previus Dataset Shape ->> ', df.shape)\r\n",
    "print('Shape After Encoding  ->> ', data.shape, '\\n')"
   ]
  },
  {
   "cell_type": "markdown",
   "metadata": {},
   "source": [
    "## Split the Dataset"
   ]
  },
  {
   "cell_type": "code",
   "execution_count": 171,
   "metadata": {},
   "outputs": [
    {
     "data": {
      "text/plain": "(80000, 30)"
     },
     "execution_count": 171,
     "metadata": {},
     "output_type": "execute_result"
    },
    {
     "data": {
      "text/plain": "(80000,)"
     },
     "execution_count": 171,
     "metadata": {},
     "output_type": "execute_result"
    },
    {
     "data": {
      "text/plain": "(20000, 30)"
     },
     "execution_count": 171,
     "metadata": {},
     "output_type": "execute_result"
    },
    {
     "data": {
      "text/plain": "(20000,)"
     },
     "execution_count": 171,
     "metadata": {},
     "output_type": "execute_result"
    }
   ],
   "source": [
    "from sklearn.model_selection import train_test_split\r\n",
    "\r\n",
    "X = data.drop(columns=['click','id','hour','weekday'])\r\n",
    "y = data['click']\r\n",
    "\r\n",
    "X_train, X_test, y_train, y_test = train_test_split(X, y, random_state=42, test_size=0.2)\r\n",
    "X_train.shape\r\n",
    "y_train.shape\r\n",
    "X_test.shape\r\n",
    "y_test.shape"
   ]
  },
  {
   "cell_type": "markdown",
   "metadata": {},
   "source": [
    "## Mean encoded Cross Validation"
   ]
  },
  {
   "cell_type": "code",
   "execution_count": 172,
   "metadata": {},
   "outputs": [],
   "source": [
    "from sklearn.model_selection import KFold \r\n",
    "from sklearn.model_selection import StratifiedKFold\r\n",
    "from sklearn.linear_model import LogisticRegression\r\n",
    "from sklearn.metrics import accuracy_score, f1_score, roc_auc_score, precision_score\r\n",
    "from sklearn.tree import DecisionTreeClassifier\r\n",
    "from sklearn.metrics import classification_report\r\n",
    "    \r\n",
    "def mean_encoded_cross_val(k, model, X, y, return_avg_pred=False, print_scores=True):\r\n",
    "    \"\"\"\r\n",
    "    :parameter: k -> number of folds for cross validation\r\n",
    "    :parameter: model -> (e.g: DecisionTreeClassifier())\r\n",
    "    :parameter: X -> X_train from previous split\r\n",
    "    :parameter: y -> y_train from previous split\r\n",
    "    :parameter: return_avg_pred -> Return the original class and predicted class used to plot the average classification report\r\n",
    "                returns a tuple (originalclass, predictedclass)\r\n",
    "\r\n",
    "    \"\"\"\r\n",
    "    pd.options.mode.chained_assignment = None  # default='warn\r\n",
    "\r\n",
    "    skf = StratifiedKFold(n_splits=k) #, random_state=42, shuffle=True)\r\n",
    "    \r\n",
    "    acc_acc_score = []\r\n",
    "    acc_f1_score = []\r\n",
    "    acc_roc_auc_score = []\r\n",
    "    acc_precision_score = []\r\n",
    "    \r\n",
    "    # For Classification Report\r\n",
    "    originalclass = []\r\n",
    "    predictedclass = []\r\n",
    "    \r\n",
    "    for train_index , test_index in skf.split(X,y):\r\n",
    "        X_train , X_test = X.loc[X.index.intersection(train_index)], X.loc[X.index.intersection(test_index)]\r\n",
    "        y_train , y_test = y.loc[y.index.intersection(train_index)], y.loc[y.index.intersection(test_index)]\r\n",
    "\r\n",
    "        # Mean Encoding within CV to avoid data leakage\r\n",
    "        for i in mean_enc:\r\n",
    "            data_train = pd.concat([X_train, y_train], axis=1)\r\n",
    "            mean_encoder = data_train.groupby([i])[\"click\"].mean()\r\n",
    "            X_train[i] = X_train[i].map(mean_encoder)\r\n",
    "            # Transform the test set based on the train\r\n",
    "            X_test[i] = X_test[i].map(mean_encoder)\r\n",
    "            # Fill nan values that may arise due to mapping with the global average\r\n",
    "            X_test[i].fillna(mean_encoder.mean(), inplace = True)\r\n",
    "\r\n",
    "        model.fit(X_train, y_train)\r\n",
    "        y_pred = model.predict(X_test)\r\n",
    "\r\n",
    "        # Accumulate all folds\r\n",
    "        originalclass.extend(y_test)\r\n",
    "        predictedclass.extend(y_pred)\r\n",
    "\r\n",
    "        # Compute Scores\r\n",
    "        acc = accuracy_score(y_pred , y_test)\r\n",
    "        f1 = f1_score(y_pred, y_test)\r\n",
    "        roc = roc_auc_score(y_pred, y_test)\r\n",
    "        precision = precision_score(y_pred, y_test)\r\n",
    "\r\n",
    "        acc_acc_score.append(acc)\r\n",
    "        acc_f1_score.append(f1)\r\n",
    "        acc_roc_auc_score.append(roc)\r\n",
    "        acc_precision_score.append(precision)\r\n",
    "\r\n",
    "    avg_acc_score = sum(acc_acc_score)/k\r\n",
    "    avg_f1_score = sum(acc_f1_score)/k\r\n",
    "    avg_roc_score = sum(acc_roc_auc_score)/k\r\n",
    "    avg_precision_score = sum(acc_precision_score)/k\r\n",
    "\r\n",
    "    scores = {'Accuracy':avg_acc_score, 'f1':avg_f1_score, 'ROC':avg_roc_score, 'Precision':avg_precision_score}\r\n",
    "\r\n",
    "    if print_scores:\r\n",
    "        print('accuracy of each fold - {}'.format(acc_acc_score))\r\n",
    "        print('Avg accuracy : {}'.format(avg_acc_score))\r\n",
    "        print('Avg f1 : {}'.format(avg_f1_score))\r\n",
    "        print('Avg roc auc : {}'.format(avg_roc_score))\r\n",
    "        print('Avg precision : {}'.format(avg_precision_score))\r\n",
    "        print('\\nAverage Classification Report for Cross-Validation\\n', classification_report(originalclass, predictedclass)) \r\n",
    "\r\n",
    "    pd.options.mode.chained_assignment = 'warn'  # default='warn\r\n",
    "    if return_avg_pred: \r\n",
    "        return originalclass, predictedclass, scores\r\n",
    "    return scores"
   ]
  },
  {
   "cell_type": "markdown",
   "metadata": {},
   "source": [
    "## \"Manual\" Grid Search with Mean Encoding Cross Validation"
   ]
  },
  {
   "cell_type": "code",
   "execution_count": 173,
   "metadata": {},
   "outputs": [
    {
     "name": "stdout",
     "output_type": "stream",
     "text": [
      "DecisionTreeClassifier(class_weight='balanced', criterion='entropy',\n",
      "                       max_depth=9, splitter='random')\n",
      "Average CV Scores from Best Model Grid Search\n",
      "{'Accuracy': 0.5458113651082849, 'f1': 0.3070944553291396, 'ROC': 0.543865144079668, 'Precision': 0.5981608382978661}\n"
     ]
    }
   ],
   "source": [
    "from itertools import product\r\n",
    "# Define Hyperparams to optimize\r\n",
    "criterion, splitter, max_depth = ['gini','entropy'], ['best','random'], [i for i in range(1,10,2)]\r\n",
    "listOLists = [criterion, splitter, max_depth]\r\n",
    "model = DecisionTreeClassifier(class_weight='balanced')\r\n",
    "best_score = 0\r\n",
    "\r\n",
    "for c, s, m in product(*listOLists):\r\n",
    "    model = DecisionTreeClassifier(criterion=c, splitter=s, max_depth=m, class_weight='balanced')\r\n",
    "    # Do Cross Validation with Mean encoding\r\n",
    "    originalclass, predictedclass, scores = mean_encoded_cross_val(5, model, X_train, y_train, return_avg_pred=True, print_scores=False)\r\n",
    "\r\n",
    "    # Get the best estimator\r\n",
    "    if scores['f1'] >= best_score:\r\n",
    "        best_model = model\r\n",
    "        best_model_cv_scores = scores\r\n",
    "        best_model_originalclass = originalclass\r\n",
    "        best_model_predictedclass = predictedclass\r\n",
    "\r\n",
    "print(best_model)\r\n",
    "print('Average CV Scores from Best Model Grid Search')\r\n",
    "print(best_model_cv_scores)"
   ]
  },
  {
   "cell_type": "markdown",
   "metadata": {},
   "source": [
    "## Getting CV Classification Report"
   ]
  },
  {
   "cell_type": "code",
   "execution_count": 174,
   "metadata": {},
   "outputs": [
    {
     "name": "stdout",
     "output_type": "stream",
     "text": [
      "accuracy of each fold - [0.7439931126242467, 0.5042088854247857, 0.4837621587700031, 0.6575021479340779, 0.7024180967238689]\n",
      "Avg accuracy : 0.6183768802953965\n",
      "Avg f1 : 0.2663147419630243\n",
      "Avg roc auc : 0.5300349695637027\n",
      "Avg precision : 0.4344388733841087\n",
      "\n",
      "Average Classification Report for Cross-Validation\n",
      "               precision    recall  f1-score   support\n",
      "\n",
      "           0       0.85      0.66      0.74     53125\n",
      "           1       0.21      0.44      0.28     10853\n",
      "\n",
      "    accuracy                           0.62     63978\n",
      "   macro avg       0.53      0.55      0.51     63978\n",
      "weighted avg       0.74      0.62      0.66     63978\n",
      "\n"
     ]
    }
   ],
   "source": [
    "originalclass, predictedclass, scores = mean_encoded_cross_val(5, best_model, X_train, y_train, return_avg_pred=True)"
   ]
  },
  {
   "cell_type": "code",
   "execution_count": 175,
   "metadata": {},
   "outputs": [
    {
     "data": {
      "text/plain": "<sklearn.metrics._plot.confusion_matrix.ConfusionMatrixDisplay at 0x233b840a4c0>"
     },
     "execution_count": 175,
     "metadata": {},
     "output_type": "execute_result"
    },
    {
     "data": {
      "text/plain": "Text(0.5, 1.0, 'Decision Tree Balanced Weights Dataset')"
     },
     "execution_count": 175,
     "metadata": {},
     "output_type": "execute_result"
    },
    {
     "data": {
      "image/png": "[encoded data removed]",
      "text/plain": "<Figure size 432x288 with 2 Axes>"
     },
     "metadata": {
      "needs_background": "light"
     },
     "output_type": "display_data"
    }
   ],
   "source": [
    "from sklearn.metrics import confusion_matrix, ConfusionMatrixDisplay\r\n",
    "import matplotlib.pyplot as plt\r\n",
    "import seaborn as sns\r\n",
    "display_labels=['Not Click (0)','Click (1)']\r\n",
    "cm = confusion_matrix(originalclass, predictedclass)\r\n",
    "disp = ConfusionMatrixDisplay(confusion_matrix=cm, display_labels=display_labels)\r\n",
    "disp.plot() \r\n",
    "plt.title('Decision Tree Balanced Weights Dataset')\r\n",
    "\r\n",
    "plt.show()"
   ]
  },
  {
   "cell_type": "markdown",
   "metadata": {},
   "source": [
    "# LAST CELL TO BE RUN"
   ]
  },
  {
   "cell_type": "code",
   "execution_count": 176,
   "metadata": {},
   "outputs": [
    {
     "name": "stdout",
     "output_type": "stream",
     "text": [
      "------- Mean Encoding changes -------\n",
      "site_id now has 186 categories vs 1461 before\n",
      "site_domain now has 155 categories vs 1333 before\n",
      "app_id now has 120 categories vs 1296 before\n",
      "device_id now has 12 categories vs 16837 before\n",
      "device_ip now has 101 categories vs 77833 before\n",
      "device_model now has 350 categories vs 3167 before\n"
     ]
    }
   ],
   "source": [
    "# Mean encoding for train set\r\n",
    "pd.options.mode.chained_assignment = None  # default='warn\r\n",
    "for i in mean_enc:\r\n",
    "    data_train = pd.concat([X_train, y_train], axis=1)\r\n",
    "    mean_encoder = data_train.groupby([i])[\"click\"].mean()\r\n",
    "    X_train[i] = X_train[i].map(mean_encoder)\r\n",
    "    # Transform the test set based on the train\r\n",
    "    X_test[i] = X_test[i].map(mean_encoder)\r\n",
    "    # Fill nan values that may arise due to mapping with the global average\r\n",
    "    X_test[i].fillna(mean_encoder.mean(), inplace = True)\r\n",
    "pd.options.mode.chained_assignment = 'warn'  # default='warn\r\n",
    "\r\n",
    "print('------- Mean Encoding changes -------')\r\n",
    "for i,v in enumerate(mean_enc):\r\n",
    "    print(f'{v} now has {[len(X_train[i].unique()) for i in mean_enc][i]} categories vs {len(df[v].unique())} before')"
   ]
  },
  {
   "cell_type": "code",
   "execution_count": 177,
   "metadata": {},
   "outputs": [
    {
     "data": {
      "text/plain": "<sklearn.metrics._plot.confusion_matrix.ConfusionMatrixDisplay at 0x233b60e15e0>"
     },
     "execution_count": 177,
     "metadata": {},
     "output_type": "execute_result"
    },
    {
     "data": {
      "image/png": "[encoded data removed]",
      "text/plain": "<Figure size 432x288 with 2 Axes>"
     },
     "metadata": {
      "needs_background": "light"
     },
     "output_type": "display_data"
    }
   ],
   "source": [
    "plot_confusion_matrix(best_model, X_test, y_test, display_labels=['Not Click (0)','Click (1)'])\r\n",
    "plt.show()"
   ]
  },
  {
   "cell_type": "markdown",
   "metadata": {},
   "source": [
    "# Other Experiments..."
   ]
  },
  {
   "cell_type": "markdown",
   "metadata": {},
   "source": [
    "## Do more variable encoding for the remaining categories?"
   ]
  },
  {
   "cell_type": "code",
   "execution_count": 111,
   "metadata": {},
   "outputs": [
    {
     "name": "stdout",
     "output_type": "stream",
     "text": [
      "click has 2 unique categories\n",
      "C1 has 7 unique categories\n",
      "banner_pos has 7 unique categories\n",
      "device_type has 4 unique categories\n",
      "device_conn_type has 4 unique categories\n",
      "C14 has 1713 unique categories\n",
      "C15 has 8 unique categories\n",
      "C16 has 9 unique categories\n",
      "C17 has 399 unique categories\n",
      "C18 has 4 unique categories\n",
      "C19 has 65 unique categories\n",
      "C20 has 157 unique categories\n",
      "C21 has 59 unique categories\n",
      "hour_of_day has 24 unique categories\n"
     ]
    }
   ],
   "source": [
    "for i,v in enumerate(encoded_categorical_columns):\r\n",
    "    print(f'{v} has {[len(data[i].unique()) for i in encoded_categorical_columns][i]} unique categories')"
   ]
  },
  {
   "cell_type": "markdown",
   "metadata": {},
   "source": [
    "# Cost Sensitive Learning vs Random Under Sampling"
   ]
  },
  {
   "cell_type": "code",
   "execution_count": 112,
   "metadata": {},
   "outputs": [],
   "source": [
    "from imblearn.pipeline import make_pipeline \r\n",
    "from sklearn.preprocessing import StandardScaler\r\n",
    "from sklearn.neighbors import KNeighborsClassifier\r\n",
    "from sklearn.tree import DecisionTreeClassifier\r\n",
    "from imblearn.under_sampling import RandomUnderSampler\r\n",
    "from sklearn.metrics import make_scorer\r\n",
    "from sklearn.metrics import classification_report\r\n",
    "\r\n",
    "pipe_1 = make_pipeline(StandardScaler(), DecisionTreeClassifier(class_weight='balanced'))\r\n",
    "pipe_2 = make_pipeline(StandardScaler(), RandomUnderSampler(replacement=False), DecisionTreeClassifier())"
   ]
  },
  {
   "cell_type": "code",
   "execution_count": 113,
   "metadata": {},
   "outputs": [
    {
     "name": "stdout",
     "output_type": "stream",
     "text": [
      "PIPE 1\n",
      "              precision    recall  f1-score   support\n",
      "\n",
      "           0       0.85      0.85      0.85     66402\n",
      "           1       0.26      0.26      0.26     13598\n",
      "\n",
      "    accuracy                           0.75     80000\n",
      "   macro avg       0.55      0.55      0.55     80000\n",
      "weighted avg       0.75      0.75      0.75     80000\n",
      "\n",
      "PIPE 2\n",
      "              precision    recall  f1-score   support\n",
      "\n",
      "           0       0.86      0.71      0.78    132804\n",
      "           1       0.23      0.42      0.30     27196\n",
      "\n",
      "    accuracy                           0.66    160000\n",
      "   macro avg       0.54      0.57      0.54    160000\n",
      "weighted avg       0.75      0.66      0.70    160000\n",
      "\n"
     ]
    }
   ],
   "source": [
    "# Variables for average classification report\r\n",
    "originalclass = []\r\n",
    "predictedclass = []\r\n",
    "\r\n",
    "#Make our customer score\r\n",
    "def classification_report_with_accuracy_score(y_true, y_pred):\r\n",
    "    originalclass.extend(y_true)\r\n",
    "    predictedclass.extend(y_pred)\r\n",
    "    return accuracy_score(y_true, y_pred) # return accuracy score\r\n",
    "\r\n",
    "from sklearn.model_selection import cross_validate\r\n",
    "scores1 = cross_validate(pipe_1,\r\n",
    "                        X_train, y_train, cv=10, return_estimator=True,\r\n",
    "                        scoring=make_scorer(classification_report_with_accuracy_score))\r\n",
    "                        # scoring=('roc_auc', 'recall','precision'))\r\n",
    "print('PIPE 1')\r\n",
    "print(classification_report(originalclass, predictedclass)) \r\n",
    "\r\n",
    "scores2 = cross_validate(pipe_2,\r\n",
    "                        X_train, y_train, cv=10, return_estimator=True,\r\n",
    "                        scoring=make_scorer(classification_report_with_accuracy_score))\r\n",
    "print('PIPE 2')\r\n",
    "\r\n",
    "# Average values in classification report for all folds in a K-fold Cross-validation  \r\n",
    "print(classification_report(originalclass, predictedclass)) "
   ]
  },
  {
   "cell_type": "code",
   "execution_count": 114,
   "metadata": {},
   "outputs": [
    {
     "data": {
      "text/plain": "Pipeline(steps=[('standardscaler', StandardScaler()),\n                ('decisiontreeclassifier',\n                 DecisionTreeClassifier(class_weight='balanced'))])"
     },
     "execution_count": 114,
     "metadata": {},
     "output_type": "execute_result"
    },
    {
     "data": {
      "text/plain": "Pipeline(steps=[('standardscaler', StandardScaler()),\n                ('randomundersampler', RandomUnderSampler()),\n                ('decisiontreeclassifier', DecisionTreeClassifier())])"
     },
     "execution_count": 114,
     "metadata": {},
     "output_type": "execute_result"
    }
   ],
   "source": [
    "pipe_1.fit(X_train, y_train)\r\n",
    "pipe_2.fit(X_train, y_train)"
   ]
  },
  {
   "cell_type": "code",
   "execution_count": 115,
   "metadata": {},
   "outputs": [
    {
     "data": {
      "text/plain": "<sklearn.metrics._plot.confusion_matrix.ConfusionMatrixDisplay at 0x233ceb72490>"
     },
     "execution_count": 115,
     "metadata": {},
     "output_type": "execute_result"
    },
    {
     "data": {
      "text/plain": "Text(0.5, 1.0, 'Decision Tree Balanced Weights Dataset')"
     },
     "execution_count": 115,
     "metadata": {},
     "output_type": "execute_result"
    },
    {
     "data": {
      "text/plain": "<sklearn.metrics._plot.confusion_matrix.ConfusionMatrixDisplay at 0x233ceb72b80>"
     },
     "execution_count": 115,
     "metadata": {},
     "output_type": "execute_result"
    },
    {
     "data": {
      "text/plain": "Text(0.5, 1.0, 'Decision Tree Undersampling Majority Class')"
     },
     "execution_count": 115,
     "metadata": {},
     "output_type": "execute_result"
    },
    {
     "data": {
      "image/png": "[encoded data removed]",
      "text/plain": "<Figure size 432x288 with 2 Axes>"
     },
     "metadata": {
      "needs_background": "light"
     },
     "output_type": "display_data"
    },
    {
     "data": {
      "image/png": "[encoded data removed]",
      "text/plain": "<Figure size 432x288 with 2 Axes>"
     },
     "metadata": {
      "needs_background": "light"
     },
     "output_type": "display_data"
    }
   ],
   "source": [
    "from sklearn.metrics import plot_confusion_matrix\r\n",
    "import matplotlib.pyplot as plt\r\n",
    "plot_confusion_matrix(pipe_1, X_test, y_test, display_labels=['Not Click (0)','Click (1)'])\r\n",
    "plt.title('Decision Tree Balanced Weights Dataset')\r\n",
    "\r\n",
    "plot_confusion_matrix(pipe_2, X_test, y_test, display_labels=['Not Click (0)','Click (1)'])\r\n",
    "plt.title('Decision Tree Undersampling Majority Class')\r\n",
    "\r\n",
    "plt.show()"
   ]
  }
 ],
 "metadata": {
  "kernelspec": {
   "display_name": "Python 3.8.8 64-bit ('mlcourse': conda)",
   "name": "python388jvsc74a57bd0e4bff5b682aa07adb254283e21d36547e3dbb28a7d578473d3b997b4eaaa90c6"
  },
  "language_info": {
   "codemirror_mode": {
    "name": "ipython",
    "version": 3
   },
   "file_extension": ".py",
   "mimetype": "text/x-python",
   "name": "python",
   "nbconvert_exporter": "python",
   "pygments_lexer": "ipython3",
   "version": "3.8.8"
  },
  "orig_nbformat": 3
 },
 "nbformat": 4,
 "nbformat_minor": 2
}