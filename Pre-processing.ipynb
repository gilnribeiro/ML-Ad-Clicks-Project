{
 "cells": [
  {
   "cell_type": "code",
   "execution_count": 1,
   "metadata": {},
   "outputs": [],
   "source": [
    "import pandas as pd\n",
    "import numpy as np\n",
    "# allow multiple outputs per cell\n",
    "from IPython.core.interactiveshell import InteractiveShell\n",
    "InteractiveShell.ast_node_interactivity = \"all\""
   ]
  },
  {
   "cell_type": "code",
   "execution_count": 2,
   "metadata": {},
   "outputs": [],
   "source": [
    "df = pd.read_csv(\"ad_clicks_100k_Treated.csv\")\n",
    "df.drop(columns=\"Unnamed: 0\", inplace=True)"
   ]
  },
  {
   "cell_type": "markdown",
   "metadata": {},
   "source": [
    "### Drop features that will not go into the model\n",
    "- `id` (We do not need the variable ID as predictor, it does not make sense to use)\n",
    "- `hour` (because hour was broken down into (day, weekday, hour_of_day)) \n",
    "- `day` (because we find that it will add no significant predictive value that makes sense in any future application, i.e. the dataset covers 10 days of the year and we have no way to know if any of those days is representative of the year, or if there was something exceptional happening. By using `hour_of_day` and `weekday` we average these values and thus make this possible effect less significant)   "
   ]
  },
  {
   "cell_type": "markdown",
   "metadata": {},
   "source": [
    "## Pre-processing:\n",
    "- One Hot encoding for low cardinality features \n",
    "- Label encoding for medium cardinality features\n",
    "- Mean encoding for high cardinality features"
   ]
  },
  {
   "cell_type": "code",
   "execution_count": 6,
   "metadata": {},
   "outputs": [],
   "source": [
    "from sklearn.preprocessing import OneHotEncoder\n",
    "from sklearn.preprocessing import LabelEncoder\n",
    "from sklearn.compose import make_column_transformer"
   ]
  },
  {
   "cell_type": "code",
   "execution_count": 7,
   "metadata": {},
   "outputs": [],
   "source": [
    "# Split into categorical type \"O\" and already encoded features\n",
    "categorical_columns = [i for i in list(df.columns) if df[i].dtypes in [\"O\"] and i not in ['id','hour','day']]\n",
    "encoded_categorical_columns = [i for i in list(df.columns) if df[i].dtypes not in [\"O\"] and i not in ['id','hour','day']]"
   ]
  },
  {
   "cell_type": "code",
   "execution_count": 10,
   "metadata": {},
   "outputs": [
    {
     "data": {
      "text/plain": "LabelEncoder()"
     },
     "execution_count": 10,
     "metadata": {},
     "output_type": "execute_result"
    },
    {
     "data": {
      "text/plain": "LabelEncoder()"
     },
     "execution_count": 10,
     "metadata": {},
     "output_type": "execute_result"
    },
    {
     "data": {
      "text/plain": "LabelEncoder()"
     },
     "execution_count": 10,
     "metadata": {},
     "output_type": "execute_result"
    },
    {
     "data": {
      "text/plain": "LabelEncoder()"
     },
     "execution_count": 10,
     "metadata": {},
     "output_type": "execute_result"
    },
    {
     "data": {
      "text/plain": "LabelEncoder()"
     },
     "execution_count": 10,
     "metadata": {},
     "output_type": "execute_result"
    },
    {
     "data": {
      "text/plain": "LabelEncoder()"
     },
     "execution_count": 10,
     "metadata": {},
     "output_type": "execute_result"
    },
    {
     "data": {
      "text/plain": "LabelEncoder()"
     },
     "execution_count": 10,
     "metadata": {},
     "output_type": "execute_result"
    },
    {
     "data": {
      "text/plain": "LabelEncoder()"
     },
     "execution_count": 10,
     "metadata": {},
     "output_type": "execute_result"
    },
    {
     "data": {
      "text/plain": "LabelEncoder()"
     },
     "execution_count": 10,
     "metadata": {},
     "output_type": "execute_result"
    },
    {
     "name": "stdout",
     "output_type": "stream",
     "text": [
      "Previus Dataset Shape ->>  (100000, 27)\n",
      "Shape After Encoding  ->>  (100000, 34) \n",
      "\n"
     ]
    }
   ],
   "source": [
    "data = df.copy()\n",
    "one_hot = []\n",
    "label_enc = []\n",
    "mean_enc = []\n",
    "for i in categorical_columns:\n",
    "    if len(df[i].unique()) <= 15:\n",
    "        # One hot encoding\n",
    "        one_hot.append(i)\n",
    "        data = pd.concat([data, pd.get_dummies(df[i], prefix='oneHot')],axis=1)\n",
    "    elif 100 >= len(df[i].unique()) > 15:\n",
    "        # Label encoding\n",
    "        label_enc.append(i)\n",
    "        label_encoder = []\n",
    "        le = LabelEncoder()\n",
    "        le.fit(data[i])    \n",
    "        label_encoder.append(le)\n",
    "        data[i] = le.transform(data[i])\n",
    "    elif len(df[i].unique()) > 100:\n",
    "        # Mean encoding\n",
    "        mean_enc.append(i)\n",
    "        mean_encoder = []\n",
    "        le = LabelEncoder()\n",
    "        le.fit(data[i])    \n",
    "        mean_encoder.append(le)\n",
    "        data[i] = le.transform(data[i])\n",
    "        # mean_encoder_i = data.groupby([i])[\"click\"].mean().to_dict()\n",
    "        # data[i] = data[i].map(mean_encoder_i)\n",
    "\n",
    "print('Previus Dataset Shape ->> ', df.shape)\n",
    "print('Shape After Encoding  ->> ', data.shape, '\\n')"
   ]
  },
  {
   "cell_type": "markdown",
   "metadata": {},
   "source": [
    "## Split the Dataset"
   ]
  },
  {
   "cell_type": "code",
   "execution_count": 11,
   "metadata": {},
   "outputs": [
    {
     "data": {
      "text/plain": "(80000, 30)"
     },
     "execution_count": 11,
     "metadata": {},
     "output_type": "execute_result"
    },
    {
     "data": {
      "text/plain": "(80000,)"
     },
     "execution_count": 11,
     "metadata": {},
     "output_type": "execute_result"
    },
    {
     "data": {
      "text/plain": "(20000, 30)"
     },
     "execution_count": 11,
     "metadata": {},
     "output_type": "execute_result"
    },
    {
     "data": {
      "text/plain": "(20000,)"
     },
     "execution_count": 11,
     "metadata": {},
     "output_type": "execute_result"
    }
   ],
   "source": [
    "from sklearn.model_selection import train_test_split\n",
    "\n",
    "X = data.drop(columns=['click','id','hour','weekday'])\n",
    "y = data['click']\n",
    "\n",
    "X_train, X_test, y_train, y_test = train_test_split(X, y, random_state=42, test_size=0.2)\n",
    "X_train.shape\n",
    "y_train.shape\n",
    "X_test.shape\n",
    "y_test.shape"
   ]
  },
  {
   "cell_type": "code",
   "execution_count": 12,
   "metadata": {},
   "outputs": [],
   "source": [
    "from sklearn.model_selection import KFold \n",
    "from sklearn.model_selection import StratifiedKFold\n",
    "from sklearn.linear_model import LogisticRegression\n",
    "from sklearn.metrics import accuracy_score, f1_score, roc_auc_score, precision_score\n",
    "from sklearn.tree import DecisionTreeClassifier\n",
    "from sklearn.metrics import classification_report\n",
    "    \n",
    "def mean_encoded_cross_val(k, model, X, y, return_avg_pred=False, print_scores=True):\n",
    "    \"\"\"\n",
    "    :parameter: k -> number of folds for cross validation\n",
    "    :parameter: model -> (e.g: DecisionTreeClassifier())\n",
    "    :parameter: X -> X_train from previous split\n",
    "    :parameter: y -> y_train from previous split\n",
    "    :parameter: return_avg_pred -> Return the original class and predicted class used to plot the average classification report\n",
    "                returns a tuple (originalclass, predictedclass)\n",
    "\n",
    "    \"\"\"\n",
    "    pd.options.mode.chained_assignment = None  # default='warn\n",
    "\n",
    "    skf = StratifiedKFold(n_splits=k) #, random_state=42, shuffle=True)\n",
    "    \n",
    "    acc_acc_score = []\n",
    "    acc_f1_score = []\n",
    "    acc_roc_auc_score = []\n",
    "    acc_precision_score = []\n",
    "    \n",
    "    # For Classification Report\n",
    "    originalclass = []\n",
    "    predictedclass = []\n",
    "    \n",
    "    for train_index , test_index in skf.split(X,y):\n",
    "        X_train , X_test = X.loc[X.index.intersection(train_index)], X.loc[X.index.intersection(test_index)]\n",
    "        y_train , y_test = y.loc[y.index.intersection(train_index)], y.loc[y.index.intersection(test_index)]\n",
    "\n",
    "        # Mean Encoding within CV to avoid data leakage\n",
    "        for i in mean_enc:\n",
    "            data_train = pd.concat([X_train, y_train], axis=1)\n",
    "            mean_encoder = data_train.groupby([i])[\"click\"].mean()\n",
    "            X_train[i] = X_train[i].map(mean_encoder)\n",
    "            # Transform the test set based on the train\n",
    "            X_test[i] = X_test[i].map(mean_encoder)\n",
    "            # Fill nan values that may arise due to mapping with the global average\n",
    "            X_test[i].fillna(mean_encoder.mean(), inplace = True)\n",
    "\n",
    "        model.fit(X_train, y_train)\n",
    "        y_pred = model.predict(X_test)\n",
    "\n",
    "        # Accumulate all folds\n",
    "        originalclass.extend(y_test)\n",
    "        predictedclass.extend(y_pred)\n",
    "\n",
    "        # Compute Scores\n",
    "        acc = accuracy_score(y_pred , y_test)\n",
    "        f1 = f1_score(y_pred, y_test)\n",
    "        roc = roc_auc_score(y_pred, y_test)\n",
    "        precision = precision_score(y_pred, y_test)\n",
    "\n",
    "        acc_acc_score.append(acc)\n",
    "        acc_f1_score.append(f1)\n",
    "        acc_roc_auc_score.append(roc)\n",
    "        acc_precision_score.append(precision)\n",
    "\n",
    "    avg_acc_score = sum(acc_acc_score)/k\n",
    "    avg_f1_score = sum(acc_f1_score)/k\n",
    "    avg_roc_score = sum(acc_roc_auc_score)/k\n",
    "    avg_precision_score = sum(acc_precision_score)/k\n",
    "\n",
    "    scores = {'Accuracy':avg_acc_score, 'f1':avg_f1_score, 'ROC':avg_roc_score, 'Precision':avg_precision_score}\n",
    "\n",
    "    if print_scores:\n",
    "        print('accuracy of each fold - {}'.format(acc_acc_score))\n",
    "        print('Avg accuracy : {}'.format(avg_acc_score))\n",
    "        print('Avg f1 : {}'.format(avg_f1_score))\n",
    "        print('Avg roc auc : {}'.format(avg_roc_score))\n",
    "        print('Avg precision : {}'.format(avg_precision_score))\n",
    "        print('\\nAverage Classification Report for Cross-Validation\\n', classification_report(originalclass, predictedclass)) \n",
    "\n",
    "    pd.options.mode.chained_assignment = 'warn'  # default='warn\n",
    "    if return_avg_pred: \n",
    "        return originalclass, predictedclass, scores\n",
    "    return scores"
   ]
  },
  {
   "cell_type": "markdown",
   "metadata": {},
   "source": [
    "## \"Manual\" Grid Search with Mean Encoding Cross Validation"
   ]
  },
  {
   "cell_type": "code",
   "execution_count": 13,
   "metadata": {},
   "outputs": [
    {
     "name": "stdout",
     "output_type": "stream",
     "text": [
      "DecisionTreeClassifier(class_weight='balanced', criterion='entropy',\n",
      "                       max_depth=9, splitter='random')\n",
      "Average CV Scores from Best Model Grid Search\n",
      "{'Accuracy': 0.6522910170454816, 'f1': 0.2957881987134888, 'ROC': 0.5515110397371843, 'Precision': 0.4423008672490322}\n"
     ]
    }
   ],
   "source": [
    "from itertools import product\n",
    "# Define Hyperparams to optimize\n",
    "criterion, splitter, max_depth = ['gini','entropy'], ['best','random'], [i for i in range(1,10,2)]\n",
    "listOLists = [criterion, splitter, max_depth]\n",
    "model = DecisionTreeClassifier(class_weight='balanced')\n",
    "best_score = 0\n",
    "\n",
    "for c, s, m in product(*listOLists):\n",
    "    model = DecisionTreeClassifier(criterion=c, splitter=s, max_depth=m, class_weight='balanced')\n",
    "    # Do Cross Validation with Mean encoding\n",
    "    originalclass, predictedclass, scores = mean_encoded_cross_val(5, model, X_train, y_train, return_avg_pred=True, print_scores=False)\n",
    "\n",
    "    # Get the best estimator\n",
    "    if scores['f1'] >= best_score:\n",
    "        best_model = model\n",
    "        best_model_cv_scores = scores\n",
    "        best_model_originalclass = originalclass\n",
    "        best_model_predictedclass = predictedclass\n",
    "\n",
    "print(best_model)\n",
    "print('Average CV Scores from Best Model Grid Search')\n",
    "print(best_model_cv_scores)"
   ]
  },
  {
   "cell_type": "markdown",
   "metadata": {},
   "source": [
    "# KNN Neighbors Classifier"
   ]
  },
  {
   "cell_type": "markdown",
   "metadata": {},
   "source": [
    "As we understood KNN (K-Nearest Neighbor) is a simple supervised classification algorithm we can use to assign a class to new data point.  \n",
    "Our data seems to be both unsupervised and supervised, but our target \"clicks\" is well defined. Hence, we decided to implement this model as well, in order to see if it performs better than the previous ones."
   ]
  },
  {
   "cell_type": "code",
   "execution_count": 70,
   "metadata": {},
   "outputs": [],
   "source": [
    "from sklearn.neighbors import KNeighborsClassifier\r\n",
    "from sklearn.linear_model import LogisticRegression\r\n",
    "from sklearn.metrics import mean_squared_error, confusion_matrix, accuracy_score, roc_auc_score, precision_score, recall_score, f1_score, roc_curve, auc\r\n",
    "from sklearn.model_selection import  cross_val_score\r\n",
    "from sklearn.pipeline import Pipeline\r\n",
    "from imblearn.pipeline import make_pipeline \r\n",
    "from sklearn.preprocessing import MinMaxScaler, StandardScaler\r\n",
    "from sklearn.model_selection import GridSearchCV\r\n",
    "from imblearn.under_sampling import RandomUnderSampler\r\n",
    "from imblearn.over_sampling import RandomOverSampler\r\n",
    "from imblearn.over_sampling import SMOTE\r\n",
    "from tqdm import tqdm"
   ]
  },
  {
   "cell_type": "code",
   "execution_count": 73,
   "metadata": {},
   "outputs": [
    {
     "name": "stderr",
     "output_type": "stream",
     "text": [
      "6it [06:55, 69.20s/it]"
     ]
    },
    {
     "name": "stdout",
     "output_type": "stream",
     "text": [
      "Pipeline(steps=[('standardscaler', StandardScaler()), ('smote', SMOTE()),\n",
      "                ('kneighborsclassifier',\n",
      "                 KNeighborsClassifier(weights='distance'))])\n",
      "Average CV Scores from Best Model Grid Search\n",
      "{'Accuracy': 0.7810524220990924, 'f1': 0.20071723203322983, 'ROC': 0.5524762725348064, 'Precision': 0.1621361952212154}\n"
     ]
    },
    {
     "name": "stderr",
     "output_type": "stream",
     "text": [
      "\n"
     ]
    }
   ],
   "source": [
    "from itertools import product\r\n",
    "# Define Hyperparams to optimize\r\n",
    "# param_grid = [\r\n",
    "#     {'classifier': [KNeighborsClassifier()], \r\n",
    "#     'preprocessing': [MinMaxScaler(), None],\r\n",
    "#     'balancing': [RandomUnderSampler(replacement=False), RandomOverSampler(replacement=False), SMOTE(replacement=False)],\r\n",
    "#     'classifier__n_neighbors': range(1, 10,2), \r\n",
    "#     'classifier__weights': ['uniform', 'distance']}]\r\n",
    "    \r\n",
    "preprocessing, balancing = [StandardScaler()], [RandomUnderSampler(), RandomOverSampler(), SMOTE()] \r\n",
    "# classifier__n_neighbors, classifier__weights = range(1, 10,2), ['uniform', 'distance']\r\n",
    "classifier__n_neighbors, classifier__weights = [3, 5], ['distance']\r\n",
    "\r\n",
    "\r\n",
    "listOLists = [preprocessing, balancing, classifier__n_neighbors, classifier__weights]\r\n",
    "best_score = 0\r\n",
    "\r\n",
    "for preprocessing, balancing, n_neighbors, weights in tqdm(product(*listOLists)):\r\n",
    "    model = make_pipeline(preprocessing, balancing, KNeighborsClassifier(n_neighbors=n_neighbors, weights=weights))\r\n",
    "    # Do Cross Validation with Mean encoding\r\n",
    "    originalclass, predictedclass, scores = mean_encoded_cross_val(5, model, X_train, y_train, return_avg_pred=True, print_scores=False)\r\n",
    "\r\n",
    "    # Get the best estimator\r\n",
    "    if scores['f1'] >= best_score:\r\n",
    "        best_model = model\r\n",
    "        best_model_cv_scores = scores\r\n",
    "        best_model_originalclass = originalclass\r\n",
    "        best_model_predictedclass = predictedclass\r\n",
    "\r\n",
    "print(best_model)\r\n",
    "print('Average CV Scores from Best Model Grid Search')\r\n",
    "print(best_model_cv_scores)"
   ]
  },
  {
   "cell_type": "markdown",
   "metadata": {},
   "source": [
    "## Getting CV Classification Report and a Confusion Matrix of all the Original vs Predicted Classes of the Cross Validation "
   ]
  },
  {
   "cell_type": "code",
   "execution_count": 74,
   "metadata": {},
   "outputs": [
    {
     "name": "stdout",
     "output_type": "stream",
     "text": [
      "accuracy of each fold - [0.7836737888393207, 0.7746687451286048, 0.7804361468465641, 0.7787237366242287, 0.781591263650546]\n",
      "Avg accuracy : 0.7798187362178528\n",
      "Avg f1 : 0.19959481196102874\n",
      "Avg roc auc : 0.5506621709930666\n",
      "Avg precision : 0.1618867835376831\n",
      "\n",
      "Average Classification Report for Cross-Validation\n",
      "               precision    recall  f1-score   support\n",
      "\n",
      "           0       0.84      0.91      0.87     53125\n",
      "           1       0.26      0.16      0.20     10853\n",
      "\n",
      "    accuracy                           0.78     63978\n",
      "   macro avg       0.55      0.53      0.54     63978\n",
      "weighted avg       0.74      0.78      0.76     63978\n",
      "\n"
     ]
    }
   ],
   "source": [
    "originalclass, predictedclass, scores = mean_encoded_cross_val(5, best_model, X_train, y_train, return_avg_pred=True)"
   ]
  },
  {
   "cell_type": "code",
   "execution_count": 75,
   "metadata": {},
   "outputs": [
    {
     "data": {
      "text/plain": "<sklearn.metrics._plot.confusion_matrix.ConfusionMatrixDisplay at 0x1e24ba40c10>"
     },
     "execution_count": 75,
     "metadata": {},
     "output_type": "execute_result"
    },
    {
     "data": {
      "text/plain": "Text(0.5, 1.0, 'Decision Tree Balanced Weights Dataset')"
     },
     "execution_count": 75,
     "metadata": {},
     "output_type": "execute_result"
    },
    {
     "data": {
      "image/png": "[encoded data removed]",
      "text/plain": "<Figure size 432x288 with 2 Axes>"
     },
     "metadata": {
      "needs_background": "light"
     },
     "output_type": "display_data"
    }
   ],
   "source": [
    "from sklearn.metrics import confusion_matrix, ConfusionMatrixDisplay\n",
    "import matplotlib.pyplot as plt\n",
    "import seaborn as sns\n",
    "display_labels=['Not Click (0)','Click (1)']\n",
    "cm = confusion_matrix(originalclass, predictedclass)\n",
    "disp = ConfusionMatrixDisplay(confusion_matrix=cm, display_labels=display_labels)\n",
    "disp.plot() \n",
    "plt.title('Decision Tree Balanced Weights Dataset')\n",
    "\n",
    "plt.show()"
   ]
  },
  {
   "cell_type": "markdown",
   "metadata": {},
   "source": [
    "## CATBOOST (work in progress)"
   ]
  },
  {
   "cell_type": "code",
   "execution_count": null,
   "metadata": {},
   "outputs": [],
   "source": [
    "from catboost import CatBoostClassifier\r\n",
    "from itertools import product\r\n",
    "# Define Hyperparams to optimize\r\n",
    "# param_grid= {'learning_rate': [0.1,0.05,0.03,0.01],\r\n",
    "#         'depth': [3, 5,7],\r\n",
    "#         'l2_leaf_reg': [1, 3, 5, 7, 9] }\r\n",
    "    \r\n",
    "learning_rate, depth, balancing = [0.1,0.05,0.03,0.01], [3, 5,7], [RandomUnderSampler(), RandomOverSampler(), SMOTE()] \r\n",
    "l2_leaf_reg = [1, 3, 5, 7, 9]\r\n",
    "\r\n",
    "listOLists = [learning_rate, depth, balancing, l2_leaf_reg]\r\n",
    "best_score = 0\r\n",
    "\r\n",
    "for learning_rate, depth, balancing, l2_leaf_reg in tqdm(product(*listOLists)):\r\n",
    "    model = make_pipeline(preprocessing, balancing, CatBoostClassifier(verbose=False, iterations=100, learning_rate=learning_rate, depth=depth))\r\n",
    "    # Do Cross Validation with Mean encoding\r\n",
    "    originalclass, predictedclass, scores = mean_encoded_cross_val(5, model, X_train, y_train, return_avg_pred=True, print_scores=False)\r\n",
    "\r\n",
    "    # Get the best estimator\r\n",
    "    if scores['f1'] >= best_score:\r\n",
    "        best_model = model\r\n",
    "        best_model_cv_scores = scores\r\n",
    "        best_model_originalclass = originalclass\r\n",
    "        best_model_predictedclass = predictedclass\r\n",
    "\r\n",
    "print(best_model)\r\n",
    "print('Average CV Scores from Best Model Grid Search')\r\n",
    "print(best_model_cv_scores)"
   ]
  },
  {
   "cell_type": "markdown",
   "metadata": {},
   "source": [
    "## Choosing the Best Model (Work in progress)\r\n",
    "- Metrics: `f1 score` and/or `roc_auc`"
   ]
  },
  {
   "cell_type": "code",
   "execution_count": null,
   "metadata": {},
   "outputs": [],
   "source": [
    "from itertools import product\r\n",
    "from itertools import combinations\r\n",
    "# Define Hyperparams to optimize\r\n",
    "# param_grid= {'Choose Best Model': [best_model_knn, best_model_dt, best_model_catb] }\r\n",
    "all_models = [best_model_knn, best_model_dt, best_model_catb]\r\n",
    "listOLists = [all_models]\r\n",
    "best_score = 0\r\n",
    "\r\n",
    "for model in tqdm(product(*listOLists)):\r\n",
    "    model = make_pipeline(model)\r\n",
    "    # Do Cross Validation with Mean encoding\r\n",
    "    originalclass, predictedclass, scores = mean_encoded_cross_val(5, model, X_train, y_train, return_avg_pred=True, print_scores=False)\r\n",
    "\r\n",
    "    # Get the best estimator\r\n",
    "    if scores['f1'] >= best_score:\r\n",
    "        best_model = model\r\n",
    "        best_model_cv_scores = scores\r\n",
    "        best_model_originalclass = originalclass\r\n",
    "        best_model_predictedclass = predictedclass\r\n",
    "\r\n",
    "print(best_model)\r\n",
    "print('Average CV Scores from Best Model Grid Search')\r\n",
    "print(best_model_cv_scores)"
   ]
  },
  {
   "cell_type": "markdown",
   "metadata": {},
   "source": [
    "# Test Model (LAST CELL TO BE RUN)"
   ]
  },
  {
   "cell_type": "code",
   "execution_count": 176,
   "metadata": {},
   "outputs": [
    {
     "name": "stdout",
     "output_type": "stream",
     "text": [
      "------- Mean Encoding changes -------\n",
      "site_id now has 186 categories vs 1461 before\n",
      "site_domain now has 155 categories vs 1333 before\n",
      "app_id now has 120 categories vs 1296 before\n",
      "device_id now has 12 categories vs 16837 before\n",
      "device_ip now has 101 categories vs 77833 before\n",
      "device_model now has 350 categories vs 3167 before\n"
     ]
    }
   ],
   "source": [
    "# Mean encoding for train set\n",
    "pd.options.mode.chained_assignment = None  # default='warn\n",
    "for i in mean_enc:\n",
    "    data_train = pd.concat([X_train, y_train], axis=1)\n",
    "    mean_encoder = data_train.groupby([i])[\"click\"].mean()\n",
    "    X_train[i] = X_train[i].map(mean_encoder)\n",
    "    # Transform the test set based on the train\n",
    "    X_test[i] = X_test[i].map(mean_encoder)\n",
    "    # Fill nan values that may arise due to mapping with the global average\n",
    "    X_test[i].fillna(mean_encoder.mean(), inplace = True)\n",
    "pd.options.mode.chained_assignment = 'warn'  # default='warn\n",
    "\n",
    "print('------- Mean Encoding changes -------')\n",
    "for i,v in enumerate(mean_enc):\n",
    "    print(f'{v} now has {[len(X_train[i].unique()) for i in mean_enc][i]} categories vs {len(df[v].unique())} before')"
   ]
  },
  {
   "cell_type": "code",
   "execution_count": 177,
   "metadata": {},
   "outputs": [
    {
     "data": {
      "text/plain": [
       "<sklearn.metrics._plot.confusion_matrix.ConfusionMatrixDisplay at 0x233b60e15e0>"
      ]
     },
     "execution_count": 177,
     "metadata": {},
     "output_type": "execute_result"
    },
    {
     "data": {
      "image/png": "[encoded data removed]",
      "text/plain": [
       "<Figure size 432x288 with 2 Axes>"
      ]
     },
     "metadata": {
      "needs_background": "light"
     },
     "output_type": "display_data"
    }
   ],
   "source": [
    "plot_confusion_matrix(best_model, X_test, y_test, display_labels=['Not Click (0)','Click (1)'])\n",
    "plt.show()"
   ]
  },
  {
   "cell_type": "markdown",
   "metadata": {},
   "source": [
    "# Other Experiments..."
   ]
  },
  {
   "cell_type": "markdown",
   "metadata": {},
   "source": [
    "## Do more variable encoding for the remaining categories?"
   ]
  },
  {
   "cell_type": "code",
   "execution_count": 111,
   "metadata": {},
   "outputs": [
    {
     "name": "stdout",
     "output_type": "stream",
     "text": [
      "click has 2 unique categories\n",
      "C1 has 7 unique categories\n",
      "banner_pos has 7 unique categories\n",
      "device_type has 4 unique categories\n",
      "device_conn_type has 4 unique categories\n",
      "C14 has 1713 unique categories\n",
      "C15 has 8 unique categories\n",
      "C16 has 9 unique categories\n",
      "C17 has 399 unique categories\n",
      "C18 has 4 unique categories\n",
      "C19 has 65 unique categories\n",
      "C20 has 157 unique categories\n",
      "C21 has 59 unique categories\n",
      "hour_of_day has 24 unique categories\n"
     ]
    }
   ],
   "source": [
    "for i,v in enumerate(encoded_categorical_columns):\n",
    "    print(f'{v} has {[len(data[i].unique()) for i in encoded_categorical_columns][i]} unique categories')"
   ]
  },
  {
   "cell_type": "markdown",
   "metadata": {},
   "source": [
    "# Cost Sensitive Learning vs Random Under Sampling"
   ]
  },
  {
   "cell_type": "code",
   "execution_count": 112,
   "metadata": {},
   "outputs": [],
   "source": [
    "from imblearn.pipeline import make_pipeline \n",
    "from sklearn.preprocessing import StandardScaler\n",
    "from sklearn.neighbors import KNeighborsClassifier\n",
    "from sklearn.tree import DecisionTreeClassifier\n",
    "from imblearn.under_sampling import RandomUnderSampler\n",
    "from sklearn.metrics import make_scorer\n",
    "from sklearn.metrics import classification_report\n",
    "\n",
    "pipe_1 = make_pipeline(StandardScaler(), DecisionTreeClassifier(class_weight='balanced'))\n",
    "pipe_2 = make_pipeline(StandardScaler(), RandomUnderSampler(replacement=False), DecisionTreeClassifier())"
   ]
  },
  {
   "cell_type": "code",
   "execution_count": 113,
   "metadata": {},
   "outputs": [
    {
     "name": "stdout",
     "output_type": "stream",
     "text": [
      "PIPE 1\n",
      "              precision    recall  f1-score   support\n",
      "\n",
      "           0       0.85      0.85      0.85     66402\n",
      "           1       0.26      0.26      0.26     13598\n",
      "\n",
      "    accuracy                           0.75     80000\n",
      "   macro avg       0.55      0.55      0.55     80000\n",
      "weighted avg       0.75      0.75      0.75     80000\n",
      "\n",
      "PIPE 2\n",
      "              precision    recall  f1-score   support\n",
      "\n",
      "           0       0.86      0.71      0.78    132804\n",
      "           1       0.23      0.42      0.30     27196\n",
      "\n",
      "    accuracy                           0.66    160000\n",
      "   macro avg       0.54      0.57      0.54    160000\n",
      "weighted avg       0.75      0.66      0.70    160000\n",
      "\n"
     ]
    }
   ],
   "source": [
    "# Variables for average classification report\n",
    "originalclass = []\n",
    "predictedclass = []\n",
    "\n",
    "#Make our customer score\n",
    "def classification_report_with_accuracy_score(y_true, y_pred):\n",
    "    originalclass.extend(y_true)\n",
    "    predictedclass.extend(y_pred)\n",
    "    return accuracy_score(y_true, y_pred) # return accuracy score\n",
    "\n",
    "from sklearn.model_selection import cross_validate\n",
    "scores1 = cross_validate(pipe_1,\n",
    "                        X_train, y_train, cv=10, return_estimator=True,\n",
    "                        scoring=make_scorer(classification_report_with_accuracy_score))\n",
    "                        # scoring=('roc_auc', 'recall','precision'))\n",
    "print('PIPE 1')\n",
    "print(classification_report(originalclass, predictedclass)) \n",
    "\n",
    "scores2 = cross_validate(pipe_2,\n",
    "                        X_train, y_train, cv=10, return_estimator=True,\n",
    "                        scoring=make_scorer(classification_report_with_accuracy_score))\n",
    "print('PIPE 2')\n",
    "\n",
    "# Average values in classification report for all folds in a K-fold Cross-validation  \n",
    "print(classification_report(originalclass, predictedclass)) "
   ]
  },
  {
   "cell_type": "code",
   "execution_count": 114,
   "metadata": {},
   "outputs": [
    {
     "data": {
      "text/plain": [
       "Pipeline(steps=[('standardscaler', StandardScaler()),\n",
       "                ('decisiontreeclassifier',\n",
       "                 DecisionTreeClassifier(class_weight='balanced'))])"
      ]
     },
     "execution_count": 114,
     "metadata": {},
     "output_type": "execute_result"
    },
    {
     "data": {
      "text/plain": [
       "Pipeline(steps=[('standardscaler', StandardScaler()),\n",
       "                ('randomundersampler', RandomUnderSampler()),\n",
       "                ('decisiontreeclassifier', DecisionTreeClassifier())])"
      ]
     },
     "execution_count": 114,
     "metadata": {},
     "output_type": "execute_result"
    }
   ],
   "source": [
    "pipe_1.fit(X_train, y_train)\n",
    "pipe_2.fit(X_train, y_train)"
   ]
  },
  {
   "cell_type": "code",
   "execution_count": 115,
   "metadata": {},
   "outputs": [
    {
     "data": {
      "text/plain": [
       "<sklearn.metrics._plot.confusion_matrix.ConfusionMatrixDisplay at 0x233ceb72490>"
      ]
     },
     "execution_count": 115,
     "metadata": {},
     "output_type": "execute_result"
    },
    {
     "data": {
      "text/plain": [
       "Text(0.5, 1.0, 'Decision Tree Balanced Weights Dataset')"
      ]
     },
     "execution_count": 115,
     "metadata": {},
     "output_type": "execute_result"
    },
    {
     "data": {
      "text/plain": [
       "<sklearn.metrics._plot.confusion_matrix.ConfusionMatrixDisplay at 0x233ceb72b80>"
      ]
     },
     "execution_count": 115,
     "metadata": {},
     "output_type": "execute_result"
    },
    {
     "data": {
      "text/plain": [
       "Text(0.5, 1.0, 'Decision Tree Undersampling Majority Class')"
      ]
     },
     "execution_count": 115,
     "metadata": {},
     "output_type": "execute_result"
    },
    {
     "data": {
      "image/png": "[encoded data removed]",
      "text/plain": [
       "<Figure size 432x288 with 2 Axes>"
      ]
     },
     "metadata": {
      "needs_background": "light"
     },
     "output_type": "display_data"
    },
    {
     "data": {
      "image/png": "[encoded data removed]",
      "text/plain": [
       "<Figure size 432x288 with 2 Axes>"
      ]
     },
     "metadata": {
      "needs_background": "light"
     },
     "output_type": "display_data"
    }
   ],
   "source": [
    "from sklearn.metrics import plot_confusion_matrix\n",
    "import matplotlib.pyplot as plt\n",
    "plot_confusion_matrix(pipe_1, X_test, y_test, display_labels=['Not Click (0)','Click (1)'])\n",
    "plt.title('Decision Tree Balanced Weights Dataset')\n",
    "\n",
    "plot_confusion_matrix(pipe_2, X_test, y_test, display_labels=['Not Click (0)','Click (1)'])\n",
    "plt.title('Decision Tree Undersampling Majority Class')\n",
    "\n",
    "plt.show()"
   ]
  }
 ],
 "metadata": {
  "language_info": {},
  "orig_nbformat": 3
 },
 "nbformat": 4,
 "nbformat_minor": 2
}