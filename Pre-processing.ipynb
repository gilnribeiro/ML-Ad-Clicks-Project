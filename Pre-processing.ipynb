{
 "cells": [
  {
   "cell_type": "code",
   "execution_count": 1,
   "metadata": {},
   "outputs": [],
   "source": [
    "import pandas as pd\n",
    "import numpy as np\n",
    "# allow multiple outputs per cell\n",
    "from IPython.core.interactiveshell import InteractiveShell\n",
    "InteractiveShell.ast_node_interactivity = \"all\""
   ]
  },
  {
   "cell_type": "code",
   "execution_count": 2,
   "metadata": {},
   "outputs": [],
   "source": [
    "df = pd.read_csv(\"ad_clicks_100k_Treated.csv\")\n",
    "df.drop(columns=\"Unnamed: 0\", inplace=True)"
   ]
  },
  {
   "cell_type": "markdown",
   "metadata": {},
   "source": [
    "### Drop features that will not go into the model\n",
    "- `id` (We do not need the variable ID as predictor, it does not make sense to use)\n",
    "- `hour` (because hour was broken down into (day, weekday, hour_of_day)) \n",
    "- `day` (because we find that it will add no significant predictive value that makes sense in any future application, i.e. the dataset covers 10 days of the year and we have no way to know if any of those days is representative of the year, or if there was something exceptional happening. By using `hour_of_day` and `weekday` we average these values and thus make this possible effect less significant)   "
   ]
  },
  {
   "cell_type": "code",
   "execution_count": 3,
   "metadata": {},
   "outputs": [
    {
     "data": {
      "text/html": [
       "<div>\n",
       "<style scoped>\n",
       "    .dataframe tbody tr th:only-of-type {\n",
       "        vertical-align: middle;\n",
       "    }\n",
       "\n",
       "    .dataframe tbody tr th {\n",
       "        vertical-align: top;\n",
       "    }\n",
       "\n",
       "    .dataframe thead th {\n",
       "        text-align: right;\n",
       "    }\n",
       "</style>\n",
       "<table border=\"1\" class=\"dataframe\">\n",
       "  <thead>\n",
       "    <tr style=\"text-align: right;\">\n",
       "      <th></th>\n",
       "      <th>device_ip</th>\n",
       "    </tr>\n",
       "  </thead>\n",
       "  <tbody>\n",
       "    <tr>\n",
       "      <th>6b9769f2</th>\n",
       "      <td>106</td>\n",
       "    </tr>\n",
       "    <tr>\n",
       "      <th>431b3174</th>\n",
       "      <td>63</td>\n",
       "    </tr>\n",
       "    <tr>\n",
       "      <th>57cd4006</th>\n",
       "      <td>55</td>\n",
       "    </tr>\n",
       "    <tr>\n",
       "      <th>8a014cbb</th>\n",
       "      <td>44</td>\n",
       "    </tr>\n",
       "    <tr>\n",
       "      <th>9b1fe278</th>\n",
       "      <td>43</td>\n",
       "    </tr>\n",
       "    <tr>\n",
       "      <th>a8536f3a</th>\n",
       "      <td>41</td>\n",
       "    </tr>\n",
       "    <tr>\n",
       "      <th>75bb1b58</th>\n",
       "      <td>40</td>\n",
       "    </tr>\n",
       "    <tr>\n",
       "      <th>ceffea69</th>\n",
       "      <td>40</td>\n",
       "    </tr>\n",
       "    <tr>\n",
       "      <th>488a9a3e</th>\n",
       "      <td>39</td>\n",
       "    </tr>\n",
       "    <tr>\n",
       "      <th>b0070d9a</th>\n",
       "      <td>35</td>\n",
       "    </tr>\n",
       "  </tbody>\n",
       "</table>\n",
       "</div>"
      ],
      "text/plain": [
       "          device_ip\n",
       "6b9769f2        106\n",
       "431b3174         63\n",
       "57cd4006         55\n",
       "8a014cbb         44\n",
       "9b1fe278         43\n",
       "a8536f3a         41\n",
       "75bb1b58         40\n",
       "ceffea69         40\n",
       "488a9a3e         39\n",
       "b0070d9a         35"
      ]
     },
     "execution_count": 3,
     "metadata": {},
     "output_type": "execute_result"
    },
    {
     "data": {
      "text/html": [
       "<div>\n",
       "<style scoped>\n",
       "    .dataframe tbody tr th:only-of-type {\n",
       "        vertical-align: middle;\n",
       "    }\n",
       "\n",
       "    .dataframe tbody tr th {\n",
       "        vertical-align: top;\n",
       "    }\n",
       "\n",
       "    .dataframe thead th {\n",
       "        text-align: right;\n",
       "    }\n",
       "</style>\n",
       "<table border=\"1\" class=\"dataframe\">\n",
       "  <thead>\n",
       "    <tr style=\"text-align: right;\">\n",
       "      <th></th>\n",
       "      <th>device_id</th>\n",
       "    </tr>\n",
       "  </thead>\n",
       "  <tbody>\n",
       "    <tr>\n",
       "      <th>a99f214a</th>\n",
       "      <td>14391</td>\n",
       "    </tr>\n",
       "    <tr>\n",
       "      <th>0f7c61dc</th>\n",
       "      <td>46</td>\n",
       "    </tr>\n",
       "    <tr>\n",
       "      <th>c357dbff</th>\n",
       "      <td>24</td>\n",
       "    </tr>\n",
       "    <tr>\n",
       "      <th>3cdb4052</th>\n",
       "      <td>8</td>\n",
       "    </tr>\n",
       "    <tr>\n",
       "      <th>afeffc18</th>\n",
       "      <td>6</td>\n",
       "    </tr>\n",
       "    <tr>\n",
       "      <th>936e92fb</th>\n",
       "      <td>3</td>\n",
       "    </tr>\n",
       "    <tr>\n",
       "      <th>73b81e30</th>\n",
       "      <td>3</td>\n",
       "    </tr>\n",
       "    <tr>\n",
       "      <th>21b3e725</th>\n",
       "      <td>2</td>\n",
       "    </tr>\n",
       "    <tr>\n",
       "      <th>b09da1c4</th>\n",
       "      <td>2</td>\n",
       "    </tr>\n",
       "    <tr>\n",
       "      <th>50856ea7</th>\n",
       "      <td>2</td>\n",
       "    </tr>\n",
       "  </tbody>\n",
       "</table>\n",
       "</div>"
      ],
      "text/plain": [
       "          device_id\n",
       "a99f214a      14391\n",
       "0f7c61dc         46\n",
       "c357dbff         24\n",
       "3cdb4052          8\n",
       "afeffc18          6\n",
       "936e92fb          3\n",
       "73b81e30          3\n",
       "21b3e725          2\n",
       "b09da1c4          2\n",
       "50856ea7          2"
      ]
     },
     "execution_count": 3,
     "metadata": {},
     "output_type": "execute_result"
    }
   ],
   "source": [
    "pd.DataFrame(df.loc[df[\"click\"] == 1, ['device_ip','click']]['device_ip'].value_counts()).head(10)\n",
    "pd.DataFrame(df.loc[df[\"click\"] == 1, ['device_id','click']]['device_id'].value_counts()).head(10)\n",
    "# All id variables are weird\n"
   ]
  },
  {
   "cell_type": "markdown",
   "metadata": {},
   "source": [
    "## Pre-processing:\n",
    "- One Hot encoding for low cardinality features \n",
    "- Label encoding for medium cardinality features\n",
    "- Mean encoding for high cardinality features"
   ]
  },
  {
   "cell_type": "code",
   "execution_count": 4,
   "metadata": {},
   "outputs": [],
   "source": [
    "from sklearn.preprocessing import OneHotEncoder\n",
    "from sklearn.preprocessing import LabelEncoder\n",
    "from sklearn.compose import make_column_transformer"
   ]
  },
  {
   "cell_type": "code",
   "execution_count": 5,
   "metadata": {},
   "outputs": [],
   "source": [
    "# Split into categorical type \"O\" and already encoded features\n",
    "categorical_columns = [i for i in list(df.columns) if df[i].dtypes in [\"O\"] and i not in ['id','hour','day']]\n",
    "encoded_categorical_columns = [i for i in list(df.columns) if df[i].dtypes not in [\"O\"] and i not in ['id','hour','day']]"
   ]
  },
  {
   "cell_type": "code",
   "execution_count": 6,
   "metadata": {},
   "outputs": [
    {
     "data": {
      "text/plain": [
       "LabelEncoder()"
      ]
     },
     "execution_count": 6,
     "metadata": {},
     "output_type": "execute_result"
    },
    {
     "data": {
      "text/plain": [
       "LabelEncoder()"
      ]
     },
     "execution_count": 6,
     "metadata": {},
     "output_type": "execute_result"
    },
    {
     "data": {
      "text/plain": [
       "LabelEncoder()"
      ]
     },
     "execution_count": 6,
     "metadata": {},
     "output_type": "execute_result"
    },
    {
     "data": {
      "text/plain": [
       "LabelEncoder()"
      ]
     },
     "execution_count": 6,
     "metadata": {},
     "output_type": "execute_result"
    },
    {
     "data": {
      "text/plain": [
       "LabelEncoder()"
      ]
     },
     "execution_count": 6,
     "metadata": {},
     "output_type": "execute_result"
    },
    {
     "data": {
      "text/plain": [
       "LabelEncoder()"
      ]
     },
     "execution_count": 6,
     "metadata": {},
     "output_type": "execute_result"
    },
    {
     "data": {
      "text/plain": [
       "LabelEncoder()"
      ]
     },
     "execution_count": 6,
     "metadata": {},
     "output_type": "execute_result"
    },
    {
     "data": {
      "text/plain": [
       "LabelEncoder()"
      ]
     },
     "execution_count": 6,
     "metadata": {},
     "output_type": "execute_result"
    },
    {
     "data": {
      "text/plain": [
       "LabelEncoder()"
      ]
     },
     "execution_count": 6,
     "metadata": {},
     "output_type": "execute_result"
    },
    {
     "name": "stdout",
     "output_type": "stream",
     "text": [
      "Previus Dataset Shape ->>  (100000, 27)\n",
      "Shape After Encoding  ->>  (100000, 34) \n",
      "\n"
     ]
    }
   ],
   "source": [
    "data = df.copy()\n",
    "one_hot = []\n",
    "label_enc = []\n",
    "mean_enc = []\n",
    "for i in categorical_columns:\n",
    "    if len(df[i].unique()) <= 15:\n",
    "        # One hot encoding\n",
    "        one_hot.append(i)\n",
    "        data = pd.concat([data, pd.get_dummies(df[i], prefix='oneHot')],axis=1)\n",
    "    elif 100 >= len(df[i].unique()) > 15:\n",
    "        # Label encoding\n",
    "        label_enc.append(i)\n",
    "        label_encoder = []\n",
    "        le = LabelEncoder()\n",
    "        le.fit(data[i])    \n",
    "        label_encoder.append(le)\n",
    "        data[i] = le.transform(data[i])\n",
    "    elif len(df[i].unique()) > 100:\n",
    "        # Mean encoding\n",
    "        mean_enc.append(i)\n",
    "        mean_encoder = []\n",
    "        le = LabelEncoder()\n",
    "        le.fit(data[i])    \n",
    "        mean_encoder.append(le)\n",
    "        data[i] = le.transform(data[i])\n",
    "        # mean_encoder_i = data.groupby([i])[\"click\"].mean().to_dict()\n",
    "        # data[i] = data[i].map(mean_encoder_i)\n",
    "\n",
    "print('Previus Dataset Shape ->> ', df.shape)\n",
    "print('Shape After Encoding  ->> ', data.shape, '\\n')"
   ]
  },
  {
   "cell_type": "markdown",
   "metadata": {},
   "source": [
    "## Split the Dataset"
   ]
  },
  {
   "cell_type": "code",
   "execution_count": 7,
   "metadata": {},
   "outputs": [
    {
     "data": {
      "text/plain": [
       "(80000, 27)"
      ]
     },
     "execution_count": 7,
     "metadata": {},
     "output_type": "execute_result"
    },
    {
     "data": {
      "text/plain": [
       "(80000,)"
      ]
     },
     "execution_count": 7,
     "metadata": {},
     "output_type": "execute_result"
    },
    {
     "data": {
      "text/plain": [
       "(20000, 27)"
      ]
     },
     "execution_count": 7,
     "metadata": {},
     "output_type": "execute_result"
    },
    {
     "data": {
      "text/plain": [
       "(20000,)"
      ]
     },
     "execution_count": 7,
     "metadata": {},
     "output_type": "execute_result"
    }
   ],
   "source": [
    "from sklearn.model_selection import train_test_split\n",
    "\n",
    "# We drop weekday because we have replaced it with One Hot encoding of the feature\n",
    "# X = data.drop(columns=['click','id','hour','weekday'])\n",
    "X = data.drop(columns=['click','id','hour','weekday','device_ip','device_id','app_id'])\n",
    "y = data['click']\n",
    "\n",
    "X_train, X_test, y_train, y_test = train_test_split(X, y, random_state=42, test_size=0.2)\n",
    "X_train.shape\n",
    "y_train.shape\n",
    "X_test.shape\n",
    "y_test.shape"
   ]
  },
  {
   "cell_type": "markdown",
   "metadata": {},
   "source": [
    "# Modeling"
   ]
  },
  {
   "cell_type": "code",
   "execution_count": 8,
   "metadata": {},
   "outputs": [],
   "source": [
    "from sklearn.neighbors import KNeighborsClassifier\n",
    "from sklearn.linear_model import LogisticRegression\n",
    "from sklearn.metrics import mean_squared_error, confusion_matrix, accuracy_score, roc_auc_score\n",
    "from sklearn.metrics import precision_score, recall_score, f1_score, roc_curve, auc, plot_roc_curve\n",
    "from sklearn.model_selection import  cross_val_score\n",
    "from sklearn.pipeline import Pipeline\n",
    "from imblearn.pipeline import make_pipeline \n",
    "from sklearn.preprocessing import MinMaxScaler, StandardScaler\n",
    "from sklearn.model_selection import GridSearchCV\n",
    "from imblearn.under_sampling import RandomUnderSampler\n",
    "from imblearn.over_sampling import RandomOverSampler\n",
    "from imblearn.over_sampling import SMOTE\n",
    "from tqdm import tqdm\n",
    "from sklearn.metrics import plot_confusion_matrix\n",
    "import matplotlib.pyplot as plt"
   ]
  },
  {
   "cell_type": "markdown",
   "metadata": {},
   "source": [
    "## Adjusting the dropped variables from X and taking them out of mean_enc also"
   ]
  },
  {
   "cell_type": "code",
   "execution_count": 9,
   "metadata": {},
   "outputs": [],
   "source": [
    "mean_enc = ['site_id','site_domain', 'device_model']"
   ]
  },
  {
   "cell_type": "code",
   "execution_count": 10,
   "metadata": {},
   "outputs": [],
   "source": [
    "from sklearn.model_selection import KFold \n",
    "from sklearn.model_selection import StratifiedKFold\n",
    "from sklearn.linear_model import LogisticRegression\n",
    "from sklearn.metrics import accuracy_score, f1_score, roc_auc_score, precision_score\n",
    "from sklearn.tree import DecisionTreeClassifier\n",
    "from sklearn.metrics import classification_report\n",
    "    \n",
    "def mean_encoded_cross_val(k, model, X, y, return_avg_pred=False, print_scores=True):\n",
    "    \"\"\"\n",
    "    :parameter: k -> number of folds for cross validation\n",
    "    :parameter: model -> (e.g: DecisionTreeClassifier())\n",
    "    :parameter: X -> X_train from previous split\n",
    "    :parameter: y -> y_train from previous split\n",
    "    :parameter: return_avg_pred -> Return the original class and predicted class used to plot the average classification report\n",
    "                returns a tuple (originalclass, predictedclass)\n",
    "\n",
    "    \"\"\"\n",
    "    pd.options.mode.chained_assignment = None  # default='warn\n",
    "\n",
    "    skf = StratifiedKFold(n_splits=k) #, random_state=42, shuffle=True)\n",
    "    \n",
    "    acc_acc_score = []\n",
    "    acc_f1_score = []\n",
    "    acc_roc_auc_score = []\n",
    "    acc_precision_score = []\n",
    "    \n",
    "    # For Classification Report\n",
    "    originalclass = []\n",
    "    predictedclass = []\n",
    "    \n",
    "    for train_index , test_index in skf.split(X,y):\n",
    "        X_train , X_test = X.loc[X.index.intersection(train_index)], X.loc[X.index.intersection(test_index)]\n",
    "        y_train , y_test = y.loc[y.index.intersection(train_index)], y.loc[y.index.intersection(test_index)]\n",
    "\n",
    "        # Mean Encoding within CV to avoid data leakage\n",
    "        for i in mean_enc:\n",
    "            data_train = pd.concat([X_train, y_train], axis=1)\n",
    "            mean_encoder = data_train.groupby([i])[\"click\"].mean()\n",
    "            X_train[i] = X_train[i].map(mean_encoder)\n",
    "            # Transform the test set based on the train\n",
    "            X_test[i] = X_test[i].map(mean_encoder)\n",
    "            # Fill nan values that may arise due to mapping with the global average\n",
    "            X_test[i].fillna(mean_encoder.mean(), inplace = True)\n",
    "\n",
    "        model.fit(X_train, y_train)\n",
    "        y_pred = model.predict(X_test)\n",
    "\n",
    "        # Accumulate all folds\n",
    "        originalclass.extend(y_test)\n",
    "        predictedclass.extend(y_pred)\n",
    "\n",
    "        # Compute Scores\n",
    "        acc = accuracy_score(y_pred , y_test)\n",
    "        f1 = f1_score(y_pred, y_test)\n",
    "        roc = roc_auc_score(y_pred, y_test)\n",
    "        precision = precision_score(y_pred, y_test)\n",
    "\n",
    "        acc_acc_score.append(acc)\n",
    "        acc_f1_score.append(f1)\n",
    "        acc_roc_auc_score.append(roc)\n",
    "        acc_precision_score.append(precision)\n",
    "\n",
    "    avg_acc_score = sum(acc_acc_score)/k\n",
    "    avg_f1_score = sum(acc_f1_score)/k\n",
    "    avg_roc_score = sum(acc_roc_auc_score)/k\n",
    "    avg_precision_score = sum(acc_precision_score)/k\n",
    "\n",
    "    scores = {'Accuracy':avg_acc_score, 'f1':avg_f1_score, 'ROC':avg_roc_score, 'Precision':avg_precision_score}\n",
    "\n",
    "    if print_scores:\n",
    "        print('accuracy of each fold - {}'.format(acc_acc_score))\n",
    "        print('Avg accuracy : {}'.format(avg_acc_score))\n",
    "        print('Avg f1 : {}'.format(avg_f1_score))\n",
    "        print('Avg roc auc : {}'.format(avg_roc_score))\n",
    "        print('Avg precision : {}'.format(avg_precision_score))\n",
    "        print('\\nAverage Classification Report for Cross-Validation\\n', classification_report(originalclass, predictedclass)) \n",
    "\n",
    "    pd.options.mode.chained_assignment = 'warn'  # default='warn\n",
    "    if return_avg_pred: \n",
    "        return originalclass, predictedclass, scores\n",
    "    return scores"
   ]
  },
  {
   "cell_type": "markdown",
   "metadata": {},
   "source": [
    "## \"Manual\" Grid Search with Mean Encoding Cross Validation"
   ]
  },
  {
   "cell_type": "code",
   "execution_count": 11,
   "metadata": {},
   "outputs": [],
   "source": [
    "def param_grid_to_list(param_grid):\n",
    "    return list(param_grid[0].values())"
   ]
  },
  {
   "cell_type": "code",
   "execution_count": 12,
   "metadata": {},
   "outputs": [
    {
     "name": "stderr",
     "output_type": "stream",
     "text": [
      "20it [00:17,  1.14it/s]"
     ]
    },
    {
     "name": "stdout",
     "output_type": "stream",
     "text": [
      "DecisionTreeClassifier(class_weight='balanced', criterion='entropy',\n",
      "                       max_depth=9, splitter='random')\n",
      "Average CV Scores from Best Model Grid Search\n",
      "{'Accuracy': 0.5992201061477234, 'f1': 0.3637397802201322, 'ROC': 0.5737250397274173, 'Precision': 0.6747270045878555}\n"
     ]
    },
    {
     "name": "stderr",
     "output_type": "stream",
     "text": [
      "\n"
     ]
    }
   ],
   "source": [
    "from itertools import product\n",
    "from tqdm import tqdm\n",
    "# Define Hyperparams to optimize\n",
    "param_grid = [\n",
    "    {'criterion': ['gini','entropy'],\n",
    "    'splitter': ['best','random'],\n",
    "    'max_depth': [i for i in range(1,10,2)]}]\n",
    "    \n",
    "listOLists = param_grid_to_list(param_grid)    \n",
    "# criterion, splitter, max_depth = ['gini','entropy'], ['best','random'], [i for i in range(1,10,2)]\n",
    "# listOLists = [criterion, splitter, max_depth]\n",
    "model = DecisionTreeClassifier(class_weight='balanced')\n",
    "best_score = 0\n",
    "\n",
    "for c, s, m in tqdm(product(*listOLists)):\n",
    "    model = DecisionTreeClassifier(criterion=c, splitter=s, max_depth=m, class_weight='balanced')\n",
    "    # Do Cross Validation with Mean encoding\n",
    "    originalclass, predictedclass, scores = mean_encoded_cross_val(5, model, X_train, y_train, return_avg_pred=True, print_scores=False)\n",
    "\n",
    "    # Get the best estimator\n",
    "    if scores['f1'] >= best_score:\n",
    "        best_model_dt = model\n",
    "        best_model_dt_cv_scores = scores\n",
    "        best_model_dt_originalclass = originalclass\n",
    "        best_model_dt_predictedclass = predictedclass\n",
    "\n",
    "print(best_model_dt)\n",
    "print('Average CV Scores from Best Model Grid Search')\n",
    "print(best_model_dt_cv_scores)"
   ]
  },
  {
   "cell_type": "code",
   "execution_count": 13,
   "metadata": {},
   "outputs": [
    {
     "name": "stdout",
     "output_type": "stream",
     "text": [
      "accuracy of each fold - [0.7028253893715269, 0.6247077162899455, 0.5756197050517728, 0.649379051784738, 0.6143525741029641]\n",
      "Avg accuracy : 0.6333768873201895\n",
      "Avg f1 : 0.36873411945959084\n",
      "Avg roc auc : 0.5782332335203714\n",
      "Avg precision : 0.6297976720436088\n",
      "\n",
      "Average Classification Report for Cross-Validation\n",
      "               precision    recall  f1-score   support\n",
      "\n",
      "           0       0.89      0.63      0.74     53125\n",
      "           1       0.26      0.63      0.37     10853\n",
      "\n",
      "    accuracy                           0.63     63978\n",
      "   macro avg       0.58      0.63      0.56     63978\n",
      "weighted avg       0.79      0.63      0.68     63978\n",
      "\n"
     ]
    }
   ],
   "source": [
    "originalclass, predictedclass, scores = mean_encoded_cross_val(5, best_model_dt, X_train, y_train, return_avg_pred=True)"
   ]
  },
  {
   "cell_type": "markdown",
   "metadata": {},
   "source": [
    "# KNN Neighbors Classifier"
   ]
  },
  {
   "cell_type": "markdown",
   "metadata": {},
   "source": [
    "As we understood KNN (K-Nearest Neighbor) is a simple supervised classification algorithm we can use to assign a class to new data point.  \n",
    "Our data seems to be both unsupervised and supervised, but our target \"clicks\" is well defined. Hence, we decided to implement this model as well, in order to see if it performs better than the previous ones."
   ]
  },
  {
   "cell_type": "code",
   "execution_count": 14,
   "metadata": {},
   "outputs": [
    {
     "name": "stderr",
     "output_type": "stream",
     "text": [
      "6it [06:50, 68.42s/it]"
     ]
    },
    {
     "name": "stdout",
     "output_type": "stream",
     "text": [
      "Pipeline(steps=[('standardscaler', StandardScaler()), ('smote', SMOTE()),\n",
      "                ('kneighborsclassifier',\n",
      "                 KNeighborsClassifier(weights='distance'))])\n",
      "Average CV Scores from Best Model Grid Search\n",
      "{'Accuracy': 0.692453330442305, 'f1': 0.32462046497917985, 'ROC': 0.5623624275448023, 'Precision': 0.4359266879333961}\n"
     ]
    },
    {
     "name": "stderr",
     "output_type": "stream",
     "text": [
      "\n"
     ]
    }
   ],
   "source": [
    "from itertools import product\n",
    "# Define Hyperparams to optimize\n",
    "# param_grid = [\n",
    "#     {'classifier': [KNeighborsClassifier()], \n",
    "#     'preprocessing': [MinMaxScaler(), None],\n",
    "#     'balancing': [RandomUnderSampler(replacement=False), RandomOverSampler(replacement=False), SMOTE(replacement=False)],\n",
    "#     'classifier__n_neighbors': range(1, 10,2), \n",
    "#     'classifier__weights': ['uniform', 'distance']}]\n",
    "    \n",
    "preprocessing, balancing = [StandardScaler()], [RandomUnderSampler(), RandomOverSampler(), SMOTE()] \n",
    "# classifier__n_neighbors, classifier__weights = range(1, 10,2), ['uniform', 'distance']\n",
    "classifier__n_neighbors, classifier__weights = [3, 5], ['distance']\n",
    "\n",
    "\n",
    "listOLists = [preprocessing, balancing, classifier__n_neighbors, classifier__weights]\n",
    "best_score = 0\n",
    "\n",
    "for preprocessing, balancing, n_neighbors, weights in tqdm(product(*listOLists)):\n",
    "    model = make_pipeline(preprocessing, balancing, KNeighborsClassifier(n_neighbors=n_neighbors, weights=weights))\n",
    "    # Do Cross Validation with Mean encoding\n",
    "    originalclass, predictedclass, scores = mean_encoded_cross_val(5, model, X_train, y_train, return_avg_pred=True, print_scores=False)\n",
    "\n",
    "    # Get the best estimator\n",
    "    if scores['f1'] >= best_score:\n",
    "        best_model_knn = model\n",
    "        best_model_knn_cv_scores = scores\n",
    "        best_model_knn_originalclass = originalclass\n",
    "        best_model_knn_predictedclass = predictedclass\n",
    "\n",
    "print(best_model_knn)\n",
    "print('Average CV Scores from Best Model Grid Search')\n",
    "print(best_model_knn_cv_scores)"
   ]
  },
  {
   "cell_type": "markdown",
   "metadata": {},
   "source": [
    "## Getting CV Classification Report and a Confusion Matrix of all the Original vs Predicted Classes of the Cross Validation "
   ]
  },
  {
   "cell_type": "code",
   "execution_count": 15,
   "metadata": {},
   "outputs": [
    {
     "name": "stdout",
     "output_type": "stream",
     "text": [
      "accuracy of each fold - [0.6885027784299914, 0.6964925954793453, 0.6876372764355193, 0.6931969069749278, 0.6939157566302652]\n",
      "Avg accuracy : 0.6919490627900099\n",
      "Avg f1 : 0.32399835946245686\n",
      "Avg roc auc : 0.5619796095225016\n",
      "Avg precision : 0.4353257068853399\n",
      "\n",
      "Average Classification Report for Cross-Validation\n",
      "               precision    recall  f1-score   support\n",
      "\n",
      "           0       0.87      0.74      0.80     53125\n",
      "           1       0.26      0.44      0.32     10853\n",
      "\n",
      "    accuracy                           0.69     63978\n",
      "   macro avg       0.56      0.59      0.56     63978\n",
      "weighted avg       0.76      0.69      0.72     63978\n",
      "\n"
     ]
    }
   ],
   "source": [
    "originalclass, predictedclass, scores = mean_encoded_cross_val(5, best_model_knn, X_train, y_train, return_avg_pred=True)"
   ]
  },
  {
   "cell_type": "code",
   "execution_count": 16,
   "metadata": {},
   "outputs": [
    {
     "data": {
      "text/plain": [
       "<sklearn.metrics._plot.confusion_matrix.ConfusionMatrixDisplay at 0x289ea49a760>"
      ]
     },
     "execution_count": 16,
     "metadata": {},
     "output_type": "execute_result"
    },
    {
     "data": {
      "text/plain": [
       "Text(0.5, 1.0, 'Decision Tree Balanced Weights Dataset')"
      ]
     },
     "execution_count": 16,
     "metadata": {},
     "output_type": "execute_result"
    },
    {
     "data": {
      "image/png": "[encoded data removed]",
      "text/plain": [
       "<Figure size 432x288 with 2 Axes>"
      ]
     },
     "metadata": {
      "needs_background": "light"
     },
     "output_type": "display_data"
    }
   ],
   "source": [
    "from sklearn.metrics import confusion_matrix, ConfusionMatrixDisplay\n",
    "import matplotlib.pyplot as plt\n",
    "import seaborn as sns\n",
    "display_labels=['Not Click (0)','Click (1)']\n",
    "cm = confusion_matrix(originalclass, predictedclass)\n",
    "disp = ConfusionMatrixDisplay(confusion_matrix=cm, display_labels=display_labels)\n",
    "disp.plot() \n",
    "plt.title('Decision Tree Balanced Weights Dataset')\n",
    "\n",
    "plt.show()"
   ]
  },
  {
   "cell_type": "markdown",
   "metadata": {},
   "source": [
    "## CATBOOST"
   ]
  },
  {
   "cell_type": "code",
   "execution_count": 17,
   "metadata": {},
   "outputs": [
    {
     "name": "stderr",
     "output_type": "stream",
     "text": [
      "60it [17:45, 17.76s/it]"
     ]
    },
    {
     "name": "stdout",
     "output_type": "stream",
     "text": [
      "Pipeline(steps=[('standardscaler', StandardScaler()),\n",
      "                ('catboostclassifier',\n",
      "                 <catboost.core.CatBoostClassifier object at 0x00000289808C0A00>)])\n",
      "Average CV Scores from Best Model Grid Search\n",
      "{'Accuracy': 0.6271142667062708, 'f1': 0.3765073447635536, 'ROC': 0.5815265072675936, 'Precision': 0.6638525293573383}\n"
     ]
    },
    {
     "name": "stderr",
     "output_type": "stream",
     "text": [
      "\n"
     ]
    }
   ],
   "source": [
    "from catboost import CatBoostClassifier\n",
    "from itertools import product\n",
    "# Define Hyperparams to optimize\n",
    "# param_grid= {'learning_rate': [0.1,0.05,0.03,0.01],\n",
    "#         'depth': [3, 5, 7],\n",
    "#         'eval_metric': f1_score?\n",
    "#         'l2_leaf_reg': [1, 3, 5, 7, 9],\n",
    "#         'loss_function': [None, 'F1'] }\n",
    "    \n",
    "learning_rate, depth = [0.1, 0.05, 0.03, 0.01], [3, 5, 7]#, [RandomUnderSampler(), RandomOverSampler(), SMOTE()] \n",
    "l2_leaf_reg, loss_function = [1, 3, 5, 7, 9], ['Logloss']\n",
    "\n",
    "listOLists = [learning_rate, depth, l2_leaf_reg, loss_function]\n",
    "best_score = 0\n",
    "\n",
    "for learning_rate, depth, l2_leaf_reg, loss_function in tqdm(product(*listOLists)):\n",
    "    model = make_pipeline(preprocessing, CatBoostClassifier(verbose=False, iterations=200, learning_rate=learning_rate, depth=depth, \n",
    "                            l2_leaf_reg=l2_leaf_reg, loss_function=loss_function, auto_class_weights='Balanced', early_stopping_rounds=20))\n",
    "    # Do Cross Validation with Mean encoding\n",
    "    originalclass, predictedclass, scores = mean_encoded_cross_val(5, model, X_train, y_train, return_avg_pred=True, print_scores=False)\n",
    "\n",
    "    # Get the best estimator\n",
    "    if scores['f1'] >= best_score:\n",
    "        best_model_catb = model\n",
    "        best_model_catb_cv_scores = scores\n",
    "        best_model_catb_originalclass = originalclass\n",
    "        best_model_catb_predictedclass = predictedclass\n",
    "\n",
    "print(best_model_catb)\n",
    "print('Average CV Scores from Best Model Grid Search')\n",
    "print(best_model_catb_cv_scores)"
   ]
  },
  {
   "cell_type": "code",
   "execution_count": 18,
   "metadata": {},
   "outputs": [
    {
     "name": "stdout",
     "output_type": "stream",
     "text": [
      "accuracy of each fold - [0.6264381310166706, 0.6325019485580671, 0.6215877000313774, 0.6269624306803093, 0.6280811232449298]\n",
      "Avg accuracy : 0.6271142667062708\n",
      "Avg f1 : 0.3765073447635536\n",
      "Avg roc auc : 0.5815265072675936\n",
      "Avg precision : 0.6638525293573383\n",
      "\n",
      "Average Classification Report for Cross-Validation\n",
      "               precision    recall  f1-score   support\n",
      "\n",
      "           0       0.90      0.62      0.73     53125\n",
      "           1       0.26      0.66      0.38     10853\n",
      "\n",
      "    accuracy                           0.63     63978\n",
      "   macro avg       0.58      0.64      0.56     63978\n",
      "weighted avg       0.79      0.63      0.67     63978\n",
      "\n"
     ]
    }
   ],
   "source": [
    "originalclass, predictedclass, scores = mean_encoded_cross_val(5, best_model_catb, X_train, y_train, return_avg_pred=True)"
   ]
  },
  {
   "cell_type": "markdown",
   "metadata": {},
   "source": [
    "## Choosing the Best Model (Work in progress)\n",
    "- Metrics: `f1 score` and/or `roc_auc`"
   ]
  },
  {
   "cell_type": "code",
   "execution_count": 19,
   "metadata": {},
   "outputs": [
    {
     "name": "stderr",
     "output_type": "stream",
     "text": [
      "100%|██████████| 3/3 [04:02<00:00, 80.80s/it]"
     ]
    },
    {
     "name": "stdout",
     "output_type": "stream",
     "text": [
      "Pipeline(steps=[('standardscaler', StandardScaler()),\n",
      "                ('catboostclassifier',\n",
      "                 <catboost.core.CatBoostClassifier object at 0x00000289808C0A00>)])\n",
      "Average CV Scores from Best Model Grid Search\n",
      "{'Accuracy': 0.6271142667062708, 'f1': 0.3765073447635536, 'ROC': 0.5815265072675936, 'Precision': 0.6638525293573383}\n"
     ]
    },
    {
     "name": "stderr",
     "output_type": "stream",
     "text": [
      "\n"
     ]
    }
   ],
   "source": [
    "all_models = [best_model_knn, best_model_dt, best_model_catb]\n",
    "best_score = 0\n",
    "for model in tqdm(all_models):\n",
    "    # Do Cross Validation with Mean encoding\n",
    "    originalclass, predictedclass, scores = mean_encoded_cross_val(5, model, X_train, y_train, return_avg_pred=True, print_scores=False)\n",
    "\n",
    "    # Get the best estimator\n",
    "    if scores['f1'] >= best_score:\n",
    "        best_model = model\n",
    "        best_model_cv_scores = scores\n",
    "        best_model_originalclass = originalclass\n",
    "        best_model_predictedclass = predictedclass\n",
    "\n",
    "print(best_model)\n",
    "print('Average CV Scores from Best Model Grid Search')\n",
    "print(best_model_cv_scores)"
   ]
  },
  {
   "cell_type": "code",
   "execution_count": 20,
   "metadata": {},
   "outputs": [
    {
     "name": "stdout",
     "output_type": "stream",
     "text": [
      "accuracy of each fold - [0.6264381310166706, 0.6325019485580671, 0.6215877000313774, 0.6269624306803093, 0.6280811232449298]\n",
      "Avg accuracy : 0.6271142667062708\n",
      "Avg f1 : 0.3765073447635536\n",
      "Avg roc auc : 0.5815265072675936\n",
      "Avg precision : 0.6638525293573383\n",
      "\n",
      "Average Classification Report for Cross-Validation\n",
      "               precision    recall  f1-score   support\n",
      "\n",
      "           0       0.90      0.62      0.73     53125\n",
      "           1       0.26      0.66      0.38     10853\n",
      "\n",
      "    accuracy                           0.63     63978\n",
      "   macro avg       0.58      0.64      0.56     63978\n",
      "weighted avg       0.79      0.63      0.67     63978\n",
      "\n"
     ]
    }
   ],
   "source": [
    "originalclass, predictedclass, scores = mean_encoded_cross_val(5, best_model, X_train, y_train, return_avg_pred=True)"
   ]
  },
  {
   "cell_type": "markdown",
   "metadata": {},
   "source": [
    "# Choose Best Model "
   ]
  },
  {
   "cell_type": "code",
   "execution_count": 21,
   "metadata": {},
   "outputs": [
    {
     "name": "stdout",
     "output_type": "stream",
     "text": [
      "------- Mean Encoding changes -------\n",
      "site_id now has 186 categories vs 1461 before\n",
      "site_domain now has 155 categories vs 1333 before\n",
      "device_model now has 350 categories vs 3167 before\n"
     ]
    }
   ],
   "source": [
    "# Mean encoding for train set\n",
    "pd.options.mode.chained_assignment = None  # default='warn\n",
    "for i in mean_enc:\n",
    "    data_train = pd.concat([X_train, y_train], axis=1)\n",
    "    mean_encoder = data_train.groupby([i])[\"click\"].mean()\n",
    "    X_train[i] = X_train[i].map(mean_encoder)\n",
    "    # Transform the test set based on the train\n",
    "    X_test[i] = X_test[i].map(mean_encoder)\n",
    "    # Fill nan values that may arise due to mapping with the global average\n",
    "    X_test[i].fillna(mean_encoder.mean(), inplace = True)\n",
    "pd.options.mode.chained_assignment = 'warn'  # default='warn\n",
    "\n",
    "print('------- Mean Encoding changes -------')\n",
    "for i,v in enumerate(mean_enc):\n",
    "    print(f'{v} now has {[len(X_train[i].unique()) for i in mean_enc][i]} categories vs {len(df[v].unique())} before')"
   ]
  },
  {
   "cell_type": "code",
   "execution_count": 24,
   "metadata": {},
   "outputs": [
    {
     "data": {
      "text/plain": [
       "<sklearn.metrics._plot.confusion_matrix.ConfusionMatrixDisplay at 0x28980a84820>"
      ]
     },
     "execution_count": 24,
     "metadata": {},
     "output_type": "execute_result"
    },
    {
     "data": {
      "text/plain": [
       "Text(0.5, 1.0, 'Best Model')"
      ]
     },
     "execution_count": 24,
     "metadata": {},
     "output_type": "execute_result"
    },
    {
     "data": {
      "image/png": "[encoded data removed]",
      "text/plain": [
       "<Figure size 432x288 with 2 Axes>"
      ]
     },
     "metadata": {
      "needs_background": "light"
     },
     "output_type": "display_data"
    }
   ],
   "source": [
    "plot_confusion_matrix(best_model, X_test, y_test, display_labels=['Not Click (0)','Click (1)'])\n",
    "plt.title('Best Model')\n",
    "plt.show()"
   ]
  },
  {
   "cell_type": "code",
   "execution_count": 25,
   "metadata": {},
   "outputs": [
    {
     "data": {
      "text/plain": [
       "<sklearn.metrics._plot.roc_curve.RocCurveDisplay at 0x289808b5790>"
      ]
     },
     "execution_count": 25,
     "metadata": {},
     "output_type": "execute_result"
    },
    {
     "data": {
      "text/plain": [
       "[<matplotlib.lines.Line2D at 0x2898103fd60>]"
      ]
     },
     "execution_count": 25,
     "metadata": {},
     "output_type": "execute_result"
    },
    {
     "data": {
      "text/plain": [
       "Text(0.5, 1.0, 'Best Model')"
      ]
     },
     "execution_count": 25,
     "metadata": {},
     "output_type": "execute_result"
    },
    {
     "data": {
      "image/png": "[encoded data removed]",
      "text/plain": [
       "<Figure size 432x288 with 1 Axes>"
      ]
     },
     "metadata": {
      "needs_background": "light"
     },
     "output_type": "display_data"
    }
   ],
   "source": [
    "plot_roc_curve(best_model, X_test, y_test) \n",
    "plt.plot([0, 1], [0, 1],'r--')\n",
    "plt.title('Best Model')\n",
    "\n",
    "plt.show()"
   ]
  },
  {
   "cell_type": "markdown",
   "metadata": {},
   "source": [
    "# Model Interpretation"
   ]
  },
  {
   "cell_type": "code",
   "execution_count": null,
   "metadata": {},
   "outputs": [],
   "source": []
  },
  {
   "cell_type": "markdown",
   "metadata": {},
   "source": [
    "# Other Experiments..."
   ]
  },
  {
   "cell_type": "markdown",
   "metadata": {},
   "source": [
    "## Do more variable encoding for the remaining categories?"
   ]
  },
  {
   "cell_type": "code",
   "execution_count": 111,
   "metadata": {},
   "outputs": [
    {
     "name": "stdout",
     "output_type": "stream",
     "text": [
      "click has 2 unique categories\n",
      "C1 has 7 unique categories\n",
      "banner_pos has 7 unique categories\n",
      "device_type has 4 unique categories\n",
      "device_conn_type has 4 unique categories\n",
      "C14 has 1713 unique categories\n",
      "C15 has 8 unique categories\n",
      "C16 has 9 unique categories\n",
      "C17 has 399 unique categories\n",
      "C18 has 4 unique categories\n",
      "C19 has 65 unique categories\n",
      "C20 has 157 unique categories\n",
      "C21 has 59 unique categories\n",
      "hour_of_day has 24 unique categories\n"
     ]
    }
   ],
   "source": [
    "for i,v in enumerate(encoded_categorical_columns):\n",
    "    print(f'{v} has {[len(data[i].unique()) for i in encoded_categorical_columns][i]} unique categories')"
   ]
  },
  {
   "cell_type": "markdown",
   "metadata": {},
   "source": [
    "# Cost Sensitive Learning vs Random Under Sampling"
   ]
  },
  {
   "cell_type": "code",
   "execution_count": 15,
   "metadata": {},
   "outputs": [],
   "source": [
    "from imblearn.pipeline import make_pipeline \n",
    "from sklearn.preprocessing import StandardScaler\n",
    "from sklearn.neighbors import KNeighborsClassifier\n",
    "from sklearn.tree import DecisionTreeClassifier\n",
    "from imblearn.under_sampling import RandomUnderSampler\n",
    "from sklearn.metrics import make_scorer\n",
    "from sklearn.metrics import classification_report\n",
    "\n",
    "pipe_1 = make_pipeline(StandardScaler(), DecisionTreeClassifier(class_weight='balanced'))\n",
    "# pipe_2 = make_pipeline(StandardScaler(), RandomUnderSampler(replacement=False), DecisionTreeClassifier())\n",
    "pipe_2 = make_pipeline(StandardScaler(), SMOTE(), KNeighborsClassifier(n_neighbors=3))\n"
   ]
  },
  {
   "cell_type": "code",
   "execution_count": 16,
   "metadata": {},
   "outputs": [
    {
     "name": "stdout",
     "output_type": "stream",
     "text": [
      "PIPE 1\n",
      "              precision    recall  f1-score   support\n",
      "\n",
      "           0       0.85      0.85      0.85     66402\n",
      "           1       0.26      0.26      0.26     13598\n",
      "\n",
      "    accuracy                           0.75     80000\n",
      "   macro avg       0.55      0.55      0.55     80000\n",
      "weighted avg       0.75      0.75      0.75     80000\n",
      "\n",
      "PIPE 2\n",
      "              precision    recall  f1-score   support\n",
      "\n",
      "           0       0.85      0.78      0.81    132804\n",
      "           1       0.25      0.35      0.29     27196\n",
      "\n",
      "    accuracy                           0.71    160000\n",
      "   macro avg       0.55      0.57      0.55    160000\n",
      "weighted avg       0.75      0.71      0.73    160000\n",
      "\n"
     ]
    }
   ],
   "source": [
    "# Variables for average classification report\n",
    "originalclass = []\n",
    "predictedclass = []\n",
    "\n",
    "#Make our customer score\n",
    "def classification_report_with_accuracy_score(y_true, y_pred):\n",
    "    originalclass.extend(y_true)\n",
    "    predictedclass.extend(y_pred)\n",
    "    return accuracy_score(y_true, y_pred) # return accuracy score\n",
    "\n",
    "from sklearn.model_selection import cross_validate\n",
    "scores1 = cross_validate(pipe_1,\n",
    "                        X_train, y_train, cv=10, return_estimator=True,\n",
    "                        scoring=make_scorer(classification_report_with_accuracy_score))\n",
    "                        # scoring=('roc_auc', 'recall','precision'))\n",
    "print('PIPE 1')\n",
    "print(classification_report(originalclass, predictedclass)) \n",
    "\n",
    "scores2 = cross_validate(pipe_2,\n",
    "                        X_train, y_train, cv=10, return_estimator=True,\n",
    "                        scoring=make_scorer(classification_report_with_accuracy_score))\n",
    "print('PIPE 2')\n",
    "\n",
    "# Average values in classification report for all folds in a K-fold Cross-validation  \n",
    "print(classification_report(originalclass, predictedclass)) "
   ]
  },
  {
   "cell_type": "code",
   "execution_count": 19,
   "metadata": {},
   "outputs": [
    {
     "data": {
      "text/plain": [
       "Pipeline(steps=[('standardscaler', StandardScaler()),\n",
       "                ('decisiontreeclassifier',\n",
       "                 DecisionTreeClassifier(class_weight='balanced'))])"
      ]
     },
     "execution_count": 19,
     "metadata": {},
     "output_type": "execute_result"
    },
    {
     "data": {
      "text/plain": [
       "Pipeline(steps=[('standardscaler', StandardScaler()), ('smote', SMOTE()),\n",
       "                ('kneighborsclassifier', KNeighborsClassifier(n_neighbors=3))])"
      ]
     },
     "execution_count": 19,
     "metadata": {},
     "output_type": "execute_result"
    }
   ],
   "source": [
    "pipe_1.fit(X_train, y_train)\n",
    "pipe_2.fit(X_train, y_train)"
   ]
  },
  {
   "cell_type": "code",
   "execution_count": 18,
   "metadata": {},
   "outputs": [
    {
     "data": {
      "text/plain": [
       "<sklearn.metrics._plot.confusion_matrix.ConfusionMatrixDisplay at 0x27a89526fa0>"
      ]
     },
     "execution_count": 18,
     "metadata": {},
     "output_type": "execute_result"
    },
    {
     "data": {
      "text/plain": [
       "Text(0.5, 1.0, 'Decision Tree Balanced Weights Dataset')"
      ]
     },
     "execution_count": 18,
     "metadata": {},
     "output_type": "execute_result"
    },
    {
     "data": {
      "text/plain": [
       "<sklearn.metrics._plot.confusion_matrix.ConfusionMatrixDisplay at 0x27a8d78bc70>"
      ]
     },
     "execution_count": 18,
     "metadata": {},
     "output_type": "execute_result"
    },
    {
     "data": {
      "text/plain": [
       "Text(0.5, 1.0, 'KNN SMOTE')"
      ]
     },
     "execution_count": 18,
     "metadata": {},
     "output_type": "execute_result"
    },
    {
     "data": {
      "image/png": "[encoded data removed]",
      "text/plain": [
       "<Figure size 432x288 with 2 Axes>"
      ]
     },
     "metadata": {
      "needs_background": "light"
     },
     "output_type": "display_data"
    },
    {
     "data": {
      "image/png": "[encoded data removed]",
      "text/plain": [
       "<Figure size 432x288 with 2 Axes>"
      ]
     },
     "metadata": {
      "needs_background": "light"
     },
     "output_type": "display_data"
    }
   ],
   "source": [
    "from sklearn.metrics import plot_confusion_matrix\n",
    "import matplotlib.pyplot as plt\n",
    "plot_confusion_matrix(pipe_1, X_test, y_test, display_labels=['Not Click (0)','Click (1)'])\n",
    "plt.title('Decision Tree Balanced Weights Dataset')\n",
    "\n",
    "plot_confusion_matrix(pipe_2, X_test, y_test, display_labels=['Not Click (0)','Click (1)'])\n",
    "# plt.title('Decision Tree Undersampling Majority Class')\n",
    "plt.title('KNN SMOTE')\n",
    "\n",
    "plt.show()"
   ]
  }
 ],
 "metadata": {
  "kernelspec": {
   "display_name": "mlcourse",
   "language": "python",
   "name": "mlcourse"
  },
  "language_info": {
   "codemirror_mode": {
    "name": "ipython",
    "version": 3
   },
   "file_extension": ".py",
   "mimetype": "text/x-python",
   "name": "python",
   "nbconvert_exporter": "python",
   "pygments_lexer": "ipython3",
   "version": "3.8.8"
  }
 },
 "nbformat": 4,
 "nbformat_minor": 2
}
