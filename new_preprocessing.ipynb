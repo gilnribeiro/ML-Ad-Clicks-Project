{
 "cells": [
  {
   "cell_type": "code",
   "execution_count": 1,
   "metadata": {},
   "outputs": [],
   "source": [
    "import pandas as pd\r\n",
    "import numpy as np\r\n",
    "# allow multiple outputs per cell\r\n",
    "from IPython.core.interactiveshell import InteractiveShell\r\n",
    "InteractiveShell.ast_node_interactivity = \"all\""
   ]
  },
  {
   "cell_type": "markdown",
   "metadata": {},
   "source": [
    "# Load Treated dataset from EDA"
   ]
  },
  {
   "cell_type": "code",
   "execution_count": 2,
   "metadata": {},
   "outputs": [
    {
     "data": {
      "text/html": "<div>\n<style scoped>\n    .dataframe tbody tr th:only-of-type {\n        vertical-align: middle;\n    }\n\n    .dataframe tbody tr th {\n        vertical-align: top;\n    }\n\n    .dataframe thead th {\n        text-align: right;\n    }\n</style>\n<table border=\"1\" class=\"dataframe\">\n  <thead>\n    <tr style=\"text-align: right;\">\n      <th></th>\n      <th>id</th>\n      <th>click</th>\n      <th>hour</th>\n      <th>C1</th>\n      <th>banner_pos</th>\n      <th>site_id</th>\n      <th>site_domain</th>\n      <th>site_category</th>\n      <th>app_id</th>\n      <th>app_domain</th>\n      <th>...</th>\n      <th>C15</th>\n      <th>C16</th>\n      <th>C17</th>\n      <th>C18</th>\n      <th>C19</th>\n      <th>C20</th>\n      <th>C21</th>\n      <th>hour_of_day</th>\n      <th>day</th>\n      <th>weekday</th>\n    </tr>\n  </thead>\n  <tbody>\n    <tr>\n      <th>0</th>\n      <td>6.448465e+18</td>\n      <td>0</td>\n      <td>2014-10-28 06:00:00</td>\n      <td>1005</td>\n      <td>0</td>\n      <td>d6137915</td>\n      <td>bb1ef334</td>\n      <td>f028772b</td>\n      <td>ecad2386</td>\n      <td>7801e8d9</td>\n      <td>...</td>\n      <td>320</td>\n      <td>50</td>\n      <td>2227</td>\n      <td>0</td>\n      <td>935</td>\n      <td>-1</td>\n      <td>48</td>\n      <td>6</td>\n      <td>28</td>\n      <td>Tuesday</td>\n    </tr>\n    <tr>\n      <th>1</th>\n      <td>1.342805e+19</td>\n      <td>0</td>\n      <td>2014-10-23 07:00:00</td>\n      <td>1002</td>\n      <td>0</td>\n      <td>85f751fd</td>\n      <td>c4e18dd6</td>\n      <td>50e219e0</td>\n      <td>9a08a110</td>\n      <td>7801e8d9</td>\n      <td>...</td>\n      <td>320</td>\n      <td>50</td>\n      <td>2495</td>\n      <td>2</td>\n      <td>167</td>\n      <td>-1</td>\n      <td>23</td>\n      <td>7</td>\n      <td>23</td>\n      <td>Thursday</td>\n    </tr>\n    <tr>\n      <th>2</th>\n      <td>1.048699e+19</td>\n      <td>0</td>\n      <td>2014-10-23 10:00:00</td>\n      <td>1005</td>\n      <td>0</td>\n      <td>9a28a858</td>\n      <td>64778742</td>\n      <td>f028772b</td>\n      <td>ecad2386</td>\n      <td>7801e8d9</td>\n      <td>...</td>\n      <td>300</td>\n      <td>250</td>\n      <td>2523</td>\n      <td>3</td>\n      <td>39</td>\n      <td>-1</td>\n      <td>221</td>\n      <td>10</td>\n      <td>23</td>\n      <td>Thursday</td>\n    </tr>\n    <tr>\n      <th>3</th>\n      <td>8.833733e+18</td>\n      <td>0</td>\n      <td>2014-10-23 07:00:00</td>\n      <td>1005</td>\n      <td>0</td>\n      <td>1fbe01fe</td>\n      <td>f3845767</td>\n      <td>28905ebd</td>\n      <td>ecad2386</td>\n      <td>7801e8d9</td>\n      <td>...</td>\n      <td>320</td>\n      <td>50</td>\n      <td>1722</td>\n      <td>0</td>\n      <td>35</td>\n      <td>-1</td>\n      <td>79</td>\n      <td>7</td>\n      <td>23</td>\n      <td>Thursday</td>\n    </tr>\n    <tr>\n      <th>4</th>\n      <td>1.035453e+19</td>\n      <td>0</td>\n      <td>2014-10-28 11:00:00</td>\n      <td>1005</td>\n      <td>0</td>\n      <td>85f751fd</td>\n      <td>c4e18dd6</td>\n      <td>50e219e0</td>\n      <td>a5184c22</td>\n      <td>b8d325c3</td>\n      <td>...</td>\n      <td>320</td>\n      <td>50</td>\n      <td>2676</td>\n      <td>0</td>\n      <td>35</td>\n      <td>100176</td>\n      <td>221</td>\n      <td>11</td>\n      <td>28</td>\n      <td>Tuesday</td>\n    </tr>\n  </tbody>\n</table>\n<p>5 rows × 27 columns</p>\n</div>",
      "text/plain": [
       "             id  click                 hour    C1  banner_pos   site_id  \\\n",
       "0  6.448465e+18      0  2014-10-28 06:00:00  1005           0  d6137915   \n",
       "1  1.342805e+19      0  2014-10-23 07:00:00  1002           0  85f751fd   \n",
       "2  1.048699e+19      0  2014-10-23 10:00:00  1005           0  9a28a858   \n",
       "3  8.833733e+18      0  2014-10-23 07:00:00  1005           0  1fbe01fe   \n",
       "4  1.035453e+19      0  2014-10-28 11:00:00  1005           0  85f751fd   \n",
       "\n",
       "  site_domain site_category    app_id app_domain  ...  C15  C16   C17 C18  \\\n",
       "0    bb1ef334      f028772b  ecad2386   7801e8d9  ...  320   50  2227   0   \n",
       "1    c4e18dd6      50e219e0  9a08a110   7801e8d9  ...  320   50  2495   2   \n",
       "2    64778742      f028772b  ecad2386   7801e8d9  ...  300  250  2523   3   \n",
       "3    f3845767      28905ebd  ecad2386   7801e8d9  ...  320   50  1722   0   \n",
       "4    c4e18dd6      50e219e0  a5184c22   b8d325c3  ...  320   50  2676   0   \n",
       "\n",
       "   C19     C20  C21  hour_of_day  day   weekday  \n",
       "0  935      -1   48            6   28   Tuesday  \n",
       "1  167      -1   23            7   23  Thursday  \n",
       "2   39      -1  221           10   23  Thursday  \n",
       "3   35      -1   79            7   23  Thursday  \n",
       "4   35  100176  221           11   28   Tuesday  \n",
       "\n",
       "[5 rows x 27 columns]"
      ]
     },
     "execution_count": 2,
     "metadata": {},
     "output_type": "execute_result"
    },
    {
     "data": {
      "text/plain": [
       "(100000, 27)"
      ]
     },
     "execution_count": 2,
     "metadata": {},
     "output_type": "execute_result"
    }
   ],
   "source": [
    "df = pd.read_csv(\"ad_clicks_100k_Treated.csv\")\r\n",
    "df.drop(columns=\"Unnamed: 0\", inplace=True)\r\n",
    "df.head()\r\n",
    "df.shape"
   ]
  },
  {
   "cell_type": "markdown",
   "metadata": {},
   "source": [
    "### Drop features that will not go into the model\r\n",
    "- `id` (We do not need the variable ID as predictor, it does not make sense to use)\r\n",
    "- `hour` (because hour was broken down into (day, weekday, hour_of_day)) \r\n",
    "- `day` (because we find that it will add no significant predictive value that makes sense in any future application, i.e. the dataset covers 10 days of the year and we have no way to know if any of those days is representative of the year, or if there was something exceptional happening. By using `hour_of_day` and `weekday` we average these values and thus make this possible effect less significant)   \r\n",
    "- `device_ip` and `device_id`"
   ]
  },
  {
   "cell_type": "code",
   "execution_count": 3,
   "metadata": {},
   "outputs": [
    {
     "data": {
      "text/html": "<div>\n<style scoped>\n    .dataframe tbody tr th:only-of-type {\n        vertical-align: middle;\n    }\n\n    .dataframe tbody tr th {\n        vertical-align: top;\n    }\n\n    .dataframe thead th {\n        text-align: right;\n    }\n</style>\n<table border=\"1\" class=\"dataframe\">\n  <thead>\n    <tr style=\"text-align: right;\">\n      <th></th>\n      <th>click</th>\n      <th>C1</th>\n      <th>banner_pos</th>\n      <th>site_id</th>\n      <th>site_domain</th>\n      <th>site_category</th>\n      <th>app_id</th>\n      <th>app_domain</th>\n      <th>app_category</th>\n      <th>device_model</th>\n      <th>...</th>\n      <th>C14</th>\n      <th>C15</th>\n      <th>C16</th>\n      <th>C17</th>\n      <th>C18</th>\n      <th>C19</th>\n      <th>C20</th>\n      <th>C21</th>\n      <th>hour_of_day</th>\n      <th>weekday</th>\n    </tr>\n  </thead>\n  <tbody>\n    <tr>\n      <th>0</th>\n      <td>0</td>\n      <td>1005</td>\n      <td>0</td>\n      <td>d6137915</td>\n      <td>bb1ef334</td>\n      <td>f028772b</td>\n      <td>ecad2386</td>\n      <td>7801e8d9</td>\n      <td>07d7df22</td>\n      <td>9efa421a</td>\n      <td>...</td>\n      <td>19771</td>\n      <td>320</td>\n      <td>50</td>\n      <td>2227</td>\n      <td>0</td>\n      <td>935</td>\n      <td>-1</td>\n      <td>48</td>\n      <td>6</td>\n      <td>Tuesday</td>\n    </tr>\n    <tr>\n      <th>1</th>\n      <td>0</td>\n      <td>1002</td>\n      <td>0</td>\n      <td>85f751fd</td>\n      <td>c4e18dd6</td>\n      <td>50e219e0</td>\n      <td>9a08a110</td>\n      <td>7801e8d9</td>\n      <td>07d7df22</td>\n      <td>02d14ecc</td>\n      <td>...</td>\n      <td>21676</td>\n      <td>320</td>\n      <td>50</td>\n      <td>2495</td>\n      <td>2</td>\n      <td>167</td>\n      <td>-1</td>\n      <td>23</td>\n      <td>7</td>\n      <td>Thursday</td>\n    </tr>\n    <tr>\n      <th>2</th>\n      <td>0</td>\n      <td>1005</td>\n      <td>0</td>\n      <td>9a28a858</td>\n      <td>64778742</td>\n      <td>f028772b</td>\n      <td>ecad2386</td>\n      <td>7801e8d9</td>\n      <td>07d7df22</td>\n      <td>ecb851b2</td>\n      <td>...</td>\n      <td>21837</td>\n      <td>300</td>\n      <td>250</td>\n      <td>2523</td>\n      <td>3</td>\n      <td>39</td>\n      <td>-1</td>\n      <td>221</td>\n      <td>10</td>\n      <td>Thursday</td>\n    </tr>\n    <tr>\n      <th>3</th>\n      <td>0</td>\n      <td>1005</td>\n      <td>0</td>\n      <td>1fbe01fe</td>\n      <td>f3845767</td>\n      <td>28905ebd</td>\n      <td>ecad2386</td>\n      <td>7801e8d9</td>\n      <td>07d7df22</td>\n      <td>779d90c2</td>\n      <td>...</td>\n      <td>15706</td>\n      <td>320</td>\n      <td>50</td>\n      <td>1722</td>\n      <td>0</td>\n      <td>35</td>\n      <td>-1</td>\n      <td>79</td>\n      <td>7</td>\n      <td>Thursday</td>\n    </tr>\n    <tr>\n      <th>4</th>\n      <td>0</td>\n      <td>1005</td>\n      <td>0</td>\n      <td>85f751fd</td>\n      <td>c4e18dd6</td>\n      <td>50e219e0</td>\n      <td>a5184c22</td>\n      <td>b8d325c3</td>\n      <td>0f2161f8</td>\n      <td>dc15c87e</td>\n      <td>...</td>\n      <td>23224</td>\n      <td>320</td>\n      <td>50</td>\n      <td>2676</td>\n      <td>0</td>\n      <td>35</td>\n      <td>100176</td>\n      <td>221</td>\n      <td>11</td>\n      <td>Tuesday</td>\n    </tr>\n  </tbody>\n</table>\n<p>5 rows × 22 columns</p>\n</div>",
      "text/plain": [
       "   click    C1  banner_pos   site_id site_domain site_category    app_id  \\\n",
       "0      0  1005           0  d6137915    bb1ef334      f028772b  ecad2386   \n",
       "1      0  1002           0  85f751fd    c4e18dd6      50e219e0  9a08a110   \n",
       "2      0  1005           0  9a28a858    64778742      f028772b  ecad2386   \n",
       "3      0  1005           0  1fbe01fe    f3845767      28905ebd  ecad2386   \n",
       "4      0  1005           0  85f751fd    c4e18dd6      50e219e0  a5184c22   \n",
       "\n",
       "  app_domain app_category device_model  ...    C14  C15  C16   C17  C18  C19  \\\n",
       "0   7801e8d9     07d7df22     9efa421a  ...  19771  320   50  2227    0  935   \n",
       "1   7801e8d9     07d7df22     02d14ecc  ...  21676  320   50  2495    2  167   \n",
       "2   7801e8d9     07d7df22     ecb851b2  ...  21837  300  250  2523    3   39   \n",
       "3   7801e8d9     07d7df22     779d90c2  ...  15706  320   50  1722    0   35   \n",
       "4   b8d325c3     0f2161f8     dc15c87e  ...  23224  320   50  2676    0   35   \n",
       "\n",
       "      C20  C21  hour_of_day   weekday  \n",
       "0      -1   48            6   Tuesday  \n",
       "1      -1   23            7  Thursday  \n",
       "2      -1  221           10  Thursday  \n",
       "3      -1   79            7  Thursday  \n",
       "4  100176  221           11   Tuesday  \n",
       "\n",
       "[5 rows x 22 columns]"
      ]
     },
     "execution_count": 3,
     "metadata": {},
     "output_type": "execute_result"
    },
    {
     "data": {
      "text/plain": [
       "(100000, 22)"
      ]
     },
     "execution_count": 3,
     "metadata": {},
     "output_type": "execute_result"
    }
   ],
   "source": [
    "df.drop(columns=['id','hour','device_ip','device_id','day'], inplace=True)\r\n",
    "df.head()\r\n",
    "df.shape"
   ]
  },
  {
   "cell_type": "markdown",
   "metadata": {},
   "source": [
    "## Pre-processing:\r\n",
    "- One Hot encoding for low cardinality features (1 to 5 unique categories)\r\n",
    "- Label encoding for medium cardinality features (5 to 100 unique categories)\r\n",
    "- Target encoding for high cardinality features (100+ unique categories)\r\n",
    "    - (Since it has to be done within Cross Validation we will filter and add to a list the features we consider to have high cardinality)\r\n",
    "\r\n",
    "- Numerical Features: `hour_of_day` will not be encoded (it already is a discrete variable)"
   ]
  },
  {
   "cell_type": "code",
   "execution_count": 4,
   "metadata": {},
   "outputs": [],
   "source": [
    "from sklearn.preprocessing import OneHotEncoder\r\n",
    "from sklearn.preprocessing import LabelEncoder\r\n",
    "from sklearn.compose import make_column_transformer"
   ]
  },
  {
   "cell_type": "code",
   "execution_count": 5,
   "metadata": {},
   "outputs": [
    {
     "name": "stdout",
     "output_type": "stream",
     "text": [
      "Features with dtype \"O\" ['site_id', 'site_domain', 'site_category', 'app_id', 'app_domain', 'app_category', 'device_model', 'weekday']\n",
      "Categorical Features (already with discrete values) ['C1', 'banner_pos', 'device_type', 'device_conn_type', 'C14', 'C15', 'C16', 'C17', 'C18', 'C19', 'C20', 'C21']\n"
     ]
    }
   ],
   "source": [
    "# Split into features type \"O\" and already encoded features\r\n",
    "categorical_columns = [i for i in list(df.columns) if df[i].dtypes in [\"O\"] and i not in ['id','hour','hour_of_day','click']]\r\n",
    "encoded_categorical_columns = [i for i in list(df.columns) if df[i].dtypes not in [\"O\"] and i not in ['id','hour','hour_of_day','click']]\r\n",
    "print(f'Features with dtype \"O\" {categorical_columns}')\r\n",
    "print(f'Categorical Features (already with discrete values) {encoded_categorical_columns}')\r\n"
   ]
  },
  {
   "cell_type": "code",
   "execution_count": 6,
   "metadata": {},
   "outputs": [
    {
     "data": {
      "text/plain": [
       "LabelEncoder()"
      ]
     },
     "execution_count": 6,
     "metadata": {},
     "output_type": "execute_result"
    },
    {
     "data": {
      "text/plain": [
       "LabelEncoder()"
      ]
     },
     "execution_count": 6,
     "metadata": {},
     "output_type": "execute_result"
    },
    {
     "data": {
      "text/plain": [
       "LabelEncoder()"
      ]
     },
     "execution_count": 6,
     "metadata": {},
     "output_type": "execute_result"
    },
    {
     "data": {
      "text/plain": [
       "LabelEncoder()"
      ]
     },
     "execution_count": 6,
     "metadata": {},
     "output_type": "execute_result"
    },
    {
     "data": {
      "text/plain": [
       "LabelEncoder()"
      ]
     },
     "execution_count": 6,
     "metadata": {},
     "output_type": "execute_result"
    },
    {
     "data": {
      "text/plain": [
       "LabelEncoder()"
      ]
     },
     "execution_count": 6,
     "metadata": {},
     "output_type": "execute_result"
    },
    {
     "data": {
      "text/plain": [
       "LabelEncoder()"
      ]
     },
     "execution_count": 6,
     "metadata": {},
     "output_type": "execute_result"
    },
    {
     "data": {
      "text/plain": [
       "LabelEncoder()"
      ]
     },
     "execution_count": 6,
     "metadata": {},
     "output_type": "execute_result"
    },
    {
     "name": "stdout",
     "output_type": "stream",
     "text": [
      "['site_id', 'site_domain', 'site_category', 'app_id', 'app_domain', 'app_category', 'device_model', 'weekday', 'C1', 'banner_pos', 'device_type', 'device_conn_type', 'C14', 'C15', 'C16', 'C17', 'C18', 'C19', 'C20', 'C21']\n"
     ]
    }
   ],
   "source": [
    "# Transform features type \"O\" with label encoder\r\n",
    "for i in categorical_columns:\r\n",
    "    label_encoder = []\r\n",
    "    le = LabelEncoder()\r\n",
    "    le.fit(df[i])    \r\n",
    "    label_encoder.append(le)\r\n",
    "    df[i] = le.transform(df[i])\r\n",
    "\r\n",
    "all_features = categorical_columns + encoded_categorical_columns\r\n",
    "print(all_features)"
   ]
  },
  {
   "cell_type": "markdown",
   "metadata": {},
   "source": [
    "## Apply \r\n",
    "- One Hot encoding for low cardinality features (1 to 5 unique categories)\r\n",
    "- Label encoding for medium cardinality features (5 to 100 unique categories)\r\n",
    "- Target encoding for high cardinality features (100+ unique categories)"
   ]
  },
  {
   "cell_type": "code",
   "execution_count": 7,
   "metadata": {},
   "outputs": [
    {
     "name": "stdout",
     "output_type": "stream",
     "text": [
      "Previus Dataset Shape ->>  (100000, 22)\n",
      "Shape After Encoding  ->>  (100000, 31) \n",
      "\n",
      "One Hot Encoding the following features: ['device_type', 'device_conn_type', 'C18']\n",
      "Label Encoding the following features: ['site_category', 'app_domain', 'app_category', 'weekday', 'C1', 'banner_pos', 'C15', 'C16', 'C19', 'C21']\n",
      "Selected for Target Encoding: ['site_id', 'site_domain', 'app_id', 'device_model', 'C14', 'C17', 'C20']\n"
     ]
    },
    {
     "data": {
      "text/html": "<div>\n<style scoped>\n    .dataframe tbody tr th:only-of-type {\n        vertical-align: middle;\n    }\n\n    .dataframe tbody tr th {\n        vertical-align: top;\n    }\n\n    .dataframe thead th {\n        text-align: right;\n    }\n</style>\n<table border=\"1\" class=\"dataframe\">\n  <thead>\n    <tr style=\"text-align: right;\">\n      <th></th>\n      <th>click</th>\n      <th>C1</th>\n      <th>banner_pos</th>\n      <th>site_id</th>\n      <th>site_domain</th>\n      <th>site_category</th>\n      <th>app_id</th>\n      <th>app_domain</th>\n      <th>app_category</th>\n      <th>device_model</th>\n      <th>...</th>\n      <th>device_type_4</th>\n      <th>device_type_5</th>\n      <th>device_conn_type_0</th>\n      <th>device_conn_type_2</th>\n      <th>device_conn_type_3</th>\n      <th>device_conn_type_5</th>\n      <th>C18_0</th>\n      <th>C18_1</th>\n      <th>C18_2</th>\n      <th>C18_3</th>\n    </tr>\n  </thead>\n  <tbody>\n    <tr>\n      <th>0</th>\n      <td>0</td>\n      <td>1005</td>\n      <td>0</td>\n      <td>1215</td>\n      <td>998</td>\n      <td>17</td>\n      <td>1195</td>\n      <td>41</td>\n      <td>0</td>\n      <td>1956</td>\n      <td>...</td>\n      <td>0</td>\n      <td>0</td>\n      <td>1</td>\n      <td>0</td>\n      <td>0</td>\n      <td>0</td>\n      <td>1</td>\n      <td>0</td>\n      <td>0</td>\n      <td>0</td>\n    </tr>\n    <tr>\n      <th>1</th>\n      <td>0</td>\n      <td>1002</td>\n      <td>0</td>\n      <td>770</td>\n      <td>1043</td>\n      <td>5</td>\n      <td>783</td>\n      <td>41</td>\n      <td>0</td>\n      <td>36</td>\n      <td>...</td>\n      <td>0</td>\n      <td>0</td>\n      <td>1</td>\n      <td>0</td>\n      <td>0</td>\n      <td>0</td>\n      <td>0</td>\n      <td>0</td>\n      <td>1</td>\n      <td>0</td>\n    </tr>\n    <tr>\n      <th>2</th>\n      <td>0</td>\n      <td>1005</td>\n      <td>0</td>\n      <td>890</td>\n      <td>535</td>\n      <td>17</td>\n      <td>1195</td>\n      <td>41</td>\n      <td>0</td>\n      <td>2936</td>\n      <td>...</td>\n      <td>0</td>\n      <td>0</td>\n      <td>1</td>\n      <td>0</td>\n      <td>0</td>\n      <td>0</td>\n      <td>0</td>\n      <td>0</td>\n      <td>0</td>\n      <td>1</td>\n    </tr>\n    <tr>\n      <th>3</th>\n      <td>0</td>\n      <td>1005</td>\n      <td>0</td>\n      <td>167</td>\n      <td>1261</td>\n      <td>1</td>\n      <td>1195</td>\n      <td>41</td>\n      <td>0</td>\n      <td>1476</td>\n      <td>...</td>\n      <td>0</td>\n      <td>0</td>\n      <td>1</td>\n      <td>0</td>\n      <td>0</td>\n      <td>0</td>\n      <td>1</td>\n      <td>0</td>\n      <td>0</td>\n      <td>0</td>\n    </tr>\n    <tr>\n      <th>4</th>\n      <td>0</td>\n      <td>1005</td>\n      <td>0</td>\n      <td>770</td>\n      <td>1043</td>\n      <td>5</td>\n      <td>842</td>\n      <td>67</td>\n      <td>3</td>\n      <td>2746</td>\n      <td>...</td>\n      <td>0</td>\n      <td>0</td>\n      <td>0</td>\n      <td>1</td>\n      <td>0</td>\n      <td>0</td>\n      <td>1</td>\n      <td>0</td>\n      <td>0</td>\n      <td>0</td>\n    </tr>\n  </tbody>\n</table>\n<p>5 rows × 31 columns</p>\n</div>",
      "text/plain": [
       "   click    C1  banner_pos  site_id  site_domain  site_category  app_id  \\\n",
       "0      0  1005           0     1215          998             17    1195   \n",
       "1      0  1002           0      770         1043              5     783   \n",
       "2      0  1005           0      890          535             17    1195   \n",
       "3      0  1005           0      167         1261              1    1195   \n",
       "4      0  1005           0      770         1043              5     842   \n",
       "\n",
       "   app_domain  app_category  device_model  ...  device_type_4  device_type_5  \\\n",
       "0          41             0          1956  ...              0              0   \n",
       "1          41             0            36  ...              0              0   \n",
       "2          41             0          2936  ...              0              0   \n",
       "3          41             0          1476  ...              0              0   \n",
       "4          67             3          2746  ...              0              0   \n",
       "\n",
       "   device_conn_type_0  device_conn_type_2  device_conn_type_3  \\\n",
       "0                   1                   0                   0   \n",
       "1                   1                   0                   0   \n",
       "2                   1                   0                   0   \n",
       "3                   1                   0                   0   \n",
       "4                   0                   1                   0   \n",
       "\n",
       "   device_conn_type_5  C18_0  C18_1  C18_2  C18_3  \n",
       "0                   0      1      0      0      0  \n",
       "1                   0      0      0      1      0  \n",
       "2                   0      0      0      0      1  \n",
       "3                   0      1      0      0      0  \n",
       "4                   0      1      0      0      0  \n",
       "\n",
       "[5 rows x 31 columns]"
      ]
     },
     "execution_count": 7,
     "metadata": {},
     "output_type": "execute_result"
    }
   ],
   "source": [
    "data = df.copy()\r\n",
    "one_hot = []\r\n",
    "label_enc = []\r\n",
    "target_enc = []\r\n",
    "for i in all_features:\r\n",
    "    if len(df[i].unique()) <= 5:\r\n",
    "        # One hot encoding\r\n",
    "        one_hot.append(i)\r\n",
    "        data = pd.concat([data, pd.get_dummies(df[i], prefix=i)],axis=1)\r\n",
    "        # Drop the original column\r\n",
    "        data.drop(columns=[i], inplace=True)\r\n",
    "    elif 100 >= len(df[i].unique()) > 5:\r\n",
    "        # Label encoding\r\n",
    "        label_enc.append(i)\r\n",
    "    elif len(df[i].unique()) > 100:\r\n",
    "        # Mean encoding\r\n",
    "        target_enc.append(i)\r\n",
    "\r\n",
    "print('Previus Dataset Shape ->> ', df.shape)\r\n",
    "print('Shape After Encoding  ->> ', data.shape, '\\n')\r\n",
    "print(f'One Hot Encoding the following features: {one_hot}')\r\n",
    "print(f'Label Encoding the following features: {label_enc}')\r\n",
    "print(f'Selected for Target Encoding: {target_enc}')\r\n",
    "data.head()"
   ]
  },
  {
   "cell_type": "code",
   "execution_count": 8,
   "metadata": {},
   "outputs": [
    {
     "data": {
      "text/plain": [
       "Index(['click', 'C1', 'banner_pos', 'site_id', 'site_domain', 'site_category',\n",
       "       'app_id', 'app_domain', 'app_category', 'device_model', 'C14', 'C15',\n",
       "       'C16', 'C17', 'C19', 'C20', 'C21', 'hour_of_day', 'weekday',\n",
       "       'device_type_0', 'device_type_1', 'device_type_4', 'device_type_5',\n",
       "       'device_conn_type_0', 'device_conn_type_2', 'device_conn_type_3',\n",
       "       'device_conn_type_5', 'C18_0', 'C18_1', 'C18_2', 'C18_3'],\n",
       "      dtype='object')"
      ]
     },
     "execution_count": 8,
     "metadata": {},
     "output_type": "execute_result"
    }
   ],
   "source": [
    "data.columns"
   ]
  },
  {
   "cell_type": "markdown",
   "metadata": {},
   "source": [
    "## Lets take a closer look at the high cardinality features"
   ]
  },
  {
   "cell_type": "code",
   "execution_count": 9,
   "metadata": {},
   "outputs": [
    {
     "name": "stdout",
     "output_type": "stream",
     "text": [
      "site_id has 1461 unique categories\n",
      "site_domain has 1333 unique categories\n",
      "app_id has 1296 unique categories\n",
      "device_model has 3167 unique categories\n",
      "C14 has 1713 unique categories\n",
      "C17 has 399 unique categories\n",
      "C20 has 157 unique categories\n"
     ]
    }
   ],
   "source": [
    "for i in target_enc:\r\n",
    "    print(f'{i} has {len(data[i].unique())} unique categories')"
   ]
  },
  {
   "cell_type": "markdown",
   "metadata": {},
   "source": [
    "## Split the Dataset"
   ]
  },
  {
   "cell_type": "code",
   "execution_count": 10,
   "metadata": {},
   "outputs": [
    {
     "data": {
      "text/plain": [
       "(80000, 30)"
      ]
     },
     "execution_count": 10,
     "metadata": {},
     "output_type": "execute_result"
    },
    {
     "data": {
      "text/plain": [
       "(80000,)"
      ]
     },
     "execution_count": 10,
     "metadata": {},
     "output_type": "execute_result"
    },
    {
     "data": {
      "text/plain": [
       "(20000, 30)"
      ]
     },
     "execution_count": 10,
     "metadata": {},
     "output_type": "execute_result"
    },
    {
     "data": {
      "text/plain": [
       "(20000,)"
      ]
     },
     "execution_count": 10,
     "metadata": {},
     "output_type": "execute_result"
    }
   ],
   "source": [
    "from sklearn.model_selection import train_test_split\r\n",
    "\r\n",
    "X = data.drop(columns=['click'])\r\n",
    "y = data['click']\r\n",
    "\r\n",
    "X_train, X_test, y_train, y_test = train_test_split(X, y, random_state=42, test_size=0.2)\r\n",
    "X_train.shape\r\n",
    "y_train.shape\r\n",
    "X_test.shape\r\n",
    "y_test.shape"
   ]
  },
  {
   "cell_type": "markdown",
   "metadata": {},
   "source": [
    "# Modeling"
   ]
  },
  {
   "cell_type": "code",
   "execution_count": 11,
   "metadata": {},
   "outputs": [],
   "source": [
    "# Imports\r\n",
    "from imblearn.pipeline import Pipeline\r\n",
    "from sklearn.model_selection import GridSearchCV, RandomizedSearchCV\r\n",
    "from sklearn.tree import DecisionTreeClassifier\r\n",
    "from imblearn.over_sampling import SMOTE\r\n",
    "from imblearn.over_sampling import RandomOverSampler\r\n",
    "from sklearn.linear_model import LogisticRegression\r\n",
    "from imblearn.under_sampling import RandomUnderSampler\r\n",
    "import numpy as np\r\n",
    "from category_encoders.target_encoder import TargetEncoder\r\n",
    "\r\n",
    "from sklearn.model_selection import train_test_split\r\n",
    "from imblearn.pipeline import make_pipeline \r\n",
    "from sklearn.preprocessing import StandardScaler\r\n",
    "from sklearn.neighbors import KNeighborsClassifier\r\n",
    "from sklearn.metrics import classification_report, f1_score, make_scorer, accuracy_score, precision_score, recall_score, roc_auc_score\r\n",
    "from sklearn.model_selection import cross_validate\r\n",
    "from sklearn.metrics import plot_confusion_matrix\r\n",
    "import matplotlib.pyplot as plt\r\n",
    "\r\n",
    "# Ensemble methods\r\n",
    "from sklearn.tree import DecisionTreeClassifier \r\n",
    "from sklearn.linear_model import LogisticRegression\r\n",
    "from sklearn.ensemble import VotingClassifier\r\n",
    "from sklearn.neighbors import KNeighborsClassifier\r\n",
    "\r\n",
    "from sklearn.linear_model import LogisticRegression\r\n",
    "from sklearn.ensemble import StackingClassifier\r\n",
    "from sklearn.ensemble import RandomForestClassifier\r\n",
    "from sklearn.ensemble import AdaBoostClassifier\r\n",
    "\r\n",
    "# Boosting \r\n",
    "from catboost import CatBoostClassifier\r\n",
    "\r\n",
    "# Stats (util)\r\n",
    "from scipy.stats import randint as sp_randInt\r\n",
    "from scipy.stats import uniform as sp_randFloat"
   ]
  },
  {
   "cell_type": "markdown",
   "metadata": {},
   "source": [
    "## KNN Classifier"
   ]
  },
  {
   "cell_type": "code",
   "execution_count": 12,
   "metadata": {},
   "outputs": [
    {
     "data": {
      "text/plain": [
       "GridSearchCV(cv=10,\n",
       "             estimator=Pipeline(steps=[('sampling', RandomOverSampler()),\n",
       "                                       ('transformer',\n",
       "                                        TargetEncoder(cols=['site_id',\n",
       "                                                            'site_domain',\n",
       "                                                            'app_id',\n",
       "                                                            'device_model',\n",
       "                                                            'C14', 'C17',\n",
       "                                                            'C20'])),\n",
       "                                       ('scaler', StandardScaler()),\n",
       "                                       ('classifier', KNeighborsClassifier())]),\n",
       "             param_grid=[{'classifier': [KNeighborsClassifier()],\n",
       "                          'classifier__n_neighbors': [2, 3, 4, 5],\n",
       "                          'classifier__weights': ['uniform', 'distance'],\n",
       "                          'sampling': [RandomUnderSampler(),\n",
       "                                       RandomOverSampler(), SMOTE()],\n",
       "                          'scaler': [StandardScaler()],\n",
       "                          'transformer': [TargetEncoder(cols=['site_id',\n",
       "                                                              'site_domain',\n",
       "                                                              'app_id',\n",
       "                                                              'device_model',\n",
       "                                                              'C14', 'C17',\n",
       "                                                              'C20'])]}],\n",
       "             scoring='f1')"
      ]
     },
     "execution_count": 12,
     "metadata": {},
     "output_type": "execute_result"
    },
    {
     "name": "stdout",
     "output_type": "stream",
     "text": [
      "Best cross-validation score: 0.36\n",
      "Best params:\n",
      "{'classifier': KNeighborsClassifier(), 'classifier__n_neighbors': 5, 'classifier__weights': 'uniform', 'sampling': RandomUnderSampler(), 'scaler': StandardScaler(), 'transformer': TargetEncoder(cols=['site_id', 'site_domain', 'app_id', 'device_model', 'C14',\n",
      "                    'C17', 'C20'])}\n",
      "\n"
     ]
    }
   ],
   "source": [
    "pipe = Pipeline([('sampling', RandomOverSampler()), \r\n",
    "                 ('transformer', TargetEncoder(cols=target_enc)),\r\n",
    "                 ('scaler', StandardScaler()), \r\n",
    "                 ('classifier', KNeighborsClassifier())])\r\n",
    "param_grid = [\r\n",
    "    {'classifier': [KNeighborsClassifier()], \r\n",
    "     'scaler': [StandardScaler()],\r\n",
    "     'transformer': [TargetEncoder(cols=target_enc)],\r\n",
    "     'sampling': [RandomUnderSampler(), RandomOverSampler(), SMOTE()],\r\n",
    "     'classifier__n_neighbors': [2, 3, 4, 5],\r\n",
    "     'classifier__weights': ['uniform', 'distance']}, \r\n",
    "]\r\n",
    "knn_grid = GridSearchCV(pipe, param_grid, cv=10, scoring = 'f1')\r\n",
    "knn_grid.fit(X_train, y_train)\r\n",
    "knn_model = knn_grid.best_estimator_\r\n",
    "print(\"Best cross-validation score: {:.2f}\".format(knn_grid.best_score_))\r\n",
    "print(\"Best params:\\n{}\\n\".format(knn_grid.best_params_))"
   ]
  },
  {
   "cell_type": "code",
   "execution_count": 13,
   "metadata": {},
   "outputs": [],
   "source": [
    "knn_best_params = {'classifier': KNeighborsClassifier(), \r\n",
    "                   'classifier__n_neighbors': 5, \r\n",
    "                   'classifier__weights': 'uniform', \r\n",
    "                   'sampling': RandomUnderSampler(), \r\n",
    "                   'scaler': StandardScaler(), \r\n",
    "                   'transformer': TargetEncoder(cols=['site_id', 'site_domain', 'app_id', 'device_model', 'C14', 'C17', 'C20'])}"
   ]
  },
  {
   "cell_type": "markdown",
   "metadata": {},
   "source": [
    "# RANDOM FOREST"
   ]
  },
  {
   "cell_type": "markdown",
   "metadata": {},
   "source": [
    "## Simple Random Forest"
   ]
  },
  {
   "cell_type": "code",
   "execution_count": 34,
   "metadata": {},
   "outputs": [
    {
     "data": {
      "text/plain": [
       "GridSearchCV(cv=10,\n",
       "             estimator=Pipeline(steps=[('sampling', RandomOverSampler()),\n",
       "                                       ('transformer',\n",
       "                                        TargetEncoder(cols=['site_id',\n",
       "                                                            'site_domain',\n",
       "                                                            'app_id',\n",
       "                                                            'device_model',\n",
       "                                                            'C14', 'C17',\n",
       "                                                            'C20'])),\n",
       "                                       ('scaler', StandardScaler()),\n",
       "                                       ('classifier',\n",
       "                                        RandomForestClassifier())]),\n",
       "             param_grid=[{'classifier': [RandomForestClassifier()],\n",
       "                          'sampling': [None, RandomUnderSampler(),\n",
       "                                       RandomOverSampler(), SMOTE()],\n",
       "                          'scaler': [StandardScaler()],\n",
       "                          'transformer': [TargetEncoder(cols=['site_id',\n",
       "                                                              'site_domain',\n",
       "                                                              'app_id',\n",
       "                                                              'device_model',\n",
       "                                                              'C14', 'C17',\n",
       "                                                              'C20'])]}],\n",
       "             scoring='f1')"
      ]
     },
     "execution_count": 34,
     "metadata": {},
     "output_type": "execute_result"
    },
    {
     "name": "stdout",
     "output_type": "stream",
     "text": [
      "Best cross-validation scorerfc__simple_grid\n",
      "Best pararfc__simple_gridn\n"
     ]
    }
   ],
   "source": [
    "pipe = Pipeline([('sampling', RandomOverSampler()), \r\n",
    "                 ('transformer', TargetEncoder(cols=target_enc)),\r\n",
    "                 ('scaler', StandardScaler()), \r\n",
    "                 ('classifier', RandomForestClassifier())])\r\n",
    "param_grid = [\r\n",
    "    {'classifier': [RandomForestClassifier()], \r\n",
    "     'scaler': [StandardScaler()],\r\n",
    "     'transformer': [TargetEncoder(cols=target_enc)],\r\n",
    "     'sampling': [None, RandomUnderSampler(), RandomOverSampler(), SMOTE()]}\r\n",
    "]\r\n",
    "rfc_simple_grid = GridSearchCV(pipe, param_grid, cv=10, scoring = 'f1')\r\n",
    "rfc_simple_grid.fit(X_train, y_train)\r\n",
    "rfc_model = rfc_simple_grid.best_estimator_\r\n",
    "print(\"Best cross-validation scorerfc__simple_grid\".format(rfc_simple_grid.best_score_))\r\n",
    "print(\"Best pararfc__simple_gridn\".format(rfc_simple_grid.best_params_))"
   ]
  },
  {
   "cell_type": "markdown",
   "metadata": {},
   "source": [
    "## Hyper-parameter Tunning of Random Forest"
   ]
  },
  {
   "cell_type": "code",
   "execution_count": 24,
   "metadata": {},
   "outputs": [
    {
     "data": {
      "text/plain": [
       "RandomizedSearchCV(cv=10,\n",
       "                   estimator=Pipeline(steps=[('sampling', RandomOverSampler()),\n",
       "                                             ('transformer',\n",
       "                                              TargetEncoder(cols=['site_id',\n",
       "                                                                  'site_domain',\n",
       "                                                                  'app_id',\n",
       "                                                                  'device_model',\n",
       "                                                                  'C14', 'C17',\n",
       "                                                                  'C20'])),\n",
       "                                             ('scaler', StandardScaler()),\n",
       "                                             ('classifier',\n",
       "                                              RandomForestClassifier())]),\n",
       "                   n_iter=5,\n",
       "                   param_distributions=[{'classifier': [RandomForestClassifier(max_depth=39,\n",
       "                                                                               min_samples...\n",
       "                                         'classifier__min_samples_split': <scipy.stats._distn_infrastructure.rv_frozen object at 0x0000021D2119A8B0>,\n",
       "                                         'classifier__n_estimators': <scipy.stats._distn_infrastructure.rv_frozen object at 0x0000021D211AE6D0>,\n",
       "                                         'sampling': [RandomUnderSampler(),\n",
       "                                                      RandomOverSampler(),\n",
       "                                                      SMOTE()],\n",
       "                                         'scaler': [StandardScaler()],\n",
       "                                         'transformer': [TargetEncoder(cols=['site_id',\n",
       "                                                                             'site_domain',\n",
       "                                                                             'app_id',\n",
       "                                                                             'device_model',\n",
       "                                                                             'C14',\n",
       "                                                                             'C17',\n",
       "                                                                             'C20'])]}],\n",
       "                   random_state=42, scoring='f1')"
      ]
     },
     "execution_count": 24,
     "metadata": {},
     "output_type": "execute_result"
    },
    {
     "name": "stdout",
     "output_type": "stream",
     "text": [
      "Best cross-validation score: 0.40\n",
      "Best params:\n",
      "{'classifier': RandomForestClassifier(max_depth=39, min_samples_leaf=29, min_samples_split=15,\n",
      "                       n_estimators=206), 'classifier__max_depth': 39, 'classifier__min_samples_leaf': 29, 'classifier__min_samples_split': 15, 'classifier__n_estimators': 206, 'sampling': RandomUnderSampler(), 'scaler': StandardScaler(), 'transformer': TargetEncoder(cols=['site_id', 'site_domain', 'app_id', 'device_model', 'C14',\n",
      "                    'C17', 'C20'])}\n",
      "\n"
     ]
    }
   ],
   "source": [
    "pipe = Pipeline([('sampling', RandomOverSampler()), \n",
    "                 ('transformer', TargetEncoder(cols=target_enc)),\n",
    "                 ('scaler', StandardScaler()), \n",
    "                 ('classifier', RandomForestClassifier())])\n",
    "param_grid = [\n",
    "    {'classifier': [RandomForestClassifier()], \n",
    "     'scaler': [StandardScaler()],\n",
    "     'transformer': [TargetEncoder(cols=target_enc)],\n",
    "     'sampling': [RandomUnderSampler(), RandomOverSampler(), SMOTE()],\n",
    "     'classifier__n_estimators': sp_randInt(100, 1000),\n",
    "     'classifier__max_depth': sp_randInt(1, 50),\n",
    "     'classifier__min_samples_split': sp_randInt(1, 50),\n",
    "     'classifier__min_samples_leaf': sp_randInt(1, 50)}, \n",
    "]\n",
    "rfc_rand = RandomizedSearchCV(pipe, param_grid, cv=10, scoring = 'f1', n_iter=5, random_state=42)\n",
    "rfc_rand.fit(X_train, y_train)\n",
    "rfc_model = rfc_rand.best_estimator_\n",
    "print(\"Best cross-validation score: {:.2f}\".format(rfc_rand.best_score_))\n",
    "print(\"Best params:\\n{}\\n\".format(rfc_rand.best_params_))"
   ]
  },
  {
   "cell_type": "code",
   "execution_count": null,
   "metadata": {},
   "outputs": [],
   "source": [
    "rf_best_params = {'classifier': RandomForestClassifier(max_depth=39, min_samples_leaf=29, min_samples_split=15,\r\n",
    "                       n_estimators=206), 'classifier__max_depth': 39, 'classifier__min_samples_leaf': 29, \r\n",
    "                       'classifier__min_samples_split': 15, 'classifier__n_estimators': 206, 'sampling': RandomUnderSampler(), \r\n",
    "                       'scaler': StandardScaler(), 'transformer': TargetEncoder(cols=['site_id', 'site_domain', 'app_id', 'device_model', 'C14', 'C17', 'C20'])}"
   ]
  },
  {
   "cell_type": "markdown",
   "metadata": {},
   "source": [
    "# CATBOOST"
   ]
  },
  {
   "cell_type": "code",
   "execution_count": 26,
   "metadata": {},
   "outputs": [
    {
     "data": {
      "text/plain": [
       "RandomizedSearchCV(cv=10,\n",
       "                   estimator=Pipeline(steps=[('sampling', RandomUnderSampler()),\n",
       "                                             ('transformer',\n",
       "                                              TargetEncoder(cols=['site_id',\n",
       "                                                                  'site_domain',\n",
       "                                                                  'app_id',\n",
       "                                                                  'device_model',\n",
       "                                                                  'C14', 'C17',\n",
       "                                                                  'C20'])),\n",
       "                                             ('scaler', StandardScaler()),\n",
       "                                             ('classifier',\n",
       "                                              <catboost.core.CatBoostClassifier object at 0x0000021D2126AE20>)]),\n",
       "                   param_distributions=[{'classifier': [<catboost.core.CatB...\n",
       "                                         'classifier__l2_leaf_reg': <scipy.stats._distn_infrastructure.rv_frozen object at 0x0000021D2126C940>,\n",
       "                                         'classifier__learning_rate': <scipy.stats._distn_infrastructure.rv_frozen object at 0x0000021D2126A280>,\n",
       "                                         'sampling': [RandomUnderSampler()],\n",
       "                                         'scaler': [StandardScaler()],\n",
       "                                         'transformer': [TargetEncoder(cols=['site_id',\n",
       "                                                                             'site_domain',\n",
       "                                                                             'app_id',\n",
       "                                                                             'device_model',\n",
       "                                                                             'C14',\n",
       "                                                                             'C17',\n",
       "                                                                             'C20'])]}],\n",
       "                   random_state=42, scoring='f1')"
      ]
     },
     "execution_count": 26,
     "metadata": {},
     "output_type": "execute_result"
    },
    {
     "name": "stdout",
     "output_type": "stream",
     "text": [
      "Best cross-validation score: 0.39\n",
      "Best params:\n",
      "{'classifier': <catboost.core.CatBoostClassifier object at 0x0000021D2117A5B0>, 'classifier__depth': 8, 'classifier__l2_leaf_reg': 3, 'classifier__learning_rate': 0.020584494295802447, 'sampling': RandomUnderSampler(), 'scaler': StandardScaler(), 'transformer': TargetEncoder(cols=['site_id', 'site_domain', 'app_id', 'device_model', 'C14',\n",
      "                    'C17', 'C20'])}\n",
      "\n"
     ]
    }
   ],
   "source": [
    "catb = Pipeline([('sampling', RandomUnderSampler()),\n",
    "                 ('transformer', TargetEncoder(cols=target_enc)),\n",
    "                 ('scaler', StandardScaler()),\n",
    "                 ('classifier', CatBoostClassifier(verbose=False, auto_class_weights='Balanced', early_stopping_rounds=10))])\n",
    "\n",
    "param_grid= [\n",
    "        {'classifier': [CatBoostClassifier(verbose=False, auto_class_weights='Balanced', early_stopping_rounds=10)],\n",
    "         'scaler': [StandardScaler()],\n",
    "         'transformer': [TargetEncoder(cols=target_enc)],\n",
    "         'sampling': [RandomUnderSampler()], #, RandomOverSampler(), SMOTE()],\n",
    "         'classifier__learning_rate': sp_randFloat(0, 1),\n",
    "         'classifier__depth': sp_randInt(1, 10),\n",
    "         'classifier__l2_leaf_reg': sp_randInt(1,10)}]\n",
    "\n",
    "catb_rand = RandomizedSearchCV(catb, param_grid, cv=10, scoring = 'f1', n_iter=10, random_state=42)\n",
    "catb_rand.fit(X_train, y_train)\n",
    "catb_model = catb_rand.best_estimator_\n",
    "print(\"Best cross-validation score: {:.2f}\".format(catb_rand.best_score_))\n",
    "print(\"Best params:\\n{}\\n\".format(catb_rand.best_params_))"
   ]
  },
  {
   "cell_type": "code",
   "execution_count": 33,
   "metadata": {},
   "outputs": [
    {
     "data": {
      "text/plain": [
       "{'classifier': KNeighborsClassifier(),\n",
       " 'classifier__n_neighbors': 5,\n",
       " 'classifier__weights': 'uniform',\n",
       " 'sampling': RandomUnderSampler(),\n",
       " 'scaler': StandardScaler(),\n",
       " 'transformer': TargetEncoder(cols=['site_id', 'site_domain', 'app_id', 'device_model', 'C14',\n",
       "                     'C17', 'C20'])}"
      ]
     },
     "execution_count": 33,
     "metadata": {},
     "output_type": "execute_result"
    },
    {
     "data": {
      "text/plain": [
       "{'classifier': RandomForestClassifier(),\n",
       " 'sampling': RandomUnderSampler(),\n",
       " 'scaler': StandardScaler(),\n",
       " 'transformer': TargetEncoder(cols=['site_id', 'site_domain', 'app_id', 'device_model', 'C14',\n",
       "                     'C17', 'C20'])}"
      ]
     },
     "execution_count": 33,
     "metadata": {},
     "output_type": "execute_result"
    },
    {
     "data": {
      "text/plain": [
       "{'classifier': RandomForestClassifier(max_depth=39, min_samples_leaf=29, min_samples_split=15,\n",
       "                        n_estimators=206),\n",
       " 'classifier__max_depth': 39,\n",
       " 'classifier__min_samples_leaf': 29,\n",
       " 'classifier__min_samples_split': 15,\n",
       " 'classifier__n_estimators': 206,\n",
       " 'sampling': RandomUnderSampler(),\n",
       " 'scaler': StandardScaler(),\n",
       " 'transformer': TargetEncoder(cols=['site_id', 'site_domain', 'app_id', 'device_model', 'C14',\n",
       "                     'C17', 'C20'])}"
      ]
     },
     "execution_count": 33,
     "metadata": {},
     "output_type": "execute_result"
    },
    {
     "data": {
      "text/plain": [
       "{'classifier': <catboost.core.CatBoostClassifier at 0x21d2117a5b0>,\n",
       " 'classifier__depth': 8,\n",
       " 'classifier__l2_leaf_reg': 3,\n",
       " 'classifier__learning_rate': 0.020584494295802447,\n",
       " 'sampling': RandomUnderSampler(),\n",
       " 'scaler': StandardScaler(),\n",
       " 'transformer': TargetEncoder(cols=['site_id', 'site_domain', 'app_id', 'device_model', 'C14',\n",
       "                     'C17', 'C20'])}"
      ]
     },
     "execution_count": 33,
     "metadata": {},
     "output_type": "execute_result"
    }
   ],
   "source": [
    "knn_grid.best_params_\n",
    "rfc_simple_grid.best_params_\n",
    "rfc_rand.best_params_\n",
    "catb_rand.best_params_"
   ]
  },
  {
   "cell_type": "markdown",
   "metadata": {},
   "source": [
    "# Choose Best Model"
   ]
  },
  {
   "cell_type": "markdown",
   "metadata": {},
   "source": [
    "Using GridSearchCV we choose the best model after Hyper-parameter tunning. The metric we are using to make our decision regarding which is the best model is `f1-score`"
   ]
  },
  {
   "cell_type": "code",
   "execution_count": 45,
   "metadata": {},
   "outputs": [
    {
     "data": {
      "text/plain": [
       "GridSearchCV(cv=10,\n",
       "             estimator=Pipeline(steps=[('sampling', RandomUnderSampler()),\n",
       "                                       ('transformer',\n",
       "                                        TargetEncoder(cols=['site_id',\n",
       "                                                            'site_domain',\n",
       "                                                            'app_id',\n",
       "                                                            'device_model',\n",
       "                                                            'C14', 'C17',\n",
       "                                                            'C20'])),\n",
       "                                       ('scaler', StandardScaler()),\n",
       "                                       ('classifier', KNeighborsClassifier())]),\n",
       "             param_grid=[{'classifier': [KNeighborsClassifier()],\n",
       "                          'classifier__n_neighbors': [5],\n",
       "                          'classifier__weigh...\n",
       "                                                              'app_id',\n",
       "                                                              'device_model',\n",
       "                                                              'C14', 'C17',\n",
       "                                                              'C20'])]}],\n",
       "             refit='f1_score',\n",
       "             scoring={'accuracy_score': make_scorer(accuracy_score),\n",
       "                      'custom_score': make_scorer(classification_report_with_accuracy_score),\n",
       "                      'f1_score': make_scorer(f1_score),\n",
       "                      'precision_score': make_scorer(precision_score),\n",
       "                      'recall_score': make_scorer(recall_score),\n",
       "                      'roc_auc_score': make_scorer(roc_auc_score)})"
      ]
     },
     "execution_count": 45,
     "metadata": {},
     "output_type": "execute_result"
    },
    {
     "name": "stdout",
     "output_type": "stream",
     "text": [
      "Best cross-validation score: 0.40\n",
      "Best params:\n",
      "{'classifier': RandomForestClassifier(max_depth=39, min_samples_leaf=29, min_samples_split=15,\n",
      "                       n_estimators=206), 'classifier__max_depth': 39, 'classifier__min_samples_leaf': 29, 'classifier__min_samples_split': 15, 'classifier__n_estimators': 206, 'sampling': RandomUnderSampler(), 'scaler': StandardScaler(), 'transformer': TargetEncoder(cols=['site_id', 'site_domain', 'app_id', 'device_model', 'C14',\n",
      "                    'C17', 'C20'])}\n",
      "\n"
     ]
    }
   ],
   "source": [
    "best_pipe = Pipeline([('sampling', RandomUnderSampler()),\n",
    "                 ('transformer', TargetEncoder(cols=target_enc)),\n",
    "                 ('scaler', StandardScaler()),\n",
    "                 ('classifier', KNeighborsClassifier())])\n",
    "\n",
    "param_grid= [{key: [value] for (key, value) in knn_grid.best_params_.items()}, \n",
    "             {key: [value] for (key, value) in rfc_simple_grid.best_params_.items()},\n",
    "             {key: [value] for (key, value) in rfc_rand.best_params_.items()},\n",
    "             {key: [value] for (key, value) in catb_rand.best_params_.items()}]\n",
    "\n",
    "originalclass = []\n",
    "predictedclass = []\n",
    "# Create Custom Scorig function\n",
    "def classification_report_with_accuracy_score(y_true, y_pred):\n",
    "    originalclass.extend(y_true)\n",
    "    predictedclass.extend(y_pred)\n",
    "    return accuracy_score(y_true, y_pred)\n",
    "\n",
    "scorers = {\n",
    "    'f1_score': make_scorer(f1_score),\n",
    "    'precision_score': make_scorer(precision_score),\n",
    "    'recall_score': make_scorer(recall_score),\n",
    "    'accuracy_score': make_scorer(accuracy_score),\n",
    "    'roc_auc_score': make_scorer(roc_auc_score),\n",
    "    'custom_score': make_scorer(classification_report_with_accuracy_score)\n",
    "}\n",
    "\n",
    "grid_best = GridSearchCV(\n",
    "        estimator=best_pipe,\n",
    "        param_grid=param_grid,\n",
    "        scoring=scorers,\n",
    "        cv=10,\n",
    "        refit='f1_score'\n",
    ")\n",
    "grid_best.fit(X_train, y_train)\n",
    "best_model = grid_best.best_estimator_\n",
    "print(\"Best cross-validation score: {:.2f}\".format(grid_best.best_score_))\n",
    "print(\"Best params:\\n{}\\n\".format(grid_best.best_params_))"
   ]
  },
  {
   "cell_type": "code",
   "execution_count": 46,
   "metadata": {},
   "outputs": [
    {
     "data": {
      "text/html": "<div>\n<style scoped>\n    .dataframe tbody tr th:only-of-type {\n        vertical-align: middle;\n    }\n\n    .dataframe tbody tr th {\n        vertical-align: top;\n    }\n\n    .dataframe thead th {\n        text-align: right;\n    }\n</style>\n<table border=\"1\" class=\"dataframe\">\n  <thead>\n    <tr style=\"text-align: right;\">\n      <th></th>\n      <th>param_classifier</th>\n      <th>mean_test_f1_score</th>\n      <th>std_test_f1_score</th>\n      <th>rank_test_f1_score</th>\n    </tr>\n  </thead>\n  <tbody>\n    <tr>\n      <th>0</th>\n      <td>KNeighborsClassifier()</td>\n      <td>0.365061</td>\n      <td>0.005589</td>\n      <td>4</td>\n    </tr>\n    <tr>\n      <th>1</th>\n      <td>RandomForestClassifier()</td>\n      <td>0.367992</td>\n      <td>0.005855</td>\n      <td>3</td>\n    </tr>\n    <tr>\n      <th>2</th>\n      <td>RandomForestClassifier(max_depth=39, min_sampl...</td>\n      <td>0.395803</td>\n      <td>0.004664</td>\n      <td>1</td>\n    </tr>\n    <tr>\n      <th>3</th>\n      <td>&lt;catboost.core.CatBoostClassifier object at 0x...</td>\n      <td>0.389373</td>\n      <td>0.003742</td>\n      <td>2</td>\n    </tr>\n  </tbody>\n</table>\n</div>",
      "text/plain": [
       "                                    param_classifier  mean_test_f1_score  \\\n",
       "0                             KNeighborsClassifier()            0.365061   \n",
       "1                           RandomForestClassifier()            0.367992   \n",
       "2  RandomForestClassifier(max_depth=39, min_sampl...            0.395803   \n",
       "3  <catboost.core.CatBoostClassifier object at 0x...            0.389373   \n",
       "\n",
       "   std_test_f1_score  rank_test_f1_score  \n",
       "0           0.005589                   4  \n",
       "1           0.005855                   3  \n",
       "2           0.004664                   1  \n",
       "3           0.003742                   2  "
      ]
     },
     "execution_count": 46,
     "metadata": {},
     "output_type": "execute_result"
    }
   ],
   "source": [
    "scores_best_models = pd.DataFrame(grid_best.cv_results_)[['param_classifier','mean_test_f1_score','std_test_f1_score','rank_test_f1_score']]\n",
    "scores_best_models\n",
    "# grid_best.cv_results_"
   ]
  },
  {
   "cell_type": "code",
   "execution_count": 52,
   "metadata": {},
   "outputs": [
    {
     "data": {
      "text/html": "<div>\n<style scoped>\n    .dataframe tbody tr th:only-of-type {\n        vertical-align: middle;\n    }\n\n    .dataframe tbody tr th {\n        vertical-align: top;\n    }\n\n    .dataframe thead th {\n        text-align: right;\n    }\n</style>\n<table border=\"1\" class=\"dataframe\">\n  <thead>\n    <tr style=\"text-align: right;\">\n      <th></th>\n      <th>param_classifier</th>\n      <th>mean_test_f1_score</th>\n      <th>mean_test_precision_score</th>\n      <th>mean_test_recall_score</th>\n      <th>mean_test_accuracy_score</th>\n      <th>mean_test_roc_auc_score</th>\n      <th>mean_test_custom_score</th>\n      <th>rank_test_f1_score</th>\n    </tr>\n  </thead>\n  <tbody>\n    <tr>\n      <th>2</th>\n      <td>RandomForestClassifier(max_depth=39, min_sampl...</td>\n      <td>0.395803</td>\n      <td>0.271947</td>\n      <td>0.726945</td>\n      <td>0.622775</td>\n      <td>0.664194</td>\n      <td>0.622775</td>\n      <td>1</td>\n    </tr>\n    <tr>\n      <th>3</th>\n      <td>&lt;catboost.core.CatBoostClassifier object at 0x...</td>\n      <td>0.389373</td>\n      <td>0.268462</td>\n      <td>0.708487</td>\n      <td>0.622300</td>\n      <td>0.656569</td>\n      <td>0.622300</td>\n      <td>2</td>\n    </tr>\n    <tr>\n      <th>1</th>\n      <td>RandomForestClassifier()</td>\n      <td>0.367992</td>\n      <td>0.257371</td>\n      <td>0.645465</td>\n      <td>0.623175</td>\n      <td>0.632038</td>\n      <td>0.623175</td>\n      <td>3</td>\n    </tr>\n    <tr>\n      <th>0</th>\n      <td>KNeighborsClassifier()</td>\n      <td>0.365061</td>\n      <td>0.253920</td>\n      <td>0.649288</td>\n      <td>0.616088</td>\n      <td>0.629288</td>\n      <td>0.616088</td>\n      <td>4</td>\n    </tr>\n  </tbody>\n</table>\n</div>",
      "text/plain": [
       "                                    param_classifier  mean_test_f1_score  \\\n",
       "2  RandomForestClassifier(max_depth=39, min_sampl...            0.395803   \n",
       "3  <catboost.core.CatBoostClassifier object at 0x...            0.389373   \n",
       "1                           RandomForestClassifier()            0.367992   \n",
       "0                             KNeighborsClassifier()            0.365061   \n",
       "\n",
       "   mean_test_precision_score  mean_test_recall_score  \\\n",
       "2                   0.271947                0.726945   \n",
       "3                   0.268462                0.708487   \n",
       "1                   0.257371                0.645465   \n",
       "0                   0.253920                0.649288   \n",
       "\n",
       "   mean_test_accuracy_score  mean_test_roc_auc_score  mean_test_custom_score  \\\n",
       "2                  0.622775                 0.664194                0.622775   \n",
       "3                  0.622300                 0.656569                0.622300   \n",
       "1                  0.623175                 0.632038                0.623175   \n",
       "0                  0.616088                 0.629288                0.616088   \n",
       "\n",
       "   rank_test_f1_score  \n",
       "2                   1  \n",
       "3                   2  \n",
       "1                   3  \n",
       "0                   4  "
      ]
     },
     "execution_count": 52,
     "metadata": {},
     "output_type": "execute_result"
    }
   ],
   "source": [
    "mean_test_scores = ['mean_test_'+sc for sc in scorers.keys()]\n",
    "pd.DataFrame(grid_best.cv_results_)[['param_classifier']+mean_test_scores+['rank_test_f1_score']].sort_values(by='rank_test_f1_score')"
   ]
  },
  {
   "cell_type": "markdown",
   "metadata": {},
   "source": [
    "The Custom scorer above gathers all the original vs predictions for each CV split, which we use to create an Average CV Classification Repport."
   ]
  },
  {
   "cell_type": "code",
   "execution_count": 53,
   "metadata": {},
   "outputs": [
    {
     "name": "stdout",
     "output_type": "stream",
     "text": [
      "-------------- Average CV Classification Report --------------\n",
      "               precision    recall  f1-score   support\n",
      "\n",
      "           0       0.90      0.61      0.73    265608\n",
      "           1       0.26      0.68      0.38     54392\n",
      "\n",
      "    accuracy                           0.62    320000\n",
      "   macro avg       0.58      0.65      0.55    320000\n",
      "weighted avg       0.79      0.62      0.67    320000\n",
      "\n"
     ]
    }
   ],
   "source": [
    "print(\"-------------- Average CV Classification Report --------------\\n\", \n",
    "      classification_report(originalclass, predictedclass))"
   ]
  },
  {
   "cell_type": "markdown",
   "metadata": {},
   "source": [
    "# Test Best Model"
   ]
  },
  {
   "cell_type": "code",
   "execution_count": 21,
   "metadata": {},
   "outputs": [
    {
     "data": {
      "application/x.notebook.stdout": "------- Mean Encoding changes -------\nsite_id now has 186 categories vs 1461 before\nsite_domain now has 155 categories vs 1333 before\ndevice_model now has 350 categories vs 3167 before\n"
     },
     "output_type": "unknown"
    }
   ],
   "source": [
    "# Mean encoding for train set\r\n",
    "pd.options.mode.chained_assignment = None  # default='warn\r\n",
    "for i in mean_enc:\r\n",
    "    data_train = pd.concat([X_train, y_train], axis=1)\r\n",
    "    mean_encoder = data_train.groupby([i])[\"click\"].mean()\r\n",
    "    X_train[i] = X_train[i].map(mean_encoder)\r\n",
    "    # Transform the test set based on the train\r\n",
    "    X_test[i] = X_test[i].map(mean_encoder)\r\n",
    "    # Fill nan values that may arise due to mapping with the global average\r\n",
    "    X_test[i].fillna(mean_encoder.mean(), inplace = True)\r\n",
    "pd.options.mode.chained_assignment = 'warn'  # default='warn\r\n",
    "\r\n",
    "print('------- Mean Encoding changes -------')\r\n",
    "for i,v in enumerate(mean_enc):\r\n",
    "    print(f'{v} now has {[len(X_train[i].unique()) for i in mean_enc][i]} categories vs {len(df[v].unique())} before')"
   ]
  },
  {
   "cell_type": "code",
   "execution_count": 24,
   "metadata": {},
   "outputs": [
    {
     "data": {
      "text/plain": [
       "<sklearn.metrics._plot.confusion_matrix.ConfusionMatrixDisplay at 0x28980a84820>"
      ]
     },
     "output_type": "unknown"
    },
    {
     "data": {
      "text/plain": [
       "Text(0.5, 1.0, 'Best Model')"
      ]
     },
     "output_type": "unknown"
    },
    {
     "data": {
      "image/png": "[encoded data removed]",
      "text/plain": [
       "<Figure size 432x288 with 2 Axes>"
      ]
     },
     "output_type": "unknown"
    }
   ],
   "source": [
    "plot_confusion_matrix(best_model, X_test, y_test, display_labels=['Not Click (0)','Click (1)'])\r\n",
    "plt.title('Best Model')\r\n",
    "plt.show()"
   ]
  },
  {
   "cell_type": "code",
   "execution_count": 25,
   "metadata": {},
   "outputs": [
    {
     "data": {
      "text/plain": [
       "<sklearn.metrics._plot.roc_curve.RocCurveDisplay at 0x289808b5790>"
      ]
     },
     "output_type": "unknown"
    },
    {
     "data": {
      "text/plain": [
       "[<matplotlib.lines.Line2D at 0x2898103fd60>]"
      ]
     },
     "output_type": "unknown"
    },
    {
     "data": {
      "text/plain": [
       "Text(0.5, 1.0, 'Best Model')"
      ]
     },
     "output_type": "unknown"
    },
    {
     "data": {
      "image/png": "[encoded data removed]",
      "text/plain": [
       "<Figure size 432x288 with 1 Axes>"
      ]
     },
     "output_type": "unknown"
    }
   ],
   "source": [
    "plot_roc_curve(best_model, X_test, y_test) \r\n",
    "plt.plot([0, 1], [0, 1],'r--')\r\n",
    "plt.title('Best Model')\r\n",
    "\r\n",
    "plt.show()"
   ]
  }
 ],
 "metadata": {
  "kernelspec": {
   "display_name": "Python 3.8.8 64-bit ('mlcourse': conda)",
   "name": "mlcourse"
  },
  "language_info": {
   "name": "python",
   "version": ""
  },
  "orig_nbformat": 2
 },
 "nbformat": 4,
 "nbformat_minor": 2
}