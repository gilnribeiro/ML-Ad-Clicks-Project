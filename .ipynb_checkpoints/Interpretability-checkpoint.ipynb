{
 "cells": [
  {
   "cell_type": "code",
   "execution_count": 1,
   "metadata": {},
   "outputs": [],
   "source": [
    "import pandas as pd\n",
    "import numpy as np\n",
    "# allow multiple outputs per cell\n",
    "from IPython.core.interactiveshell import InteractiveShell\n",
    "InteractiveShell.ast_node_interactivity = \"all\""
   ]
  },
  {
   "cell_type": "markdown",
   "metadata": {},
   "source": [
    "# Load Treated dataset from EDA"
   ]
  },
  {
   "cell_type": "code",
   "execution_count": 2,
   "metadata": {},
   "outputs": [
    {
     "data": {
      "text/html": [
       "<div>\n",
       "<style scoped>\n",
       "    .dataframe tbody tr th:only-of-type {\n",
       "        vertical-align: middle;\n",
       "    }\n",
       "\n",
       "    .dataframe tbody tr th {\n",
       "        vertical-align: top;\n",
       "    }\n",
       "\n",
       "    .dataframe thead th {\n",
       "        text-align: right;\n",
       "    }\n",
       "</style>\n",
       "<table border=\"1\" class=\"dataframe\">\n",
       "  <thead>\n",
       "    <tr style=\"text-align: right;\">\n",
       "      <th></th>\n",
       "      <th>id</th>\n",
       "      <th>click</th>\n",
       "      <th>hour</th>\n",
       "      <th>C1</th>\n",
       "      <th>banner_pos</th>\n",
       "      <th>site_id</th>\n",
       "      <th>site_domain</th>\n",
       "      <th>site_category</th>\n",
       "      <th>app_id</th>\n",
       "      <th>app_domain</th>\n",
       "      <th>...</th>\n",
       "      <th>C15</th>\n",
       "      <th>C16</th>\n",
       "      <th>C17</th>\n",
       "      <th>C18</th>\n",
       "      <th>C19</th>\n",
       "      <th>C20</th>\n",
       "      <th>C21</th>\n",
       "      <th>hour_of_day</th>\n",
       "      <th>day</th>\n",
       "      <th>weekday</th>\n",
       "    </tr>\n",
       "  </thead>\n",
       "  <tbody>\n",
       "    <tr>\n",
       "      <th>0</th>\n",
       "      <td>6.448465e+18</td>\n",
       "      <td>0</td>\n",
       "      <td>2014-10-28 06:00:00</td>\n",
       "      <td>1005</td>\n",
       "      <td>0</td>\n",
       "      <td>d6137915</td>\n",
       "      <td>bb1ef334</td>\n",
       "      <td>f028772b</td>\n",
       "      <td>ecad2386</td>\n",
       "      <td>7801e8d9</td>\n",
       "      <td>...</td>\n",
       "      <td>320</td>\n",
       "      <td>50</td>\n",
       "      <td>2227</td>\n",
       "      <td>0</td>\n",
       "      <td>935</td>\n",
       "      <td>-1</td>\n",
       "      <td>48</td>\n",
       "      <td>6</td>\n",
       "      <td>28</td>\n",
       "      <td>Tuesday</td>\n",
       "    </tr>\n",
       "    <tr>\n",
       "      <th>1</th>\n",
       "      <td>1.342805e+19</td>\n",
       "      <td>0</td>\n",
       "      <td>2014-10-23 07:00:00</td>\n",
       "      <td>1002</td>\n",
       "      <td>0</td>\n",
       "      <td>85f751fd</td>\n",
       "      <td>c4e18dd6</td>\n",
       "      <td>50e219e0</td>\n",
       "      <td>9a08a110</td>\n",
       "      <td>7801e8d9</td>\n",
       "      <td>...</td>\n",
       "      <td>320</td>\n",
       "      <td>50</td>\n",
       "      <td>2495</td>\n",
       "      <td>2</td>\n",
       "      <td>167</td>\n",
       "      <td>-1</td>\n",
       "      <td>23</td>\n",
       "      <td>7</td>\n",
       "      <td>23</td>\n",
       "      <td>Thursday</td>\n",
       "    </tr>\n",
       "    <tr>\n",
       "      <th>2</th>\n",
       "      <td>1.048699e+19</td>\n",
       "      <td>0</td>\n",
       "      <td>2014-10-23 10:00:00</td>\n",
       "      <td>1005</td>\n",
       "      <td>0</td>\n",
       "      <td>9a28a858</td>\n",
       "      <td>64778742</td>\n",
       "      <td>f028772b</td>\n",
       "      <td>ecad2386</td>\n",
       "      <td>7801e8d9</td>\n",
       "      <td>...</td>\n",
       "      <td>300</td>\n",
       "      <td>250</td>\n",
       "      <td>2523</td>\n",
       "      <td>3</td>\n",
       "      <td>39</td>\n",
       "      <td>-1</td>\n",
       "      <td>221</td>\n",
       "      <td>10</td>\n",
       "      <td>23</td>\n",
       "      <td>Thursday</td>\n",
       "    </tr>\n",
       "    <tr>\n",
       "      <th>3</th>\n",
       "      <td>8.833733e+18</td>\n",
       "      <td>0</td>\n",
       "      <td>2014-10-23 07:00:00</td>\n",
       "      <td>1005</td>\n",
       "      <td>0</td>\n",
       "      <td>1fbe01fe</td>\n",
       "      <td>f3845767</td>\n",
       "      <td>28905ebd</td>\n",
       "      <td>ecad2386</td>\n",
       "      <td>7801e8d9</td>\n",
       "      <td>...</td>\n",
       "      <td>320</td>\n",
       "      <td>50</td>\n",
       "      <td>1722</td>\n",
       "      <td>0</td>\n",
       "      <td>35</td>\n",
       "      <td>-1</td>\n",
       "      <td>79</td>\n",
       "      <td>7</td>\n",
       "      <td>23</td>\n",
       "      <td>Thursday</td>\n",
       "    </tr>\n",
       "    <tr>\n",
       "      <th>4</th>\n",
       "      <td>1.035453e+19</td>\n",
       "      <td>0</td>\n",
       "      <td>2014-10-28 11:00:00</td>\n",
       "      <td>1005</td>\n",
       "      <td>0</td>\n",
       "      <td>85f751fd</td>\n",
       "      <td>c4e18dd6</td>\n",
       "      <td>50e219e0</td>\n",
       "      <td>a5184c22</td>\n",
       "      <td>b8d325c3</td>\n",
       "      <td>...</td>\n",
       "      <td>320</td>\n",
       "      <td>50</td>\n",
       "      <td>2676</td>\n",
       "      <td>0</td>\n",
       "      <td>35</td>\n",
       "      <td>100176</td>\n",
       "      <td>221</td>\n",
       "      <td>11</td>\n",
       "      <td>28</td>\n",
       "      <td>Tuesday</td>\n",
       "    </tr>\n",
       "  </tbody>\n",
       "</table>\n",
       "<p>5 rows × 27 columns</p>\n",
       "</div>"
      ],
      "text/plain": [
       "             id  click                 hour    C1  banner_pos   site_id  \\\n",
       "0  6.448465e+18      0  2014-10-28 06:00:00  1005           0  d6137915   \n",
       "1  1.342805e+19      0  2014-10-23 07:00:00  1002           0  85f751fd   \n",
       "2  1.048699e+19      0  2014-10-23 10:00:00  1005           0  9a28a858   \n",
       "3  8.833733e+18      0  2014-10-23 07:00:00  1005           0  1fbe01fe   \n",
       "4  1.035453e+19      0  2014-10-28 11:00:00  1005           0  85f751fd   \n",
       "\n",
       "  site_domain site_category    app_id app_domain  ...  C15  C16   C17 C18  \\\n",
       "0    bb1ef334      f028772b  ecad2386   7801e8d9  ...  320   50  2227   0   \n",
       "1    c4e18dd6      50e219e0  9a08a110   7801e8d9  ...  320   50  2495   2   \n",
       "2    64778742      f028772b  ecad2386   7801e8d9  ...  300  250  2523   3   \n",
       "3    f3845767      28905ebd  ecad2386   7801e8d9  ...  320   50  1722   0   \n",
       "4    c4e18dd6      50e219e0  a5184c22   b8d325c3  ...  320   50  2676   0   \n",
       "\n",
       "   C19     C20  C21  hour_of_day  day   weekday  \n",
       "0  935      -1   48            6   28   Tuesday  \n",
       "1  167      -1   23            7   23  Thursday  \n",
       "2   39      -1  221           10   23  Thursday  \n",
       "3   35      -1   79            7   23  Thursday  \n",
       "4   35  100176  221           11   28   Tuesday  \n",
       "\n",
       "[5 rows x 27 columns]"
      ]
     },
     "execution_count": 2,
     "metadata": {},
     "output_type": "execute_result"
    },
    {
     "data": {
      "text/plain": [
       "(100000, 27)"
      ]
     },
     "execution_count": 2,
     "metadata": {},
     "output_type": "execute_result"
    }
   ],
   "source": [
    "df = pd.read_csv(\"ad_clicks_100k_Treated.csv\")\n",
    "df.drop(columns=\"Unnamed: 0\", inplace=True)\n",
    "df.head()\n",
    "df.shape"
   ]
  },
  {
   "cell_type": "markdown",
   "metadata": {},
   "source": [
    "### Drop features that will not go into the model\n",
    "- `id` (We do not need the variable ID as predictor, it does not make sense to use)\n",
    "- `hour` (because hour was broken down into (day, weekday, hour_of_day)) \n",
    "- `day` (because we find that it will add no significant predictive value that makes sense in any future application, i.e. the dataset covers 10 days of the year and we have no way to know if any of those days is representative of the year, or if there was something exceptional happening. By using `hour_of_day` and `weekday` we average these values and thus make this possible effect less significant)   \n",
    "- `device_ip` and `device_id`"
   ]
  },
  {
   "cell_type": "code",
   "execution_count": 3,
   "metadata": {},
   "outputs": [
    {
     "data": {
      "text/html": [
       "<div>\n",
       "<style scoped>\n",
       "    .dataframe tbody tr th:only-of-type {\n",
       "        vertical-align: middle;\n",
       "    }\n",
       "\n",
       "    .dataframe tbody tr th {\n",
       "        vertical-align: top;\n",
       "    }\n",
       "\n",
       "    .dataframe thead th {\n",
       "        text-align: right;\n",
       "    }\n",
       "</style>\n",
       "<table border=\"1\" class=\"dataframe\">\n",
       "  <thead>\n",
       "    <tr style=\"text-align: right;\">\n",
       "      <th></th>\n",
       "      <th>click</th>\n",
       "      <th>C1</th>\n",
       "      <th>banner_pos</th>\n",
       "      <th>site_id</th>\n",
       "      <th>site_domain</th>\n",
       "      <th>site_category</th>\n",
       "      <th>app_id</th>\n",
       "      <th>app_domain</th>\n",
       "      <th>app_category</th>\n",
       "      <th>device_model</th>\n",
       "      <th>...</th>\n",
       "      <th>C14</th>\n",
       "      <th>C15</th>\n",
       "      <th>C16</th>\n",
       "      <th>C17</th>\n",
       "      <th>C18</th>\n",
       "      <th>C19</th>\n",
       "      <th>C20</th>\n",
       "      <th>C21</th>\n",
       "      <th>hour_of_day</th>\n",
       "      <th>weekday</th>\n",
       "    </tr>\n",
       "  </thead>\n",
       "  <tbody>\n",
       "    <tr>\n",
       "      <th>0</th>\n",
       "      <td>0</td>\n",
       "      <td>1005</td>\n",
       "      <td>0</td>\n",
       "      <td>d6137915</td>\n",
       "      <td>bb1ef334</td>\n",
       "      <td>f028772b</td>\n",
       "      <td>ecad2386</td>\n",
       "      <td>7801e8d9</td>\n",
       "      <td>07d7df22</td>\n",
       "      <td>9efa421a</td>\n",
       "      <td>...</td>\n",
       "      <td>19771</td>\n",
       "      <td>320</td>\n",
       "      <td>50</td>\n",
       "      <td>2227</td>\n",
       "      <td>0</td>\n",
       "      <td>935</td>\n",
       "      <td>-1</td>\n",
       "      <td>48</td>\n",
       "      <td>6</td>\n",
       "      <td>Tuesday</td>\n",
       "    </tr>\n",
       "    <tr>\n",
       "      <th>1</th>\n",
       "      <td>0</td>\n",
       "      <td>1002</td>\n",
       "      <td>0</td>\n",
       "      <td>85f751fd</td>\n",
       "      <td>c4e18dd6</td>\n",
       "      <td>50e219e0</td>\n",
       "      <td>9a08a110</td>\n",
       "      <td>7801e8d9</td>\n",
       "      <td>07d7df22</td>\n",
       "      <td>02d14ecc</td>\n",
       "      <td>...</td>\n",
       "      <td>21676</td>\n",
       "      <td>320</td>\n",
       "      <td>50</td>\n",
       "      <td>2495</td>\n",
       "      <td>2</td>\n",
       "      <td>167</td>\n",
       "      <td>-1</td>\n",
       "      <td>23</td>\n",
       "      <td>7</td>\n",
       "      <td>Thursday</td>\n",
       "    </tr>\n",
       "    <tr>\n",
       "      <th>2</th>\n",
       "      <td>0</td>\n",
       "      <td>1005</td>\n",
       "      <td>0</td>\n",
       "      <td>9a28a858</td>\n",
       "      <td>64778742</td>\n",
       "      <td>f028772b</td>\n",
       "      <td>ecad2386</td>\n",
       "      <td>7801e8d9</td>\n",
       "      <td>07d7df22</td>\n",
       "      <td>ecb851b2</td>\n",
       "      <td>...</td>\n",
       "      <td>21837</td>\n",
       "      <td>300</td>\n",
       "      <td>250</td>\n",
       "      <td>2523</td>\n",
       "      <td>3</td>\n",
       "      <td>39</td>\n",
       "      <td>-1</td>\n",
       "      <td>221</td>\n",
       "      <td>10</td>\n",
       "      <td>Thursday</td>\n",
       "    </tr>\n",
       "    <tr>\n",
       "      <th>3</th>\n",
       "      <td>0</td>\n",
       "      <td>1005</td>\n",
       "      <td>0</td>\n",
       "      <td>1fbe01fe</td>\n",
       "      <td>f3845767</td>\n",
       "      <td>28905ebd</td>\n",
       "      <td>ecad2386</td>\n",
       "      <td>7801e8d9</td>\n",
       "      <td>07d7df22</td>\n",
       "      <td>779d90c2</td>\n",
       "      <td>...</td>\n",
       "      <td>15706</td>\n",
       "      <td>320</td>\n",
       "      <td>50</td>\n",
       "      <td>1722</td>\n",
       "      <td>0</td>\n",
       "      <td>35</td>\n",
       "      <td>-1</td>\n",
       "      <td>79</td>\n",
       "      <td>7</td>\n",
       "      <td>Thursday</td>\n",
       "    </tr>\n",
       "    <tr>\n",
       "      <th>4</th>\n",
       "      <td>0</td>\n",
       "      <td>1005</td>\n",
       "      <td>0</td>\n",
       "      <td>85f751fd</td>\n",
       "      <td>c4e18dd6</td>\n",
       "      <td>50e219e0</td>\n",
       "      <td>a5184c22</td>\n",
       "      <td>b8d325c3</td>\n",
       "      <td>0f2161f8</td>\n",
       "      <td>dc15c87e</td>\n",
       "      <td>...</td>\n",
       "      <td>23224</td>\n",
       "      <td>320</td>\n",
       "      <td>50</td>\n",
       "      <td>2676</td>\n",
       "      <td>0</td>\n",
       "      <td>35</td>\n",
       "      <td>100176</td>\n",
       "      <td>221</td>\n",
       "      <td>11</td>\n",
       "      <td>Tuesday</td>\n",
       "    </tr>\n",
       "  </tbody>\n",
       "</table>\n",
       "<p>5 rows × 22 columns</p>\n",
       "</div>"
      ],
      "text/plain": [
       "   click    C1  banner_pos   site_id site_domain site_category    app_id  \\\n",
       "0      0  1005           0  d6137915    bb1ef334      f028772b  ecad2386   \n",
       "1      0  1002           0  85f751fd    c4e18dd6      50e219e0  9a08a110   \n",
       "2      0  1005           0  9a28a858    64778742      f028772b  ecad2386   \n",
       "3      0  1005           0  1fbe01fe    f3845767      28905ebd  ecad2386   \n",
       "4      0  1005           0  85f751fd    c4e18dd6      50e219e0  a5184c22   \n",
       "\n",
       "  app_domain app_category device_model  ...    C14  C15  C16   C17  C18  C19  \\\n",
       "0   7801e8d9     07d7df22     9efa421a  ...  19771  320   50  2227    0  935   \n",
       "1   7801e8d9     07d7df22     02d14ecc  ...  21676  320   50  2495    2  167   \n",
       "2   7801e8d9     07d7df22     ecb851b2  ...  21837  300  250  2523    3   39   \n",
       "3   7801e8d9     07d7df22     779d90c2  ...  15706  320   50  1722    0   35   \n",
       "4   b8d325c3     0f2161f8     dc15c87e  ...  23224  320   50  2676    0   35   \n",
       "\n",
       "      C20  C21  hour_of_day   weekday  \n",
       "0      -1   48            6   Tuesday  \n",
       "1      -1   23            7  Thursday  \n",
       "2      -1  221           10  Thursday  \n",
       "3      -1   79            7  Thursday  \n",
       "4  100176  221           11   Tuesday  \n",
       "\n",
       "[5 rows x 22 columns]"
      ]
     },
     "execution_count": 3,
     "metadata": {},
     "output_type": "execute_result"
    },
    {
     "data": {
      "text/plain": [
       "(100000, 22)"
      ]
     },
     "execution_count": 3,
     "metadata": {},
     "output_type": "execute_result"
    }
   ],
   "source": [
    "df.drop(columns=['id','hour','device_ip','device_id','day'], inplace=True)\n",
    "df.head()\n",
    "df.shape"
   ]
  },
  {
   "cell_type": "markdown",
   "metadata": {},
   "source": [
    "## Pre-processing:\n",
    "- One Hot encoding for low cardinality features (1 to 5 unique categories)\n",
    "- Label encoding for medium cardinality features (5 to 100 unique categories)\n",
    "- Target encoding for high cardinality features (100+ unique categories)\n",
    "    - (Since it has to be done within Cross Validation we will filter and add to a list the features we consider to have high cardinality)\n",
    "\n",
    "- Numerical Features: `hour_of_day` will not be encoded (it already is a discrete variable)"
   ]
  },
  {
   "cell_type": "code",
   "execution_count": 4,
   "metadata": {},
   "outputs": [],
   "source": [
    "from sklearn.preprocessing import OneHotEncoder\n",
    "from sklearn.preprocessing import LabelEncoder\n",
    "from sklearn.compose import make_column_transformer"
   ]
  },
  {
   "cell_type": "code",
   "execution_count": 5,
   "metadata": {},
   "outputs": [
    {
     "name": "stdout",
     "output_type": "stream",
     "text": [
      "Features with dtype \"O\" ['site_id', 'site_domain', 'site_category', 'app_id', 'app_domain', 'app_category', 'device_model', 'weekday']\n",
      "Categorical Features (already with discrete values) ['C1', 'banner_pos', 'device_type', 'device_conn_type', 'C14', 'C15', 'C16', 'C17', 'C18', 'C19', 'C20', 'C21']\n"
     ]
    }
   ],
   "source": [
    "# Split into features type \"O\" and already encoded features\n",
    "categorical_columns = [i for i in list(df.columns) if df[i].dtypes in [\"O\"] and i not in ['id','hour','hour_of_day','click']]\n",
    "encoded_categorical_columns = [i for i in list(df.columns) if df[i].dtypes not in [\"O\"] and i not in ['id','hour','hour_of_day','click']]\n",
    "print(f'Features with dtype \"O\" {categorical_columns}')\n",
    "print(f'Categorical Features (already with discrete values) {encoded_categorical_columns}')\n"
   ]
  },
  {
   "cell_type": "code",
   "execution_count": 6,
   "metadata": {},
   "outputs": [
    {
     "data": {
      "text/plain": [
       "LabelEncoder()"
      ]
     },
     "execution_count": 6,
     "metadata": {},
     "output_type": "execute_result"
    },
    {
     "data": {
      "text/plain": [
       "LabelEncoder()"
      ]
     },
     "execution_count": 6,
     "metadata": {},
     "output_type": "execute_result"
    },
    {
     "data": {
      "text/plain": [
       "LabelEncoder()"
      ]
     },
     "execution_count": 6,
     "metadata": {},
     "output_type": "execute_result"
    },
    {
     "data": {
      "text/plain": [
       "LabelEncoder()"
      ]
     },
     "execution_count": 6,
     "metadata": {},
     "output_type": "execute_result"
    },
    {
     "data": {
      "text/plain": [
       "LabelEncoder()"
      ]
     },
     "execution_count": 6,
     "metadata": {},
     "output_type": "execute_result"
    },
    {
     "data": {
      "text/plain": [
       "LabelEncoder()"
      ]
     },
     "execution_count": 6,
     "metadata": {},
     "output_type": "execute_result"
    },
    {
     "data": {
      "text/plain": [
       "LabelEncoder()"
      ]
     },
     "execution_count": 6,
     "metadata": {},
     "output_type": "execute_result"
    },
    {
     "data": {
      "text/plain": [
       "LabelEncoder()"
      ]
     },
     "execution_count": 6,
     "metadata": {},
     "output_type": "execute_result"
    },
    {
     "name": "stdout",
     "output_type": "stream",
     "text": [
      "['site_id', 'site_domain', 'site_category', 'app_id', 'app_domain', 'app_category', 'device_model', 'weekday', 'C1', 'banner_pos', 'device_type', 'device_conn_type', 'C14', 'C15', 'C16', 'C17', 'C18', 'C19', 'C20', 'C21']\n"
     ]
    }
   ],
   "source": [
    "# Transform features type \"O\" with label encoder\n",
    "for i in categorical_columns:\n",
    "    label_encoder = []\n",
    "    le = LabelEncoder()\n",
    "    le.fit(df[i])    \n",
    "    label_encoder.append(le)\n",
    "    df[i] = le.transform(df[i])\n",
    "\n",
    "all_features = categorical_columns + encoded_categorical_columns\n",
    "print(all_features)"
   ]
  },
  {
   "cell_type": "markdown",
   "metadata": {},
   "source": [
    "## Apply \n",
    "- One Hot encoding for low cardinality features (1 to 5 unique categories)\n",
    "- Label encoding for medium cardinality features (5 to 100 unique categories)\n",
    "- Target encoding for high cardinality features (100+ unique categories)"
   ]
  },
  {
   "cell_type": "code",
   "execution_count": 7,
   "metadata": {},
   "outputs": [
    {
     "name": "stdout",
     "output_type": "stream",
     "text": [
      "Previus Dataset Shape ->>  (100000, 22)\n",
      "Shape After Encoding  ->>  (100000, 31) \n",
      "\n",
      "One Hot Encoding the following features: ['device_type', 'device_conn_type', 'C18']\n",
      "Label Encoding the following features: ['site_category', 'app_domain', 'app_category', 'weekday', 'C1', 'banner_pos', 'C15', 'C16', 'C19', 'C21']\n",
      "Selected for Target Encoding: ['site_id', 'site_domain', 'app_id', 'device_model', 'C14', 'C17', 'C20']\n"
     ]
    },
    {
     "data": {
      "text/html": [
       "<div>\n",
       "<style scoped>\n",
       "    .dataframe tbody tr th:only-of-type {\n",
       "        vertical-align: middle;\n",
       "    }\n",
       "\n",
       "    .dataframe tbody tr th {\n",
       "        vertical-align: top;\n",
       "    }\n",
       "\n",
       "    .dataframe thead th {\n",
       "        text-align: right;\n",
       "    }\n",
       "</style>\n",
       "<table border=\"1\" class=\"dataframe\">\n",
       "  <thead>\n",
       "    <tr style=\"text-align: right;\">\n",
       "      <th></th>\n",
       "      <th>click</th>\n",
       "      <th>C1</th>\n",
       "      <th>banner_pos</th>\n",
       "      <th>site_id</th>\n",
       "      <th>site_domain</th>\n",
       "      <th>site_category</th>\n",
       "      <th>app_id</th>\n",
       "      <th>app_domain</th>\n",
       "      <th>app_category</th>\n",
       "      <th>device_model</th>\n",
       "      <th>...</th>\n",
       "      <th>device_type_4</th>\n",
       "      <th>device_type_5</th>\n",
       "      <th>device_conn_type_0</th>\n",
       "      <th>device_conn_type_2</th>\n",
       "      <th>device_conn_type_3</th>\n",
       "      <th>device_conn_type_5</th>\n",
       "      <th>C18_0</th>\n",
       "      <th>C18_1</th>\n",
       "      <th>C18_2</th>\n",
       "      <th>C18_3</th>\n",
       "    </tr>\n",
       "  </thead>\n",
       "  <tbody>\n",
       "    <tr>\n",
       "      <th>0</th>\n",
       "      <td>0</td>\n",
       "      <td>1005</td>\n",
       "      <td>0</td>\n",
       "      <td>1215</td>\n",
       "      <td>998</td>\n",
       "      <td>17</td>\n",
       "      <td>1195</td>\n",
       "      <td>41</td>\n",
       "      <td>0</td>\n",
       "      <td>1956</td>\n",
       "      <td>...</td>\n",
       "      <td>0</td>\n",
       "      <td>0</td>\n",
       "      <td>1</td>\n",
       "      <td>0</td>\n",
       "      <td>0</td>\n",
       "      <td>0</td>\n",
       "      <td>1</td>\n",
       "      <td>0</td>\n",
       "      <td>0</td>\n",
       "      <td>0</td>\n",
       "    </tr>\n",
       "    <tr>\n",
       "      <th>1</th>\n",
       "      <td>0</td>\n",
       "      <td>1002</td>\n",
       "      <td>0</td>\n",
       "      <td>770</td>\n",
       "      <td>1043</td>\n",
       "      <td>5</td>\n",
       "      <td>783</td>\n",
       "      <td>41</td>\n",
       "      <td>0</td>\n",
       "      <td>36</td>\n",
       "      <td>...</td>\n",
       "      <td>0</td>\n",
       "      <td>0</td>\n",
       "      <td>1</td>\n",
       "      <td>0</td>\n",
       "      <td>0</td>\n",
       "      <td>0</td>\n",
       "      <td>0</td>\n",
       "      <td>0</td>\n",
       "      <td>1</td>\n",
       "      <td>0</td>\n",
       "    </tr>\n",
       "    <tr>\n",
       "      <th>2</th>\n",
       "      <td>0</td>\n",
       "      <td>1005</td>\n",
       "      <td>0</td>\n",
       "      <td>890</td>\n",
       "      <td>535</td>\n",
       "      <td>17</td>\n",
       "      <td>1195</td>\n",
       "      <td>41</td>\n",
       "      <td>0</td>\n",
       "      <td>2936</td>\n",
       "      <td>...</td>\n",
       "      <td>0</td>\n",
       "      <td>0</td>\n",
       "      <td>1</td>\n",
       "      <td>0</td>\n",
       "      <td>0</td>\n",
       "      <td>0</td>\n",
       "      <td>0</td>\n",
       "      <td>0</td>\n",
       "      <td>0</td>\n",
       "      <td>1</td>\n",
       "    </tr>\n",
       "    <tr>\n",
       "      <th>3</th>\n",
       "      <td>0</td>\n",
       "      <td>1005</td>\n",
       "      <td>0</td>\n",
       "      <td>167</td>\n",
       "      <td>1261</td>\n",
       "      <td>1</td>\n",
       "      <td>1195</td>\n",
       "      <td>41</td>\n",
       "      <td>0</td>\n",
       "      <td>1476</td>\n",
       "      <td>...</td>\n",
       "      <td>0</td>\n",
       "      <td>0</td>\n",
       "      <td>1</td>\n",
       "      <td>0</td>\n",
       "      <td>0</td>\n",
       "      <td>0</td>\n",
       "      <td>1</td>\n",
       "      <td>0</td>\n",
       "      <td>0</td>\n",
       "      <td>0</td>\n",
       "    </tr>\n",
       "    <tr>\n",
       "      <th>4</th>\n",
       "      <td>0</td>\n",
       "      <td>1005</td>\n",
       "      <td>0</td>\n",
       "      <td>770</td>\n",
       "      <td>1043</td>\n",
       "      <td>5</td>\n",
       "      <td>842</td>\n",
       "      <td>67</td>\n",
       "      <td>3</td>\n",
       "      <td>2746</td>\n",
       "      <td>...</td>\n",
       "      <td>0</td>\n",
       "      <td>0</td>\n",
       "      <td>0</td>\n",
       "      <td>1</td>\n",
       "      <td>0</td>\n",
       "      <td>0</td>\n",
       "      <td>1</td>\n",
       "      <td>0</td>\n",
       "      <td>0</td>\n",
       "      <td>0</td>\n",
       "    </tr>\n",
       "  </tbody>\n",
       "</table>\n",
       "<p>5 rows × 31 columns</p>\n",
       "</div>"
      ],
      "text/plain": [
       "   click    C1  banner_pos  site_id  site_domain  site_category  app_id  \\\n",
       "0      0  1005           0     1215          998             17    1195   \n",
       "1      0  1002           0      770         1043              5     783   \n",
       "2      0  1005           0      890          535             17    1195   \n",
       "3      0  1005           0      167         1261              1    1195   \n",
       "4      0  1005           0      770         1043              5     842   \n",
       "\n",
       "   app_domain  app_category  device_model  ...  device_type_4  device_type_5  \\\n",
       "0          41             0          1956  ...              0              0   \n",
       "1          41             0            36  ...              0              0   \n",
       "2          41             0          2936  ...              0              0   \n",
       "3          41             0          1476  ...              0              0   \n",
       "4          67             3          2746  ...              0              0   \n",
       "\n",
       "   device_conn_type_0  device_conn_type_2  device_conn_type_3  \\\n",
       "0                   1                   0                   0   \n",
       "1                   1                   0                   0   \n",
       "2                   1                   0                   0   \n",
       "3                   1                   0                   0   \n",
       "4                   0                   1                   0   \n",
       "\n",
       "   device_conn_type_5  C18_0  C18_1  C18_2  C18_3  \n",
       "0                   0      1      0      0      0  \n",
       "1                   0      0      0      1      0  \n",
       "2                   0      0      0      0      1  \n",
       "3                   0      1      0      0      0  \n",
       "4                   0      1      0      0      0  \n",
       "\n",
       "[5 rows x 31 columns]"
      ]
     },
     "execution_count": 7,
     "metadata": {},
     "output_type": "execute_result"
    }
   ],
   "source": [
    "data = df.copy()\n",
    "one_hot = []\n",
    "label_enc = []\n",
    "target_enc = []\n",
    "for i in all_features:\n",
    "    if len(df[i].unique()) <= 5:\n",
    "        # One hot encoding\n",
    "        one_hot.append(i)\n",
    "        data = pd.concat([data, pd.get_dummies(df[i], prefix=i)],axis=1)\n",
    "        # Drop the original column\n",
    "        data.drop(columns=[i], inplace=True)\n",
    "    elif 100 >= len(df[i].unique()) > 5:\n",
    "        # Label encoding\n",
    "        label_enc.append(i)\n",
    "    elif len(df[i].unique()) > 100:\n",
    "        # Mean encoding\n",
    "        target_enc.append(i)\n",
    "\n",
    "print('Previus Dataset Shape ->> ', df.shape)\n",
    "print('Shape After Encoding  ->> ', data.shape, '\\n')\n",
    "print(f'One Hot Encoding the following features: {one_hot}')\n",
    "print(f'Label Encoding the following features: {label_enc}')\n",
    "print(f'Selected for Target Encoding: {target_enc}')\n",
    "data.head()"
   ]
  },
  {
   "cell_type": "code",
   "execution_count": 8,
   "metadata": {},
   "outputs": [
    {
     "data": {
      "text/plain": [
       "Index(['click', 'C1', 'banner_pos', 'site_id', 'site_domain', 'site_category',\n",
       "       'app_id', 'app_domain', 'app_category', 'device_model', 'C14', 'C15',\n",
       "       'C16', 'C17', 'C19', 'C20', 'C21', 'hour_of_day', 'weekday',\n",
       "       'device_type_0', 'device_type_1', 'device_type_4', 'device_type_5',\n",
       "       'device_conn_type_0', 'device_conn_type_2', 'device_conn_type_3',\n",
       "       'device_conn_type_5', 'C18_0', 'C18_1', 'C18_2', 'C18_3'],\n",
       "      dtype='object')"
      ]
     },
     "execution_count": 8,
     "metadata": {},
     "output_type": "execute_result"
    }
   ],
   "source": [
    "data.columns"
   ]
  },
  {
   "cell_type": "markdown",
   "metadata": {},
   "source": [
    "## Lets take a closer look at the high cardinality features"
   ]
  },
  {
   "cell_type": "code",
   "execution_count": 9,
   "metadata": {},
   "outputs": [
    {
     "name": "stdout",
     "output_type": "stream",
     "text": [
      "site_id has 1461 unique categories\n",
      "site_domain has 1333 unique categories\n",
      "app_id has 1296 unique categories\n",
      "device_model has 3167 unique categories\n",
      "C14 has 1713 unique categories\n",
      "C17 has 399 unique categories\n",
      "C20 has 157 unique categories\n"
     ]
    }
   ],
   "source": [
    "for i in target_enc:\n",
    "    print(f'{i} has {len(data[i].unique())} unique categories')"
   ]
  },
  {
   "cell_type": "markdown",
   "metadata": {},
   "source": [
    "## Split the Dataset"
   ]
  },
  {
   "cell_type": "code",
   "execution_count": 10,
   "metadata": {},
   "outputs": [
    {
     "data": {
      "text/plain": [
       "(80000, 30)"
      ]
     },
     "execution_count": 10,
     "metadata": {},
     "output_type": "execute_result"
    },
    {
     "data": {
      "text/plain": [
       "(80000,)"
      ]
     },
     "execution_count": 10,
     "metadata": {},
     "output_type": "execute_result"
    },
    {
     "data": {
      "text/plain": [
       "(20000, 30)"
      ]
     },
     "execution_count": 10,
     "metadata": {},
     "output_type": "execute_result"
    },
    {
     "data": {
      "text/plain": [
       "(20000,)"
      ]
     },
     "execution_count": 10,
     "metadata": {},
     "output_type": "execute_result"
    }
   ],
   "source": [
    "from sklearn.model_selection import train_test_split\n",
    "\n",
    "X = data.drop(columns=['click'])\n",
    "y = data['click']\n",
    "\n",
    "X_train, X_test, y_train, y_test = train_test_split(X, y, random_state=42, test_size=0.2)\n",
    "X_train.shape\n",
    "y_train.shape\n",
    "X_test.shape\n",
    "y_test.shape"
   ]
  },
  {
   "cell_type": "markdown",
   "metadata": {},
   "source": [
    "# Modeling"
   ]
  },
  {
   "cell_type": "code",
   "execution_count": 11,
   "metadata": {},
   "outputs": [],
   "source": [
    "# Imports\n",
    "from imblearn.pipeline import Pipeline\n",
    "from sklearn.model_selection import GridSearchCV, RandomizedSearchCV\n",
    "from sklearn.tree import DecisionTreeClassifier\n",
    "from imblearn.over_sampling import SMOTE\n",
    "from imblearn.over_sampling import RandomOverSampler\n",
    "from sklearn.linear_model import LogisticRegression\n",
    "from imblearn.under_sampling import RandomUnderSampler\n",
    "import numpy as np\n",
    "from category_encoders.target_encoder import TargetEncoder\n",
    "\n",
    "from sklearn.model_selection import train_test_split\n",
    "from imblearn.pipeline import make_pipeline \n",
    "from sklearn.preprocessing import StandardScaler\n",
    "from sklearn.neighbors import KNeighborsClassifier\n",
    "from sklearn.metrics import classification_report, f1_score, make_scorer, accuracy_score, precision_score, recall_score, roc_auc_score\n",
    "from sklearn.model_selection import cross_validate\n",
    "from sklearn.metrics import plot_confusion_matrix\n",
    "import matplotlib.pyplot as plt\n",
    "\n",
    "# Ensemble methods\n",
    "from sklearn.tree import DecisionTreeClassifier \n",
    "from sklearn.linear_model import LogisticRegression\n",
    "from sklearn.ensemble import VotingClassifier\n",
    "from sklearn.neighbors import KNeighborsClassifier\n",
    "\n",
    "from sklearn.linear_model import LogisticRegression\n",
    "from sklearn.ensemble import StackingClassifier\n",
    "from sklearn.ensemble import RandomForestClassifier\n",
    "from sklearn.ensemble import AdaBoostClassifier\n",
    "\n",
    "# Boosting \n",
    "from catboost import CatBoostClassifier\n",
    "\n",
    "# Stats (util)\n",
    "from scipy.stats import randint as sp_randInt\n",
    "from scipy.stats import uniform as sp_randFloat"
   ]
  },
  {
   "cell_type": "markdown",
   "metadata": {},
   "source": [
    "# Choose Best Model"
   ]
  },
  {
   "cell_type": "markdown",
   "metadata": {},
   "source": [
    "Using GridSearchCV we choose the best model after Hyper-parameter tunning. The metric we are using to make our decision regarding which is the best model is `f1-score`"
   ]
  },
  {
   "cell_type": "code",
   "execution_count": 12,
   "metadata": {},
   "outputs": [],
   "source": [
    "rfc_rand = {'classifier': RandomForestClassifier(max_depth=39, min_samples_leaf=29, min_samples_split=15,\n",
    "                       n_estimators=206), \n",
    "            'classifier__max_depth': 39, \n",
    "            'classifier__min_samples_leaf': 29, \n",
    "            'classifier__min_samples_split': 15, \n",
    "            'classifier__n_estimators': 206, \n",
    "            'sampling': RandomUnderSampler(), \n",
    "            'scaler': StandardScaler(), \n",
    "            'transformer': TargetEncoder(cols=['site_id', 'site_domain', 'app_id', 'device_model', 'C14',\n",
    "                    'C17', 'C20'])}\n",
    "\n",
    "\n",
    "\n"
   ]
  },
  {
   "cell_type": "code",
   "execution_count": 13,
   "metadata": {},
   "outputs": [
    {
     "name": "stderr",
     "output_type": "stream",
     "text": [
      "/Users/sebastiaoribeirodespinola/opt/anaconda3/envs/mlcourse/lib/python3.8/site-packages/category_encoders/utils.py:21: FutureWarning: is_categorical is deprecated and will be removed in a future version.  Use is_categorical_dtype instead\n",
      "  elif pd.api.types.is_categorical(cols):\n",
      "/Users/sebastiaoribeirodespinola/opt/anaconda3/envs/mlcourse/lib/python3.8/site-packages/category_encoders/utils.py:21: FutureWarning: is_categorical is deprecated and will be removed in a future version.  Use is_categorical_dtype instead\n",
      "  elif pd.api.types.is_categorical(cols):\n",
      "/Users/sebastiaoribeirodespinola/opt/anaconda3/envs/mlcourse/lib/python3.8/site-packages/category_encoders/utils.py:21: FutureWarning: is_categorical is deprecated and will be removed in a future version.  Use is_categorical_dtype instead\n",
      "  elif pd.api.types.is_categorical(cols):\n",
      "/Users/sebastiaoribeirodespinola/opt/anaconda3/envs/mlcourse/lib/python3.8/site-packages/category_encoders/utils.py:21: FutureWarning: is_categorical is deprecated and will be removed in a future version.  Use is_categorical_dtype instead\n",
      "  elif pd.api.types.is_categorical(cols):\n",
      "/Users/sebastiaoribeirodespinola/opt/anaconda3/envs/mlcourse/lib/python3.8/site-packages/category_encoders/utils.py:21: FutureWarning: is_categorical is deprecated and will be removed in a future version.  Use is_categorical_dtype instead\n",
      "  elif pd.api.types.is_categorical(cols):\n",
      "/Users/sebastiaoribeirodespinola/opt/anaconda3/envs/mlcourse/lib/python3.8/site-packages/category_encoders/utils.py:21: FutureWarning: is_categorical is deprecated and will be removed in a future version.  Use is_categorical_dtype instead\n",
      "  elif pd.api.types.is_categorical(cols):\n",
      "/Users/sebastiaoribeirodespinola/opt/anaconda3/envs/mlcourse/lib/python3.8/site-packages/category_encoders/utils.py:21: FutureWarning: is_categorical is deprecated and will be removed in a future version.  Use is_categorical_dtype instead\n",
      "  elif pd.api.types.is_categorical(cols):\n",
      "/Users/sebastiaoribeirodespinola/opt/anaconda3/envs/mlcourse/lib/python3.8/site-packages/category_encoders/utils.py:21: FutureWarning: is_categorical is deprecated and will be removed in a future version.  Use is_categorical_dtype instead\n",
      "  elif pd.api.types.is_categorical(cols):\n",
      "/Users/sebastiaoribeirodespinola/opt/anaconda3/envs/mlcourse/lib/python3.8/site-packages/category_encoders/utils.py:21: FutureWarning: is_categorical is deprecated and will be removed in a future version.  Use is_categorical_dtype instead\n",
      "  elif pd.api.types.is_categorical(cols):\n",
      "/Users/sebastiaoribeirodespinola/opt/anaconda3/envs/mlcourse/lib/python3.8/site-packages/category_encoders/utils.py:21: FutureWarning: is_categorical is deprecated and will be removed in a future version.  Use is_categorical_dtype instead\n",
      "  elif pd.api.types.is_categorical(cols):\n",
      "/Users/sebastiaoribeirodespinola/opt/anaconda3/envs/mlcourse/lib/python3.8/site-packages/category_encoders/utils.py:21: FutureWarning: is_categorical is deprecated and will be removed in a future version.  Use is_categorical_dtype instead\n",
      "  elif pd.api.types.is_categorical(cols):\n"
     ]
    },
    {
     "data": {
      "text/plain": [
       "GridSearchCV(cv=10,\n",
       "             estimator=Pipeline(steps=[('sampling', RandomUnderSampler()),\n",
       "                                       ('transformer',\n",
       "                                        TargetEncoder(cols=['site_id',\n",
       "                                                            'site_domain',\n",
       "                                                            'app_id',\n",
       "                                                            'device_model',\n",
       "                                                            'C14', 'C17',\n",
       "                                                            'C20'])),\n",
       "                                       ('scaler', StandardScaler()),\n",
       "                                       ('classifier', KNeighborsClassifier())]),\n",
       "             param_grid=[{'classifier': [RandomForestClassifier(max_depth=39,\n",
       "                                                                min_samples_leaf=29,\n",
       "                                                                min_samples_spli...\n",
       "                                                              'app_id',\n",
       "                                                              'device_model',\n",
       "                                                              'C14', 'C17',\n",
       "                                                              'C20'])]}],\n",
       "             refit='f1_score',\n",
       "             scoring={'accuracy_score': make_scorer(accuracy_score),\n",
       "                      'custom_score': make_scorer(classification_report_with_accuracy_score),\n",
       "                      'f1_score': make_scorer(f1_score),\n",
       "                      'precision_score': make_scorer(precision_score),\n",
       "                      'recall_score': make_scorer(recall_score),\n",
       "                      'roc_auc_score': make_scorer(roc_auc_score)})"
      ]
     },
     "execution_count": 13,
     "metadata": {},
     "output_type": "execute_result"
    },
    {
     "name": "stdout",
     "output_type": "stream",
     "text": [
      "Best cross-validation score: 0.40\n",
      "Best params:\n",
      "{'classifier': RandomForestClassifier(max_depth=39, min_samples_leaf=29, min_samples_split=15,\n",
      "                       n_estimators=206), 'classifier__max_depth': 39, 'classifier__min_samples_leaf': 29, 'classifier__min_samples_split': 15, 'classifier__n_estimators': 206, 'sampling': RandomUnderSampler(), 'scaler': StandardScaler(), 'transformer': TargetEncoder(cols=['site_id', 'site_domain', 'app_id', 'device_model', 'C14',\n",
      "                    'C17', 'C20'])}\n",
      "\n"
     ]
    }
   ],
   "source": [
    "best_pipe = Pipeline([('sampling', RandomUnderSampler()),\n",
    "                 ('transformer', TargetEncoder(cols=target_enc)),\n",
    "                 ('scaler', StandardScaler()),\n",
    "                 ('classifier', KNeighborsClassifier())])\n",
    "\n",
    "param_grid = [{key: [value] for (key, value) in rfc_rand.items()}]\n",
    "\n",
    "originalclass = []\n",
    "predictedclass = []\n",
    "# Create Custom Scorig function\n",
    "def classification_report_with_accuracy_score(y_true, y_pred):\n",
    "    originalclass.extend(y_true)\n",
    "    predictedclass.extend(y_pred)\n",
    "    return accuracy_score(y_true, y_pred)\n",
    "\n",
    "scorers = {\n",
    "    'f1_score': make_scorer(f1_score),\n",
    "    'precision_score': make_scorer(precision_score),\n",
    "    'recall_score': make_scorer(recall_score),\n",
    "    'accuracy_score': make_scorer(accuracy_score),\n",
    "    'roc_auc_score': make_scorer(roc_auc_score),\n",
    "    'custom_score': make_scorer(classification_report_with_accuracy_score)\n",
    "}\n",
    "\n",
    "\n",
    "grid_best = GridSearchCV(\n",
    "        estimator=best_pipe,\n",
    "        param_grid=param_grid,\n",
    "        scoring=scorers,\n",
    "        cv=10,\n",
    "        refit='f1_score'\n",
    ")\n",
    "grid_best.fit(X_train, y_train)\n",
    "best_model = grid_best.best_estimator_\n",
    "print(\"Best cross-validation score: {:.2f}\".format(grid_best.best_score_))\n",
    "print(\"Best params:\\n{}\\n\".format(grid_best.best_params_))"
   ]
  },
  {
   "cell_type": "markdown",
   "metadata": {},
   "source": [
    "# Feature Importance"
   ]
  },
  {
   "cell_type": "markdown",
   "metadata": {},
   "source": [
    "# Demora a correr"
   ]
  },
  {
   "cell_type": "code",
   "execution_count": 40,
   "metadata": {},
   "outputs": [],
   "source": [
    "from sklearn.inspection import permutation_importance\n",
    "perm = permutation_importance(best_model, X_train, y_train, n_repeats=30, random_state=42)"
   ]
  },
  {
   "cell_type": "code",
   "execution_count": 41,
   "metadata": {},
   "outputs": [
    {
     "data": {
      "text/plain": [
       "<BarContainer object of 30 artists>"
      ]
     },
     "execution_count": 41,
     "metadata": {},
     "output_type": "execute_result"
    },
    {
     "data": {
      "text/plain": [
       "[[<matplotlib.axis.XTick at 0x7fca59406e20>,\n",
       "  <matplotlib.axis.XTick at 0x7fca594785e0>,\n",
       "  <matplotlib.axis.XTick at 0x7fca59dcf130>,\n",
       "  <matplotlib.axis.XTick at 0x7fca592ea430>,\n",
       "  <matplotlib.axis.XTick at 0x7fca592ea940>,\n",
       "  <matplotlib.axis.XTick at 0x7fca592eae50>,\n",
       "  <matplotlib.axis.XTick at 0x7fca592ea4f0>,\n",
       "  <matplotlib.axis.XTick at 0x7fca592ff3a0>,\n",
       "  <matplotlib.axis.XTick at 0x7fca592ff8b0>,\n",
       "  <matplotlib.axis.XTick at 0x7fca592ffe80>,\n",
       "  <matplotlib.axis.XTick at 0x7fca592ed3d0>,\n",
       "  <matplotlib.axis.XTick at 0x7fca592ed8e0>,\n",
       "  <matplotlib.axis.XTick at 0x7fca592eddf0>,\n",
       "  <matplotlib.axis.XTick at 0x7fca592f6340>,\n",
       "  <matplotlib.axis.XTick at 0x7fca592eda30>,\n",
       "  <matplotlib.axis.XTick at 0x7fca592ffa00>,\n",
       "  <matplotlib.axis.XTick at 0x7fca592eab80>,\n",
       "  <matplotlib.axis.XTick at 0x7fca592f6a90>,\n",
       "  <matplotlib.axis.XTick at 0x7fca592f6fa0>,\n",
       "  <matplotlib.axis.XTick at 0x7fca58f314f0>,\n",
       "  <matplotlib.axis.XTick at 0x7fca58f31a00>,\n",
       "  <matplotlib.axis.XTick at 0x7fca58f31f10>,\n",
       "  <matplotlib.axis.XTick at 0x7fca58f36460>,\n",
       "  <matplotlib.axis.XTick at 0x7fca58f36970>,\n",
       "  <matplotlib.axis.XTick at 0x7fca58f31100>,\n",
       "  <matplotlib.axis.XTick at 0x7fca592ff5b0>,\n",
       "  <matplotlib.axis.XTick at 0x7fca58f36130>,\n",
       "  <matplotlib.axis.XTick at 0x7fca58f36e80>,\n",
       "  <matplotlib.axis.XTick at 0x7fca58f3f3d0>,\n",
       "  <matplotlib.axis.XTick at 0x7fca58f3f8e0>],\n",
       " [Text(0, 0, 'C1'),\n",
       "  Text(1, 0, 'banner_pos'),\n",
       "  Text(2, 0, 'site_id'),\n",
       "  Text(3, 0, 'site_domain'),\n",
       "  Text(4, 0, 'site_category'),\n",
       "  Text(5, 0, 'app_id'),\n",
       "  Text(6, 0, 'app_domain'),\n",
       "  Text(7, 0, 'app_category'),\n",
       "  Text(8, 0, 'device_model'),\n",
       "  Text(9, 0, 'C14'),\n",
       "  Text(10, 0, 'C15'),\n",
       "  Text(11, 0, 'C16'),\n",
       "  Text(12, 0, 'C17'),\n",
       "  Text(13, 0, 'C19'),\n",
       "  Text(14, 0, 'C20'),\n",
       "  Text(15, 0, 'C21'),\n",
       "  Text(16, 0, 'hour_of_day'),\n",
       "  Text(17, 0, 'weekday'),\n",
       "  Text(18, 0, 'device_type_0'),\n",
       "  Text(19, 0, 'device_type_1'),\n",
       "  Text(20, 0, 'device_type_4'),\n",
       "  Text(21, 0, 'device_type_5'),\n",
       "  Text(22, 0, 'device_conn_type_0'),\n",
       "  Text(23, 0, 'device_conn_type_2'),\n",
       "  Text(24, 0, 'device_conn_type_3'),\n",
       "  Text(25, 0, 'device_conn_type_5'),\n",
       "  Text(26, 0, 'C18_0'),\n",
       "  Text(27, 0, 'C18_1'),\n",
       "  Text(28, 0, 'C18_2'),\n",
       "  Text(29, 0, 'C18_3')]]"
      ]
     },
     "execution_count": 41,
     "metadata": {},
     "output_type": "execute_result"
    },
    {
     "data": {
      "text/plain": [
       "[None,\n",
       " None,\n",
       " None,\n",
       " None,\n",
       " None,\n",
       " None,\n",
       " None,\n",
       " None,\n",
       " None,\n",
       " None,\n",
       " None,\n",
       " None,\n",
       " None,\n",
       " None,\n",
       " None,\n",
       " None,\n",
       " None,\n",
       " None,\n",
       " None,\n",
       " None,\n",
       " None,\n",
       " None,\n",
       " None,\n",
       " None,\n",
       " None,\n",
       " None,\n",
       " None,\n",
       " None,\n",
       " None,\n",
       " None,\n",
       " None,\n",
       " None,\n",
       " None,\n",
       " None,\n",
       " None,\n",
       " None,\n",
       " None,\n",
       " None,\n",
       " None,\n",
       " None,\n",
       " None,\n",
       " None,\n",
       " None,\n",
       " None,\n",
       " None,\n",
       " None,\n",
       " None,\n",
       " None,\n",
       " None,\n",
       " None,\n",
       " None,\n",
       " None,\n",
       " None,\n",
       " None,\n",
       " None,\n",
       " None,\n",
       " None,\n",
       " None,\n",
       " None,\n",
       " None]"
      ]
     },
     "execution_count": 41,
     "metadata": {},
     "output_type": "execute_result"
    },
    {
     "data": {
      "image/png": "[encoded data removed]",
      "text/plain": [
       "<Figure size 1440x360 with 1 Axes>"
      ]
     },
     "metadata": {
      "needs_background": "light"
     },
     "output_type": "display_data"
    }
   ],
   "source": [
    "fi = perm.importances_mean\n",
    "fig, ax = plt.subplots(figsize=(20, 5))\n",
    "ax.bar(range(len(fi)), fi, align=\"center\")\n",
    "ax.set(xticks=range(len(fi)), xticklabels=X_train.columns)\n",
    "plt.setp(ax.get_xticklabels(), rotation=45, ha=\"right\", rotation_mode=\"anchor\")\n",
    "plt.show()"
   ]
  },
  {
   "cell_type": "markdown",
   "metadata": {},
   "source": [
    "As our intuition could lead us, app id is an important feature, in this case the most important one.\n",
    "From the features that we can interpret device model has a relevant importance as well. A possible intuition could be the difference between softwares from each device, since newer versions could lead to better performance of the adds or some random explanation that this model is capturing.\n",
    "\n",
    "One that could have a higher importance is hour of the day, since it could lead to different user responses. Neverthless, it has some relevant importance."
   ]
  },
  {
   "cell_type": "markdown",
   "metadata": {},
   "source": [
    "# Test Best Model"
   ]
  },
  {
   "cell_type": "code",
   "execution_count": 29,
   "metadata": {},
   "outputs": [
    {
     "data": {
      "text/html": [
       "<div>\n",
       "<style scoped>\n",
       "    .dataframe tbody tr th:only-of-type {\n",
       "        vertical-align: middle;\n",
       "    }\n",
       "\n",
       "    .dataframe tbody tr th {\n",
       "        vertical-align: top;\n",
       "    }\n",
       "\n",
       "    .dataframe thead th {\n",
       "        text-align: right;\n",
       "    }\n",
       "</style>\n",
       "<table border=\"1\" class=\"dataframe\">\n",
       "  <thead>\n",
       "    <tr style=\"text-align: right;\">\n",
       "      <th></th>\n",
       "      <th>param_classifier</th>\n",
       "      <th>mean_test_f1_score</th>\n",
       "      <th>std_test_f1_score</th>\n",
       "      <th>rank_test_f1_score</th>\n",
       "    </tr>\n",
       "  </thead>\n",
       "  <tbody>\n",
       "    <tr>\n",
       "      <th>0</th>\n",
       "      <td>RandomForestClassifier(max_depth=39, min_sampl...</td>\n",
       "      <td>0.396761</td>\n",
       "      <td>0.003112</td>\n",
       "      <td>1</td>\n",
       "    </tr>\n",
       "  </tbody>\n",
       "</table>\n",
       "</div>"
      ],
      "text/plain": [
       "                                    param_classifier  mean_test_f1_score  \\\n",
       "0  RandomForestClassifier(max_depth=39, min_sampl...            0.396761   \n",
       "\n",
       "   std_test_f1_score  rank_test_f1_score  \n",
       "0           0.003112                   1  "
      ]
     },
     "execution_count": 29,
     "metadata": {},
     "output_type": "execute_result"
    }
   ],
   "source": [
    "scores_best_models = pd.DataFrame(grid_best.cv_results_)[['param_classifier','mean_test_f1_score','std_test_f1_score','rank_test_f1_score']]\n",
    "scores_best_models\n",
    "# grid_best.cv_results_"
   ]
  },
  {
   "cell_type": "code",
   "execution_count": 30,
   "metadata": {},
   "outputs": [
    {
     "data": {
      "text/html": [
       "<div>\n",
       "<style scoped>\n",
       "    .dataframe tbody tr th:only-of-type {\n",
       "        vertical-align: middle;\n",
       "    }\n",
       "\n",
       "    .dataframe tbody tr th {\n",
       "        vertical-align: top;\n",
       "    }\n",
       "\n",
       "    .dataframe thead th {\n",
       "        text-align: right;\n",
       "    }\n",
       "</style>\n",
       "<table border=\"1\" class=\"dataframe\">\n",
       "  <thead>\n",
       "    <tr style=\"text-align: right;\">\n",
       "      <th></th>\n",
       "      <th>param_classifier</th>\n",
       "      <th>mean_test_f1_score</th>\n",
       "      <th>mean_test_precision_score</th>\n",
       "      <th>mean_test_recall_score</th>\n",
       "      <th>mean_test_accuracy_score</th>\n",
       "      <th>mean_test_roc_auc_score</th>\n",
       "      <th>mean_test_custom_score</th>\n",
       "      <th>rank_test_f1_score</th>\n",
       "    </tr>\n",
       "  </thead>\n",
       "  <tbody>\n",
       "    <tr>\n",
       "      <th>0</th>\n",
       "      <td>RandomForestClassifier(max_depth=39, min_sampl...</td>\n",
       "      <td>0.396761</td>\n",
       "      <td>0.273187</td>\n",
       "      <td>0.724592</td>\n",
       "      <td>0.625463</td>\n",
       "      <td>0.664877</td>\n",
       "      <td>0.625463</td>\n",
       "      <td>1</td>\n",
       "    </tr>\n",
       "  </tbody>\n",
       "</table>\n",
       "</div>"
      ],
      "text/plain": [
       "                                    param_classifier  mean_test_f1_score  \\\n",
       "0  RandomForestClassifier(max_depth=39, min_sampl...            0.396761   \n",
       "\n",
       "   mean_test_precision_score  mean_test_recall_score  \\\n",
       "0                   0.273187                0.724592   \n",
       "\n",
       "   mean_test_accuracy_score  mean_test_roc_auc_score  mean_test_custom_score  \\\n",
       "0                  0.625463                 0.664877                0.625463   \n",
       "\n",
       "   rank_test_f1_score  \n",
       "0                   1  "
      ]
     },
     "execution_count": 30,
     "metadata": {},
     "output_type": "execute_result"
    }
   ],
   "source": [
    "mean_test_scores = ['mean_test_'+sc for sc in scorers.keys()]\n",
    "pd.DataFrame(grid_best.cv_results_)[['param_classifier']+mean_test_scores+['rank_test_f1_score']].sort_values(by='rank_test_f1_score')"
   ]
  },
  {
   "cell_type": "markdown",
   "metadata": {},
   "source": [
    "The Custom scorer above gathers all the original vs predictions for each CV split, which we use to create an Average CV Classification Repport."
   ]
  },
  {
   "cell_type": "code",
   "execution_count": 31,
   "metadata": {},
   "outputs": [
    {
     "name": "stdout",
     "output_type": "stream",
     "text": [
      "-------------- Average CV Classification Report --------------\n",
      "               precision    recall  f1-score   support\n",
      "\n",
      "           0       0.91      0.61      0.73     66402\n",
      "           1       0.27      0.72      0.40     13598\n",
      "\n",
      "    accuracy                           0.63     80000\n",
      "   macro avg       0.59      0.66      0.56     80000\n",
      "weighted avg       0.81      0.63      0.67     80000\n",
      "\n"
     ]
    }
   ],
   "source": [
    "print(\"-------------- Average CV Classification Report --------------\\n\", \n",
    "      classification_report(originalclass, predictedclass))"
   ]
  },
  {
   "cell_type": "markdown",
   "metadata": {},
   "source": [
    "#### Confusion matrix\n",
    "The predicted classes are represented in the columns of the matrix, whereas the actual classes are in the rows of the matrix. We then have four cases:\n",
    "- True positives (TP): the cases for which the classifier predicted that a user clicks and the the class is actually that the user clicked.\n",
    "- True negatives (TN): the cases for which the classifier predicted that the user will not click and the class is actually that it will not click.\n",
    "- False positives (FP): the cases for which the classifier predicted that a user clicks but class is actually that it will not click.\n",
    "- False negatives (FN): the cases for which the classifier predicted that the user will not click but the class is actually that the user clicked.\n"
   ]
  },
  {
   "cell_type": "code",
   "execution_count": 35,
   "metadata": {},
   "outputs": [
    {
     "data": {
      "text/plain": [
       "<sklearn.metrics._plot.confusion_matrix.ConfusionMatrixDisplay at 0x7fcb99ccbc10>"
      ]
     },
     "execution_count": 35,
     "metadata": {},
     "output_type": "execute_result"
    },
    {
     "data": {
      "text/plain": [
       "Text(0.5, 1.0, 'Best Model')"
      ]
     },
     "execution_count": 35,
     "metadata": {},
     "output_type": "execute_result"
    },
    {
     "data": {
      "image/png": "[encoded data removed]",
      "text/plain": [
       "<Figure size 432x288 with 2 Axes>"
      ]
     },
     "metadata": {
      "needs_background": "light"
     },
     "output_type": "display_data"
    }
   ],
   "source": [
    "plot_confusion_matrix(best_model, X_test, y_test, display_labels=['Not Click (0)','Click (1)'])\n",
    "plt.title('Best Model')\n",
    "plt.show()"
   ]
  },
  {
   "cell_type": "markdown",
   "metadata": {},
   "source": [
    "Let's interpret these values:\n",
    "Out of the 3433 instances of class 1 in our test set, the model identified 2468 of them as 1, and 965 predicted as 0 (false negatives, type II error).\n",
    "Out of 16567 users of class 0, 10105 were identified correctly as 0, and 6462 were false positives (type I error)."
   ]
  },
  {
   "cell_type": "markdown",
   "metadata": {},
   "source": [
    "Our main target was to sustain a high f1 score, since our dataset is imbalanced. Also, it is more relevant to the business model, to guarantee a good harmonic mean between recall and precision. The first one, to ensure that we increase our target prediction, in order to minimize failures and take out predictions of not clicking. The second one, to ensure that when it predicts the right class it does not fail that much.\n",
    "\n",
    "As we see prediction is not beeing perfected by the model, but recall has a significant value. This leads to a good f1 score."
   ]
  },
  {
   "cell_type": "code",
   "execution_count": null,
   "metadata": {},
   "outputs": [],
   "source": []
  },
  {
   "cell_type": "code",
   "execution_count": null,
   "metadata": {},
   "outputs": [],
   "source": []
  },
  {
   "cell_type": "code",
   "execution_count": null,
   "metadata": {},
   "outputs": [],
   "source": []
  }
 ],
 "metadata": {
  "kernelspec": {
   "display_name": "Python 3",
   "language": "python",
   "name": "python3"
  },
  "language_info": {
   "codemirror_mode": {
    "name": "ipython",
    "version": 3
   },
   "file_extension": ".py",
   "mimetype": "text/x-python",
   "name": "python",
   "nbconvert_exporter": "python",
   "pygments_lexer": "ipython3",
   "version": "3.8.8"
  }
 },
 "nbformat": 4,
 "nbformat_minor": 2
}
