{
 "cells": [
  {
   "cell_type": "code",
   "execution_count": 1,
   "metadata": {
    "ExecuteTime": {
     "end_time": "2021-05-08T18:29:21.220827Z",
     "start_time": "2021-05-08T18:29:20.828038Z"
    }
   },
   "outputs": [],
   "source": [
    "import pandas as pd\n",
    "import numpy as np\n",
    "# allow multiple outputs per cell\n",
    "from IPython.core.interactiveshell import InteractiveShell\n",
    "InteractiveShell.ast_node_interactivity = \"all\""
   ]
  },
  {
   "cell_type": "markdown",
   "metadata": {},
   "source": [
    "# Load Treated dataset from EDA"
   ]
  },
  {
   "cell_type": "code",
   "execution_count": 2,
   "metadata": {
    "ExecuteTime": {
     "end_time": "2021-05-08T18:29:21.550308Z",
     "start_time": "2021-05-08T18:29:21.221985Z"
    }
   },
   "outputs": [
    {
     "data": {
      "text/html": [
       "<div>\n",
       "<style scoped>\n",
       "    .dataframe tbody tr th:only-of-type {\n",
       "        vertical-align: middle;\n",
       "    }\n",
       "\n",
       "    .dataframe tbody tr th {\n",
       "        vertical-align: top;\n",
       "    }\n",
       "\n",
       "    .dataframe thead th {\n",
       "        text-align: right;\n",
       "    }\n",
       "</style>\n",
       "<table border=\"1\" class=\"dataframe\">\n",
       "  <thead>\n",
       "    <tr style=\"text-align: right;\">\n",
       "      <th></th>\n",
       "      <th>id</th>\n",
       "      <th>click</th>\n",
       "      <th>hour</th>\n",
       "      <th>C1</th>\n",
       "      <th>banner_pos</th>\n",
       "      <th>site_id</th>\n",
       "      <th>site_domain</th>\n",
       "      <th>site_category</th>\n",
       "      <th>app_id</th>\n",
       "      <th>app_domain</th>\n",
       "      <th>...</th>\n",
       "      <th>C15</th>\n",
       "      <th>C16</th>\n",
       "      <th>C17</th>\n",
       "      <th>C18</th>\n",
       "      <th>C19</th>\n",
       "      <th>C20</th>\n",
       "      <th>C21</th>\n",
       "      <th>hour_of_day</th>\n",
       "      <th>day</th>\n",
       "      <th>weekday</th>\n",
       "    </tr>\n",
       "  </thead>\n",
       "  <tbody>\n",
       "    <tr>\n",
       "      <th>0</th>\n",
       "      <td>6.448465e+18</td>\n",
       "      <td>0</td>\n",
       "      <td>2014-10-28 06:00:00</td>\n",
       "      <td>1005</td>\n",
       "      <td>0</td>\n",
       "      <td>d6137915</td>\n",
       "      <td>bb1ef334</td>\n",
       "      <td>f028772b</td>\n",
       "      <td>ecad2386</td>\n",
       "      <td>7801e8d9</td>\n",
       "      <td>...</td>\n",
       "      <td>320</td>\n",
       "      <td>50</td>\n",
       "      <td>2227</td>\n",
       "      <td>0</td>\n",
       "      <td>935</td>\n",
       "      <td>-1</td>\n",
       "      <td>48</td>\n",
       "      <td>6</td>\n",
       "      <td>28</td>\n",
       "      <td>Tuesday</td>\n",
       "    </tr>\n",
       "    <tr>\n",
       "      <th>1</th>\n",
       "      <td>1.342805e+19</td>\n",
       "      <td>0</td>\n",
       "      <td>2014-10-23 07:00:00</td>\n",
       "      <td>1002</td>\n",
       "      <td>0</td>\n",
       "      <td>85f751fd</td>\n",
       "      <td>c4e18dd6</td>\n",
       "      <td>50e219e0</td>\n",
       "      <td>9a08a110</td>\n",
       "      <td>7801e8d9</td>\n",
       "      <td>...</td>\n",
       "      <td>320</td>\n",
       "      <td>50</td>\n",
       "      <td>2495</td>\n",
       "      <td>2</td>\n",
       "      <td>167</td>\n",
       "      <td>-1</td>\n",
       "      <td>23</td>\n",
       "      <td>7</td>\n",
       "      <td>23</td>\n",
       "      <td>Thursday</td>\n",
       "    </tr>\n",
       "    <tr>\n",
       "      <th>2</th>\n",
       "      <td>1.048699e+19</td>\n",
       "      <td>0</td>\n",
       "      <td>2014-10-23 10:00:00</td>\n",
       "      <td>1005</td>\n",
       "      <td>0</td>\n",
       "      <td>9a28a858</td>\n",
       "      <td>64778742</td>\n",
       "      <td>f028772b</td>\n",
       "      <td>ecad2386</td>\n",
       "      <td>7801e8d9</td>\n",
       "      <td>...</td>\n",
       "      <td>300</td>\n",
       "      <td>250</td>\n",
       "      <td>2523</td>\n",
       "      <td>3</td>\n",
       "      <td>39</td>\n",
       "      <td>-1</td>\n",
       "      <td>221</td>\n",
       "      <td>10</td>\n",
       "      <td>23</td>\n",
       "      <td>Thursday</td>\n",
       "    </tr>\n",
       "    <tr>\n",
       "      <th>3</th>\n",
       "      <td>8.833733e+18</td>\n",
       "      <td>0</td>\n",
       "      <td>2014-10-23 07:00:00</td>\n",
       "      <td>1005</td>\n",
       "      <td>0</td>\n",
       "      <td>1fbe01fe</td>\n",
       "      <td>f3845767</td>\n",
       "      <td>28905ebd</td>\n",
       "      <td>ecad2386</td>\n",
       "      <td>7801e8d9</td>\n",
       "      <td>...</td>\n",
       "      <td>320</td>\n",
       "      <td>50</td>\n",
       "      <td>1722</td>\n",
       "      <td>0</td>\n",
       "      <td>35</td>\n",
       "      <td>-1</td>\n",
       "      <td>79</td>\n",
       "      <td>7</td>\n",
       "      <td>23</td>\n",
       "      <td>Thursday</td>\n",
       "    </tr>\n",
       "    <tr>\n",
       "      <th>4</th>\n",
       "      <td>1.035453e+19</td>\n",
       "      <td>0</td>\n",
       "      <td>2014-10-28 11:00:00</td>\n",
       "      <td>1005</td>\n",
       "      <td>0</td>\n",
       "      <td>85f751fd</td>\n",
       "      <td>c4e18dd6</td>\n",
       "      <td>50e219e0</td>\n",
       "      <td>a5184c22</td>\n",
       "      <td>b8d325c3</td>\n",
       "      <td>...</td>\n",
       "      <td>320</td>\n",
       "      <td>50</td>\n",
       "      <td>2676</td>\n",
       "      <td>0</td>\n",
       "      <td>35</td>\n",
       "      <td>100176</td>\n",
       "      <td>221</td>\n",
       "      <td>11</td>\n",
       "      <td>28</td>\n",
       "      <td>Tuesday</td>\n",
       "    </tr>\n",
       "  </tbody>\n",
       "</table>\n",
       "<p>5 rows × 27 columns</p>\n",
       "</div>"
      ],
      "text/plain": [
       "             id  click                 hour    C1  banner_pos   site_id  \\\n",
       "0  6.448465e+18      0  2014-10-28 06:00:00  1005           0  d6137915   \n",
       "1  1.342805e+19      0  2014-10-23 07:00:00  1002           0  85f751fd   \n",
       "2  1.048699e+19      0  2014-10-23 10:00:00  1005           0  9a28a858   \n",
       "3  8.833733e+18      0  2014-10-23 07:00:00  1005           0  1fbe01fe   \n",
       "4  1.035453e+19      0  2014-10-28 11:00:00  1005           0  85f751fd   \n",
       "\n",
       "  site_domain site_category    app_id app_domain  ...  C15  C16   C17 C18  \\\n",
       "0    bb1ef334      f028772b  ecad2386   7801e8d9  ...  320   50  2227   0   \n",
       "1    c4e18dd6      50e219e0  9a08a110   7801e8d9  ...  320   50  2495   2   \n",
       "2    64778742      f028772b  ecad2386   7801e8d9  ...  300  250  2523   3   \n",
       "3    f3845767      28905ebd  ecad2386   7801e8d9  ...  320   50  1722   0   \n",
       "4    c4e18dd6      50e219e0  a5184c22   b8d325c3  ...  320   50  2676   0   \n",
       "\n",
       "   C19     C20  C21  hour_of_day  day   weekday  \n",
       "0  935      -1   48            6   28   Tuesday  \n",
       "1  167      -1   23            7   23  Thursday  \n",
       "2   39      -1  221           10   23  Thursday  \n",
       "3   35      -1   79            7   23  Thursday  \n",
       "4   35  100176  221           11   28   Tuesday  \n",
       "\n",
       "[5 rows x 27 columns]"
      ]
     },
     "execution_count": 2,
     "metadata": {},
     "output_type": "execute_result"
    },
    {
     "data": {
      "text/plain": [
       "(100000, 27)"
      ]
     },
     "execution_count": 2,
     "metadata": {},
     "output_type": "execute_result"
    }
   ],
   "source": [
    "df = pd.read_csv(\"ad_clicks_100k_Treated.csv\")\n",
    "df.drop(columns=\"Unnamed: 0\", inplace=True)\n",
    "df.head()\n",
    "df.shape"
   ]
  },
  {
   "cell_type": "markdown",
   "metadata": {},
   "source": [
    "### Drop features that will not go into the model\n",
    "- `id` (We do not need the variable ID as predictor, it does not make sense to use)\n",
    "- `hour` (because hour was broken down into (day, weekday, hour_of_day)) \n",
    "- `day` (because we find that it will add no significant predictive value that makes sense in any future application, i.e. the dataset covers 10 days of the year and we have no way to know if any of those days is representative of the year, or if there was something exceptional happening. By using `hour_of_day` and `weekday` we average these values and thus make this possible effect less significant)   \n",
    "- `device_ip` and `device_id`"
   ]
  },
  {
   "cell_type": "markdown",
   "metadata": {},
   "source": [
    "Given `device_id` and `device_ip` are uniquely identifing the specific `device` and public `id` adress (which is not immutable for the same person - i.e. you can sport different public ips at different times) of the person that clicked the ad, these provide no meaningfull or usefull information toward predictic `clicks`. \n",
    "\n",
    "There is actually a problem of, given that these are very high cardinality features, them playing a very \"important\" yet misleading role when models are applied to the dataset. Furthermore, these features represent a person that may never be seen again by the model in when applied in reality or with a different dataset therefore it would be wrong to include these in the modeling process. \n",
    "\n",
    "We are interested in knowing what are the shared characteristics of anyone that clicks, and the above mentioned features do not fit this requirement."
   ]
  },
  {
   "cell_type": "code",
   "execution_count": 3,
   "metadata": {
    "ExecuteTime": {
     "end_time": "2021-05-08T18:29:21.581308Z",
     "start_time": "2021-05-08T18:29:21.552295Z"
    }
   },
   "outputs": [
    {
     "data": {
      "text/html": [
       "<div>\n",
       "<style scoped>\n",
       "    .dataframe tbody tr th:only-of-type {\n",
       "        vertical-align: middle;\n",
       "    }\n",
       "\n",
       "    .dataframe tbody tr th {\n",
       "        vertical-align: top;\n",
       "    }\n",
       "\n",
       "    .dataframe thead th {\n",
       "        text-align: right;\n",
       "    }\n",
       "</style>\n",
       "<table border=\"1\" class=\"dataframe\">\n",
       "  <thead>\n",
       "    <tr style=\"text-align: right;\">\n",
       "      <th></th>\n",
       "      <th>click</th>\n",
       "      <th>C1</th>\n",
       "      <th>banner_pos</th>\n",
       "      <th>site_id</th>\n",
       "      <th>site_domain</th>\n",
       "      <th>site_category</th>\n",
       "      <th>app_id</th>\n",
       "      <th>app_domain</th>\n",
       "      <th>app_category</th>\n",
       "      <th>device_model</th>\n",
       "      <th>...</th>\n",
       "      <th>C14</th>\n",
       "      <th>C15</th>\n",
       "      <th>C16</th>\n",
       "      <th>C17</th>\n",
       "      <th>C18</th>\n",
       "      <th>C19</th>\n",
       "      <th>C20</th>\n",
       "      <th>C21</th>\n",
       "      <th>hour_of_day</th>\n",
       "      <th>weekday</th>\n",
       "    </tr>\n",
       "  </thead>\n",
       "  <tbody>\n",
       "    <tr>\n",
       "      <th>0</th>\n",
       "      <td>0</td>\n",
       "      <td>1005</td>\n",
       "      <td>0</td>\n",
       "      <td>d6137915</td>\n",
       "      <td>bb1ef334</td>\n",
       "      <td>f028772b</td>\n",
       "      <td>ecad2386</td>\n",
       "      <td>7801e8d9</td>\n",
       "      <td>07d7df22</td>\n",
       "      <td>9efa421a</td>\n",
       "      <td>...</td>\n",
       "      <td>19771</td>\n",
       "      <td>320</td>\n",
       "      <td>50</td>\n",
       "      <td>2227</td>\n",
       "      <td>0</td>\n",
       "      <td>935</td>\n",
       "      <td>-1</td>\n",
       "      <td>48</td>\n",
       "      <td>6</td>\n",
       "      <td>Tuesday</td>\n",
       "    </tr>\n",
       "    <tr>\n",
       "      <th>1</th>\n",
       "      <td>0</td>\n",
       "      <td>1002</td>\n",
       "      <td>0</td>\n",
       "      <td>85f751fd</td>\n",
       "      <td>c4e18dd6</td>\n",
       "      <td>50e219e0</td>\n",
       "      <td>9a08a110</td>\n",
       "      <td>7801e8d9</td>\n",
       "      <td>07d7df22</td>\n",
       "      <td>02d14ecc</td>\n",
       "      <td>...</td>\n",
       "      <td>21676</td>\n",
       "      <td>320</td>\n",
       "      <td>50</td>\n",
       "      <td>2495</td>\n",
       "      <td>2</td>\n",
       "      <td>167</td>\n",
       "      <td>-1</td>\n",
       "      <td>23</td>\n",
       "      <td>7</td>\n",
       "      <td>Thursday</td>\n",
       "    </tr>\n",
       "    <tr>\n",
       "      <th>2</th>\n",
       "      <td>0</td>\n",
       "      <td>1005</td>\n",
       "      <td>0</td>\n",
       "      <td>9a28a858</td>\n",
       "      <td>64778742</td>\n",
       "      <td>f028772b</td>\n",
       "      <td>ecad2386</td>\n",
       "      <td>7801e8d9</td>\n",
       "      <td>07d7df22</td>\n",
       "      <td>ecb851b2</td>\n",
       "      <td>...</td>\n",
       "      <td>21837</td>\n",
       "      <td>300</td>\n",
       "      <td>250</td>\n",
       "      <td>2523</td>\n",
       "      <td>3</td>\n",
       "      <td>39</td>\n",
       "      <td>-1</td>\n",
       "      <td>221</td>\n",
       "      <td>10</td>\n",
       "      <td>Thursday</td>\n",
       "    </tr>\n",
       "    <tr>\n",
       "      <th>3</th>\n",
       "      <td>0</td>\n",
       "      <td>1005</td>\n",
       "      <td>0</td>\n",
       "      <td>1fbe01fe</td>\n",
       "      <td>f3845767</td>\n",
       "      <td>28905ebd</td>\n",
       "      <td>ecad2386</td>\n",
       "      <td>7801e8d9</td>\n",
       "      <td>07d7df22</td>\n",
       "      <td>779d90c2</td>\n",
       "      <td>...</td>\n",
       "      <td>15706</td>\n",
       "      <td>320</td>\n",
       "      <td>50</td>\n",
       "      <td>1722</td>\n",
       "      <td>0</td>\n",
       "      <td>35</td>\n",
       "      <td>-1</td>\n",
       "      <td>79</td>\n",
       "      <td>7</td>\n",
       "      <td>Thursday</td>\n",
       "    </tr>\n",
       "    <tr>\n",
       "      <th>4</th>\n",
       "      <td>0</td>\n",
       "      <td>1005</td>\n",
       "      <td>0</td>\n",
       "      <td>85f751fd</td>\n",
       "      <td>c4e18dd6</td>\n",
       "      <td>50e219e0</td>\n",
       "      <td>a5184c22</td>\n",
       "      <td>b8d325c3</td>\n",
       "      <td>0f2161f8</td>\n",
       "      <td>dc15c87e</td>\n",
       "      <td>...</td>\n",
       "      <td>23224</td>\n",
       "      <td>320</td>\n",
       "      <td>50</td>\n",
       "      <td>2676</td>\n",
       "      <td>0</td>\n",
       "      <td>35</td>\n",
       "      <td>100176</td>\n",
       "      <td>221</td>\n",
       "      <td>11</td>\n",
       "      <td>Tuesday</td>\n",
       "    </tr>\n",
       "  </tbody>\n",
       "</table>\n",
       "<p>5 rows × 22 columns</p>\n",
       "</div>"
      ],
      "text/plain": [
       "   click    C1  banner_pos   site_id site_domain site_category    app_id  \\\n",
       "0      0  1005           0  d6137915    bb1ef334      f028772b  ecad2386   \n",
       "1      0  1002           0  85f751fd    c4e18dd6      50e219e0  9a08a110   \n",
       "2      0  1005           0  9a28a858    64778742      f028772b  ecad2386   \n",
       "3      0  1005           0  1fbe01fe    f3845767      28905ebd  ecad2386   \n",
       "4      0  1005           0  85f751fd    c4e18dd6      50e219e0  a5184c22   \n",
       "\n",
       "  app_domain app_category device_model  ...    C14  C15  C16   C17  C18  C19  \\\n",
       "0   7801e8d9     07d7df22     9efa421a  ...  19771  320   50  2227    0  935   \n",
       "1   7801e8d9     07d7df22     02d14ecc  ...  21676  320   50  2495    2  167   \n",
       "2   7801e8d9     07d7df22     ecb851b2  ...  21837  300  250  2523    3   39   \n",
       "3   7801e8d9     07d7df22     779d90c2  ...  15706  320   50  1722    0   35   \n",
       "4   b8d325c3     0f2161f8     dc15c87e  ...  23224  320   50  2676    0   35   \n",
       "\n",
       "      C20  C21  hour_of_day   weekday  \n",
       "0      -1   48            6   Tuesday  \n",
       "1      -1   23            7  Thursday  \n",
       "2      -1  221           10  Thursday  \n",
       "3      -1   79            7  Thursday  \n",
       "4  100176  221           11   Tuesday  \n",
       "\n",
       "[5 rows x 22 columns]"
      ]
     },
     "execution_count": 3,
     "metadata": {},
     "output_type": "execute_result"
    },
    {
     "data": {
      "text/plain": [
       "(100000, 22)"
      ]
     },
     "execution_count": 3,
     "metadata": {},
     "output_type": "execute_result"
    }
   ],
   "source": [
    "df.drop(columns=['id','hour','device_ip','device_id','day'], inplace=True)\n",
    "df.head()\n",
    "df.shape"
   ]
  },
  {
   "cell_type": "markdown",
   "metadata": {},
   "source": [
    "## Pre-processing:\n",
    "- One Hot encoding for low cardinality features (1 to 7 unique categories)\n",
    "    - In this way we will still one-hot-encode `weekday` for which we have a clear interpretation of what each of its separate values means\n",
    "- Label encoding for medium cardinality features (7 to 100 unique categories)\n",
    "- Target encoding for high cardinality features (100+ unique categories)\n",
    "    - (Since it has to be done within Cross Validation we will filter and add to a list the features we consider to have high cardinality)\n",
    "\n",
    "- Numerical Features: `hour_of_day` will not be encoded (it already is a discrete variable)"
   ]
  },
  {
   "cell_type": "code",
   "execution_count": 4,
   "metadata": {
    "ExecuteTime": {
     "end_time": "2021-05-08T18:29:22.302460Z",
     "start_time": "2021-05-08T18:29:21.583298Z"
    }
   },
   "outputs": [],
   "source": [
    "from sklearn.preprocessing import OneHotEncoder\n",
    "from sklearn.preprocessing import LabelEncoder\n",
    "from sklearn.preprocessing import OrdinalEncoder\n",
    "from sklearn.compose import make_column_transformer"
   ]
  },
  {
   "cell_type": "code",
   "execution_count": 5,
   "metadata": {
    "ExecuteTime": {
     "end_time": "2021-05-08T18:29:22.317990Z",
     "start_time": "2021-05-08T18:29:22.303986Z"
    }
   },
   "outputs": [
    {
     "name": "stdout",
     "output_type": "stream",
     "text": [
      "Features with dtype \"O\" ['site_id', 'site_domain', 'site_category', 'app_id', 'app_domain', 'app_category', 'device_model', 'weekday']\n",
      "Categorical Features (already with discrete values) ['C1', 'banner_pos', 'device_type', 'device_conn_type', 'C14', 'C15', 'C16', 'C17', 'C18', 'C19', 'C20', 'C21']\n"
     ]
    }
   ],
   "source": [
    "# Split into features type \"O\" and already encoded features\n",
    "categorical_columns = [i for i in list(df.columns) if df[i].dtypes in [\"O\"] and i not in ['id','hour','hour_of_day','click']]\n",
    "encoded_categorical_columns = [i for i in list(df.columns) if df[i].dtypes not in [\"O\"] and i not in ['id','hour','hour_of_day','click']]\n",
    "print(f'Features with dtype \"O\" {categorical_columns}')\n",
    "print(f'Categorical Features (already with discrete values) {encoded_categorical_columns}')\n"
   ]
  },
  {
   "cell_type": "code",
   "execution_count": 6,
   "metadata": {
    "ExecuteTime": {
     "end_time": "2021-05-08T18:29:22.519851Z",
     "start_time": "2021-05-08T18:29:22.318991Z"
    }
   },
   "outputs": [
    {
     "data": {
      "text/plain": [
       "LabelEncoder()"
      ]
     },
     "execution_count": 6,
     "metadata": {},
     "output_type": "execute_result"
    },
    {
     "data": {
      "text/plain": [
       "LabelEncoder()"
      ]
     },
     "execution_count": 6,
     "metadata": {},
     "output_type": "execute_result"
    },
    {
     "data": {
      "text/plain": [
       "LabelEncoder()"
      ]
     },
     "execution_count": 6,
     "metadata": {},
     "output_type": "execute_result"
    },
    {
     "data": {
      "text/plain": [
       "LabelEncoder()"
      ]
     },
     "execution_count": 6,
     "metadata": {},
     "output_type": "execute_result"
    },
    {
     "data": {
      "text/plain": [
       "LabelEncoder()"
      ]
     },
     "execution_count": 6,
     "metadata": {},
     "output_type": "execute_result"
    },
    {
     "data": {
      "text/plain": [
       "LabelEncoder()"
      ]
     },
     "execution_count": 6,
     "metadata": {},
     "output_type": "execute_result"
    },
    {
     "data": {
      "text/plain": [
       "LabelEncoder()"
      ]
     },
     "execution_count": 6,
     "metadata": {},
     "output_type": "execute_result"
    },
    {
     "data": {
      "text/plain": [
       "OrdinalEncoder(categories=[['Monday', 'Tuesday', 'Wednesday', 'Thursday',\n",
       "                            'Friday', 'Saturday', 'Sunday']])"
      ]
     },
     "execution_count": 6,
     "metadata": {},
     "output_type": "execute_result"
    },
    {
     "data": {
      "text/plain": [
       "LabelEncoder()"
      ]
     },
     "execution_count": 6,
     "metadata": {},
     "output_type": "execute_result"
    },
    {
     "name": "stdout",
     "output_type": "stream",
     "text": [
      "['site_id', 'site_domain', 'site_category', 'app_id', 'app_domain', 'app_category', 'device_model', 'weekday', 'C1', 'banner_pos', 'device_type', 'device_conn_type', 'C14', 'C15', 'C16', 'C17', 'C18', 'C19', 'C20', 'C21']\n"
     ]
    }
   ],
   "source": [
    "# Transform features type \"O\" with label encoder\n",
    "for i in categorical_columns:\n",
    "    if i == 'weekday':\n",
    "        # Ordinal Encode Weekday\n",
    "        categories = [['Monday','Tuesday','Wednesday','Thursday','Friday','Saturday','Sunday']]\n",
    "        #Instantiate ordinal encoder\n",
    "        ordinal_encoder = OrdinalEncoder(categories=categories)\n",
    "        #Fit ordinal encoder\n",
    "        ordinal_encoder.fit(df[['weekday']])\n",
    "        # transform the data\n",
    "        df['weekday'] = ordinal_encoder.transform(df[['weekday']])\n",
    "    label_encoder = []\n",
    "    le = LabelEncoder()\n",
    "    le.fit(df[i])    \n",
    "    label_encoder.append(le)\n",
    "    df[i] = le.transform(df[i])\n",
    "\n",
    "all_features = categorical_columns + encoded_categorical_columns\n",
    "print(all_features)"
   ]
  },
  {
   "cell_type": "markdown",
   "metadata": {},
   "source": [
    "## Apply "
   ]
  },
  {
   "cell_type": "code",
   "execution_count": 7,
   "metadata": {
    "ExecuteTime": {
     "end_time": "2021-05-08T18:29:22.741851Z",
     "start_time": "2021-05-08T18:29:22.520851Z"
    }
   },
   "outputs": [
    {
     "name": "stdout",
     "output_type": "stream",
     "text": [
      "Previus Dataset Shape ->>  (100000, 22)\n",
      "Shape After Encoding  ->>  (100000, 49) \n",
      "\n",
      "One Hot Encoding the following features: ['weekday', 'C1', 'banner_pos', 'device_type', 'device_conn_type', 'C18']\n",
      "Label Encoding the following features: ['site_category', 'app_domain', 'app_category', 'C15', 'C16', 'C19', 'C21']\n",
      "Selected for Target Encoding: ['site_id', 'site_domain', 'app_id', 'device_model', 'C14', 'C17', 'C20']\n"
     ]
    },
    {
     "data": {
      "text/html": [
       "<div>\n",
       "<style scoped>\n",
       "    .dataframe tbody tr th:only-of-type {\n",
       "        vertical-align: middle;\n",
       "    }\n",
       "\n",
       "    .dataframe tbody tr th {\n",
       "        vertical-align: top;\n",
       "    }\n",
       "\n",
       "    .dataframe thead th {\n",
       "        text-align: right;\n",
       "    }\n",
       "</style>\n",
       "<table border=\"1\" class=\"dataframe\">\n",
       "  <thead>\n",
       "    <tr style=\"text-align: right;\">\n",
       "      <th></th>\n",
       "      <th>click</th>\n",
       "      <th>site_id</th>\n",
       "      <th>site_domain</th>\n",
       "      <th>site_category</th>\n",
       "      <th>app_id</th>\n",
       "      <th>app_domain</th>\n",
       "      <th>app_category</th>\n",
       "      <th>device_model</th>\n",
       "      <th>C14</th>\n",
       "      <th>C15</th>\n",
       "      <th>...</th>\n",
       "      <th>device_type_4</th>\n",
       "      <th>device_type_5</th>\n",
       "      <th>device_conn_type_0</th>\n",
       "      <th>device_conn_type_2</th>\n",
       "      <th>device_conn_type_3</th>\n",
       "      <th>device_conn_type_5</th>\n",
       "      <th>C18_0</th>\n",
       "      <th>C18_1</th>\n",
       "      <th>C18_2</th>\n",
       "      <th>C18_3</th>\n",
       "    </tr>\n",
       "  </thead>\n",
       "  <tbody>\n",
       "    <tr>\n",
       "      <th>0</th>\n",
       "      <td>0</td>\n",
       "      <td>1215</td>\n",
       "      <td>998</td>\n",
       "      <td>17</td>\n",
       "      <td>1195</td>\n",
       "      <td>41</td>\n",
       "      <td>0</td>\n",
       "      <td>1956</td>\n",
       "      <td>19771</td>\n",
       "      <td>320</td>\n",
       "      <td>...</td>\n",
       "      <td>0</td>\n",
       "      <td>0</td>\n",
       "      <td>1</td>\n",
       "      <td>0</td>\n",
       "      <td>0</td>\n",
       "      <td>0</td>\n",
       "      <td>1</td>\n",
       "      <td>0</td>\n",
       "      <td>0</td>\n",
       "      <td>0</td>\n",
       "    </tr>\n",
       "    <tr>\n",
       "      <th>1</th>\n",
       "      <td>0</td>\n",
       "      <td>770</td>\n",
       "      <td>1043</td>\n",
       "      <td>5</td>\n",
       "      <td>783</td>\n",
       "      <td>41</td>\n",
       "      <td>0</td>\n",
       "      <td>36</td>\n",
       "      <td>21676</td>\n",
       "      <td>320</td>\n",
       "      <td>...</td>\n",
       "      <td>0</td>\n",
       "      <td>0</td>\n",
       "      <td>1</td>\n",
       "      <td>0</td>\n",
       "      <td>0</td>\n",
       "      <td>0</td>\n",
       "      <td>0</td>\n",
       "      <td>0</td>\n",
       "      <td>1</td>\n",
       "      <td>0</td>\n",
       "    </tr>\n",
       "    <tr>\n",
       "      <th>2</th>\n",
       "      <td>0</td>\n",
       "      <td>890</td>\n",
       "      <td>535</td>\n",
       "      <td>17</td>\n",
       "      <td>1195</td>\n",
       "      <td>41</td>\n",
       "      <td>0</td>\n",
       "      <td>2936</td>\n",
       "      <td>21837</td>\n",
       "      <td>300</td>\n",
       "      <td>...</td>\n",
       "      <td>0</td>\n",
       "      <td>0</td>\n",
       "      <td>1</td>\n",
       "      <td>0</td>\n",
       "      <td>0</td>\n",
       "      <td>0</td>\n",
       "      <td>0</td>\n",
       "      <td>0</td>\n",
       "      <td>0</td>\n",
       "      <td>1</td>\n",
       "    </tr>\n",
       "    <tr>\n",
       "      <th>3</th>\n",
       "      <td>0</td>\n",
       "      <td>167</td>\n",
       "      <td>1261</td>\n",
       "      <td>1</td>\n",
       "      <td>1195</td>\n",
       "      <td>41</td>\n",
       "      <td>0</td>\n",
       "      <td>1476</td>\n",
       "      <td>15706</td>\n",
       "      <td>320</td>\n",
       "      <td>...</td>\n",
       "      <td>0</td>\n",
       "      <td>0</td>\n",
       "      <td>1</td>\n",
       "      <td>0</td>\n",
       "      <td>0</td>\n",
       "      <td>0</td>\n",
       "      <td>1</td>\n",
       "      <td>0</td>\n",
       "      <td>0</td>\n",
       "      <td>0</td>\n",
       "    </tr>\n",
       "    <tr>\n",
       "      <th>4</th>\n",
       "      <td>0</td>\n",
       "      <td>770</td>\n",
       "      <td>1043</td>\n",
       "      <td>5</td>\n",
       "      <td>842</td>\n",
       "      <td>67</td>\n",
       "      <td>3</td>\n",
       "      <td>2746</td>\n",
       "      <td>23224</td>\n",
       "      <td>320</td>\n",
       "      <td>...</td>\n",
       "      <td>0</td>\n",
       "      <td>0</td>\n",
       "      <td>0</td>\n",
       "      <td>1</td>\n",
       "      <td>0</td>\n",
       "      <td>0</td>\n",
       "      <td>1</td>\n",
       "      <td>0</td>\n",
       "      <td>0</td>\n",
       "      <td>0</td>\n",
       "    </tr>\n",
       "  </tbody>\n",
       "</table>\n",
       "<p>5 rows × 49 columns</p>\n",
       "</div>"
      ],
      "text/plain": [
       "   click  site_id  site_domain  site_category  app_id  app_domain  \\\n",
       "0      0     1215          998             17    1195          41   \n",
       "1      0      770         1043              5     783          41   \n",
       "2      0      890          535             17    1195          41   \n",
       "3      0      167         1261              1    1195          41   \n",
       "4      0      770         1043              5     842          67   \n",
       "\n",
       "   app_category  device_model    C14  C15  ...  device_type_4  device_type_5  \\\n",
       "0             0          1956  19771  320  ...              0              0   \n",
       "1             0            36  21676  320  ...              0              0   \n",
       "2             0          2936  21837  300  ...              0              0   \n",
       "3             0          1476  15706  320  ...              0              0   \n",
       "4             3          2746  23224  320  ...              0              0   \n",
       "\n",
       "   device_conn_type_0  device_conn_type_2  device_conn_type_3  \\\n",
       "0                   1                   0                   0   \n",
       "1                   1                   0                   0   \n",
       "2                   1                   0                   0   \n",
       "3                   1                   0                   0   \n",
       "4                   0                   1                   0   \n",
       "\n",
       "   device_conn_type_5  C18_0  C18_1  C18_2  C18_3  \n",
       "0                   0      1      0      0      0  \n",
       "1                   0      0      0      1      0  \n",
       "2                   0      0      0      0      1  \n",
       "3                   0      1      0      0      0  \n",
       "4                   0      1      0      0      0  \n",
       "\n",
       "[5 rows x 49 columns]"
      ]
     },
     "execution_count": 7,
     "metadata": {},
     "output_type": "execute_result"
    }
   ],
   "source": [
    "data = df.copy()\n",
    "one_hot = []\n",
    "label_enc = []\n",
    "target_enc = []\n",
    "for i in all_features:\n",
    "    if len(df[i].unique()) <= 7:\n",
    "        # One hot encoding\n",
    "        one_hot.append(i)\n",
    "        data = pd.concat([data, pd.get_dummies(df[i], prefix=i)],axis=1)\n",
    "        # Drop the original column\n",
    "        data.drop(columns=[i], inplace=True)\n",
    "    elif 100 >= len(df[i].unique()) > 7:\n",
    "        # Label encoding\n",
    "        label_enc.append(i)\n",
    "    elif len(df[i].unique()) > 100:\n",
    "        # Mean encoding\n",
    "        target_enc.append(i)\n",
    "\n",
    "print('Previus Dataset Shape ->> ', df.shape)\n",
    "print('Shape After Encoding  ->> ', data.shape, '\\n')\n",
    "print(f'One Hot Encoding the following features: {one_hot}')\n",
    "print(f'Label Encoding the following features: {label_enc}')\n",
    "print(f'Selected for Target Encoding: {target_enc}')\n",
    "data.head()"
   ]
  },
  {
   "cell_type": "code",
   "execution_count": 8,
   "metadata": {
    "ExecuteTime": {
     "end_time": "2021-05-08T18:29:22.757862Z",
     "start_time": "2021-05-08T18:29:22.743850Z"
    }
   },
   "outputs": [
    {
     "data": {
      "text/plain": [
       "Index(['click', 'site_id', 'site_domain', 'site_category', 'app_id',\n",
       "       'app_domain', 'app_category', 'device_model', 'C14', 'C15', 'C16',\n",
       "       'C17', 'C19', 'C20', 'C21', 'hour_of_day', 'weekday_0', 'weekday_1',\n",
       "       'weekday_2', 'weekday_3', 'weekday_4', 'weekday_5', 'weekday_6',\n",
       "       'C1_1001', 'C1_1002', 'C1_1005', 'C1_1007', 'C1_1008', 'C1_1010',\n",
       "       'C1_1012', 'banner_pos_0', 'banner_pos_1', 'banner_pos_2',\n",
       "       'banner_pos_3', 'banner_pos_4', 'banner_pos_5', 'banner_pos_7',\n",
       "       'device_type_0', 'device_type_1', 'device_type_4', 'device_type_5',\n",
       "       'device_conn_type_0', 'device_conn_type_2', 'device_conn_type_3',\n",
       "       'device_conn_type_5', 'C18_0', 'C18_1', 'C18_2', 'C18_3'],\n",
       "      dtype='object')"
      ]
     },
     "execution_count": 8,
     "metadata": {},
     "output_type": "execute_result"
    }
   ],
   "source": [
    "data.columns"
   ]
  },
  {
   "cell_type": "markdown",
   "metadata": {},
   "source": [
    "## Split the Dataset"
   ]
  },
  {
   "cell_type": "code",
   "execution_count": 9,
   "metadata": {
    "ExecuteTime": {
     "end_time": "2021-05-08T18:29:22.851398Z",
     "start_time": "2021-05-08T18:29:22.759863Z"
    }
   },
   "outputs": [
    {
     "data": {
      "text/plain": [
       "(80000, 48)"
      ]
     },
     "execution_count": 9,
     "metadata": {},
     "output_type": "execute_result"
    },
    {
     "data": {
      "text/plain": [
       "(80000,)"
      ]
     },
     "execution_count": 9,
     "metadata": {},
     "output_type": "execute_result"
    },
    {
     "data": {
      "text/plain": [
       "(20000, 48)"
      ]
     },
     "execution_count": 9,
     "metadata": {},
     "output_type": "execute_result"
    },
    {
     "data": {
      "text/plain": [
       "(20000,)"
      ]
     },
     "execution_count": 9,
     "metadata": {},
     "output_type": "execute_result"
    }
   ],
   "source": [
    "from sklearn.model_selection import train_test_split\n",
    "\n",
    "X = data.drop(columns=['click'])\n",
    "y = data['click']\n",
    "\n",
    "X_train, X_test, y_train, y_test = train_test_split(X, y, random_state=42, test_size=0.2)\n",
    "X_train.shape\n",
    "y_train.shape\n",
    "X_test.shape\n",
    "y_test.shape"
   ]
  },
  {
   "cell_type": "markdown",
   "metadata": {},
   "source": [
    "## Lets take a closer look at the high cardinality features\n",
    "## Effect of implementing Target Encoding \n",
    "- Just an example of how the transformation would affect high cardinality features\n",
    "- The idea behind target encoding is to reduce the effect high cardinality, some common problems from high cardinality can be:\n",
    "  - Missing (NA) or invalid categorical level values\n",
    "  - Novel levels encountered in model validation/testing sets\n",
    "  - Extremely rare or infrequent categorical levels  "
   ]
  },
  {
   "cell_type": "code",
   "execution_count": 10,
   "metadata": {
    "ExecuteTime": {
     "end_time": "2021-05-08T18:29:23.021544Z",
     "start_time": "2021-05-08T18:29:22.852398Z"
    }
   },
   "outputs": [
    {
     "name": "stdout",
     "output_type": "stream",
     "text": [
      "------- Mean Encoding changes -------\n",
      "site_id now would have 186 categories vs 1342 before\n",
      "site_domain now would have 155 categories vs 1219 before\n",
      "app_id now would have 120 categories vs 1174 before\n",
      "device_model now would have 350 categories vs 2939 before\n",
      "C14 now would have 357 categories vs 1661 before\n",
      "C17 now would have 239 categories vs 394 before\n",
      "C20 now would have 103 categories vs 154 before\n"
     ]
    }
   ],
   "source": [
    "# Effect of Target encoding for train set\n",
    "pd.options.mode.chained_assignment = None  # default='warn\n",
    "X_train_encoding_example = X_train.copy()\n",
    "for i in target_enc:\n",
    "    data_train = pd.concat([X_train_encoding_example, y_train], axis=1)\n",
    "    target_encoder = data_train.groupby([i])[\"click\"].mean()\n",
    "    X_train_encoding_example[i] = X_train_encoding_example[i].map(target_encoder)\n",
    "    # Transform the test set based on the train\n",
    "pd.options.mode.chained_assignment = 'warn'  # default='warn\n",
    "\n",
    "print('------- Mean Encoding changes -------')\n",
    "for i,v in enumerate(target_enc):\n",
    "    print(f'{v} now would have {[len(X_train_encoding_example[i].unique()) for i in target_enc][i]} categories vs {len(X_train[v].unique())} before')"
   ]
  },
  {
   "cell_type": "code",
   "execution_count": 11,
   "metadata": {
    "ExecuteTime": {
     "end_time": "2021-05-08T18:29:23.037645Z",
     "start_time": "2021-05-08T18:29:23.022552Z"
    }
   },
   "outputs": [
    {
     "name": "stdout",
     "output_type": "stream",
     "text": [
      "Check if the example transformation above changed X_train in any way: \n",
      "How many unique X_train.device_model categories?  2939\n",
      "------>>> There was no change in the X_train set\n"
     ]
    }
   ],
   "source": [
    "print(\"\"\"Check if the example transformation above changed X_train in any way: \n",
    "How many unique X_train.device_model categories? \"\"\", len(X_train.device_model.unique()))\n",
    "if len(X_train.device_model.unique()) > len(X_train_encoding_example.device_model.unique()):\n",
    "    print(\"------>>> There was no change in the X_train set\")\n",
    "else: \n",
    "    print(\"------>>> WARNING: THERE IS DATA LEAKAGE\")"
   ]
  },
  {
   "cell_type": "markdown",
   "metadata": {},
   "source": [
    "# Modeling"
   ]
  },
  {
   "cell_type": "code",
   "execution_count": 12,
   "metadata": {
    "ExecuteTime": {
     "end_time": "2021-05-08T18:29:23.802020Z",
     "start_time": "2021-05-08T18:29:23.038625Z"
    }
   },
   "outputs": [],
   "source": [
    "# Imports\n",
    "from imblearn.pipeline import Pipeline\n",
    "from sklearn.model_selection import GridSearchCV, RandomizedSearchCV\n",
    "from sklearn.tree import DecisionTreeClassifier\n",
    "from imblearn.over_sampling import SMOTE\n",
    "from imblearn.over_sampling import RandomOverSampler\n",
    "from sklearn.linear_model import LogisticRegression\n",
    "from imblearn.under_sampling import RandomUnderSampler\n",
    "import numpy as np\n",
    "from category_encoders.target_encoder import TargetEncoder\n",
    "\n",
    "from sklearn.model_selection import train_test_split\n",
    "from imblearn.pipeline import make_pipeline \n",
    "from sklearn.preprocessing import StandardScaler\n",
    "from sklearn.neighbors import KNeighborsClassifier\n",
    "from sklearn.metrics import classification_report, f1_score, make_scorer, accuracy_score, precision_score, recall_score, roc_auc_score\n",
    "from sklearn.model_selection import cross_validate\n",
    "from sklearn.metrics import plot_confusion_matrix, confusion_matrix, plot_roc_curve\n",
    "from sklearn.model_selection import LeaveOneOut\n",
    "\n",
    "# Plotting\n",
    "import matplotlib.pyplot as plt\n",
    "import seaborn as sns\n",
    "\n",
    "# Ensemble methods\n",
    "from sklearn.tree import DecisionTreeClassifier \n",
    "from sklearn.linear_model import LogisticRegression\n",
    "from sklearn.ensemble import VotingClassifier\n",
    "from sklearn.neighbors import KNeighborsClassifier\n",
    "\n",
    "from sklearn.linear_model import LogisticRegression\n",
    "from sklearn.ensemble import StackingClassifier\n",
    "from sklearn.ensemble import RandomForestClassifier\n",
    "from sklearn.ensemble import AdaBoostClassifier\n",
    "\n",
    "# Boosting \n",
    "from catboost import CatBoostClassifier\n",
    "\n",
    "# Stats (util)\n",
    "from scipy.stats import randint as sp_randInt\n",
    "from scipy.stats import uniform as sp_randFloat"
   ]
  },
  {
   "cell_type": "markdown",
   "metadata": {},
   "source": [
    "## Choosing an Evaluation Metric - F1_score"
   ]
  },
  {
   "cell_type": "markdown",
   "metadata": {},
   "source": [
    "We chose to maximize the `f1-score` since this is the harmonic mean between precision and recall, given that the business problem we are addressing relies on good recall and precision of the \"click\" variable as it is our interest to be able to predict if a given user will click or not on the ad. \n",
    "\n",
    "<a><img src=\"https://i.ibb.co/8N3gqDv/Capturar.png\" alt=\"Capturar\" border=\"0\"></a>\n",
    "\n",
    "Maximizing recall only would lead to a model that ended up recalling only \"click = 0\" and leaving \"click = 1\" our main interest to predict, with a very low recall. While maximizing precision will leave us with a high number of False Positives which we would like to avoid given that a too positive outlook on the impact of marketing can backfire into lower than expected revenues given the lower than predicted interaction.\n",
    "\n",
    "We are still interested in a balance because, even though we want to predict `click`, it still is very important to understand clearly what leads a user not to click an ad as it can lead us to identify and shif away from harmfull practices.\n",
    "\n",
    "`AUC` is also a widely used metric to compary binary classification models, however the `AUC` is not a good measure for Imbalanced Datasets (at it is the case) because it considers only True Positive Rate against False Positive Rate, which ignores the number of actual TP and FP. That is, we may have a model with a high AUC but recalling very few True Positives. The AUC is high only because there are very few predictions for the True Positive Class and these are mostly correct."
   ]
  },
  {
   "cell_type": "markdown",
   "metadata": {},
   "source": [
    "## KNN Classifier"
   ]
  },
  {
   "cell_type": "markdown",
   "metadata": {},
   "source": [
    "`n_neighbors` represents the number of neighbors to use for kneighbors queries"
   ]
  },
  {
   "cell_type": "code",
   "execution_count": 13,
   "metadata": {
    "ExecuteTime": {
     "end_time": "2021-05-08T19:23:46.789101Z",
     "start_time": "2021-05-08T18:29:23.804013Z"
    },
    "scrolled": false
   },
   "outputs": [
    {
     "data": {
      "text/plain": [
       "GridSearchCV(cv=10,\n",
       "             estimator=Pipeline(steps=[('sampling',\n",
       "                                        RandomOverSampler(random_state=42)),\n",
       "                                       ('transformer',\n",
       "                                        TargetEncoder(cols=['site_id',\n",
       "                                                            'site_domain',\n",
       "                                                            'app_id',\n",
       "                                                            'device_model',\n",
       "                                                            'C14', 'C17',\n",
       "                                                            'C20'])),\n",
       "                                       ('scaler', StandardScaler()),\n",
       "                                       ('classifier', KNeighborsClassifier())]),\n",
       "             param_grid=[{'classifier': [KNeighborsClassifier(n_neighbors=9)],\n",
       "                          'classifier__n_neighbors': [3, 5, 7, 9],\n",
       "                          'classifier__weights': ['uniform', 'distance'],\n",
       "                          'sampling': [RandomUnderSampler(random_state=42),\n",
       "                                       RandomOverSampler(random_state=42),\n",
       "                                       SMOTE(random_state=42)],\n",
       "                          'scaler': [StandardScaler()],\n",
       "                          'transformer': [TargetEncoder(cols=['site_id',\n",
       "                                                              'site_domain',\n",
       "                                                              'app_id',\n",
       "                                                              'device_model',\n",
       "                                                              'C14', 'C17',\n",
       "                                                              'C20'])]}],\n",
       "             scoring='f1')"
      ]
     },
     "execution_count": 13,
     "metadata": {},
     "output_type": "execute_result"
    },
    {
     "name": "stdout",
     "output_type": "stream",
     "text": [
      "Best cross-validation score: 0.37\n",
      "Best params:\n",
      "{'classifier': KNeighborsClassifier(n_neighbors=9), 'classifier__n_neighbors': 9, 'classifier__weights': 'uniform', 'sampling': RandomUnderSampler(random_state=42), 'scaler': StandardScaler(), 'transformer': TargetEncoder(cols=['site_id', 'site_domain', 'app_id', 'device_model', 'C14',\n",
      "                    'C17', 'C20'])}\n",
      "\n"
     ]
    }
   ],
   "source": [
    "pipe = Pipeline([('sampling', RandomOverSampler(random_state=42)), \n",
    "                 ('transformer', TargetEncoder(cols=target_enc)),\n",
    "                 ('scaler', StandardScaler()), \n",
    "                 ('classifier', KNeighborsClassifier())])\n",
    "param_grid = [\n",
    "    {'classifier': [KNeighborsClassifier()], \n",
    "     'scaler': [StandardScaler()],\n",
    "     'transformer': [TargetEncoder(cols=target_enc)],\n",
    "     'sampling': [RandomUnderSampler(random_state=42), RandomOverSampler(random_state=42), SMOTE(random_state=42)],\n",
    "     'classifier__n_neighbors': [3, 5, 7, 9],\n",
    "     'classifier__weights': ['uniform', 'distance']}, \n",
    "]\n",
    "knn_grid = GridSearchCV(pipe, param_grid, cv=10, scoring = 'f1')\n",
    "knn_grid.fit(X_train, y_train)\n",
    "knn_model = knn_grid.best_estimator_\n",
    "print(\"Best cross-validation score: {:.2f}\".format(knn_grid.best_score_))\n",
    "print(\"Best params:\\n{}\\n\".format(knn_grid.best_params_))"
   ]
  },
  {
   "cell_type": "markdown",
   "metadata": {
    "ExecuteTime": {
     "end_time": "2021-05-08T21:27:05.884586Z",
     "start_time": "2021-05-08T21:19:36.558Z"
    }
   },
   "source": [
    "### Further Narrowing the Hyper-parameter Search"
   ]
  },
  {
   "cell_type": "code",
   "execution_count": 32,
   "metadata": {
    "ExecuteTime": {
     "end_time": "2021-05-08T21:27:05.866554Z",
     "start_time": "2021-05-08T21:20:32.162805Z"
    }
   },
   "outputs": [
    {
     "data": {
      "text/plain": [
       "RandomizedSearchCV(cv=10,\n",
       "                   estimator=Pipeline(steps=[('sampling',\n",
       "                                              RandomOverSampler(random_state=42)),\n",
       "                                             ('transformer',\n",
       "                                              TargetEncoder(cols=['site_id',\n",
       "                                                                  'site_domain',\n",
       "                                                                  'app_id',\n",
       "                                                                  'device_model',\n",
       "                                                                  'C14', 'C17',\n",
       "                                                                  'C20'])),\n",
       "                                             ('scaler', StandardScaler()),\n",
       "                                             ('classifier',\n",
       "                                              KNeighborsClassifier())]),\n",
       "                   param_distributions=[{'classifier': [KNeighborsClassifier(n_neighbors=43)],\n",
       "                                         'classifier__n_neighbors': [7, 9, 11,\n",
       "                                                                     13, 15, 17,\n",
       "                                                                     19, 21, 23,\n",
       "                                                                     25, 27, 29,\n",
       "                                                                     31, 33, 35,\n",
       "                                                                     37, 39, 41,\n",
       "                                                                     43, 45, 47,\n",
       "                                                                     49, 51],\n",
       "                                         'classifier__weights': ['uniform'],\n",
       "                                         'sampling': [RandomUnderSampler(random_state=42)],\n",
       "                                         'scaler': [StandardScaler()],\n",
       "                                         'transformer': [TargetEncoder(cols=['site_id',\n",
       "                                                                             'site_domain',\n",
       "                                                                             'app_id',\n",
       "                                                                             'device_model',\n",
       "                                                                             'C14',\n",
       "                                                                             'C17',\n",
       "                                                                             'C20'])]}],\n",
       "                   scoring='f1')"
      ]
     },
     "execution_count": 32,
     "metadata": {},
     "output_type": "execute_result"
    },
    {
     "name": "stdout",
     "output_type": "stream",
     "text": [
      "Best cross-validation score: 0.39\n",
      "Best params:\n",
      "{'transformer': TargetEncoder(cols=['site_id', 'site_domain', 'app_id', 'device_model', 'C14',\n",
      "                    'C17', 'C20']), 'scaler': StandardScaler(), 'sampling': RandomUnderSampler(random_state=42), 'classifier__weights': 'uniform', 'classifier__n_neighbors': 43, 'classifier': KNeighborsClassifier(n_neighbors=43)}\n",
      "\n"
     ]
    }
   ],
   "source": [
    "pipe = Pipeline([('sampling', RandomOverSampler(random_state=42)), \n",
    "                 ('transformer', TargetEncoder(cols=target_enc)),\n",
    "                 ('scaler', StandardScaler()), \n",
    "                 ('classifier', KNeighborsClassifier())])\n",
    "param_grid = [\n",
    "    {'classifier': [KNeighborsClassifier()], \n",
    "     'scaler': [StandardScaler()],\n",
    "     'transformer': [TargetEncoder(cols=target_enc)],\n",
    "     'sampling': [RandomUnderSampler(random_state=42)],\n",
    "     'classifier__n_neighbors': [i for i in range(7, 52, 2)],\n",
    "     'classifier__weights': ['uniform']}, \n",
    "]\n",
    "knn_rand = RandomizedSearchCV(pipe, param_grid, cv=10, n_iter=10, scoring = 'f1')\n",
    "knn_rand.fit(X_train, y_train)\n",
    "knn_new_neigh_model = knn_rand.best_estimator_\n",
    "print(\"Best cross-validation score: {:.2f}\".format(knn_rand.best_score_))\n",
    "print(\"Best params:\\n{}\\n\".format(knn_rand.best_params_))"
   ]
  },
  {
   "cell_type": "markdown",
   "metadata": {},
   "source": [
    "# RANDOM FOREST"
   ]
  },
  {
   "cell_type": "markdown",
   "metadata": {},
   "source": [
    "## Simple Random Forest"
   ]
  },
  {
   "cell_type": "code",
   "execution_count": 29,
   "metadata": {
    "ExecuteTime": {
     "end_time": "2021-05-08T21:07:26.899447Z",
     "start_time": "2021-05-08T21:00:16.045984Z"
    }
   },
   "outputs": [
    {
     "data": {
      "text/plain": [
       "GridSearchCV(cv=10,\n",
       "             estimator=Pipeline(steps=[('sampling',\n",
       "                                        RandomOverSampler(random_state=42)),\n",
       "                                       ('transformer',\n",
       "                                        TargetEncoder(cols=['site_id',\n",
       "                                                            'site_domain',\n",
       "                                                            'app_id',\n",
       "                                                            'device_model',\n",
       "                                                            'C14', 'C17',\n",
       "                                                            'C20'])),\n",
       "                                       ('scaler', StandardScaler()),\n",
       "                                       ('classifier',\n",
       "                                        RandomForestClassifier(random_state=42))]),\n",
       "             param_grid=[{'classifier': [RandomForestClassifier(random_state=42)],\n",
       "                          'sampling': [None,\n",
       "                                       RandomUnderSampler(random_state=42),\n",
       "                                       RandomOverSampler(random_state=42),\n",
       "                                       SMOTE(random_state=42)],\n",
       "                          'scaler': [StandardScaler()],\n",
       "                          'transformer': [TargetEncoder(cols=['site_id',\n",
       "                                                              'site_domain',\n",
       "                                                              'app_id',\n",
       "                                                              'device_model',\n",
       "                                                              'C14', 'C17',\n",
       "                                                              'C20'])]}],\n",
       "             scoring='f1')"
      ]
     },
     "execution_count": 29,
     "metadata": {},
     "output_type": "execute_result"
    },
    {
     "name": "stdout",
     "output_type": "stream",
     "text": [
      "Best cross-validation score: 0.37\n",
      "Best params:\n",
      "{'classifier': RandomForestClassifier(random_state=42), 'sampling': RandomUnderSampler(random_state=42), 'scaler': StandardScaler(), 'transformer': TargetEncoder(cols=['site_id', 'site_domain', 'app_id', 'device_model', 'C14',\n",
      "                    'C17', 'C20'])}\n",
      "\n"
     ]
    }
   ],
   "source": [
    "pipe = Pipeline([('sampling', RandomOverSampler(random_state=42)), \n",
    "                 ('transformer', TargetEncoder(cols=target_enc)),\n",
    "                 ('scaler', StandardScaler()), \n",
    "                 ('classifier', RandomForestClassifier(random_state=42))])\n",
    "param_grid = [\n",
    "    {'classifier': [RandomForestClassifier(random_state=42)], \n",
    "     'scaler': [StandardScaler()],\n",
    "     'transformer': [TargetEncoder(cols=target_enc)],\n",
    "     'sampling': [None, RandomUnderSampler(random_state=42), RandomOverSampler(random_state=42), SMOTE(random_state=42)]}\n",
    "]\n",
    "rfc_simple_grid = GridSearchCV(pipe, param_grid, cv=10, scoring = 'f1')\n",
    "rfc_simple_grid.fit(X_train, y_train)\n",
    "rfc_model = rfc_simple_grid.best_estimator_\n",
    "print(\"Best cross-validation score: {:.2f}\".format(rfc_simple_grid.best_score_))\n",
    "print(\"Best params:\\n{}\\n\".format(rfc_simple_grid.best_params_))"
   ]
  },
  {
   "cell_type": "markdown",
   "metadata": {},
   "source": [
    "## Hyper-parameter Tunning of Random Forest"
   ]
  },
  {
   "cell_type": "markdown",
   "metadata": {},
   "source": [
    "`min_samples_leaf` The minimum number of samples required to be at a leaf node. A smaller leaf makes the model more prone to capturing noise in train data. This parameter is similar to min_samples_splits, however, this describe the minimum number of samples of samples at the leafs, the base of the tree.\n",
    "\n",
    "`min_samples_split` Represents the minimum number of samples required to split an internal node. This can vary between considering at least one sample at each node to considering all of the samples at each node. When we increase this parameter, each tree in the forest becomes more constrained as it has to consider more samples at each node."
   ]
  },
  {
   "cell_type": "code",
   "execution_count": 17,
   "metadata": {
    "ExecuteTime": {
     "end_time": "2021-05-08T20:06:03.186182Z",
     "start_time": "2021-05-08T19:31:13.170580Z"
    }
   },
   "outputs": [
    {
     "data": {
      "text/plain": [
       "RandomizedSearchCV(cv=10,\n",
       "                   estimator=Pipeline(steps=[('sampling',\n",
       "                                              RandomOverSampler(random_state=42)),\n",
       "                                             ('transformer',\n",
       "                                              TargetEncoder(cols=['site_id',\n",
       "                                                                  'site_domain',\n",
       "                                                                  'app_id',\n",
       "                                                                  'device_model',\n",
       "                                                                  'C14', 'C17',\n",
       "                                                                  'C20'])),\n",
       "                                             ('scaler', StandardScaler()),\n",
       "                                             ('classifier',\n",
       "                                              RandomForestClassifier(random_state=42))]),\n",
       "                   n_iter=5,\n",
       "                   param_distributions=[{'classifier': [RandomForestClass...\n",
       "                                         'classifier__n_estimators': <scipy.stats._distn_infrastructure.rv_frozen object at 0x000002A00096A700>,\n",
       "                                         'sampling': [RandomUnderSampler(random_state=42),\n",
       "                                                      RandomOverSampler(random_state=42),\n",
       "                                                      SMOTE(random_state=42)],\n",
       "                                         'scaler': [StandardScaler()],\n",
       "                                         'transformer': [TargetEncoder(cols=['site_id',\n",
       "                                                                             'site_domain',\n",
       "                                                                             'app_id',\n",
       "                                                                             'device_model',\n",
       "                                                                             'C14',\n",
       "                                                                             'C17',\n",
       "                                                                             'C20'])]}],\n",
       "                   random_state=42, scoring='f1')"
      ]
     },
     "execution_count": 17,
     "metadata": {},
     "output_type": "execute_result"
    },
    {
     "name": "stdout",
     "output_type": "stream",
     "text": [
      "Best cross-validation score: 0.40\n",
      "Best params:\n",
      "{'classifier': RandomForestClassifier(max_depth=39, min_samples_leaf=29, min_samples_split=15,\n",
      "                       n_estimators=206, random_state=42), 'classifier__max_depth': 39, 'classifier__min_samples_leaf': 29, 'classifier__min_samples_split': 15, 'classifier__n_estimators': 206, 'sampling': RandomUnderSampler(random_state=42), 'scaler': StandardScaler(), 'transformer': TargetEncoder(cols=['site_id', 'site_domain', 'app_id', 'device_model', 'C14',\n",
      "                    'C17', 'C20'])}\n",
      "\n"
     ]
    }
   ],
   "source": [
    "pipe = Pipeline([('sampling', RandomOverSampler(random_state=42)), \n",
    "                 ('transformer', TargetEncoder(cols=target_enc)),\n",
    "                 ('scaler', StandardScaler()), \n",
    "                 ('classifier', RandomForestClassifier(random_state=42))])\n",
    "param_grid = [\n",
    "    {'classifier': [RandomForestClassifier(random_state=42)], \n",
    "     'scaler': [StandardScaler()],\n",
    "     'transformer': [TargetEncoder(cols=target_enc)],\n",
    "     'sampling': [RandomUnderSampler(random_state=42), RandomOverSampler(random_state=42), SMOTE(random_state=42)],\n",
    "     'classifier__n_estimators': sp_randInt(100, 1000),\n",
    "     'classifier__max_depth': sp_randInt(1, 50),\n",
    "     'classifier__min_samples_split': sp_randInt(1, 50),\n",
    "     'classifier__min_samples_leaf': sp_randInt(1, 50)}, \n",
    "]\n",
    "rfc_rand = RandomizedSearchCV(pipe, param_grid, cv=10, scoring = 'f1', n_iter=5, random_state=42)\n",
    "rfc_rand.fit(X_train, y_train)\n",
    "rfc_model_opt = rfc_rand.best_estimator_\n",
    "print(\"Best cross-validation score: {:.2f}\".format(rfc_rand.best_score_))\n",
    "print(\"Best params:\\n{}\\n\".format(rfc_rand.best_params_))"
   ]
  },
  {
   "cell_type": "code",
   "execution_count": 18,
   "metadata": {
    "ExecuteTime": {
     "end_time": "2021-05-08T20:06:03.216782Z",
     "start_time": "2021-05-08T20:06:03.187161Z"
    },
    "scrolled": true
   },
   "outputs": [
    {
     "data": {
      "text/html": [
       "<div>\n",
       "<style scoped>\n",
       "    .dataframe tbody tr th:only-of-type {\n",
       "        vertical-align: middle;\n",
       "    }\n",
       "\n",
       "    .dataframe tbody tr th {\n",
       "        vertical-align: top;\n",
       "    }\n",
       "\n",
       "    .dataframe thead th {\n",
       "        text-align: right;\n",
       "    }\n",
       "</style>\n",
       "<table border=\"1\" class=\"dataframe\">\n",
       "  <thead>\n",
       "    <tr style=\"text-align: right;\">\n",
       "      <th></th>\n",
       "      <th>classifier</th>\n",
       "      <th>classifier__max_depth</th>\n",
       "      <th>classifier__min_samples_leaf</th>\n",
       "      <th>classifier__min_samples_split</th>\n",
       "      <th>classifier__n_estimators</th>\n",
       "      <th>sampling</th>\n",
       "      <th>scaler</th>\n",
       "      <th>transformer</th>\n",
       "    </tr>\n",
       "  </thead>\n",
       "  <tbody>\n",
       "    <tr>\n",
       "      <th>rfc_opt_model</th>\n",
       "      <td>RandomForestClassifier(max_depth=39, min_sampl...</td>\n",
       "      <td>39</td>\n",
       "      <td>29</td>\n",
       "      <td>15</td>\n",
       "      <td>206</td>\n",
       "      <td>RandomUnderSampler(random_state=42)</td>\n",
       "      <td>StandardScaler()</td>\n",
       "      <td>TargetEncoder(cols=['site_id', 'site_domain', ...</td>\n",
       "    </tr>\n",
       "  </tbody>\n",
       "</table>\n",
       "</div>"
      ],
      "text/plain": [
       "                                                      classifier  \\\n",
       "rfc_opt_model  RandomForestClassifier(max_depth=39, min_sampl...   \n",
       "\n",
       "               classifier__max_depth  classifier__min_samples_leaf  \\\n",
       "rfc_opt_model                     39                            29   \n",
       "\n",
       "               classifier__min_samples_split  classifier__n_estimators  \\\n",
       "rfc_opt_model                             15                       206   \n",
       "\n",
       "                                          sampling            scaler  \\\n",
       "rfc_opt_model  RandomUnderSampler(random_state=42)  StandardScaler()   \n",
       "\n",
       "                                                     transformer  \n",
       "rfc_opt_model  TargetEncoder(cols=['site_id', 'site_domain', ...  "
      ]
     },
     "execution_count": 18,
     "metadata": {},
     "output_type": "execute_result"
    }
   ],
   "source": [
    "pd.DataFrame(rfc_rand.best_params_, index=['rfc_opt_model']).to_csv('rfc_opt_model.csv')\n",
    "pd.read_csv('rfc_opt_model.csv', index_col=[0])"
   ]
  },
  {
   "cell_type": "markdown",
   "metadata": {},
   "source": [
    "### Further Narrowing the hyper-parameter search"
   ]
  },
  {
   "cell_type": "code",
   "execution_count": 34,
   "metadata": {
    "ExecuteTime": {
     "end_time": "2021-05-08T21:41:11.976103Z",
     "start_time": "2021-05-08T21:35:08.956214Z"
    }
   },
   "outputs": [
    {
     "data": {
      "text/plain": [
       "RandomizedSearchCV(cv=5,\n",
       "                   estimator=Pipeline(steps=[('sampling',\n",
       "                                              RandomOverSampler(random_state=42)),\n",
       "                                             ('transformer',\n",
       "                                              TargetEncoder(cols=['site_id',\n",
       "                                                                  'site_domain',\n",
       "                                                                  'app_id',\n",
       "                                                                  'device_model',\n",
       "                                                                  'C14', 'C17',\n",
       "                                                                  'C20'])),\n",
       "                                             ('scaler', StandardScaler()),\n",
       "                                             ('classifier',\n",
       "                                              RandomForestClassifier(random_state=42))]),\n",
       "                   param_distributions=[{'classifier': [RandomForestClassifier(max_...\n",
       "                                         'classifier__min_samples_split': <scipy.stats._distn_infrastructure.rv_frozen object at 0x000002A0008CB910>,\n",
       "                                         'classifier__n_estimators': <scipy.stats._distn_infrastructure.rv_frozen object at 0x000002A0030E8E80>,\n",
       "                                         'sampling': [RandomUnderSampler(random_state=42)],\n",
       "                                         'scaler': [StandardScaler()],\n",
       "                                         'transformer': [TargetEncoder(cols=['site_id',\n",
       "                                                                             'site_domain',\n",
       "                                                                             'app_id',\n",
       "                                                                             'device_model',\n",
       "                                                                             'C14',\n",
       "                                                                             'C17',\n",
       "                                                                             'C20'])]}],\n",
       "                   random_state=42, scoring='f1')"
      ]
     },
     "execution_count": 34,
     "metadata": {},
     "output_type": "execute_result"
    },
    {
     "name": "stdout",
     "output_type": "stream",
     "text": [
      "Best cross-validation score: 0.40\n",
      "Best params:\n",
      "{'classifier': RandomForestClassifier(max_depth=27, min_samples_leaf=40, min_samples_split=48,\n",
      "                       n_estimators=271, random_state=42), 'classifier__max_depth': 27, 'classifier__min_samples_leaf': 40, 'classifier__min_samples_split': 48, 'classifier__n_estimators': 271, 'sampling': RandomUnderSampler(random_state=42), 'scaler': StandardScaler(), 'transformer': TargetEncoder(cols=['site_id', 'site_domain', 'app_id', 'device_model', 'C14',\n",
      "                    'C17', 'C20'])}\n",
      "\n"
     ]
    }
   ],
   "source": [
    "pipe = Pipeline([('sampling', RandomOverSampler(random_state=42)), \n",
    "                 ('transformer', TargetEncoder(cols=target_enc)),\n",
    "                 ('scaler', StandardScaler()), \n",
    "                 ('classifier', RandomForestClassifier(random_state=42))])\n",
    "param_grid = [\n",
    "    {'classifier': [RandomForestClassifier(random_state=42)], \n",
    "     'scaler': [StandardScaler()],\n",
    "     'transformer': [TargetEncoder(cols=target_enc)],\n",
    "     'sampling': [RandomUnderSampler(random_state=42)],# RandomOverSampler(random_state=42), SMOTE(random_state=42)],\n",
    "     'classifier__n_estimators': sp_randInt(150, 1000),\n",
    "     'classifier__max_depth': sp_randInt(20, 60),\n",
    "     'classifier__min_samples_split': sp_randInt(10, 60),\n",
    "     'classifier__min_samples_leaf': sp_randInt(20, 80)}, \n",
    "]\n",
    "rfc_rand_2 = RandomizedSearchCV(pipe, param_grid, cv=5, scoring = 'f1', n_iter=10, random_state=42)\n",
    "rfc_rand_2.fit(X_train, y_train)\n",
    "rfc_model_opt_2 = rfc_rand_2.best_estimator_\n",
    "print(\"Best cross-validation score: {:.2f}\".format(rfc_rand_2.best_score_))\n",
    "print(\"Best params:\\n{}\\n\".format(rfc_rand_2.best_params_))"
   ]
  },
  {
   "cell_type": "markdown",
   "metadata": {},
   "source": [
    "### Further Hyper-parameter Research - RandomForest"
   ]
  },
  {
   "cell_type": "code",
   "execution_count": 43,
   "metadata": {
    "ExecuteTime": {
     "end_time": "2021-05-08T22:05:54.327796Z",
     "start_time": "2021-05-08T22:00:44.479058Z"
    }
   },
   "outputs": [
    {
     "data": {
      "text/plain": [
       "RandomizedSearchCV(cv=5,\n",
       "                   estimator=Pipeline(steps=[('sampling',\n",
       "                                              RandomOverSampler(random_state=42)),\n",
       "                                             ('transformer',\n",
       "                                              TargetEncoder(cols=['site_id',\n",
       "                                                                  'site_domain',\n",
       "                                                                  'app_id',\n",
       "                                                                  'device_model',\n",
       "                                                                  'C14', 'C17',\n",
       "                                                                  'C20'])),\n",
       "                                             ('scaler', StandardScaler()),\n",
       "                                             ('classifier',\n",
       "                                              RandomForestClassifier(random_state=42))]),\n",
       "                   param_distributions=[{'classifier': [RandomForestClassifier(clas...\n",
       "                                         'classifier__min_samples_split': <scipy.stats._distn_infrastructure.rv_frozen object at 0x000002A0008D8910>,\n",
       "                                         'classifier__n_estimators': <scipy.stats._distn_infrastructure.rv_frozen object at 0x000002A0035EED30>,\n",
       "                                         'sampling': [RandomUnderSampler(random_state=42)],\n",
       "                                         'scaler': [StandardScaler()],\n",
       "                                         'transformer': [TargetEncoder(cols=['site_id',\n",
       "                                                                             'site_domain',\n",
       "                                                                             'app_id',\n",
       "                                                                             'device_model',\n",
       "                                                                             'C14',\n",
       "                                                                             'C17',\n",
       "                                                                             'C20'])]}],\n",
       "                   random_state=42, scoring='f1')"
      ]
     },
     "execution_count": 43,
     "metadata": {},
     "output_type": "execute_result"
    },
    {
     "name": "stdout",
     "output_type": "stream",
     "text": [
      "Best cross-validation score: 0.40\n",
      "Best params:\n",
      "{'classifier': RandomForestClassifier(class_weight='balanced', max_depth=58,\n",
      "                       min_samples_leaf=37, min_samples_split=13,\n",
      "                       n_estimators=750, random_state=42), 'classifier__class_weight': 'balanced', 'classifier__criterion': 'gini', 'classifier__max_depth': 58, 'classifier__min_samples_leaf': 37, 'classifier__min_samples_split': 13, 'classifier__n_estimators': 750, 'sampling': RandomUnderSampler(random_state=42), 'scaler': StandardScaler(), 'transformer': TargetEncoder(cols=['site_id', 'site_domain', 'app_id', 'device_model', 'C14',\n",
      "                    'C17', 'C20'])}\n",
      "\n"
     ]
    }
   ],
   "source": [
    "pipe = Pipeline([('sampling', RandomOverSampler(random_state=42)), \n",
    "                 ('transformer', TargetEncoder(cols=target_enc)),\n",
    "                 ('scaler', StandardScaler()), \n",
    "                 ('classifier', RandomForestClassifier(random_state=42))])\n",
    "param_grid = [\n",
    "    {'classifier': [RandomForestClassifier(random_state=42)], \n",
    "     'scaler': [StandardScaler()],\n",
    "     'transformer': [TargetEncoder(cols=target_enc)],\n",
    "     'sampling': [RandomUnderSampler(random_state=42)],# RandomOverSampler(random_state=42), SMOTE(random_state=42)],\n",
    "     'classifier__n_estimators': sp_randInt(150, 1000),\n",
    "     'classifier__max_depth': sp_randInt(20, 60),\n",
    "     'classifier__min_samples_split': sp_randInt(10, 60),\n",
    "     'classifier__min_samples_leaf': sp_randInt(20, 80),\n",
    "     'classifier__class_weight': ['balanced'],\n",
    "     'classifier__criterion': ['gini','entropy']}\n",
    "]\n",
    "rfc_rand_3 = RandomizedSearchCV(pipe, param_grid, cv=5, scoring = 'f1', n_iter=10, random_state=42)\n",
    "rfc_rand_3.fit(X_train, y_train)\n",
    "rfc_model_opt_3 = rfc_rand_3.best_estimator_\n",
    "print(\"Best cross-validation score: {:.2f}\".format(rfc_rand_3.best_score_))\n",
    "print(\"Best params:\\n{}\\n\".format(rfc_rand_3.best_params_))"
   ]
  },
  {
   "cell_type": "markdown",
   "metadata": {},
   "source": [
    "# CATBOOST"
   ]
  },
  {
   "cell_type": "code",
   "execution_count": 20,
   "metadata": {
    "ExecuteTime": {
     "end_time": "2021-05-08T20:38:49.669063Z",
     "start_time": "2021-05-08T20:06:03.233600Z"
    }
   },
   "outputs": [
    {
     "data": {
      "text/plain": [
       "RandomizedSearchCV(cv=10,\n",
       "                   estimator=Pipeline(steps=[('sampling',\n",
       "                                              RandomUnderSampler(random_state=42)),\n",
       "                                             ('transformer',\n",
       "                                              TargetEncoder(cols=['site_id',\n",
       "                                                                  'site_domain',\n",
       "                                                                  'app_id',\n",
       "                                                                  'device_model',\n",
       "                                                                  'C14', 'C17',\n",
       "                                                                  'C20'])),\n",
       "                                             ('scaler', StandardScaler()),\n",
       "                                             ('classifier',\n",
       "                                              <catboost.core.CatBoostClassifier object at 0x000002A0008C3A60>)]),\n",
       "                   param_distributions=[{'classifier': [<cat...\n",
       "                                         'classifier__learning_rate': <scipy.stats._distn_infrastructure.rv_frozen object at 0x000002A071C6FBE0>,\n",
       "                                         'sampling': [RandomUnderSampler(random_state=42),\n",
       "                                                      RandomOverSampler(random_state=42),\n",
       "                                                      SMOTE(random_state=42)],\n",
       "                                         'scaler': [StandardScaler()],\n",
       "                                         'transformer': [TargetEncoder(cols=['site_id',\n",
       "                                                                             'site_domain',\n",
       "                                                                             'app_id',\n",
       "                                                                             'device_model',\n",
       "                                                                             'C14',\n",
       "                                                                             'C17',\n",
       "                                                                             'C20'])]}],\n",
       "                   random_state=42, scoring='f1')"
      ]
     },
     "execution_count": 20,
     "metadata": {},
     "output_type": "execute_result"
    },
    {
     "name": "stdout",
     "output_type": "stream",
     "text": [
      "Best cross-validation score: 0.39\n",
      "Best params:\n",
      "{'classifier': <catboost.core.CatBoostClassifier object at 0x000002A0008C3340>, 'classifier__depth': 9, 'classifier__l2_leaf_reg': 7, 'classifier__learning_rate': 0.013264961159866528, 'sampling': RandomUnderSampler(random_state=42), 'scaler': StandardScaler(), 'transformer': TargetEncoder(cols=['site_id', 'site_domain', 'app_id', 'device_model', 'C14',\n",
      "                    'C17', 'C20'])}\n",
      "\n"
     ]
    }
   ],
   "source": [
    "catb = Pipeline([('sampling', RandomUnderSampler(random_state=42)),\n",
    "                 ('transformer', TargetEncoder(cols=target_enc)),\n",
    "                 ('scaler', StandardScaler()),\n",
    "                 ('classifier', CatBoostClassifier(verbose=False, auto_class_weights='Balanced', early_stopping_rounds=10, random_seed=42))])\n",
    "\n",
    "param_grid= [\n",
    "        {'classifier': [CatBoostClassifier(verbose=False, auto_class_weights='Balanced', early_stopping_rounds=10, random_seed=42)],\n",
    "         'scaler': [StandardScaler()],\n",
    "         'transformer': [TargetEncoder(cols=target_enc)],\n",
    "         'sampling': [RandomUnderSampler(random_state=42), RandomOverSampler(random_state=42), SMOTE(random_state=42)],\n",
    "         'classifier__learning_rate': sp_randFloat(0, 1),\n",
    "         'classifier__depth': sp_randInt(1, 10),\n",
    "         'classifier__l2_leaf_reg': sp_randInt(1,10)}]\n",
    "\n",
    "catb_rand = RandomizedSearchCV(catb, param_grid, cv=10, scoring = 'f1', n_iter=10, random_state=42)\n",
    "catb_rand.fit(X_train, y_train)\n",
    "catb_model = catb_rand.best_estimator_\n",
    "print(\"Best cross-validation score: {:.2f}\".format(catb_rand.best_score_))\n",
    "print(\"Best params:\\n{}\\n\".format(catb_rand.best_params_))"
   ]
  },
  {
   "cell_type": "markdown",
   "metadata": {},
   "source": [
    "### Further Hyper-parameter research - CatBoost"
   ]
  },
  {
   "cell_type": "code",
   "execution_count": 47,
   "metadata": {
    "ExecuteTime": {
     "end_time": "2021-05-09T00:33:07.237536Z",
     "start_time": "2021-05-09T00:23:50.691215Z"
    }
   },
   "outputs": [
    {
     "data": {
      "text/plain": [
       "RandomizedSearchCV(cv=5,\n",
       "                   estimator=Pipeline(steps=[('sampling',\n",
       "                                              RandomUnderSampler(random_state=42)),\n",
       "                                             ('transformer',\n",
       "                                              TargetEncoder(cols=['site_id',\n",
       "                                                                  'site_domain',\n",
       "                                                                  'app_id',\n",
       "                                                                  'device_model',\n",
       "                                                                  'C14', 'C17',\n",
       "                                                                  'C20'])),\n",
       "                                             ('scaler', StandardScaler()),\n",
       "                                             ('classifier',\n",
       "                                              <catboost.core.CatBoostClassifier object at 0x000002A07274BE80>)]),\n",
       "                   n_iter=5,\n",
       "                   param_distributions=[{'classifie...\n",
       "                                         'classifier__depth': [9],\n",
       "                                         'classifier__l2_leaf_reg': [7],\n",
       "                                         'classifier__learning_rate': <scipy.stats._distn_infrastructure.rv_frozen object at 0x000002A0035EE5E0>,\n",
       "                                         'sampling': [RandomUnderSampler(random_state=42)],\n",
       "                                         'scaler': [StandardScaler()],\n",
       "                                         'transformer': [TargetEncoder(cols=['site_id',\n",
       "                                                                             'site_domain',\n",
       "                                                                             'app_id',\n",
       "                                                                             'device_model',\n",
       "                                                                             'C14',\n",
       "                                                                             'C17',\n",
       "                                                                             'C20'])]}],\n",
       "                   random_state=42, scoring='f1')"
      ]
     },
     "execution_count": 47,
     "metadata": {},
     "output_type": "execute_result"
    },
    {
     "name": "stdout",
     "output_type": "stream",
     "text": [
      "Best cross-validation score: 0.39\n",
      "Best params:\n",
      "{'classifier': <catboost.core.CatBoostClassifier object at 0x000002A07274B040>, 'classifier__depth': 9, 'classifier__l2_leaf_reg': 7, 'classifier__learning_rate': 0.007800932022121826, 'sampling': RandomUnderSampler(random_state=42), 'scaler': StandardScaler(), 'transformer': TargetEncoder(cols=['site_id', 'site_domain', 'app_id', 'device_model', 'C14',\n",
      "                    'C17', 'C20'])}\n",
      "\n"
     ]
    }
   ],
   "source": [
    "catb = Pipeline([('sampling', RandomUnderSampler(random_state=42)),\n",
    "                 ('transformer', TargetEncoder(cols=target_enc)),\n",
    "                 ('scaler', StandardScaler()),\n",
    "                 ('classifier', CatBoostClassifier(verbose=False, auto_class_weights='Balanced', early_stopping_rounds=10, random_seed=42))])\n",
    "\n",
    "param_grid= [\n",
    "        {'classifier': [CatBoostClassifier(verbose=False, auto_class_weights='Balanced', early_stopping_rounds=10, random_seed=42)],\n",
    "         'scaler': [StandardScaler()],\n",
    "         'transformer': [TargetEncoder(cols=target_enc)],\n",
    "         'sampling': [RandomUnderSampler(random_state=42)],\n",
    "         'classifier__learning_rate': sp_randFloat(0, 0.05),\n",
    "         'classifier__depth': [9], #sp_randInt(5, 20),\n",
    "         'classifier__l2_leaf_reg': [7]}] #sp_randInt(5, 10)}]\n",
    "\n",
    "catb_rand_2 = RandomizedSearchCV(catb, param_grid, cv=5, scoring = 'f1', n_iter=5, random_state=42)\n",
    "catb_rand_2.fit(X_train, y_train)\n",
    "catb_model_2 = catb_rand_2.best_estimator_\n",
    "print(\"Best cross-validation score: {:.2f}\".format(catb_rand_2.best_score_))\n",
    "print(\"Best params:\\n{}\\n\".format(catb_rand_2.best_params_))"
   ]
  },
  {
   "cell_type": "code",
   "execution_count": 48,
   "metadata": {
    "ExecuteTime": {
     "end_time": "2021-05-09T00:33:07.283550Z",
     "start_time": "2021-05-09T00:33:07.239471Z"
    }
   },
   "outputs": [
    {
     "data": {
      "text/plain": [
       "Pipeline(steps=[('sampling', RandomUnderSampler(random_state=42)),\n",
       "                ('transformer',\n",
       "                 TargetEncoder(cols=['site_id', 'site_domain', 'app_id',\n",
       "                                     'device_model', 'C14', 'C17', 'C20'])),\n",
       "                ('scaler', StandardScaler()),\n",
       "                ('classifier', KNeighborsClassifier(n_neighbors=9))])"
      ]
     },
     "execution_count": 48,
     "metadata": {},
     "output_type": "execute_result"
    },
    {
     "data": {
      "text/plain": [
       "Pipeline(steps=[('sampling', RandomUnderSampler(random_state=42)),\n",
       "                ('transformer',\n",
       "                 TargetEncoder(cols=['site_id', 'site_domain', 'app_id',\n",
       "                                     'device_model', 'C14', 'C17', 'C20'])),\n",
       "                ('scaler', StandardScaler()),\n",
       "                ('classifier', KNeighborsClassifier(n_neighbors=43))])"
      ]
     },
     "execution_count": 48,
     "metadata": {},
     "output_type": "execute_result"
    },
    {
     "data": {
      "text/plain": [
       "Pipeline(steps=[('sampling', RandomUnderSampler(random_state=42)),\n",
       "                ('transformer',\n",
       "                 TargetEncoder(cols=['site_id', 'site_domain', 'app_id',\n",
       "                                     'device_model', 'C14', 'C17', 'C20'])),\n",
       "                ('scaler', StandardScaler()),\n",
       "                ('classifier', RandomForestClassifier(random_state=42))])"
      ]
     },
     "execution_count": 48,
     "metadata": {},
     "output_type": "execute_result"
    },
    {
     "data": {
      "text/plain": [
       "Pipeline(steps=[('sampling', RandomUnderSampler(random_state=42)),\n",
       "                ('transformer',\n",
       "                 TargetEncoder(cols=['site_id', 'site_domain', 'app_id',\n",
       "                                     'device_model', 'C14', 'C17', 'C20'])),\n",
       "                ('scaler', StandardScaler()),\n",
       "                ('classifier',\n",
       "                 RandomForestClassifier(max_depth=39, min_samples_leaf=29,\n",
       "                                        min_samples_split=15, n_estimators=206,\n",
       "                                        random_state=42))])"
      ]
     },
     "execution_count": 48,
     "metadata": {},
     "output_type": "execute_result"
    },
    {
     "data": {
      "text/plain": [
       "Pipeline(steps=[('sampling', RandomUnderSampler(random_state=42)),\n",
       "                ('transformer',\n",
       "                 TargetEncoder(cols=['site_id', 'site_domain', 'app_id',\n",
       "                                     'device_model', 'C14', 'C17', 'C20'])),\n",
       "                ('scaler', StandardScaler()),\n",
       "                ('classifier',\n",
       "                 RandomForestClassifier(max_depth=27, min_samples_leaf=40,\n",
       "                                        min_samples_split=48, n_estimators=271,\n",
       "                                        random_state=42))])"
      ]
     },
     "execution_count": 48,
     "metadata": {},
     "output_type": "execute_result"
    },
    {
     "data": {
      "text/plain": [
       "Pipeline(steps=[('sampling', RandomUnderSampler(random_state=42)),\n",
       "                ('transformer',\n",
       "                 TargetEncoder(cols=['site_id', 'site_domain', 'app_id',\n",
       "                                     'device_model', 'C14', 'C17', 'C20'])),\n",
       "                ('scaler', StandardScaler()),\n",
       "                ('classifier',\n",
       "                 RandomForestClassifier(class_weight='balanced', max_depth=58,\n",
       "                                        min_samples_leaf=37,\n",
       "                                        min_samples_split=13, n_estimators=750,\n",
       "                                        random_state=42))])"
      ]
     },
     "execution_count": 48,
     "metadata": {},
     "output_type": "execute_result"
    },
    {
     "data": {
      "text/plain": [
       "Pipeline(steps=[('sampling', RandomUnderSampler(random_state=42)),\n",
       "                ('transformer',\n",
       "                 TargetEncoder(cols=['site_id', 'site_domain', 'app_id',\n",
       "                                     'device_model', 'C14', 'C17', 'C20'])),\n",
       "                ('scaler', StandardScaler()),\n",
       "                ('classifier',\n",
       "                 <catboost.core.CatBoostClassifier object at 0x000002A00093D910>)])"
      ]
     },
     "execution_count": 48,
     "metadata": {},
     "output_type": "execute_result"
    },
    {
     "data": {
      "text/plain": [
       "Pipeline(steps=[('sampling', RandomUnderSampler(random_state=42)),\n",
       "                ('transformer',\n",
       "                 TargetEncoder(cols=['site_id', 'site_domain', 'app_id',\n",
       "                                     'device_model', 'C14', 'C17', 'C20'])),\n",
       "                ('scaler', StandardScaler()),\n",
       "                ('classifier',\n",
       "                 <catboost.core.CatBoostClassifier object at 0x000002A0008F1400>)])"
      ]
     },
     "execution_count": 48,
     "metadata": {},
     "output_type": "execute_result"
    }
   ],
   "source": [
    "knn_grid.best_estimator_\n",
    "knn_rand.best_estimator_\n",
    "rfc_simple_grid.best_estimator_\n",
    "rfc_rand.best_estimator_\n",
    "rfc_rand_2.best_estimator_\n",
    "rfc_rand_3.best_estimator_\n",
    "catb_model\n",
    "catb_model_2"
   ]
  },
  {
   "cell_type": "markdown",
   "metadata": {},
   "source": [
    "## Stacking Classifier"
   ]
  },
  {
   "cell_type": "code",
   "execution_count": 53,
   "metadata": {
    "ExecuteTime": {
     "end_time": "2021-05-09T09:33:15.693523Z",
     "start_time": "2021-05-09T08:58:54.063488Z"
    }
   },
   "outputs": [
    {
     "data": {
      "text/plain": [
       "VotingClassifier(estimators=[('knn_optimized',\n",
       "                              Pipeline(steps=[('sampling',\n",
       "                                               RandomUnderSampler(random_state=42)),\n",
       "                                              ('transformer',\n",
       "                                               TargetEncoder(cols=['site_id',\n",
       "                                                                   'site_domain',\n",
       "                                                                   'app_id',\n",
       "                                                                   'device_model',\n",
       "                                                                   'C14', 'C17',\n",
       "                                                                   'C20'])),\n",
       "                                              ('scaler', StandardScaler()),\n",
       "                                              ('classifier',\n",
       "                                               KNeighborsClassifier(n_neighbors=43))])),\n",
       "                             ('forest_optimized',\n",
       "                              Pipeline(steps=[('sampling',\n",
       "                                               Rand...\n",
       "                                                                      n_estimators=750,\n",
       "                                                                      random_state=42))])),\n",
       "                             ('catboost_optmized',\n",
       "                              Pipeline(steps=[('sampling',\n",
       "                                               RandomUnderSampler(random_state=42)),\n",
       "                                              ('transformer',\n",
       "                                               TargetEncoder(cols=['site_id',\n",
       "                                                                   'site_domain',\n",
       "                                                                   'app_id',\n",
       "                                                                   'device_model',\n",
       "                                                                   'C14', 'C17',\n",
       "                                                                   'C20'])),\n",
       "                                              ('scaler', StandardScaler()),\n",
       "                                              ('classifier',\n",
       "                                               <catboost.core.CatBoostClassifier object at 0x000002A0008F1400>)]))],\n",
       "                 voting='soft')"
      ]
     },
     "execution_count": 53,
     "metadata": {},
     "output_type": "execute_result"
    },
    {
     "name": "stdout",
     "output_type": "stream",
     "text": [
      "F1-score: 0.3859 (+/- 0.0041) | ROC-AUC: 0.7101 (+/- 0.0049) [knn_new_neighbors]\n",
      "F1-score: 0.3970 (+/- 0.0051) | ROC-AUC: 0.7233 (+/- 0.0043) [forest_optimized_3]\n",
      "F1-score: 0.3938 (+/- 0.0047) | ROC-AUC: 0.7136 (+/- 0.0041) [catboost_opt_2]\n",
      "F1-score: 0.3939 (+/- 0.0048) | ROC-AUC: 0.7217 (+/- 0.0044) [voting]\n"
     ]
    }
   ],
   "source": [
    "estimators = [('knn_optimized', knn_new_neigh_model), \n",
    "              ('forest_optimized',rfc_model_opt_3), \n",
    "              ('catboost_optmized', catb_model_2)]\n",
    "    \n",
    "voting = VotingClassifier(estimators, voting='soft')\n",
    "voting.fit(X_train, y_train)\n",
    "\n",
    "list_of_estimators = [('knn_new_neighbors', knn_new_neigh_model),\n",
    "                      ('forest_optimized_3',rfc_model_opt_3), \n",
    "                      ('catboost_opt_2', catb_model_2), ('voting', voting)]\n",
    "                      \n",
    "for  label, model in list_of_estimators:\n",
    "    cv_scores = cross_validate(model, X_train, y_train, cv=10, scoring=('f1','roc_auc'))\n",
    "    print(f\"F1-score: {cv_scores['test_f1'].mean():0.4f} (+/- {cv_scores['test_f1'].std():0.4f}) | ROC-AUC: {cv_scores['test_roc_auc'].mean():0.4f} (+/- {cv_scores['test_roc_auc'].std():0.4f}) [{label}]\")"
   ]
  },
  {
   "cell_type": "markdown",
   "metadata": {},
   "source": [
    "Stacking with Voting Classifier set to `soft` did not perform better than the hyper-parameter tunning setting we found for the RandomForest, albeit the differences are small and it has a slighly lower standard deviation for the `f1-score`"
   ]
  },
  {
   "cell_type": "markdown",
   "metadata": {},
   "source": [
    "# Selecting the Best Model"
   ]
  },
  {
   "cell_type": "markdown",
   "metadata": {},
   "source": [
    "Using GridSearchCV we choose the best model after Hyper-parameter tunning. The metric we are using to make our decision regarding which is the best model is `f1-score`"
   ]
  },
  {
   "cell_type": "code",
   "execution_count": 67,
   "metadata": {
    "ExecuteTime": {
     "end_time": "2021-05-09T10:45:02.069335Z",
     "start_time": "2021-05-09T10:18:15.690141Z"
    }
   },
   "outputs": [
    {
     "data": {
      "text/plain": [
       "GridSearchCV(cv=10,\n",
       "             estimator=Pipeline(steps=[('sampling', RandomUnderSampler()),\n",
       "                                       ('transformer',\n",
       "                                        TargetEncoder(cols=['site_id',\n",
       "                                                            'site_domain',\n",
       "                                                            'app_id',\n",
       "                                                            'device_model',\n",
       "                                                            'C14', 'C17',\n",
       "                                                            'C20'])),\n",
       "                                       ('scaler', StandardScaler()),\n",
       "                                       ('classifier', KNeighborsClassifier())]),\n",
       "             param_grid=[{'classifier': [KNeighborsClassifier(n_neighbors=43)],\n",
       "                          'classifier__n_neighbors': [43],\n",
       "                          'cl...\n",
       "                          'sampling': [None], 'scaler': [None],\n",
       "                          'transformer': [None]}],\n",
       "             refit='f1_score',\n",
       "             scoring={'accuracy_score': make_scorer(accuracy_score),\n",
       "                      'custom_score': make_scorer(classification_report_with_accuracy_score),\n",
       "                      'f1_score': make_scorer(f1_score),\n",
       "                      'precision_score': make_scorer(precision_score),\n",
       "                      'recall_score': make_scorer(recall_score),\n",
       "                      'roc_auc_score': make_scorer(roc_auc_score)})"
      ]
     },
     "execution_count": 67,
     "metadata": {},
     "output_type": "execute_result"
    },
    {
     "name": "stdout",
     "output_type": "stream",
     "text": [
      "Best cross-validation score: 0.40\n",
      "Best params:\n",
      "{'classifier': RandomForestClassifier(class_weight='balanced', max_depth=58,\n",
      "                       min_samples_leaf=37, min_samples_split=13,\n",
      "                       n_estimators=750, random_state=42), 'classifier__class_weight': 'balanced', 'classifier__criterion': 'gini', 'classifier__max_depth': 58, 'classifier__min_samples_leaf': 37, 'classifier__min_samples_split': 13, 'classifier__n_estimators': 750, 'sampling': RandomUnderSampler(random_state=42), 'scaler': StandardScaler(), 'transformer': TargetEncoder(cols=['site_id', 'site_domain', 'app_id', 'device_model', 'C14',\n",
      "                    'C17', 'C20'])}\n",
      "\n"
     ]
    }
   ],
   "source": [
    "best_pipe = Pipeline([('sampling', RandomUnderSampler()),\n",
    "                 ('transformer', TargetEncoder(cols=target_enc)),\n",
    "                 ('scaler', StandardScaler()),\n",
    "                 ('classifier', KNeighborsClassifier())])\n",
    "\n",
    "param_grid= [#{key: [value] for (key, value) in knn_grid.best_params_.items()}, \n",
    "             {key: [value] for (key, value) in knn_rand.best_params_.items()},\n",
    "             #{key: [value] for (key, value) in rfc_simple_grid.best_params_.items()},\n",
    "             {key: [value] for (key, value) in rfc_rand.best_params_.items()},\n",
    "             {key: [value] for (key, value) in rfc_rand_2.best_params_.items()},\n",
    "             {key: [value] for (key, value) in rfc_rand_3.best_params_.items()},\n",
    "             #{key: [value] for (key, value) in catb_rand.best_params_.items()},\n",
    "             {key: [value] for (key, value) in catb_rand_2.best_params_.items()},\n",
    "             {'sampling': [None], 'transformer': [None], 'scaler': [None], 'classifier': [voting]}]\n",
    "\n",
    "originalclass = []\n",
    "predictedclass = []\n",
    "# Create Custom Scorig function\n",
    "def classification_report_with_accuracy_score(y_true, y_pred):\n",
    "    originalclass.extend(y_true)\n",
    "    predictedclass.extend(y_pred)\n",
    "    return accuracy_score(y_true, y_pred)\n",
    "\n",
    "scorers = {\n",
    "    'f1_score': make_scorer(f1_score),\n",
    "    'precision_score': make_scorer(precision_score),\n",
    "    'recall_score': make_scorer(recall_score),\n",
    "    'accuracy_score': make_scorer(accuracy_score),\n",
    "    'roc_auc_score': make_scorer(roc_auc_score),\n",
    "    'custom_score': make_scorer(classification_report_with_accuracy_score)\n",
    "}\n",
    "\n",
    "grid_best = GridSearchCV(\n",
    "        estimator=best_pipe,\n",
    "        param_grid=param_grid,\n",
    "        scoring=scorers,\n",
    "        cv=10,\n",
    "        refit='f1_score'\n",
    ")\n",
    "grid_best.fit(X_train, y_train)\n",
    "best_model = grid_best.best_estimator_\n",
    "print(\"Best cross-validation score: {:.2f}\".format(grid_best.best_score_))\n",
    "print(\"Best params:\\n{}\\n\".format(grid_best.best_params_))"
   ]
  },
  {
   "cell_type": "code",
   "execution_count": 68,
   "metadata": {
    "ExecuteTime": {
     "end_time": "2021-05-09T10:45:02.148706Z",
     "start_time": "2021-05-09T10:45:02.072260Z"
    }
   },
   "outputs": [
    {
     "data": {
      "text/html": [
       "<div>\n",
       "<style scoped>\n",
       "    .dataframe tbody tr th:only-of-type {\n",
       "        vertical-align: middle;\n",
       "    }\n",
       "\n",
       "    .dataframe tbody tr th {\n",
       "        vertical-align: top;\n",
       "    }\n",
       "\n",
       "    .dataframe thead th {\n",
       "        text-align: right;\n",
       "    }\n",
       "</style>\n",
       "<table border=\"1\" class=\"dataframe\">\n",
       "  <thead>\n",
       "    <tr style=\"text-align: right;\">\n",
       "      <th></th>\n",
       "      <th>param_classifier</th>\n",
       "      <th>mean_test_f1_score</th>\n",
       "      <th>std_test_f1_score</th>\n",
       "      <th>rank_test_f1_score</th>\n",
       "    </tr>\n",
       "  </thead>\n",
       "  <tbody>\n",
       "    <tr>\n",
       "      <th>0</th>\n",
       "      <td>KNeighborsClassifier(n_neighbors=43)</td>\n",
       "      <td>0.385879</td>\n",
       "      <td>0.004114</td>\n",
       "      <td>6</td>\n",
       "    </tr>\n",
       "    <tr>\n",
       "      <th>1</th>\n",
       "      <td>RandomForestClassifier(max_depth=39, min_sampl...</td>\n",
       "      <td>0.396706</td>\n",
       "      <td>0.003284</td>\n",
       "      <td>2</td>\n",
       "    </tr>\n",
       "    <tr>\n",
       "      <th>2</th>\n",
       "      <td>RandomForestClassifier(max_depth=27, min_sampl...</td>\n",
       "      <td>0.396676</td>\n",
       "      <td>0.005481</td>\n",
       "      <td>3</td>\n",
       "    </tr>\n",
       "    <tr>\n",
       "      <th>3</th>\n",
       "      <td>RandomForestClassifier(class_weight='balanced'...</td>\n",
       "      <td>0.396958</td>\n",
       "      <td>0.005089</td>\n",
       "      <td>1</td>\n",
       "    </tr>\n",
       "    <tr>\n",
       "      <th>4</th>\n",
       "      <td>&lt;catboost.core.CatBoostClassifier object at 0x...</td>\n",
       "      <td>0.393792</td>\n",
       "      <td>0.004650</td>\n",
       "      <td>5</td>\n",
       "    </tr>\n",
       "    <tr>\n",
       "      <th>5</th>\n",
       "      <td>VotingClassifier(estimators=[('knn_optimized',...</td>\n",
       "      <td>0.393913</td>\n",
       "      <td>0.004823</td>\n",
       "      <td>4</td>\n",
       "    </tr>\n",
       "  </tbody>\n",
       "</table>\n",
       "</div>"
      ],
      "text/plain": [
       "                                    param_classifier  mean_test_f1_score  \\\n",
       "0               KNeighborsClassifier(n_neighbors=43)            0.385879   \n",
       "1  RandomForestClassifier(max_depth=39, min_sampl...            0.396706   \n",
       "2  RandomForestClassifier(max_depth=27, min_sampl...            0.396676   \n",
       "3  RandomForestClassifier(class_weight='balanced'...            0.396958   \n",
       "4  <catboost.core.CatBoostClassifier object at 0x...            0.393792   \n",
       "5  VotingClassifier(estimators=[('knn_optimized',...            0.393913   \n",
       "\n",
       "   std_test_f1_score  rank_test_f1_score  \n",
       "0           0.004114                   6  \n",
       "1           0.003284                   2  \n",
       "2           0.005481                   3  \n",
       "3           0.005089                   1  \n",
       "4           0.004650                   5  \n",
       "5           0.004823                   4  "
      ]
     },
     "execution_count": 68,
     "metadata": {},
     "output_type": "execute_result"
    }
   ],
   "source": [
    "scores_best_models = pd.DataFrame(grid_best.cv_results_)[['param_classifier','mean_test_f1_score','std_test_f1_score','rank_test_f1_score']]\n",
    "scores_best_models"
   ]
  },
  {
   "cell_type": "code",
   "execution_count": 69,
   "metadata": {
    "ExecuteTime": {
     "end_time": "2021-05-09T10:45:02.228778Z",
     "start_time": "2021-05-09T10:45:02.151713Z"
    }
   },
   "outputs": [
    {
     "data": {
      "text/html": [
       "<div>\n",
       "<style scoped>\n",
       "    .dataframe tbody tr th:only-of-type {\n",
       "        vertical-align: middle;\n",
       "    }\n",
       "\n",
       "    .dataframe tbody tr th {\n",
       "        vertical-align: top;\n",
       "    }\n",
       "\n",
       "    .dataframe thead th {\n",
       "        text-align: right;\n",
       "    }\n",
       "</style>\n",
       "<table border=\"1\" class=\"dataframe\">\n",
       "  <thead>\n",
       "    <tr style=\"text-align: right;\">\n",
       "      <th></th>\n",
       "      <th>param_classifier</th>\n",
       "      <th>mean_test_f1_score</th>\n",
       "      <th>mean_test_precision_score</th>\n",
       "      <th>mean_test_recall_score</th>\n",
       "      <th>mean_test_accuracy_score</th>\n",
       "      <th>mean_test_roc_auc_score</th>\n",
       "      <th>mean_test_custom_score</th>\n",
       "      <th>rank_test_f1_score</th>\n",
       "    </tr>\n",
       "  </thead>\n",
       "  <tbody>\n",
       "    <tr>\n",
       "      <th>3</th>\n",
       "      <td>RandomForestClassifier(class_weight='balanced'...</td>\n",
       "      <td>0.396958</td>\n",
       "      <td>0.272905</td>\n",
       "      <td>0.727902</td>\n",
       "      <td>0.624088</td>\n",
       "      <td>0.665365</td>\n",
       "      <td>0.624088</td>\n",
       "      <td>1</td>\n",
       "    </tr>\n",
       "    <tr>\n",
       "      <th>1</th>\n",
       "      <td>RandomForestClassifier(max_depth=39, min_sampl...</td>\n",
       "      <td>0.396706</td>\n",
       "      <td>0.272687</td>\n",
       "      <td>0.727755</td>\n",
       "      <td>0.623750</td>\n",
       "      <td>0.665103</td>\n",
       "      <td>0.623750</td>\n",
       "      <td>2</td>\n",
       "    </tr>\n",
       "    <tr>\n",
       "      <th>2</th>\n",
       "      <td>RandomForestClassifier(max_depth=27, min_sampl...</td>\n",
       "      <td>0.396676</td>\n",
       "      <td>0.272557</td>\n",
       "      <td>0.728491</td>\n",
       "      <td>0.623337</td>\n",
       "      <td>0.665148</td>\n",
       "      <td>0.623337</td>\n",
       "      <td>3</td>\n",
       "    </tr>\n",
       "    <tr>\n",
       "      <th>5</th>\n",
       "      <td>VotingClassifier(estimators=[('knn_optimized',...</td>\n",
       "      <td>0.393913</td>\n",
       "      <td>0.269787</td>\n",
       "      <td>0.729667</td>\n",
       "      <td>0.618337</td>\n",
       "      <td>0.662603</td>\n",
       "      <td>0.618337</td>\n",
       "      <td>4</td>\n",
       "    </tr>\n",
       "    <tr>\n",
       "      <th>4</th>\n",
       "      <td>&lt;catboost.core.CatBoostClassifier object at 0x...</td>\n",
       "      <td>0.393792</td>\n",
       "      <td>0.270544</td>\n",
       "      <td>0.723417</td>\n",
       "      <td>0.621450</td>\n",
       "      <td>0.661993</td>\n",
       "      <td>0.621450</td>\n",
       "      <td>5</td>\n",
       "    </tr>\n",
       "    <tr>\n",
       "      <th>0</th>\n",
       "      <td>KNeighborsClassifier(n_neighbors=43)</td>\n",
       "      <td>0.385879</td>\n",
       "      <td>0.263337</td>\n",
       "      <td>0.721797</td>\n",
       "      <td>0.609475</td>\n",
       "      <td>0.654135</td>\n",
       "      <td>0.609475</td>\n",
       "      <td>6</td>\n",
       "    </tr>\n",
       "  </tbody>\n",
       "</table>\n",
       "</div>"
      ],
      "text/plain": [
       "                                    param_classifier  mean_test_f1_score  \\\n",
       "3  RandomForestClassifier(class_weight='balanced'...            0.396958   \n",
       "1  RandomForestClassifier(max_depth=39, min_sampl...            0.396706   \n",
       "2  RandomForestClassifier(max_depth=27, min_sampl...            0.396676   \n",
       "5  VotingClassifier(estimators=[('knn_optimized',...            0.393913   \n",
       "4  <catboost.core.CatBoostClassifier object at 0x...            0.393792   \n",
       "0               KNeighborsClassifier(n_neighbors=43)            0.385879   \n",
       "\n",
       "   mean_test_precision_score  mean_test_recall_score  \\\n",
       "3                   0.272905                0.727902   \n",
       "1                   0.272687                0.727755   \n",
       "2                   0.272557                0.728491   \n",
       "5                   0.269787                0.729667   \n",
       "4                   0.270544                0.723417   \n",
       "0                   0.263337                0.721797   \n",
       "\n",
       "   mean_test_accuracy_score  mean_test_roc_auc_score  mean_test_custom_score  \\\n",
       "3                  0.624088                 0.665365                0.624088   \n",
       "1                  0.623750                 0.665103                0.623750   \n",
       "2                  0.623337                 0.665148                0.623337   \n",
       "5                  0.618337                 0.662603                0.618337   \n",
       "4                  0.621450                 0.661993                0.621450   \n",
       "0                  0.609475                 0.654135                0.609475   \n",
       "\n",
       "   rank_test_f1_score  \n",
       "3                   1  \n",
       "1                   2  \n",
       "2                   3  \n",
       "5                   4  \n",
       "4                   5  \n",
       "0                   6  "
      ]
     },
     "execution_count": 69,
     "metadata": {},
     "output_type": "execute_result"
    }
   ],
   "source": [
    "mean_test_scores = ['mean_test_'+sc for sc in scorers.keys()]\n",
    "pd.DataFrame(grid_best.cv_results_)[['param_classifier']+mean_test_scores+['rank_test_f1_score']].sort_values(by='rank_test_f1_score')"
   ]
  },
  {
   "cell_type": "markdown",
   "metadata": {},
   "source": [
    "The Custom scorer above gathers all the original vs predictions for each CV split, which we use to create an Average CV Classification Repport."
   ]
  },
  {
   "cell_type": "code",
   "execution_count": 70,
   "metadata": {
    "ExecuteTime": {
     "end_time": "2021-05-09T10:45:03.102913Z",
     "start_time": "2021-05-09T10:45:02.230707Z"
    }
   },
   "outputs": [
    {
     "name": "stdout",
     "output_type": "stream",
     "text": [
      "-------------- Average CV Classification Report --------------\n",
      "               precision    recall  f1-score   support\n",
      "\n",
      "           0       0.91      0.60      0.72    398412\n",
      "           1       0.27      0.73      0.39     81588\n",
      "\n",
      "    accuracy                           0.62    480000\n",
      "   macro avg       0.59      0.66      0.56    480000\n",
      "weighted avg       0.80      0.62      0.67    480000\n",
      "\n"
     ]
    }
   ],
   "source": [
    "print(\"-------------- Average CV Classification Report --------------\\n\", \n",
    "      classification_report(originalclass, predictedclass))"
   ]
  },
  {
   "cell_type": "markdown",
   "metadata": {},
   "source": [
    "# Feature Importance"
   ]
  },
  {
   "cell_type": "markdown",
   "metadata": {},
   "source": [
    "When two features are correlated and one of the features is permuted, the model will still have access to the feature through its correlated feature. This will result in a lower importance value for both features, where they might actually be important.\n",
    "\n",
    "As such, a negative score is returned when a random permutation of a feature’s values results in a better performance metric than reality. It does not mean that the feature has a positive impact on the model, it rather means that substituting the feature with noise is better than the original feature. Hence, the feature is worse than noise. Quite likely this indicates that the negative feature interacts with other features.\n",
    "\n",
    "Typically when there is a negative score, we should remove that variable and redo the model.\n",
    "\n",
    "In order to correct the negative values, we used a f1 scoring, which led to a plot of only positive values."
   ]
  },
  {
   "cell_type": "code",
   "execution_count": 71,
   "metadata": {
    "ExecuteTime": {
     "end_time": "2021-05-09T10:45:03.117935Z",
     "start_time": "2021-05-09T10:45:03.104912Z"
    }
   },
   "outputs": [],
   "source": [
    "# Reset again the output for only the last expression\n",
    "InteractiveShell.ast_node_interactivity = 'last_expr'"
   ]
  },
  {
   "cell_type": "code",
   "execution_count": null,
   "metadata": {
    "ExecuteTime": {
     "start_time": "2021-05-09T09:44:48.715Z"
    }
   },
   "outputs": [],
   "source": [
    "from sklearn.inspection import permutation_importance\n",
    "perm = permutation_importance(best_model, X_train, y_train, scoring = 'f1', n_repeats=10, random_state=42)"
   ]
  },
  {
   "cell_type": "code",
   "execution_count": null,
   "metadata": {
    "ExecuteTime": {
     "start_time": "2021-05-09T09:44:48.717Z"
    },
    "scrolled": false
   },
   "outputs": [],
   "source": [
    "fi = perm.importances_mean\n",
    "fig, ax = plt.subplots(figsize=(20, 5))\n",
    "ax.bar(range(len(fi)), fi, align=\"center\")\n",
    "ax.set(xticks=range(len(fi)), xticklabels=X_train.columns)\n",
    "plt.setp(ax.get_xticklabels(), rotation=45, ha=\"right\", rotation_mode=\"anchor\")\n",
    "plt.show()"
   ]
  },
  {
   "cell_type": "markdown",
   "metadata": {},
   "source": [
    "The most important feature being C14, we could not take much interpretability from it.\n",
    "\n",
    "From the features that we can interpret device model has a relevant importance as well. A possible intuition could be the difference between softwares from each device, since newer versions could lead to better performance of the adds or some random explanation that this model is capturing.\n",
    "\n",
    "Also, site id is explaining well the model. This could indicate that sites are build to atract the users to click on the add. It is a good metric to work on.\n",
    "\n",
    "Finally, app id stands for another important feature.\n",
    "\n",
    "One that could have a higher importance is hour of the day, since it could lead to different user responses. Clearly, is not explaining that much the model."
   ]
  },
  {
   "cell_type": "markdown",
   "metadata": {},
   "source": [
    "# Test Best Model"
   ]
  },
  {
   "cell_type": "code",
   "execution_count": null,
   "metadata": {
    "ExecuteTime": {
     "start_time": "2021-05-09T09:44:48.720Z"
    }
   },
   "outputs": [],
   "source": [
    "best_model.fit(X_train, y_train)\n",
    "y_pred = best_model.predict(X_test)\n",
    "print(best_model)"
   ]
  },
  {
   "cell_type": "code",
   "execution_count": null,
   "metadata": {
    "ExecuteTime": {
     "start_time": "2021-05-09T09:44:48.722Z"
    }
   },
   "outputs": [],
   "source": [
    "print(classification_report(y_test, y_pred))"
   ]
  },
  {
   "cell_type": "markdown",
   "metadata": {},
   "source": [
    "#### Confusion matrix\n",
    "The predicted classes are represented in the columns of the matrix, whereas the actual classes are in the rows of the matrix. We then have four cases:\n",
    "- True positives (TP): the cases for which the classifier predicted that a user clicks and the the class is actually that the user clicked.\n",
    "- True negatives (TN): the cases for which the classifier predicted that the user will not click and the class is actually that it will not click.\n",
    "- False positives (FP): the cases for which the classifier predicted that a user clicks but class is actually that it will not click.\n",
    "- False negatives (FN): the cases for which the classifier predicted that the user will not click but the class is actually that the user clicked.\n"
   ]
  },
  {
   "cell_type": "code",
   "execution_count": null,
   "metadata": {
    "ExecuteTime": {
     "start_time": "2021-05-09T09:44:48.724Z"
    }
   },
   "outputs": [],
   "source": [
    "cf_matrix = confusion_matrix(y_test, y_pred)\n",
    "\n",
    "# Names, counts and Percentage\n",
    "group_names = ['True Neg','False Pos','False Neg','True Pos']\n",
    "group_counts = [\"{0:0.0f}\".format(value) for value in cf_matrix.flatten()]\n",
    "group_percentages = [\"{0:.2%}\".format(value) for value in cf_matrix.flatten()/np.sum(cf_matrix)]\n",
    "\n",
    "# Join the above into text\n",
    "labels = [f\"{v1}\\n{v2}\\n{v3}\" for v1, v2, v3 in zip(group_names,group_counts,group_percentages)]\n",
    "labels = np.asarray(labels).reshape(2,2)\n",
    "categories = ['Not Click (0)','Click (1)']\n",
    "sns.heatmap(cf_matrix, annot=labels, fmt='', cmap='Blues',xticklabels=categories,yticklabels=categories)\n",
    "plt.title('Best Model')\n",
    "plt.xlabel('Predicted Label')\n",
    "plt.ylabel('True Label')\n",
    "plt.show()"
   ]
  },
  {
   "cell_type": "markdown",
   "metadata": {},
   "source": [
    "Let's interpret these values:\n",
    "Out of the 3433 instances of class 1 in our test set, the model identified 2468 of them as 1, and 965 predicted as 0 (false negatives, type II error).\n",
    "Out of 16567 users of class 0, 10105 were identified correctly as 0, and 6462 were false positives (type I error)."
   ]
  },
  {
   "cell_type": "markdown",
   "metadata": {},
   "source": [
    "Our main target was to sustain a high f1 score, since our dataset is imbalanced. Also, it is more relevant to the business model, to guarantee a good harmonic mean between recall and precision. The first one, to ensure that we increase our target prediction, in order to minimize failures and take out predictions of not clicking. The second one, to ensure that when it predicts the right class it does not fail that much.\n",
    "\n",
    "As we see prediction is not beeing perfected by the model, but recall has a significant value. This leads to a good f1 score."
   ]
  },
  {
   "cell_type": "code",
   "execution_count": null,
   "metadata": {
    "ExecuteTime": {
     "start_time": "2021-05-09T09:44:48.727Z"
    }
   },
   "outputs": [],
   "source": [
    "plot_roc_curve(best_model, X_test, y_test) \n",
    "plt.plot([0, 1], [0, 1],'r--')\n",
    "plt.title('Best Model')\n",
    "\n",
    "plt.show()"
   ]
  },
  {
   "cell_type": "markdown",
   "metadata": {},
   "source": [
    "# Interpretability"
   ]
  },
  {
   "cell_type": "code",
   "execution_count": null,
   "metadata": {
    "ExecuteTime": {
     "start_time": "2021-05-09T09:44:48.728Z"
    }
   },
   "outputs": [],
   "source": [
    "# Imports\n",
    "from sklearn.inspection import permutation_importance\n",
    "import shap"
   ]
  },
  {
   "cell_type": "markdown",
   "metadata": {},
   "source": [
    "## SHAP (SHapley Additive exPlanations)\n",
    "The Shapley value is the average contribution of a feature value to the prediction in different coalitions. Shapley values are a robust mechanism to assess the importance of each feature to reach an output, and hence form a better alternative to standard feature importance mechanisms. \n",
    "These include the *TreeExplainer* which is optimized for tree-based models, *DeepExplainer* and *GradientExplainer* for neural networks, and *KernelExplainer*, which makes no assumptions about the underlying model to be explained. \n",
    "\n",
    "Given our best model is an Pipeline with an optimized `Random Forest Classifier` we will have to use *KernelExplainer*"
   ]
  },
  {
   "cell_type": "code",
   "execution_count": null,
   "metadata": {
    "ExecuteTime": {
     "start_time": "2021-05-09T09:44:48.730Z"
    }
   },
   "outputs": [],
   "source": [
    "row = 23\n",
    "data_for_prediction = X_test.iloc[row]   \n",
    "data_for_prediction_array = data_for_prediction.values.reshape(1, -1)\n",
    "\n",
    "def model_predict(data_asarray):\n",
    "    data_asframe =  pd.DataFrame(data_asarray, columns=X_train.columns.to_list())\n",
    "    return best_model.predict_proba(data_asframe)\n",
    "\n",
    "explainer = shap.KernelExplainer(model_predict, X_test.iloc[0:100], link='logit')\n",
    "shap_values = explainer.shap_values(data_for_prediction)\n",
    "\n",
    "shap.initjs()\n",
    "shap.force_plot(explainer.expected_value[1], shap_values[1], data_for_prediction)"
   ]
  },
  {
   "cell_type": "markdown",
   "metadata": {},
   "source": [
    "**You can visualize feature attributions such as Shapley values as \"forces\". Each feature value is a force that either increases or decreases the prediction.* The prediction starts from the baseline. The baseline for Shapley values is the average of all predictions.** In the plot, each Shapley value is an arrow that pushes to increase (positive value) or decrease (negative value) the prediction. These forces balance each other out at the actual prediction of the data instance."
   ]
  },
  {
   "cell_type": "markdown",
   "metadata": {},
   "source": [
    "The output prediction is 1, which means the model classifies this observation as benign. The base value is 0.6321. Feature values that push towards a malignant tumor causing are in blue, and **the length of the region shows how much the feature contributes to this effect.** Feature values decreasing the prediction and making our tumor benign are in pink. If you subtract the length of the blue bars from the length of the pink bars, it equals the distance from the base value to the output.\n",
    "\n",
    "To get an overview of which features are most important for a model on a global level, we can plot the SHAP values of every feature for every sample. \n",
    "\n",
    "### The idea behind SHAP feature importance is simple: Features with large absolute Shapley values are important."
   ]
  },
  {
   "cell_type": "code",
   "execution_count": null,
   "metadata": {
    "ExecuteTime": {
     "start_time": "2021-05-09T09:44:48.733Z"
    }
   },
   "outputs": [],
   "source": [
    "random_sample = X_test.sample(200, random_state=42)\n",
    "shap_values = explainer.shap_values(random_sample)"
   ]
  },
  {
   "cell_type": "code",
   "execution_count": null,
   "metadata": {
    "ExecuteTime": {
     "start_time": "2021-05-09T09:44:48.734Z"
    }
   },
   "outputs": [],
   "source": [
    "shap.summary_plot(shap_values, X_test, plot_type=\"bar\")"
   ]
  },
  {
   "cell_type": "markdown",
   "metadata": {},
   "source": [
    "We can also plot the *summary_plot* for each feature and an instance."
   ]
  },
  {
   "cell_type": "code",
   "execution_count": null,
   "metadata": {
    "ExecuteTime": {
     "start_time": "2021-05-09T09:44:48.737Z"
    }
   },
   "outputs": [],
   "source": [
    "shap.summary_plot(shap_values[0], random_sample , plot_type='dot')"
   ]
  },
  {
   "cell_type": "markdown",
   "metadata": {},
   "source": [
    "Each point on the summary plot is a Shapley value for a feature and an instance. \n",
    "- The position on the y-axis is determined by the feature and on the x-axis by the Shapley value. \n",
    "- The color represents the value of the feature from low to high. \n",
    "-  Variables are ranked in descending order.\n",
    "- The horizontal location shows whether the effect of that value is associated with a higher or lower prediction.\n",
    "-  Color shows whether that variable is high (in red) or low (in blue) for that observation.\n",
    "-  A low value of the *worst_area*  has a positive impact on the probability of the tumor being benign. The \"low\" comes from the blue color, and the \"positive\" impact is shown on the X-axis. Similarly,  a high value of the *worst_area*  has a large and negative impact on the probability of the tumor being benign."
   ]
  },
  {
   "cell_type": "markdown",
   "metadata": {},
   "source": [
    "#### Like many other methods above, Shapley values might end up being incorrectly estimated when features are correlated or interact with one another."
   ]
  },
  {
   "cell_type": "markdown",
   "metadata": {},
   "source": [
    "# Lime"
   ]
  },
  {
   "cell_type": "code",
   "execution_count": null,
   "metadata": {
    "ExecuteTime": {
     "start_time": "2021-05-09T09:44:48.741Z"
    }
   },
   "outputs": [],
   "source": [
    "row = 1300\n",
    "data_for_prediction = X_train.iloc[row]   \n",
    "data_for_prediction_array = data_for_prediction.values.reshape(1, -1)\n",
    "\n",
    "def model_predict(data_asarray):\n",
    "    data_asframe =  pd.DataFrame(data_asarray, columns=X_train.columns.to_list())\n",
    "    return best_model.predict_proba(data_asframe)\n",
    "\n",
    "import lime\n",
    "import lime.lime_tabular\n",
    "\n",
    "explainer = lime.lime_tabular.LimeTabularExplainer(X_train.values, feature_names=X_train.columns, \n",
    "                                                   verbose=True,\n",
    "                                                   discretize_continuous=True)\n",
    "exp = explainer.explain_instance(X_test.iloc[row, :], predict_fn=model_predict,\n",
    "                                 num_samples=100, num_features=5)"
   ]
  },
  {
   "cell_type": "code",
   "execution_count": null,
   "metadata": {
    "ExecuteTime": {
     "start_time": "2021-05-09T09:44:48.743Z"
    }
   },
   "outputs": [],
   "source": [
    "exp.show_in_notebook(show_table = True, show_all= False)"
   ]
  },
  {
   "cell_type": "markdown",
   "metadata": {},
   "source": [
    "Features in orange support class 1 and those in blue support class 0. Float point numbers on the horizontal bars represent the relative importance of these features."
   ]
  },
  {
   "cell_type": "code",
   "execution_count": null,
   "metadata": {
    "ExecuteTime": {
     "start_time": "2021-05-09T09:44:48.747Z"
    }
   },
   "outputs": [],
   "source": [
    "exp.as_pyplot_figure()\n",
    "from matplotlib import pyplot as plt\n",
    "plt.tight_layout()"
   ]
  },
  {
   "cell_type": "code",
   "execution_count": null,
   "metadata": {
    "ExecuteTime": {
     "start_time": "2021-05-09T09:44:48.750Z"
    }
   },
   "outputs": [],
   "source": [
    "from pdpbox import pdp"
   ]
  },
  {
   "cell_type": "code",
   "execution_count": null,
   "metadata": {
    "ExecuteTime": {
     "start_time": "2021-05-09T09:44:48.753Z"
    }
   },
   "outputs": [],
   "source": [
    "best_model"
   ]
  },
  {
   "cell_type": "code",
   "execution_count": null,
   "metadata": {
    "ExecuteTime": {
     "start_time": "2021-05-09T09:44:48.756Z"
    }
   },
   "outputs": [],
   "source": [
    "X_test.columns"
   ]
  },
  {
   "cell_type": "code",
   "execution_count": null,
   "metadata": {
    "ExecuteTime": {
     "start_time": "2021-05-09T09:44:48.759Z"
    }
   },
   "outputs": [],
   "source": [
    "features_to_plot = ['device_model', 'site_id']\n",
    "\n",
    "inter1  =  pdp.pdp_interact(model=best_model, dataset=X_test, model_features=X_test.columns, features=features_to_plot)\n",
    "\n",
    "pdp.pdp_interact_plot(pdp_interact_out=inter1, feature_names=features_to_plot, plot_type='contour', x_quantile=True, plot_pdp=True)\n",
    "plt.show()"
   ]
  }
 ],
 "metadata": {
  "interpreter": {
   "hash": "e4bff5b682aa07adb254283e21d36547e3dbb28a7d578473d3b997b4eaaa90c6"
  },
  "kernelspec": {
   "display_name": "mlcourse",
   "language": "python",
   "name": "mlcourse"
  }
 },
 "nbformat": 4,
 "nbformat_minor": 2
}
